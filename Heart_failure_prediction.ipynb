{
  "nbformat": 4,
  "nbformat_minor": 0,
  "metadata": {
    "colab": {
      "provenance": []
    },
    "kernelspec": {
      "name": "python3",
      "display_name": "Python 3"
    },
    "language_info": {
      "name": "python"
    }
  },
  "cells": [
    {
      "cell_type": "markdown",
      "source": [
        "Age: age of the patient [years]\n",
        "Sex: sex of the patient [M: Male, F: Female]\n",
        "ChestPainType: chest pain type [TA: Typical Angina, ATA: Atypical Angina, NAP: Non-Anginal Pain, ASY: Asymptomatic]\n",
        "RestingBP: resting blood pressure [mm Hg]\n",
        "Cholesterol: serum cholesterol [mm/dl]\n",
        "FastingBS: fasting blood sugar [1: if FastingBS > 120 mg/dl, 0: otherwise]\n",
        "RestingECG: resting electrocardiogram results [Normal: Normal, ST: having ST-T wave abnormality (T wave inversions and/or ST elevation or depression of > 0.05 mV), LVH: showing probable or definite left ventricular hypertrophy by Estes' criteria]\n",
        "MaxHR: maximum heart rate achieved [Numeric value between 60 and 202]\n",
        "ExerciseAngina: exercise-induced angina [Y: Yes, N: No]\n",
        "Oldpeak: oldpeak = ST [Numeric value measured in depression]\n",
        "ST_Slope: the slope of the peak exercise ST segment [Up: upsloping, Flat: flat, Down: downsloping]\n",
        "HeartDisease: output class [1: heart disease, 0: Normal]"
      ],
      "metadata": {
        "id": "njEKwGXlrGPm"
      }
    },
    {
      "cell_type": "code",
      "source": [
        "import numpy as np\n",
        "import pandas as pd\n",
        "import matplotlib.pyplot as plt\n",
        "import seaborn as sns\n",
        "%matplotlib inline\n",
        "import plotly.express as px\n",
        "import plotly.graph_objects as go\n",
        "import sklearn\n",
        "import sklearn.model_selection\n",
        "from sklearn.metrics import accuracy_score,plot_confusion_matrix,classification_report\n",
        "from sklearn.model_selection import GridSearchCV\n"
      ],
      "metadata": {
        "id": "1H460W6Em5w1"
      },
      "execution_count": 57,
      "outputs": []
    },
    {
      "cell_type": "code",
      "source": [
        "from google.colab import drive\n",
        "drive.mount(\"/content/drive/\")"
      ],
      "metadata": {
        "colab": {
          "base_uri": "https://localhost:8080/"
        },
        "id": "TmpNjNamnYAN",
        "outputId": "ae102ecf-b0e8-4193-d0f6-522fc04274ce"
      },
      "execution_count": 2,
      "outputs": [
        {
          "output_type": "stream",
          "name": "stdout",
          "text": [
            "Drive already mounted at /content/drive/; to attempt to forcibly remount, call drive.mount(\"/content/drive/\", force_remount=True).\n"
          ]
        }
      ]
    },
    {
      "cell_type": "code",
      "execution_count": 3,
      "metadata": {
        "id": "P6ebJd94lny5"
      },
      "outputs": [],
      "source": [
        "data=pd.read_csv('/content/drive/MyDrive/heart.csv')"
      ]
    },
    {
      "cell_type": "code",
      "source": [
        "data.head()"
      ],
      "metadata": {
        "colab": {
          "base_uri": "https://localhost:8080/",
          "height": 270
        },
        "id": "5z9hdnPTnqTU",
        "outputId": "ac7148bf-ccaa-4627-957a-9ed33f057e06"
      },
      "execution_count": 4,
      "outputs": [
        {
          "output_type": "execute_result",
          "data": {
            "text/plain": [
              "   Age Sex ChestPainType  RestingBP  Cholesterol  FastingBS RestingECG  MaxHR  \\\n",
              "0   40   M           ATA        140          289          0     Normal    172   \n",
              "1   49   F           NAP        160          180          0     Normal    156   \n",
              "2   37   M           ATA        130          283          0         ST     98   \n",
              "3   48   F           ASY        138          214          0     Normal    108   \n",
              "4   54   M           NAP        150          195          0     Normal    122   \n",
              "\n",
              "  ExerciseAngina  Oldpeak ST_Slope  HeartDisease  \n",
              "0              N      0.0       Up             0  \n",
              "1              N      1.0     Flat             1  \n",
              "2              N      0.0       Up             0  \n",
              "3              Y      1.5     Flat             1  \n",
              "4              N      0.0       Up             0  "
            ],
            "text/html": [
              "\n",
              "  <div id=\"df-99f4c3e9-84de-4755-9304-ce1303188b45\">\n",
              "    <div class=\"colab-df-container\">\n",
              "      <div>\n",
              "<style scoped>\n",
              "    .dataframe tbody tr th:only-of-type {\n",
              "        vertical-align: middle;\n",
              "    }\n",
              "\n",
              "    .dataframe tbody tr th {\n",
              "        vertical-align: top;\n",
              "    }\n",
              "\n",
              "    .dataframe thead th {\n",
              "        text-align: right;\n",
              "    }\n",
              "</style>\n",
              "<table border=\"1\" class=\"dataframe\">\n",
              "  <thead>\n",
              "    <tr style=\"text-align: right;\">\n",
              "      <th></th>\n",
              "      <th>Age</th>\n",
              "      <th>Sex</th>\n",
              "      <th>ChestPainType</th>\n",
              "      <th>RestingBP</th>\n",
              "      <th>Cholesterol</th>\n",
              "      <th>FastingBS</th>\n",
              "      <th>RestingECG</th>\n",
              "      <th>MaxHR</th>\n",
              "      <th>ExerciseAngina</th>\n",
              "      <th>Oldpeak</th>\n",
              "      <th>ST_Slope</th>\n",
              "      <th>HeartDisease</th>\n",
              "    </tr>\n",
              "  </thead>\n",
              "  <tbody>\n",
              "    <tr>\n",
              "      <th>0</th>\n",
              "      <td>40</td>\n",
              "      <td>M</td>\n",
              "      <td>ATA</td>\n",
              "      <td>140</td>\n",
              "      <td>289</td>\n",
              "      <td>0</td>\n",
              "      <td>Normal</td>\n",
              "      <td>172</td>\n",
              "      <td>N</td>\n",
              "      <td>0.0</td>\n",
              "      <td>Up</td>\n",
              "      <td>0</td>\n",
              "    </tr>\n",
              "    <tr>\n",
              "      <th>1</th>\n",
              "      <td>49</td>\n",
              "      <td>F</td>\n",
              "      <td>NAP</td>\n",
              "      <td>160</td>\n",
              "      <td>180</td>\n",
              "      <td>0</td>\n",
              "      <td>Normal</td>\n",
              "      <td>156</td>\n",
              "      <td>N</td>\n",
              "      <td>1.0</td>\n",
              "      <td>Flat</td>\n",
              "      <td>1</td>\n",
              "    </tr>\n",
              "    <tr>\n",
              "      <th>2</th>\n",
              "      <td>37</td>\n",
              "      <td>M</td>\n",
              "      <td>ATA</td>\n",
              "      <td>130</td>\n",
              "      <td>283</td>\n",
              "      <td>0</td>\n",
              "      <td>ST</td>\n",
              "      <td>98</td>\n",
              "      <td>N</td>\n",
              "      <td>0.0</td>\n",
              "      <td>Up</td>\n",
              "      <td>0</td>\n",
              "    </tr>\n",
              "    <tr>\n",
              "      <th>3</th>\n",
              "      <td>48</td>\n",
              "      <td>F</td>\n",
              "      <td>ASY</td>\n",
              "      <td>138</td>\n",
              "      <td>214</td>\n",
              "      <td>0</td>\n",
              "      <td>Normal</td>\n",
              "      <td>108</td>\n",
              "      <td>Y</td>\n",
              "      <td>1.5</td>\n",
              "      <td>Flat</td>\n",
              "      <td>1</td>\n",
              "    </tr>\n",
              "    <tr>\n",
              "      <th>4</th>\n",
              "      <td>54</td>\n",
              "      <td>M</td>\n",
              "      <td>NAP</td>\n",
              "      <td>150</td>\n",
              "      <td>195</td>\n",
              "      <td>0</td>\n",
              "      <td>Normal</td>\n",
              "      <td>122</td>\n",
              "      <td>N</td>\n",
              "      <td>0.0</td>\n",
              "      <td>Up</td>\n",
              "      <td>0</td>\n",
              "    </tr>\n",
              "  </tbody>\n",
              "</table>\n",
              "</div>\n",
              "      <button class=\"colab-df-convert\" onclick=\"convertToInteractive('df-99f4c3e9-84de-4755-9304-ce1303188b45')\"\n",
              "              title=\"Convert this dataframe to an interactive table.\"\n",
              "              style=\"display:none;\">\n",
              "        \n",
              "  <svg xmlns=\"http://www.w3.org/2000/svg\" height=\"24px\"viewBox=\"0 0 24 24\"\n",
              "       width=\"24px\">\n",
              "    <path d=\"M0 0h24v24H0V0z\" fill=\"none\"/>\n",
              "    <path d=\"M18.56 5.44l.94 2.06.94-2.06 2.06-.94-2.06-.94-.94-2.06-.94 2.06-2.06.94zm-11 1L8.5 8.5l.94-2.06 2.06-.94-2.06-.94L8.5 2.5l-.94 2.06-2.06.94zm10 10l.94 2.06.94-2.06 2.06-.94-2.06-.94-.94-2.06-.94 2.06-2.06.94z\"/><path d=\"M17.41 7.96l-1.37-1.37c-.4-.4-.92-.59-1.43-.59-.52 0-1.04.2-1.43.59L10.3 9.45l-7.72 7.72c-.78.78-.78 2.05 0 2.83L4 21.41c.39.39.9.59 1.41.59.51 0 1.02-.2 1.41-.59l7.78-7.78 2.81-2.81c.8-.78.8-2.07 0-2.86zM5.41 20L4 18.59l7.72-7.72 1.47 1.35L5.41 20z\"/>\n",
              "  </svg>\n",
              "      </button>\n",
              "      \n",
              "  <style>\n",
              "    .colab-df-container {\n",
              "      display:flex;\n",
              "      flex-wrap:wrap;\n",
              "      gap: 12px;\n",
              "    }\n",
              "\n",
              "    .colab-df-convert {\n",
              "      background-color: #E8F0FE;\n",
              "      border: none;\n",
              "      border-radius: 50%;\n",
              "      cursor: pointer;\n",
              "      display: none;\n",
              "      fill: #1967D2;\n",
              "      height: 32px;\n",
              "      padding: 0 0 0 0;\n",
              "      width: 32px;\n",
              "    }\n",
              "\n",
              "    .colab-df-convert:hover {\n",
              "      background-color: #E2EBFA;\n",
              "      box-shadow: 0px 1px 2px rgba(60, 64, 67, 0.3), 0px 1px 3px 1px rgba(60, 64, 67, 0.15);\n",
              "      fill: #174EA6;\n",
              "    }\n",
              "\n",
              "    [theme=dark] .colab-df-convert {\n",
              "      background-color: #3B4455;\n",
              "      fill: #D2E3FC;\n",
              "    }\n",
              "\n",
              "    [theme=dark] .colab-df-convert:hover {\n",
              "      background-color: #434B5C;\n",
              "      box-shadow: 0px 1px 3px 1px rgba(0, 0, 0, 0.15);\n",
              "      filter: drop-shadow(0px 1px 2px rgba(0, 0, 0, 0.3));\n",
              "      fill: #FFFFFF;\n",
              "    }\n",
              "  </style>\n",
              "\n",
              "      <script>\n",
              "        const buttonEl =\n",
              "          document.querySelector('#df-99f4c3e9-84de-4755-9304-ce1303188b45 button.colab-df-convert');\n",
              "        buttonEl.style.display =\n",
              "          google.colab.kernel.accessAllowed ? 'block' : 'none';\n",
              "\n",
              "        async function convertToInteractive(key) {\n",
              "          const element = document.querySelector('#df-99f4c3e9-84de-4755-9304-ce1303188b45');\n",
              "          const dataTable =\n",
              "            await google.colab.kernel.invokeFunction('convertToInteractive',\n",
              "                                                     [key], {});\n",
              "          if (!dataTable) return;\n",
              "\n",
              "          const docLinkHtml = 'Like what you see? Visit the ' +\n",
              "            '<a target=\"_blank\" href=https://colab.research.google.com/notebooks/data_table.ipynb>data table notebook</a>'\n",
              "            + ' to learn more about interactive tables.';\n",
              "          element.innerHTML = '';\n",
              "          dataTable['output_type'] = 'display_data';\n",
              "          await google.colab.output.renderOutput(dataTable, element);\n",
              "          const docLink = document.createElement('div');\n",
              "          docLink.innerHTML = docLinkHtml;\n",
              "          element.appendChild(docLink);\n",
              "        }\n",
              "      </script>\n",
              "    </div>\n",
              "  </div>\n",
              "  "
            ]
          },
          "metadata": {},
          "execution_count": 4
        }
      ]
    },
    {
      "cell_type": "code",
      "source": [
        "data.info()"
      ],
      "metadata": {
        "colab": {
          "base_uri": "https://localhost:8080/"
        },
        "id": "7dqpTWGvoJNb",
        "outputId": "e4eefa8b-8616-4155-8f69-a1fc1b4a5261"
      },
      "execution_count": 5,
      "outputs": [
        {
          "output_type": "stream",
          "name": "stdout",
          "text": [
            "<class 'pandas.core.frame.DataFrame'>\n",
            "RangeIndex: 918 entries, 0 to 917\n",
            "Data columns (total 12 columns):\n",
            " #   Column          Non-Null Count  Dtype  \n",
            "---  ------          --------------  -----  \n",
            " 0   Age             918 non-null    int64  \n",
            " 1   Sex             918 non-null    object \n",
            " 2   ChestPainType   918 non-null    object \n",
            " 3   RestingBP       918 non-null    int64  \n",
            " 4   Cholesterol     918 non-null    int64  \n",
            " 5   FastingBS       918 non-null    int64  \n",
            " 6   RestingECG      918 non-null    object \n",
            " 7   MaxHR           918 non-null    int64  \n",
            " 8   ExerciseAngina  918 non-null    object \n",
            " 9   Oldpeak         918 non-null    float64\n",
            " 10  ST_Slope        918 non-null    object \n",
            " 11  HeartDisease    918 non-null    int64  \n",
            "dtypes: float64(1), int64(6), object(5)\n",
            "memory usage: 86.2+ KB\n"
          ]
        }
      ]
    },
    {
      "cell_type": "code",
      "source": [
        "data.describe()"
      ],
      "metadata": {
        "colab": {
          "base_uri": "https://localhost:8080/",
          "height": 394
        },
        "id": "fYgQRWKu4ovh",
        "outputId": "120f02c7-35a4-4801-d1a0-dfe0c1659fcf"
      },
      "execution_count": 72,
      "outputs": [
        {
          "output_type": "execute_result",
          "data": {
            "text/plain": [
              "              Age   RestingBP  Cholesterol   FastingBS       MaxHR  \\\n",
              "count  745.000000  745.000000   745.000000  745.000000  745.000000   \n",
              "mean    52.906040  133.036242   244.747651    0.167785  140.209396   \n",
              "std      9.489625   17.290451    59.113689    0.373927   24.536108   \n",
              "min     28.000000   92.000000    85.000000    0.000000   69.000000   \n",
              "25%     46.000000  120.000000   208.000000    0.000000  122.000000   \n",
              "50%     54.000000  130.000000   237.000000    0.000000  140.000000   \n",
              "75%     59.000000  140.000000   275.000000    0.000000  160.000000   \n",
              "max     77.000000  200.000000   603.000000    1.000000  202.000000   \n",
              "\n",
              "          Oldpeak  HeartDisease       Sex_F       Sex_M  ChestPainType_ASY  \\\n",
              "count  745.000000    745.000000  745.000000  745.000000         745.000000   \n",
              "mean     0.902953      0.477852    0.244295    0.755705           0.496644   \n",
              "std      1.072953      0.499845    0.429957    0.429957           0.500325   \n",
              "min      0.000000      0.000000    0.000000    0.000000           0.000000   \n",
              "25%      0.000000      0.000000    0.000000    1.000000           0.000000   \n",
              "50%      0.500000      0.000000    0.000000    1.000000           0.000000   \n",
              "75%      1.500000      1.000000    0.000000    1.000000           1.000000   \n",
              "max      6.200000      1.000000    1.000000    1.000000           1.000000   \n",
              "\n",
              "       ...  ChestPainType_NAP  ChestPainType_TA  RestingECG_LVH  \\\n",
              "count  ...         745.000000        745.000000      745.000000   \n",
              "mean   ...           0.225503          0.055034        0.236242   \n",
              "std    ...           0.418194          0.228199        0.425058   \n",
              "min    ...           0.000000          0.000000        0.000000   \n",
              "25%    ...           0.000000          0.000000        0.000000   \n",
              "50%    ...           0.000000          0.000000        0.000000   \n",
              "75%    ...           0.000000          0.000000        0.000000   \n",
              "max    ...           1.000000          1.000000        1.000000   \n",
              "\n",
              "       RestingECG_Normal  RestingECG_ST  ExerciseAngina_N  ExerciseAngina_Y  \\\n",
              "count         745.000000     745.000000        745.000000        745.000000   \n",
              "mean            0.597315       0.166443          0.614765          0.385235   \n",
              "std             0.490768       0.372728          0.486978          0.486978   \n",
              "min             0.000000       0.000000          0.000000          0.000000   \n",
              "25%             0.000000       0.000000          0.000000          0.000000   \n",
              "50%             1.000000       0.000000          1.000000          0.000000   \n",
              "75%             1.000000       0.000000          1.000000          1.000000   \n",
              "max             1.000000       1.000000          1.000000          1.000000   \n",
              "\n",
              "       ST_Slope_Down  ST_Slope_Flat  ST_Slope_Up  \n",
              "count     745.000000     745.000000   745.000000  \n",
              "mean        0.057718       0.475168     0.467114  \n",
              "std         0.233366       0.499718     0.499253  \n",
              "min         0.000000       0.000000     0.000000  \n",
              "25%         0.000000       0.000000     0.000000  \n",
              "50%         0.000000       0.000000     0.000000  \n",
              "75%         0.000000       1.000000     1.000000  \n",
              "max         1.000000       1.000000     1.000000  \n",
              "\n",
              "[8 rows x 21 columns]"
            ],
            "text/html": [
              "\n",
              "  <div id=\"df-98fea871-c75c-49c9-90d4-2104f3753e4b\">\n",
              "    <div class=\"colab-df-container\">\n",
              "      <div>\n",
              "<style scoped>\n",
              "    .dataframe tbody tr th:only-of-type {\n",
              "        vertical-align: middle;\n",
              "    }\n",
              "\n",
              "    .dataframe tbody tr th {\n",
              "        vertical-align: top;\n",
              "    }\n",
              "\n",
              "    .dataframe thead th {\n",
              "        text-align: right;\n",
              "    }\n",
              "</style>\n",
              "<table border=\"1\" class=\"dataframe\">\n",
              "  <thead>\n",
              "    <tr style=\"text-align: right;\">\n",
              "      <th></th>\n",
              "      <th>Age</th>\n",
              "      <th>RestingBP</th>\n",
              "      <th>Cholesterol</th>\n",
              "      <th>FastingBS</th>\n",
              "      <th>MaxHR</th>\n",
              "      <th>Oldpeak</th>\n",
              "      <th>HeartDisease</th>\n",
              "      <th>Sex_F</th>\n",
              "      <th>Sex_M</th>\n",
              "      <th>ChestPainType_ASY</th>\n",
              "      <th>...</th>\n",
              "      <th>ChestPainType_NAP</th>\n",
              "      <th>ChestPainType_TA</th>\n",
              "      <th>RestingECG_LVH</th>\n",
              "      <th>RestingECG_Normal</th>\n",
              "      <th>RestingECG_ST</th>\n",
              "      <th>ExerciseAngina_N</th>\n",
              "      <th>ExerciseAngina_Y</th>\n",
              "      <th>ST_Slope_Down</th>\n",
              "      <th>ST_Slope_Flat</th>\n",
              "      <th>ST_Slope_Up</th>\n",
              "    </tr>\n",
              "  </thead>\n",
              "  <tbody>\n",
              "    <tr>\n",
              "      <th>count</th>\n",
              "      <td>745.000000</td>\n",
              "      <td>745.000000</td>\n",
              "      <td>745.000000</td>\n",
              "      <td>745.000000</td>\n",
              "      <td>745.000000</td>\n",
              "      <td>745.000000</td>\n",
              "      <td>745.000000</td>\n",
              "      <td>745.000000</td>\n",
              "      <td>745.000000</td>\n",
              "      <td>745.000000</td>\n",
              "      <td>...</td>\n",
              "      <td>745.000000</td>\n",
              "      <td>745.000000</td>\n",
              "      <td>745.000000</td>\n",
              "      <td>745.000000</td>\n",
              "      <td>745.000000</td>\n",
              "      <td>745.000000</td>\n",
              "      <td>745.000000</td>\n",
              "      <td>745.000000</td>\n",
              "      <td>745.000000</td>\n",
              "      <td>745.000000</td>\n",
              "    </tr>\n",
              "    <tr>\n",
              "      <th>mean</th>\n",
              "      <td>52.906040</td>\n",
              "      <td>133.036242</td>\n",
              "      <td>244.747651</td>\n",
              "      <td>0.167785</td>\n",
              "      <td>140.209396</td>\n",
              "      <td>0.902953</td>\n",
              "      <td>0.477852</td>\n",
              "      <td>0.244295</td>\n",
              "      <td>0.755705</td>\n",
              "      <td>0.496644</td>\n",
              "      <td>...</td>\n",
              "      <td>0.225503</td>\n",
              "      <td>0.055034</td>\n",
              "      <td>0.236242</td>\n",
              "      <td>0.597315</td>\n",
              "      <td>0.166443</td>\n",
              "      <td>0.614765</td>\n",
              "      <td>0.385235</td>\n",
              "      <td>0.057718</td>\n",
              "      <td>0.475168</td>\n",
              "      <td>0.467114</td>\n",
              "    </tr>\n",
              "    <tr>\n",
              "      <th>std</th>\n",
              "      <td>9.489625</td>\n",
              "      <td>17.290451</td>\n",
              "      <td>59.113689</td>\n",
              "      <td>0.373927</td>\n",
              "      <td>24.536108</td>\n",
              "      <td>1.072953</td>\n",
              "      <td>0.499845</td>\n",
              "      <td>0.429957</td>\n",
              "      <td>0.429957</td>\n",
              "      <td>0.500325</td>\n",
              "      <td>...</td>\n",
              "      <td>0.418194</td>\n",
              "      <td>0.228199</td>\n",
              "      <td>0.425058</td>\n",
              "      <td>0.490768</td>\n",
              "      <td>0.372728</td>\n",
              "      <td>0.486978</td>\n",
              "      <td>0.486978</td>\n",
              "      <td>0.233366</td>\n",
              "      <td>0.499718</td>\n",
              "      <td>0.499253</td>\n",
              "    </tr>\n",
              "    <tr>\n",
              "      <th>min</th>\n",
              "      <td>28.000000</td>\n",
              "      <td>92.000000</td>\n",
              "      <td>85.000000</td>\n",
              "      <td>0.000000</td>\n",
              "      <td>69.000000</td>\n",
              "      <td>0.000000</td>\n",
              "      <td>0.000000</td>\n",
              "      <td>0.000000</td>\n",
              "      <td>0.000000</td>\n",
              "      <td>0.000000</td>\n",
              "      <td>...</td>\n",
              "      <td>0.000000</td>\n",
              "      <td>0.000000</td>\n",
              "      <td>0.000000</td>\n",
              "      <td>0.000000</td>\n",
              "      <td>0.000000</td>\n",
              "      <td>0.000000</td>\n",
              "      <td>0.000000</td>\n",
              "      <td>0.000000</td>\n",
              "      <td>0.000000</td>\n",
              "      <td>0.000000</td>\n",
              "    </tr>\n",
              "    <tr>\n",
              "      <th>25%</th>\n",
              "      <td>46.000000</td>\n",
              "      <td>120.000000</td>\n",
              "      <td>208.000000</td>\n",
              "      <td>0.000000</td>\n",
              "      <td>122.000000</td>\n",
              "      <td>0.000000</td>\n",
              "      <td>0.000000</td>\n",
              "      <td>0.000000</td>\n",
              "      <td>1.000000</td>\n",
              "      <td>0.000000</td>\n",
              "      <td>...</td>\n",
              "      <td>0.000000</td>\n",
              "      <td>0.000000</td>\n",
              "      <td>0.000000</td>\n",
              "      <td>0.000000</td>\n",
              "      <td>0.000000</td>\n",
              "      <td>0.000000</td>\n",
              "      <td>0.000000</td>\n",
              "      <td>0.000000</td>\n",
              "      <td>0.000000</td>\n",
              "      <td>0.000000</td>\n",
              "    </tr>\n",
              "    <tr>\n",
              "      <th>50%</th>\n",
              "      <td>54.000000</td>\n",
              "      <td>130.000000</td>\n",
              "      <td>237.000000</td>\n",
              "      <td>0.000000</td>\n",
              "      <td>140.000000</td>\n",
              "      <td>0.500000</td>\n",
              "      <td>0.000000</td>\n",
              "      <td>0.000000</td>\n",
              "      <td>1.000000</td>\n",
              "      <td>0.000000</td>\n",
              "      <td>...</td>\n",
              "      <td>0.000000</td>\n",
              "      <td>0.000000</td>\n",
              "      <td>0.000000</td>\n",
              "      <td>1.000000</td>\n",
              "      <td>0.000000</td>\n",
              "      <td>1.000000</td>\n",
              "      <td>0.000000</td>\n",
              "      <td>0.000000</td>\n",
              "      <td>0.000000</td>\n",
              "      <td>0.000000</td>\n",
              "    </tr>\n",
              "    <tr>\n",
              "      <th>75%</th>\n",
              "      <td>59.000000</td>\n",
              "      <td>140.000000</td>\n",
              "      <td>275.000000</td>\n",
              "      <td>0.000000</td>\n",
              "      <td>160.000000</td>\n",
              "      <td>1.500000</td>\n",
              "      <td>1.000000</td>\n",
              "      <td>0.000000</td>\n",
              "      <td>1.000000</td>\n",
              "      <td>1.000000</td>\n",
              "      <td>...</td>\n",
              "      <td>0.000000</td>\n",
              "      <td>0.000000</td>\n",
              "      <td>0.000000</td>\n",
              "      <td>1.000000</td>\n",
              "      <td>0.000000</td>\n",
              "      <td>1.000000</td>\n",
              "      <td>1.000000</td>\n",
              "      <td>0.000000</td>\n",
              "      <td>1.000000</td>\n",
              "      <td>1.000000</td>\n",
              "    </tr>\n",
              "    <tr>\n",
              "      <th>max</th>\n",
              "      <td>77.000000</td>\n",
              "      <td>200.000000</td>\n",
              "      <td>603.000000</td>\n",
              "      <td>1.000000</td>\n",
              "      <td>202.000000</td>\n",
              "      <td>6.200000</td>\n",
              "      <td>1.000000</td>\n",
              "      <td>1.000000</td>\n",
              "      <td>1.000000</td>\n",
              "      <td>1.000000</td>\n",
              "      <td>...</td>\n",
              "      <td>1.000000</td>\n",
              "      <td>1.000000</td>\n",
              "      <td>1.000000</td>\n",
              "      <td>1.000000</td>\n",
              "      <td>1.000000</td>\n",
              "      <td>1.000000</td>\n",
              "      <td>1.000000</td>\n",
              "      <td>1.000000</td>\n",
              "      <td>1.000000</td>\n",
              "      <td>1.000000</td>\n",
              "    </tr>\n",
              "  </tbody>\n",
              "</table>\n",
              "<p>8 rows × 21 columns</p>\n",
              "</div>\n",
              "      <button class=\"colab-df-convert\" onclick=\"convertToInteractive('df-98fea871-c75c-49c9-90d4-2104f3753e4b')\"\n",
              "              title=\"Convert this dataframe to an interactive table.\"\n",
              "              style=\"display:none;\">\n",
              "        \n",
              "  <svg xmlns=\"http://www.w3.org/2000/svg\" height=\"24px\"viewBox=\"0 0 24 24\"\n",
              "       width=\"24px\">\n",
              "    <path d=\"M0 0h24v24H0V0z\" fill=\"none\"/>\n",
              "    <path d=\"M18.56 5.44l.94 2.06.94-2.06 2.06-.94-2.06-.94-.94-2.06-.94 2.06-2.06.94zm-11 1L8.5 8.5l.94-2.06 2.06-.94-2.06-.94L8.5 2.5l-.94 2.06-2.06.94zm10 10l.94 2.06.94-2.06 2.06-.94-2.06-.94-.94-2.06-.94 2.06-2.06.94z\"/><path d=\"M17.41 7.96l-1.37-1.37c-.4-.4-.92-.59-1.43-.59-.52 0-1.04.2-1.43.59L10.3 9.45l-7.72 7.72c-.78.78-.78 2.05 0 2.83L4 21.41c.39.39.9.59 1.41.59.51 0 1.02-.2 1.41-.59l7.78-7.78 2.81-2.81c.8-.78.8-2.07 0-2.86zM5.41 20L4 18.59l7.72-7.72 1.47 1.35L5.41 20z\"/>\n",
              "  </svg>\n",
              "      </button>\n",
              "      \n",
              "  <style>\n",
              "    .colab-df-container {\n",
              "      display:flex;\n",
              "      flex-wrap:wrap;\n",
              "      gap: 12px;\n",
              "    }\n",
              "\n",
              "    .colab-df-convert {\n",
              "      background-color: #E8F0FE;\n",
              "      border: none;\n",
              "      border-radius: 50%;\n",
              "      cursor: pointer;\n",
              "      display: none;\n",
              "      fill: #1967D2;\n",
              "      height: 32px;\n",
              "      padding: 0 0 0 0;\n",
              "      width: 32px;\n",
              "    }\n",
              "\n",
              "    .colab-df-convert:hover {\n",
              "      background-color: #E2EBFA;\n",
              "      box-shadow: 0px 1px 2px rgba(60, 64, 67, 0.3), 0px 1px 3px 1px rgba(60, 64, 67, 0.15);\n",
              "      fill: #174EA6;\n",
              "    }\n",
              "\n",
              "    [theme=dark] .colab-df-convert {\n",
              "      background-color: #3B4455;\n",
              "      fill: #D2E3FC;\n",
              "    }\n",
              "\n",
              "    [theme=dark] .colab-df-convert:hover {\n",
              "      background-color: #434B5C;\n",
              "      box-shadow: 0px 1px 3px 1px rgba(0, 0, 0, 0.15);\n",
              "      filter: drop-shadow(0px 1px 2px rgba(0, 0, 0, 0.3));\n",
              "      fill: #FFFFFF;\n",
              "    }\n",
              "  </style>\n",
              "\n",
              "      <script>\n",
              "        const buttonEl =\n",
              "          document.querySelector('#df-98fea871-c75c-49c9-90d4-2104f3753e4b button.colab-df-convert');\n",
              "        buttonEl.style.display =\n",
              "          google.colab.kernel.accessAllowed ? 'block' : 'none';\n",
              "\n",
              "        async function convertToInteractive(key) {\n",
              "          const element = document.querySelector('#df-98fea871-c75c-49c9-90d4-2104f3753e4b');\n",
              "          const dataTable =\n",
              "            await google.colab.kernel.invokeFunction('convertToInteractive',\n",
              "                                                     [key], {});\n",
              "          if (!dataTable) return;\n",
              "\n",
              "          const docLinkHtml = 'Like what you see? Visit the ' +\n",
              "            '<a target=\"_blank\" href=https://colab.research.google.com/notebooks/data_table.ipynb>data table notebook</a>'\n",
              "            + ' to learn more about interactive tables.';\n",
              "          element.innerHTML = '';\n",
              "          dataTable['output_type'] = 'display_data';\n",
              "          await google.colab.output.renderOutput(dataTable, element);\n",
              "          const docLink = document.createElement('div');\n",
              "          docLink.innerHTML = docLinkHtml;\n",
              "          element.appendChild(docLink);\n",
              "        }\n",
              "      </script>\n",
              "    </div>\n",
              "  </div>\n",
              "  "
            ]
          },
          "metadata": {},
          "execution_count": 72
        }
      ]
    },
    {
      "cell_type": "code",
      "source": [
        "print(data.Age.unique()) \n",
        "print(data.ChestPainType.unique())  \n",
        "print(data.RestingBP.unique()) \n",
        "print(data.Cholesterol.unique()) \n",
        "print(data.FastingBS.unique()) \n",
        "print(data.RestingECG.unique()) \n",
        "print(data.MaxHR.unique()) \n",
        "print(data.ExerciseAngina.unique())\n",
        "print(data.Oldpeak.unique()) \n",
        "print(data.ST_Slope.unique()) "
      ],
      "metadata": {
        "colab": {
          "base_uri": "https://localhost:8080/"
        },
        "id": "4rpLcHxWqQuy",
        "outputId": "83ca05fc-d1d9-4cf1-c32a-2bb9d5a12d88"
      },
      "execution_count": 6,
      "outputs": [
        {
          "output_type": "stream",
          "name": "stdout",
          "text": [
            "[40 49 37 48 54 39 45 58 42 38 43 60 36 44 53 52 51 56 41 32 65 35 59 50\n",
            " 47 31 46 57 55 63 66 34 33 61 29 62 28 30 74 68 72 64 69 67 73 70 77 75\n",
            " 76 71]\n",
            "['ATA' 'NAP' 'ASY' 'TA']\n",
            "[140 160 130 138 150 120 110 136 115 100 124 113 125 145 112 132 118 170\n",
            " 142 190 135 180 108 155 128 106  92 200 122  98 105 133  95  80 137 185\n",
            " 165 126 152 116   0 144 154 134 104 139 131 141 178 146 158 123 102  96\n",
            " 143 172 156 114 127 101 174  94 148 117 192 129 164]\n",
            "[289 180 283 214 195 339 237 208 207 284 211 164 204 234 273 196 201 248\n",
            " 267 223 184 288 215 209 260 468 188 518 167 224 172 186 254 306 250 177\n",
            " 227 230 294 264 259 175 318 216 340 233 205 245 194 270 213 365 342 253\n",
            " 277 202 297 225 246 412 265 182 218 268 163 529 100 206 238 139 263 291\n",
            " 229 307 210 329 147  85 269 275 179 392 466 129 241 255 276 282 338 160\n",
            " 156 272 240 393 161 228 292 388 166 247 331 341 243 279 198 249 168 603\n",
            " 159 190 185 290 212 231 222 235 320 187 266 287 404 312 251 328 285 280\n",
            " 192 193 308 219 257 132 226 217 303 298 256 117 295 173 315 281 309 200\n",
            " 336 355 326 171 491 271 274 394 221 126 305 220 242 347 344 358 169 181\n",
            "   0 236 203 153 316 311 252 458 384 258 349 142 197 113 261 310 232 110\n",
            " 123 170 369 152 244 165 337 300 333 385 322 564 239 293 407 149 199 417\n",
            " 178 319 354 330 302 313 141 327 304 286 360 262 325 299 409 174 183 321\n",
            " 353 335 278 157 176 131]\n",
            "[0 1]\n",
            "['Normal' 'ST' 'LVH']\n",
            "[172 156  98 108 122 170 142 130 120  99 145 140 137 150 166 165 125 160\n",
            " 164 138 178 112 118 127 114 154 155  87 148 100 168 184 121 153 134  96\n",
            " 174 175 144  82 135 115 128 116  94 110  92 180 152 124 106 185 139 190\n",
            " 146 158 132 176 119 188 162 105  90 136 167 129 102 143 103  91 126  93\n",
            " 131 149 123 182 141  77 109 133 179 113 104  95  72  97 117  86  63 157\n",
            "  83  60  70 163  67  78  84 111  80 107 161  69  88  73 159 151 181 186\n",
            " 177 173 169 171 147  71 192 195 194 187 202]\n",
            "['N' 'Y']\n",
            "[ 0.   1.   1.5  2.   3.   4.   0.5  2.5  5.   0.8  0.7  1.4  2.1  0.4\n",
            "  0.2  1.7  2.2  0.1  1.6  1.3  0.3  1.8  2.6 -0.9  2.8 -2.6 -1.5 -0.1\n",
            "  0.9  1.1  2.4 -1.  -1.1 -0.7 -0.8  3.7  1.2 -0.5 -2.   1.9  3.5  0.6\n",
            "  3.1  2.3  3.4  3.6  4.2  3.2  5.6  3.8  2.9  6.2  4.4]\n",
            "['Up' 'Flat' 'Down']\n"
          ]
        }
      ]
    },
    {
      "cell_type": "markdown",
      "source": [
        "#Exploring Data Analysis"
      ],
      "metadata": {
        "id": "GsZCVI5GCYtd"
      }
    },
    {
      "cell_type": "code",
      "source": [
        "colors = ['#FFFFFF', '#F9B1B8', '#EE4355', '#B60618', '#820815', '#000000']\n",
        "corr = data.corr()\n",
        "fig = go.Figure(data= go.Heatmap(z=corr,\n",
        "                                 x=corr.index.values,\n",
        "                                 y=corr.columns.values,\n",
        "                                 colorscale=colors,\n",
        "                                 text = corr.round(2), texttemplate=\"%{text}\"\n",
        "                                 )\n",
        "                )\n",
        "fig.update_layout(title_text='<b>Correlation Matrix<b>',\n",
        "                  title_x=0.5,\n",
        "                  width=600, height=600\n",
        "                  )\n",
        "fig.show()"
      ],
      "metadata": {
        "colab": {
          "base_uri": "https://localhost:8080/",
          "height": 617
        },
        "id": "GcSjSAG-5jDR",
        "outputId": "f7389db8-7558-4f78-ed27-ea72acbac344"
      },
      "execution_count": 7,
      "outputs": [
        {
          "output_type": "display_data",
          "data": {
            "text/html": [
              "<html>\n",
              "<head><meta charset=\"utf-8\" /></head>\n",
              "<body>\n",
              "    <div>            <script src=\"https://cdnjs.cloudflare.com/ajax/libs/mathjax/2.7.5/MathJax.js?config=TeX-AMS-MML_SVG\"></script><script type=\"text/javascript\">if (window.MathJax) {MathJax.Hub.Config({SVG: {font: \"STIX-Web\"}});}</script>                <script type=\"text/javascript\">window.PlotlyConfig = {MathJaxConfig: 'local'};</script>\n",
              "        <script src=\"https://cdn.plot.ly/plotly-2.8.3.min.js\"></script>                <div id=\"8bf8a753-0c2f-45e9-83d0-b990260e6d43\" class=\"plotly-graph-div\" style=\"height:600px; width:600px;\"></div>            <script type=\"text/javascript\">                                    window.PLOTLYENV=window.PLOTLYENV || {};                                    if (document.getElementById(\"8bf8a753-0c2f-45e9-83d0-b990260e6d43\")) {                    Plotly.newPlot(                        \"8bf8a753-0c2f-45e9-83d0-b990260e6d43\",                        [{\"colorscale\":[[0.0,\"#FFFFFF\"],[0.2,\"#F9B1B8\"],[0.4,\"#EE4355\"],[0.6,\"#B60618\"],[0.8,\"#820815\"],[1.0,\"#000000\"]],\"text\":[[1.0,0.25,-0.1,0.2,-0.38,0.26,0.28],[0.25,1.0,0.1,0.07,-0.11,0.16,0.11],[-0.1,0.1,1.0,-0.26,0.24,0.05,-0.23],[0.2,0.07,-0.26,1.0,-0.13,0.05,0.27],[-0.38,-0.11,0.24,-0.13,1.0,-0.16,-0.4],[0.26,0.16,0.05,0.05,-0.16,1.0,0.4],[0.28,0.11,-0.23,0.27,-0.4,0.4,1.0]],\"texttemplate\":\"%{text}\",\"x\":[\"Age\",\"RestingBP\",\"Cholesterol\",\"FastingBS\",\"MaxHR\",\"Oldpeak\",\"HeartDisease\"],\"y\":[\"Age\",\"RestingBP\",\"Cholesterol\",\"FastingBS\",\"MaxHR\",\"Oldpeak\",\"HeartDisease\"],\"z\":[[1.0,0.2543993561515428,-0.09528177118121824,0.19803906586674333,-0.3820446750319701,0.25861153601875636,0.2820385058189964],[0.2543993561515428,1.0,0.10089294207709164,0.07019333570992349,-0.11213499711298038,0.16480304317138791,0.10758898037140385],[-0.09528177118121824,0.10089294207709164,1.0,-0.2609743277657631,0.23579240300238535,0.050148109140803906,-0.2327406389270114],[0.19803906586674333,0.07019333570992349,-0.2609743277657631,1.0,-0.1314384913934405,0.05269786028732148,0.26729118611029784],[-0.3820446750319701,-0.11213499711298038,0.23579240300238535,-0.1314384913934405,1.0,-0.1606905500499244,-0.4004207694631906],[0.25861153601875636,0.16480304317138791,0.050148109140803906,0.05269786028732148,-0.1606905500499244,1.0,0.40395072206288607],[0.2820385058189964,0.10758898037140385,-0.2327406389270114,0.26729118611029784,-0.4004207694631906,0.40395072206288607,1.0]],\"type\":\"heatmap\"}],                        {\"template\":{\"data\":{\"bar\":[{\"error_x\":{\"color\":\"#2a3f5f\"},\"error_y\":{\"color\":\"#2a3f5f\"},\"marker\":{\"line\":{\"color\":\"#E5ECF6\",\"width\":0.5},\"pattern\":{\"fillmode\":\"overlay\",\"size\":10,\"solidity\":0.2}},\"type\":\"bar\"}],\"barpolar\":[{\"marker\":{\"line\":{\"color\":\"#E5ECF6\",\"width\":0.5},\"pattern\":{\"fillmode\":\"overlay\",\"size\":10,\"solidity\":0.2}},\"type\":\"barpolar\"}],\"carpet\":[{\"aaxis\":{\"endlinecolor\":\"#2a3f5f\",\"gridcolor\":\"white\",\"linecolor\":\"white\",\"minorgridcolor\":\"white\",\"startlinecolor\":\"#2a3f5f\"},\"baxis\":{\"endlinecolor\":\"#2a3f5f\",\"gridcolor\":\"white\",\"linecolor\":\"white\",\"minorgridcolor\":\"white\",\"startlinecolor\":\"#2a3f5f\"},\"type\":\"carpet\"}],\"choropleth\":[{\"colorbar\":{\"outlinewidth\":0,\"ticks\":\"\"},\"type\":\"choropleth\"}],\"contour\":[{\"colorbar\":{\"outlinewidth\":0,\"ticks\":\"\"},\"colorscale\":[[0.0,\"#0d0887\"],[0.1111111111111111,\"#46039f\"],[0.2222222222222222,\"#7201a8\"],[0.3333333333333333,\"#9c179e\"],[0.4444444444444444,\"#bd3786\"],[0.5555555555555556,\"#d8576b\"],[0.6666666666666666,\"#ed7953\"],[0.7777777777777778,\"#fb9f3a\"],[0.8888888888888888,\"#fdca26\"],[1.0,\"#f0f921\"]],\"type\":\"contour\"}],\"contourcarpet\":[{\"colorbar\":{\"outlinewidth\":0,\"ticks\":\"\"},\"type\":\"contourcarpet\"}],\"heatmap\":[{\"colorbar\":{\"outlinewidth\":0,\"ticks\":\"\"},\"colorscale\":[[0.0,\"#0d0887\"],[0.1111111111111111,\"#46039f\"],[0.2222222222222222,\"#7201a8\"],[0.3333333333333333,\"#9c179e\"],[0.4444444444444444,\"#bd3786\"],[0.5555555555555556,\"#d8576b\"],[0.6666666666666666,\"#ed7953\"],[0.7777777777777778,\"#fb9f3a\"],[0.8888888888888888,\"#fdca26\"],[1.0,\"#f0f921\"]],\"type\":\"heatmap\"}],\"heatmapgl\":[{\"colorbar\":{\"outlinewidth\":0,\"ticks\":\"\"},\"colorscale\":[[0.0,\"#0d0887\"],[0.1111111111111111,\"#46039f\"],[0.2222222222222222,\"#7201a8\"],[0.3333333333333333,\"#9c179e\"],[0.4444444444444444,\"#bd3786\"],[0.5555555555555556,\"#d8576b\"],[0.6666666666666666,\"#ed7953\"],[0.7777777777777778,\"#fb9f3a\"],[0.8888888888888888,\"#fdca26\"],[1.0,\"#f0f921\"]],\"type\":\"heatmapgl\"}],\"histogram\":[{\"marker\":{\"pattern\":{\"fillmode\":\"overlay\",\"size\":10,\"solidity\":0.2}},\"type\":\"histogram\"}],\"histogram2d\":[{\"colorbar\":{\"outlinewidth\":0,\"ticks\":\"\"},\"colorscale\":[[0.0,\"#0d0887\"],[0.1111111111111111,\"#46039f\"],[0.2222222222222222,\"#7201a8\"],[0.3333333333333333,\"#9c179e\"],[0.4444444444444444,\"#bd3786\"],[0.5555555555555556,\"#d8576b\"],[0.6666666666666666,\"#ed7953\"],[0.7777777777777778,\"#fb9f3a\"],[0.8888888888888888,\"#fdca26\"],[1.0,\"#f0f921\"]],\"type\":\"histogram2d\"}],\"histogram2dcontour\":[{\"colorbar\":{\"outlinewidth\":0,\"ticks\":\"\"},\"colorscale\":[[0.0,\"#0d0887\"],[0.1111111111111111,\"#46039f\"],[0.2222222222222222,\"#7201a8\"],[0.3333333333333333,\"#9c179e\"],[0.4444444444444444,\"#bd3786\"],[0.5555555555555556,\"#d8576b\"],[0.6666666666666666,\"#ed7953\"],[0.7777777777777778,\"#fb9f3a\"],[0.8888888888888888,\"#fdca26\"],[1.0,\"#f0f921\"]],\"type\":\"histogram2dcontour\"}],\"mesh3d\":[{\"colorbar\":{\"outlinewidth\":0,\"ticks\":\"\"},\"type\":\"mesh3d\"}],\"parcoords\":[{\"line\":{\"colorbar\":{\"outlinewidth\":0,\"ticks\":\"\"}},\"type\":\"parcoords\"}],\"pie\":[{\"automargin\":true,\"type\":\"pie\"}],\"scatter\":[{\"marker\":{\"colorbar\":{\"outlinewidth\":0,\"ticks\":\"\"}},\"type\":\"scatter\"}],\"scatter3d\":[{\"line\":{\"colorbar\":{\"outlinewidth\":0,\"ticks\":\"\"}},\"marker\":{\"colorbar\":{\"outlinewidth\":0,\"ticks\":\"\"}},\"type\":\"scatter3d\"}],\"scattercarpet\":[{\"marker\":{\"colorbar\":{\"outlinewidth\":0,\"ticks\":\"\"}},\"type\":\"scattercarpet\"}],\"scattergeo\":[{\"marker\":{\"colorbar\":{\"outlinewidth\":0,\"ticks\":\"\"}},\"type\":\"scattergeo\"}],\"scattergl\":[{\"marker\":{\"colorbar\":{\"outlinewidth\":0,\"ticks\":\"\"}},\"type\":\"scattergl\"}],\"scattermapbox\":[{\"marker\":{\"colorbar\":{\"outlinewidth\":0,\"ticks\":\"\"}},\"type\":\"scattermapbox\"}],\"scatterpolar\":[{\"marker\":{\"colorbar\":{\"outlinewidth\":0,\"ticks\":\"\"}},\"type\":\"scatterpolar\"}],\"scatterpolargl\":[{\"marker\":{\"colorbar\":{\"outlinewidth\":0,\"ticks\":\"\"}},\"type\":\"scatterpolargl\"}],\"scatterternary\":[{\"marker\":{\"colorbar\":{\"outlinewidth\":0,\"ticks\":\"\"}},\"type\":\"scatterternary\"}],\"surface\":[{\"colorbar\":{\"outlinewidth\":0,\"ticks\":\"\"},\"colorscale\":[[0.0,\"#0d0887\"],[0.1111111111111111,\"#46039f\"],[0.2222222222222222,\"#7201a8\"],[0.3333333333333333,\"#9c179e\"],[0.4444444444444444,\"#bd3786\"],[0.5555555555555556,\"#d8576b\"],[0.6666666666666666,\"#ed7953\"],[0.7777777777777778,\"#fb9f3a\"],[0.8888888888888888,\"#fdca26\"],[1.0,\"#f0f921\"]],\"type\":\"surface\"}],\"table\":[{\"cells\":{\"fill\":{\"color\":\"#EBF0F8\"},\"line\":{\"color\":\"white\"}},\"header\":{\"fill\":{\"color\":\"#C8D4E3\"},\"line\":{\"color\":\"white\"}},\"type\":\"table\"}]},\"layout\":{\"annotationdefaults\":{\"arrowcolor\":\"#2a3f5f\",\"arrowhead\":0,\"arrowwidth\":1},\"autotypenumbers\":\"strict\",\"coloraxis\":{\"colorbar\":{\"outlinewidth\":0,\"ticks\":\"\"}},\"colorscale\":{\"diverging\":[[0,\"#8e0152\"],[0.1,\"#c51b7d\"],[0.2,\"#de77ae\"],[0.3,\"#f1b6da\"],[0.4,\"#fde0ef\"],[0.5,\"#f7f7f7\"],[0.6,\"#e6f5d0\"],[0.7,\"#b8e186\"],[0.8,\"#7fbc41\"],[0.9,\"#4d9221\"],[1,\"#276419\"]],\"sequential\":[[0.0,\"#0d0887\"],[0.1111111111111111,\"#46039f\"],[0.2222222222222222,\"#7201a8\"],[0.3333333333333333,\"#9c179e\"],[0.4444444444444444,\"#bd3786\"],[0.5555555555555556,\"#d8576b\"],[0.6666666666666666,\"#ed7953\"],[0.7777777777777778,\"#fb9f3a\"],[0.8888888888888888,\"#fdca26\"],[1.0,\"#f0f921\"]],\"sequentialminus\":[[0.0,\"#0d0887\"],[0.1111111111111111,\"#46039f\"],[0.2222222222222222,\"#7201a8\"],[0.3333333333333333,\"#9c179e\"],[0.4444444444444444,\"#bd3786\"],[0.5555555555555556,\"#d8576b\"],[0.6666666666666666,\"#ed7953\"],[0.7777777777777778,\"#fb9f3a\"],[0.8888888888888888,\"#fdca26\"],[1.0,\"#f0f921\"]]},\"colorway\":[\"#636efa\",\"#EF553B\",\"#00cc96\",\"#ab63fa\",\"#FFA15A\",\"#19d3f3\",\"#FF6692\",\"#B6E880\",\"#FF97FF\",\"#FECB52\"],\"font\":{\"color\":\"#2a3f5f\"},\"geo\":{\"bgcolor\":\"white\",\"lakecolor\":\"white\",\"landcolor\":\"#E5ECF6\",\"showlakes\":true,\"showland\":true,\"subunitcolor\":\"white\"},\"hoverlabel\":{\"align\":\"left\"},\"hovermode\":\"closest\",\"mapbox\":{\"style\":\"light\"},\"paper_bgcolor\":\"white\",\"plot_bgcolor\":\"#E5ECF6\",\"polar\":{\"angularaxis\":{\"gridcolor\":\"white\",\"linecolor\":\"white\",\"ticks\":\"\"},\"bgcolor\":\"#E5ECF6\",\"radialaxis\":{\"gridcolor\":\"white\",\"linecolor\":\"white\",\"ticks\":\"\"}},\"scene\":{\"xaxis\":{\"backgroundcolor\":\"#E5ECF6\",\"gridcolor\":\"white\",\"gridwidth\":2,\"linecolor\":\"white\",\"showbackground\":true,\"ticks\":\"\",\"zerolinecolor\":\"white\"},\"yaxis\":{\"backgroundcolor\":\"#E5ECF6\",\"gridcolor\":\"white\",\"gridwidth\":2,\"linecolor\":\"white\",\"showbackground\":true,\"ticks\":\"\",\"zerolinecolor\":\"white\"},\"zaxis\":{\"backgroundcolor\":\"#E5ECF6\",\"gridcolor\":\"white\",\"gridwidth\":2,\"linecolor\":\"white\",\"showbackground\":true,\"ticks\":\"\",\"zerolinecolor\":\"white\"}},\"shapedefaults\":{\"line\":{\"color\":\"#2a3f5f\"}},\"ternary\":{\"aaxis\":{\"gridcolor\":\"white\",\"linecolor\":\"white\",\"ticks\":\"\"},\"baxis\":{\"gridcolor\":\"white\",\"linecolor\":\"white\",\"ticks\":\"\"},\"bgcolor\":\"#E5ECF6\",\"caxis\":{\"gridcolor\":\"white\",\"linecolor\":\"white\",\"ticks\":\"\"}},\"title\":{\"x\":0.05},\"xaxis\":{\"automargin\":true,\"gridcolor\":\"white\",\"linecolor\":\"white\",\"ticks\":\"\",\"title\":{\"standoff\":15},\"zerolinecolor\":\"white\",\"zerolinewidth\":2},\"yaxis\":{\"automargin\":true,\"gridcolor\":\"white\",\"linecolor\":\"white\",\"ticks\":\"\",\"title\":{\"standoff\":15},\"zerolinecolor\":\"white\",\"zerolinewidth\":2}}},\"title\":{\"text\":\"<b>Correlation Matrix<b>\",\"x\":0.5},\"width\":600,\"height\":600},                        {\"responsive\": true}                    ).then(function(){\n",
              "                            \n",
              "var gd = document.getElementById('8bf8a753-0c2f-45e9-83d0-b990260e6d43');\n",
              "var x = new MutationObserver(function (mutations, observer) {{\n",
              "        var display = window.getComputedStyle(gd).display;\n",
              "        if (!display || display === 'none') {{\n",
              "            console.log([gd, 'removed!']);\n",
              "            Plotly.purge(gd);\n",
              "            observer.disconnect();\n",
              "        }}\n",
              "}});\n",
              "\n",
              "// Listen for the removal of the full notebook cells\n",
              "var notebookContainer = gd.closest('#notebook-container');\n",
              "if (notebookContainer) {{\n",
              "    x.observe(notebookContainer, {childList: true});\n",
              "}}\n",
              "\n",
              "// Listen for the clearing of the current output cell\n",
              "var outputEl = gd.closest('.output');\n",
              "if (outputEl) {{\n",
              "    x.observe(outputEl, {childList: true});\n",
              "}}\n",
              "\n",
              "                        })                };                            </script>        </div>\n",
              "</body>\n",
              "</html>"
            ]
          },
          "metadata": {}
        }
      ]
    },
    {
      "cell_type": "code",
      "source": [
        "#upraviť\n",
        "fig = px.histogram(data, x=\"HeartDisease\")\n",
        "fig.update_layout(title='Heart Disease Distribution')\n",
        "fig.show()"
      ],
      "metadata": {
        "colab": {
          "base_uri": "https://localhost:8080/",
          "height": 542
        },
        "id": "IO32v5nxII3K",
        "outputId": "6ee6c2a3-2df0-4128-8dca-412a0fb210aa"
      },
      "execution_count": 8,
      "outputs": [
        {
          "output_type": "display_data",
          "data": {
            "text/html": [
              "<html>\n",
              "<head><meta charset=\"utf-8\" /></head>\n",
              "<body>\n",
              "    <div>            <script src=\"https://cdnjs.cloudflare.com/ajax/libs/mathjax/2.7.5/MathJax.js?config=TeX-AMS-MML_SVG\"></script><script type=\"text/javascript\">if (window.MathJax) {MathJax.Hub.Config({SVG: {font: \"STIX-Web\"}});}</script>                <script type=\"text/javascript\">window.PlotlyConfig = {MathJaxConfig: 'local'};</script>\n",
              "        <script src=\"https://cdn.plot.ly/plotly-2.8.3.min.js\"></script>                <div id=\"6a1997c5-dc2a-4cc2-b449-72bba1715d3e\" class=\"plotly-graph-div\" style=\"height:525px; width:100%;\"></div>            <script type=\"text/javascript\">                                    window.PLOTLYENV=window.PLOTLYENV || {};                                    if (document.getElementById(\"6a1997c5-dc2a-4cc2-b449-72bba1715d3e\")) {                    Plotly.newPlot(                        \"6a1997c5-dc2a-4cc2-b449-72bba1715d3e\",                        [{\"alignmentgroup\":\"True\",\"bingroup\":\"x\",\"hovertemplate\":\"HeartDisease=%{x}<br>count=%{y}<extra></extra>\",\"legendgroup\":\"\",\"marker\":{\"color\":\"#636efa\",\"pattern\":{\"shape\":\"\"}},\"name\":\"\",\"offsetgroup\":\"\",\"orientation\":\"v\",\"showlegend\":false,\"x\":[0,1,0,1,0,0,0,0,1,0,0,1,0,1,0,0,1,0,1,1,0,0,0,1,0,0,0,0,0,0,1,0,1,1,0,0,1,0,0,0,0,1,0,0,1,0,0,0,0,1,1,1,0,0,0,0,1,1,0,1,0,0,0,1,0,0,0,0,1,0,1,0,1,0,1,0,1,0,0,1,0,0,1,0,1,1,1,0,1,0,0,0,0,1,0,1,0,0,0,0,1,0,1,1,1,0,0,0,0,0,0,1,0,0,0,1,1,1,0,1,1,0,0,1,0,0,0,0,0,0,0,1,1,1,0,1,0,0,1,1,1,1,1,0,1,0,0,0,0,1,0,0,0,0,0,1,1,0,1,0,1,1,0,0,0,1,1,0,0,0,0,0,0,0,1,1,1,0,0,0,1,0,1,0,0,1,0,1,0,1,0,0,0,0,0,0,0,0,1,0,0,0,0,0,0,0,0,1,0,1,1,1,0,0,1,0,1,0,0,0,1,1,0,0,0,1,0,1,0,0,0,0,0,0,0,0,1,1,1,1,0,1,1,0,1,0,1,1,1,1,1,1,0,0,1,0,0,0,0,0,0,0,1,1,1,0,1,0,1,0,0,0,1,0,0,0,1,1,0,0,0,1,0,0,0,0,0,0,0,0,0,0,0,1,1,1,1,1,1,1,1,0,1,1,1,1,1,0,1,1,0,1,1,1,0,1,1,1,1,1,1,1,1,1,1,1,0,1,1,1,1,1,0,1,1,1,0,1,1,1,1,1,1,1,1,1,1,1,1,1,1,1,1,1,1,1,1,1,1,1,1,1,1,1,0,1,1,1,1,1,1,1,1,1,1,1,1,1,1,1,1,1,1,1,1,1,1,1,1,1,1,1,1,1,1,1,1,1,1,1,1,1,1,1,1,1,1,1,1,1,1,1,1,1,1,1,1,0,1,1,0,0,1,0,1,1,0,1,1,1,1,0,1,1,0,0,1,1,1,0,1,1,1,1,1,1,1,1,1,1,1,1,1,0,1,0,1,1,1,0,1,1,1,0,1,0,1,0,1,0,1,1,1,1,0,1,0,1,1,1,1,1,1,1,1,1,0,1,0,1,1,1,1,1,1,1,0,1,1,1,1,1,1,0,1,1,1,0,1,1,0,1,0,1,1,0,1,1,1,1,0,1,1,1,0,0,1,0,1,1,1,1,1,1,1,1,1,1,1,0,1,1,1,1,0,0,1,1,1,0,1,0,1,1,0,1,0,1,1,1,0,0,0,1,1,1,0,1,1,1,1,1,1,1,1,1,1,1,1,1,1,1,1,0,1,1,1,0,1,1,0,0,1,1,1,1,1,0,1,1,0,1,1,1,0,0,1,1,1,1,1,0,1,0,1,1,0,1,0,0,0,1,1,1,1,0,0,0,1,0,0,1,1,0,0,1,0,0,0,0,0,0,0,1,0,1,0,0,1,1,1,1,1,0,0,1,0,0,0,1,0,1,1,1,1,1,0,0,0,0,0,1,0,1,1,0,1,0,0,0,1,0,1,0,1,1,0,0,0,0,1,0,0,0,0,1,1,1,0,0,0,0,0,0,1,0,1,1,1,1,1,0,1,0,0,0,1,0,1,1,1,0,1,1,0,1,0,1,0,0,0,1,1,0,1,1,1,1,0,0,0,1,0,0,1,1,1,0,1,0,0,0,1,0,0,1,0,1,0,1,1,1,1,1,0,0,0,0,0,0,0,1,0,0,1,1,1,0,1,0,0,0,0,0,1,0,1,1,0,0,1,1,1,1,0,0,1,1,0,0,0,1,0,0,1,0,1,0,1,0,0,0,0,0,1,0,1,1,1,1,0,0,0,1,0,1,0,0,1,0,0,0,0,0,0,1,1,0,1,0,0,1,1,0,0,1,1,0,1,0,1,0,1,0,0,1,0,0,1,0,1,1,0,1,1,1,0,1,0,0,0,0,1,1,0,0,1,1,0,1,0,0,0,0,1,0,0,1,1,1,0,0,0,1,0,1,0,1,0,1,1,1,0,0,0,1,0,1,1,1,0,1,1,1,1,1,1,0],\"xaxis\":\"x\",\"yaxis\":\"y\",\"type\":\"histogram\"}],                        {\"template\":{\"data\":{\"bar\":[{\"error_x\":{\"color\":\"#2a3f5f\"},\"error_y\":{\"color\":\"#2a3f5f\"},\"marker\":{\"line\":{\"color\":\"#E5ECF6\",\"width\":0.5},\"pattern\":{\"fillmode\":\"overlay\",\"size\":10,\"solidity\":0.2}},\"type\":\"bar\"}],\"barpolar\":[{\"marker\":{\"line\":{\"color\":\"#E5ECF6\",\"width\":0.5},\"pattern\":{\"fillmode\":\"overlay\",\"size\":10,\"solidity\":0.2}},\"type\":\"barpolar\"}],\"carpet\":[{\"aaxis\":{\"endlinecolor\":\"#2a3f5f\",\"gridcolor\":\"white\",\"linecolor\":\"white\",\"minorgridcolor\":\"white\",\"startlinecolor\":\"#2a3f5f\"},\"baxis\":{\"endlinecolor\":\"#2a3f5f\",\"gridcolor\":\"white\",\"linecolor\":\"white\",\"minorgridcolor\":\"white\",\"startlinecolor\":\"#2a3f5f\"},\"type\":\"carpet\"}],\"choropleth\":[{\"colorbar\":{\"outlinewidth\":0,\"ticks\":\"\"},\"type\":\"choropleth\"}],\"contour\":[{\"colorbar\":{\"outlinewidth\":0,\"ticks\":\"\"},\"colorscale\":[[0.0,\"#0d0887\"],[0.1111111111111111,\"#46039f\"],[0.2222222222222222,\"#7201a8\"],[0.3333333333333333,\"#9c179e\"],[0.4444444444444444,\"#bd3786\"],[0.5555555555555556,\"#d8576b\"],[0.6666666666666666,\"#ed7953\"],[0.7777777777777778,\"#fb9f3a\"],[0.8888888888888888,\"#fdca26\"],[1.0,\"#f0f921\"]],\"type\":\"contour\"}],\"contourcarpet\":[{\"colorbar\":{\"outlinewidth\":0,\"ticks\":\"\"},\"type\":\"contourcarpet\"}],\"heatmap\":[{\"colorbar\":{\"outlinewidth\":0,\"ticks\":\"\"},\"colorscale\":[[0.0,\"#0d0887\"],[0.1111111111111111,\"#46039f\"],[0.2222222222222222,\"#7201a8\"],[0.3333333333333333,\"#9c179e\"],[0.4444444444444444,\"#bd3786\"],[0.5555555555555556,\"#d8576b\"],[0.6666666666666666,\"#ed7953\"],[0.7777777777777778,\"#fb9f3a\"],[0.8888888888888888,\"#fdca26\"],[1.0,\"#f0f921\"]],\"type\":\"heatmap\"}],\"heatmapgl\":[{\"colorbar\":{\"outlinewidth\":0,\"ticks\":\"\"},\"colorscale\":[[0.0,\"#0d0887\"],[0.1111111111111111,\"#46039f\"],[0.2222222222222222,\"#7201a8\"],[0.3333333333333333,\"#9c179e\"],[0.4444444444444444,\"#bd3786\"],[0.5555555555555556,\"#d8576b\"],[0.6666666666666666,\"#ed7953\"],[0.7777777777777778,\"#fb9f3a\"],[0.8888888888888888,\"#fdca26\"],[1.0,\"#f0f921\"]],\"type\":\"heatmapgl\"}],\"histogram\":[{\"marker\":{\"pattern\":{\"fillmode\":\"overlay\",\"size\":10,\"solidity\":0.2}},\"type\":\"histogram\"}],\"histogram2d\":[{\"colorbar\":{\"outlinewidth\":0,\"ticks\":\"\"},\"colorscale\":[[0.0,\"#0d0887\"],[0.1111111111111111,\"#46039f\"],[0.2222222222222222,\"#7201a8\"],[0.3333333333333333,\"#9c179e\"],[0.4444444444444444,\"#bd3786\"],[0.5555555555555556,\"#d8576b\"],[0.6666666666666666,\"#ed7953\"],[0.7777777777777778,\"#fb9f3a\"],[0.8888888888888888,\"#fdca26\"],[1.0,\"#f0f921\"]],\"type\":\"histogram2d\"}],\"histogram2dcontour\":[{\"colorbar\":{\"outlinewidth\":0,\"ticks\":\"\"},\"colorscale\":[[0.0,\"#0d0887\"],[0.1111111111111111,\"#46039f\"],[0.2222222222222222,\"#7201a8\"],[0.3333333333333333,\"#9c179e\"],[0.4444444444444444,\"#bd3786\"],[0.5555555555555556,\"#d8576b\"],[0.6666666666666666,\"#ed7953\"],[0.7777777777777778,\"#fb9f3a\"],[0.8888888888888888,\"#fdca26\"],[1.0,\"#f0f921\"]],\"type\":\"histogram2dcontour\"}],\"mesh3d\":[{\"colorbar\":{\"outlinewidth\":0,\"ticks\":\"\"},\"type\":\"mesh3d\"}],\"parcoords\":[{\"line\":{\"colorbar\":{\"outlinewidth\":0,\"ticks\":\"\"}},\"type\":\"parcoords\"}],\"pie\":[{\"automargin\":true,\"type\":\"pie\"}],\"scatter\":[{\"marker\":{\"colorbar\":{\"outlinewidth\":0,\"ticks\":\"\"}},\"type\":\"scatter\"}],\"scatter3d\":[{\"line\":{\"colorbar\":{\"outlinewidth\":0,\"ticks\":\"\"}},\"marker\":{\"colorbar\":{\"outlinewidth\":0,\"ticks\":\"\"}},\"type\":\"scatter3d\"}],\"scattercarpet\":[{\"marker\":{\"colorbar\":{\"outlinewidth\":0,\"ticks\":\"\"}},\"type\":\"scattercarpet\"}],\"scattergeo\":[{\"marker\":{\"colorbar\":{\"outlinewidth\":0,\"ticks\":\"\"}},\"type\":\"scattergeo\"}],\"scattergl\":[{\"marker\":{\"colorbar\":{\"outlinewidth\":0,\"ticks\":\"\"}},\"type\":\"scattergl\"}],\"scattermapbox\":[{\"marker\":{\"colorbar\":{\"outlinewidth\":0,\"ticks\":\"\"}},\"type\":\"scattermapbox\"}],\"scatterpolar\":[{\"marker\":{\"colorbar\":{\"outlinewidth\":0,\"ticks\":\"\"}},\"type\":\"scatterpolar\"}],\"scatterpolargl\":[{\"marker\":{\"colorbar\":{\"outlinewidth\":0,\"ticks\":\"\"}},\"type\":\"scatterpolargl\"}],\"scatterternary\":[{\"marker\":{\"colorbar\":{\"outlinewidth\":0,\"ticks\":\"\"}},\"type\":\"scatterternary\"}],\"surface\":[{\"colorbar\":{\"outlinewidth\":0,\"ticks\":\"\"},\"colorscale\":[[0.0,\"#0d0887\"],[0.1111111111111111,\"#46039f\"],[0.2222222222222222,\"#7201a8\"],[0.3333333333333333,\"#9c179e\"],[0.4444444444444444,\"#bd3786\"],[0.5555555555555556,\"#d8576b\"],[0.6666666666666666,\"#ed7953\"],[0.7777777777777778,\"#fb9f3a\"],[0.8888888888888888,\"#fdca26\"],[1.0,\"#f0f921\"]],\"type\":\"surface\"}],\"table\":[{\"cells\":{\"fill\":{\"color\":\"#EBF0F8\"},\"line\":{\"color\":\"white\"}},\"header\":{\"fill\":{\"color\":\"#C8D4E3\"},\"line\":{\"color\":\"white\"}},\"type\":\"table\"}]},\"layout\":{\"annotationdefaults\":{\"arrowcolor\":\"#2a3f5f\",\"arrowhead\":0,\"arrowwidth\":1},\"autotypenumbers\":\"strict\",\"coloraxis\":{\"colorbar\":{\"outlinewidth\":0,\"ticks\":\"\"}},\"colorscale\":{\"diverging\":[[0,\"#8e0152\"],[0.1,\"#c51b7d\"],[0.2,\"#de77ae\"],[0.3,\"#f1b6da\"],[0.4,\"#fde0ef\"],[0.5,\"#f7f7f7\"],[0.6,\"#e6f5d0\"],[0.7,\"#b8e186\"],[0.8,\"#7fbc41\"],[0.9,\"#4d9221\"],[1,\"#276419\"]],\"sequential\":[[0.0,\"#0d0887\"],[0.1111111111111111,\"#46039f\"],[0.2222222222222222,\"#7201a8\"],[0.3333333333333333,\"#9c179e\"],[0.4444444444444444,\"#bd3786\"],[0.5555555555555556,\"#d8576b\"],[0.6666666666666666,\"#ed7953\"],[0.7777777777777778,\"#fb9f3a\"],[0.8888888888888888,\"#fdca26\"],[1.0,\"#f0f921\"]],\"sequentialminus\":[[0.0,\"#0d0887\"],[0.1111111111111111,\"#46039f\"],[0.2222222222222222,\"#7201a8\"],[0.3333333333333333,\"#9c179e\"],[0.4444444444444444,\"#bd3786\"],[0.5555555555555556,\"#d8576b\"],[0.6666666666666666,\"#ed7953\"],[0.7777777777777778,\"#fb9f3a\"],[0.8888888888888888,\"#fdca26\"],[1.0,\"#f0f921\"]]},\"colorway\":[\"#636efa\",\"#EF553B\",\"#00cc96\",\"#ab63fa\",\"#FFA15A\",\"#19d3f3\",\"#FF6692\",\"#B6E880\",\"#FF97FF\",\"#FECB52\"],\"font\":{\"color\":\"#2a3f5f\"},\"geo\":{\"bgcolor\":\"white\",\"lakecolor\":\"white\",\"landcolor\":\"#E5ECF6\",\"showlakes\":true,\"showland\":true,\"subunitcolor\":\"white\"},\"hoverlabel\":{\"align\":\"left\"},\"hovermode\":\"closest\",\"mapbox\":{\"style\":\"light\"},\"paper_bgcolor\":\"white\",\"plot_bgcolor\":\"#E5ECF6\",\"polar\":{\"angularaxis\":{\"gridcolor\":\"white\",\"linecolor\":\"white\",\"ticks\":\"\"},\"bgcolor\":\"#E5ECF6\",\"radialaxis\":{\"gridcolor\":\"white\",\"linecolor\":\"white\",\"ticks\":\"\"}},\"scene\":{\"xaxis\":{\"backgroundcolor\":\"#E5ECF6\",\"gridcolor\":\"white\",\"gridwidth\":2,\"linecolor\":\"white\",\"showbackground\":true,\"ticks\":\"\",\"zerolinecolor\":\"white\"},\"yaxis\":{\"backgroundcolor\":\"#E5ECF6\",\"gridcolor\":\"white\",\"gridwidth\":2,\"linecolor\":\"white\",\"showbackground\":true,\"ticks\":\"\",\"zerolinecolor\":\"white\"},\"zaxis\":{\"backgroundcolor\":\"#E5ECF6\",\"gridcolor\":\"white\",\"gridwidth\":2,\"linecolor\":\"white\",\"showbackground\":true,\"ticks\":\"\",\"zerolinecolor\":\"white\"}},\"shapedefaults\":{\"line\":{\"color\":\"#2a3f5f\"}},\"ternary\":{\"aaxis\":{\"gridcolor\":\"white\",\"linecolor\":\"white\",\"ticks\":\"\"},\"baxis\":{\"gridcolor\":\"white\",\"linecolor\":\"white\",\"ticks\":\"\"},\"bgcolor\":\"#E5ECF6\",\"caxis\":{\"gridcolor\":\"white\",\"linecolor\":\"white\",\"ticks\":\"\"}},\"title\":{\"x\":0.05},\"xaxis\":{\"automargin\":true,\"gridcolor\":\"white\",\"linecolor\":\"white\",\"ticks\":\"\",\"title\":{\"standoff\":15},\"zerolinecolor\":\"white\",\"zerolinewidth\":2},\"yaxis\":{\"automargin\":true,\"gridcolor\":\"white\",\"linecolor\":\"white\",\"ticks\":\"\",\"title\":{\"standoff\":15},\"zerolinecolor\":\"white\",\"zerolinewidth\":2}}},\"xaxis\":{\"anchor\":\"y\",\"domain\":[0.0,1.0],\"title\":{\"text\":\"HeartDisease\"}},\"yaxis\":{\"anchor\":\"x\",\"domain\":[0.0,1.0],\"title\":{\"text\":\"count\"}},\"legend\":{\"tracegroupgap\":0},\"margin\":{\"t\":60},\"barmode\":\"relative\",\"title\":{\"text\":\"Heart Disease Distribution\"}},                        {\"responsive\": true}                    ).then(function(){\n",
              "                            \n",
              "var gd = document.getElementById('6a1997c5-dc2a-4cc2-b449-72bba1715d3e');\n",
              "var x = new MutationObserver(function (mutations, observer) {{\n",
              "        var display = window.getComputedStyle(gd).display;\n",
              "        if (!display || display === 'none') {{\n",
              "            console.log([gd, 'removed!']);\n",
              "            Plotly.purge(gd);\n",
              "            observer.disconnect();\n",
              "        }}\n",
              "}});\n",
              "\n",
              "// Listen for the removal of the full notebook cells\n",
              "var notebookContainer = gd.closest('#notebook-container');\n",
              "if (notebookContainer) {{\n",
              "    x.observe(notebookContainer, {childList: true});\n",
              "}}\n",
              "\n",
              "// Listen for the clearing of the current output cell\n",
              "var outputEl = gd.closest('.output');\n",
              "if (outputEl) {{\n",
              "    x.observe(outputEl, {childList: true});\n",
              "}}\n",
              "\n",
              "                        })                };                            </script>        </div>\n",
              "</body>\n",
              "</html>"
            ]
          },
          "metadata": {}
        }
      ]
    },
    {
      "cell_type": "code",
      "source": [
        "fig = px.pie(data, names='HeartDisease')\n",
        "fig.update_layout(title='% of Heart Disease')\n",
        "fig.show()"
      ],
      "metadata": {
        "colab": {
          "base_uri": "https://localhost:8080/",
          "height": 542
        },
        "id": "PpTx9kuLDBHm",
        "outputId": "6535d974-949b-4503-af8d-e0f8019a5f0a"
      },
      "execution_count": 9,
      "outputs": [
        {
          "output_type": "display_data",
          "data": {
            "text/html": [
              "<html>\n",
              "<head><meta charset=\"utf-8\" /></head>\n",
              "<body>\n",
              "    <div>            <script src=\"https://cdnjs.cloudflare.com/ajax/libs/mathjax/2.7.5/MathJax.js?config=TeX-AMS-MML_SVG\"></script><script type=\"text/javascript\">if (window.MathJax) {MathJax.Hub.Config({SVG: {font: \"STIX-Web\"}});}</script>                <script type=\"text/javascript\">window.PlotlyConfig = {MathJaxConfig: 'local'};</script>\n",
              "        <script src=\"https://cdn.plot.ly/plotly-2.8.3.min.js\"></script>                <div id=\"d8f90812-d744-4bc3-aaa5-82864d13359f\" class=\"plotly-graph-div\" style=\"height:525px; width:100%;\"></div>            <script type=\"text/javascript\">                                    window.PLOTLYENV=window.PLOTLYENV || {};                                    if (document.getElementById(\"d8f90812-d744-4bc3-aaa5-82864d13359f\")) {                    Plotly.newPlot(                        \"d8f90812-d744-4bc3-aaa5-82864d13359f\",                        [{\"domain\":{\"x\":[0.0,1.0],\"y\":[0.0,1.0]},\"hovertemplate\":\"HeartDisease=%{label}<extra></extra>\",\"labels\":[0,1,0,1,0,0,0,0,1,0,0,1,0,1,0,0,1,0,1,1,0,0,0,1,0,0,0,0,0,0,1,0,1,1,0,0,1,0,0,0,0,1,0,0,1,0,0,0,0,1,1,1,0,0,0,0,1,1,0,1,0,0,0,1,0,0,0,0,1,0,1,0,1,0,1,0,1,0,0,1,0,0,1,0,1,1,1,0,1,0,0,0,0,1,0,1,0,0,0,0,1,0,1,1,1,0,0,0,0,0,0,1,0,0,0,1,1,1,0,1,1,0,0,1,0,0,0,0,0,0,0,1,1,1,0,1,0,0,1,1,1,1,1,0,1,0,0,0,0,1,0,0,0,0,0,1,1,0,1,0,1,1,0,0,0,1,1,0,0,0,0,0,0,0,1,1,1,0,0,0,1,0,1,0,0,1,0,1,0,1,0,0,0,0,0,0,0,0,1,0,0,0,0,0,0,0,0,1,0,1,1,1,0,0,1,0,1,0,0,0,1,1,0,0,0,1,0,1,0,0,0,0,0,0,0,0,1,1,1,1,0,1,1,0,1,0,1,1,1,1,1,1,0,0,1,0,0,0,0,0,0,0,1,1,1,0,1,0,1,0,0,0,1,0,0,0,1,1,0,0,0,1,0,0,0,0,0,0,0,0,0,0,0,1,1,1,1,1,1,1,1,0,1,1,1,1,1,0,1,1,0,1,1,1,0,1,1,1,1,1,1,1,1,1,1,1,0,1,1,1,1,1,0,1,1,1,0,1,1,1,1,1,1,1,1,1,1,1,1,1,1,1,1,1,1,1,1,1,1,1,1,1,1,1,0,1,1,1,1,1,1,1,1,1,1,1,1,1,1,1,1,1,1,1,1,1,1,1,1,1,1,1,1,1,1,1,1,1,1,1,1,1,1,1,1,1,1,1,1,1,1,1,1,1,1,1,1,0,1,1,0,0,1,0,1,1,0,1,1,1,1,0,1,1,0,0,1,1,1,0,1,1,1,1,1,1,1,1,1,1,1,1,1,0,1,0,1,1,1,0,1,1,1,0,1,0,1,0,1,0,1,1,1,1,0,1,0,1,1,1,1,1,1,1,1,1,0,1,0,1,1,1,1,1,1,1,0,1,1,1,1,1,1,0,1,1,1,0,1,1,0,1,0,1,1,0,1,1,1,1,0,1,1,1,0,0,1,0,1,1,1,1,1,1,1,1,1,1,1,0,1,1,1,1,0,0,1,1,1,0,1,0,1,1,0,1,0,1,1,1,0,0,0,1,1,1,0,1,1,1,1,1,1,1,1,1,1,1,1,1,1,1,1,0,1,1,1,0,1,1,0,0,1,1,1,1,1,0,1,1,0,1,1,1,0,0,1,1,1,1,1,0,1,0,1,1,0,1,0,0,0,1,1,1,1,0,0,0,1,0,0,1,1,0,0,1,0,0,0,0,0,0,0,1,0,1,0,0,1,1,1,1,1,0,0,1,0,0,0,1,0,1,1,1,1,1,0,0,0,0,0,1,0,1,1,0,1,0,0,0,1,0,1,0,1,1,0,0,0,0,1,0,0,0,0,1,1,1,0,0,0,0,0,0,1,0,1,1,1,1,1,0,1,0,0,0,1,0,1,1,1,0,1,1,0,1,0,1,0,0,0,1,1,0,1,1,1,1,0,0,0,1,0,0,1,1,1,0,1,0,0,0,1,0,0,1,0,1,0,1,1,1,1,1,0,0,0,0,0,0,0,1,0,0,1,1,1,0,1,0,0,0,0,0,1,0,1,1,0,0,1,1,1,1,0,0,1,1,0,0,0,1,0,0,1,0,1,0,1,0,0,0,0,0,1,0,1,1,1,1,0,0,0,1,0,1,0,0,1,0,0,0,0,0,0,1,1,0,1,0,0,1,1,0,0,1,1,0,1,0,1,0,1,0,0,1,0,0,1,0,1,1,0,1,1,1,0,1,0,0,0,0,1,1,0,0,1,1,0,1,0,0,0,0,1,0,0,1,1,1,0,0,0,1,0,1,0,1,0,1,1,1,0,0,0,1,0,1,1,1,0,1,1,1,1,1,1,0],\"legendgroup\":\"\",\"name\":\"\",\"showlegend\":true,\"type\":\"pie\"}],                        {\"template\":{\"data\":{\"bar\":[{\"error_x\":{\"color\":\"#2a3f5f\"},\"error_y\":{\"color\":\"#2a3f5f\"},\"marker\":{\"line\":{\"color\":\"#E5ECF6\",\"width\":0.5},\"pattern\":{\"fillmode\":\"overlay\",\"size\":10,\"solidity\":0.2}},\"type\":\"bar\"}],\"barpolar\":[{\"marker\":{\"line\":{\"color\":\"#E5ECF6\",\"width\":0.5},\"pattern\":{\"fillmode\":\"overlay\",\"size\":10,\"solidity\":0.2}},\"type\":\"barpolar\"}],\"carpet\":[{\"aaxis\":{\"endlinecolor\":\"#2a3f5f\",\"gridcolor\":\"white\",\"linecolor\":\"white\",\"minorgridcolor\":\"white\",\"startlinecolor\":\"#2a3f5f\"},\"baxis\":{\"endlinecolor\":\"#2a3f5f\",\"gridcolor\":\"white\",\"linecolor\":\"white\",\"minorgridcolor\":\"white\",\"startlinecolor\":\"#2a3f5f\"},\"type\":\"carpet\"}],\"choropleth\":[{\"colorbar\":{\"outlinewidth\":0,\"ticks\":\"\"},\"type\":\"choropleth\"}],\"contour\":[{\"colorbar\":{\"outlinewidth\":0,\"ticks\":\"\"},\"colorscale\":[[0.0,\"#0d0887\"],[0.1111111111111111,\"#46039f\"],[0.2222222222222222,\"#7201a8\"],[0.3333333333333333,\"#9c179e\"],[0.4444444444444444,\"#bd3786\"],[0.5555555555555556,\"#d8576b\"],[0.6666666666666666,\"#ed7953\"],[0.7777777777777778,\"#fb9f3a\"],[0.8888888888888888,\"#fdca26\"],[1.0,\"#f0f921\"]],\"type\":\"contour\"}],\"contourcarpet\":[{\"colorbar\":{\"outlinewidth\":0,\"ticks\":\"\"},\"type\":\"contourcarpet\"}],\"heatmap\":[{\"colorbar\":{\"outlinewidth\":0,\"ticks\":\"\"},\"colorscale\":[[0.0,\"#0d0887\"],[0.1111111111111111,\"#46039f\"],[0.2222222222222222,\"#7201a8\"],[0.3333333333333333,\"#9c179e\"],[0.4444444444444444,\"#bd3786\"],[0.5555555555555556,\"#d8576b\"],[0.6666666666666666,\"#ed7953\"],[0.7777777777777778,\"#fb9f3a\"],[0.8888888888888888,\"#fdca26\"],[1.0,\"#f0f921\"]],\"type\":\"heatmap\"}],\"heatmapgl\":[{\"colorbar\":{\"outlinewidth\":0,\"ticks\":\"\"},\"colorscale\":[[0.0,\"#0d0887\"],[0.1111111111111111,\"#46039f\"],[0.2222222222222222,\"#7201a8\"],[0.3333333333333333,\"#9c179e\"],[0.4444444444444444,\"#bd3786\"],[0.5555555555555556,\"#d8576b\"],[0.6666666666666666,\"#ed7953\"],[0.7777777777777778,\"#fb9f3a\"],[0.8888888888888888,\"#fdca26\"],[1.0,\"#f0f921\"]],\"type\":\"heatmapgl\"}],\"histogram\":[{\"marker\":{\"pattern\":{\"fillmode\":\"overlay\",\"size\":10,\"solidity\":0.2}},\"type\":\"histogram\"}],\"histogram2d\":[{\"colorbar\":{\"outlinewidth\":0,\"ticks\":\"\"},\"colorscale\":[[0.0,\"#0d0887\"],[0.1111111111111111,\"#46039f\"],[0.2222222222222222,\"#7201a8\"],[0.3333333333333333,\"#9c179e\"],[0.4444444444444444,\"#bd3786\"],[0.5555555555555556,\"#d8576b\"],[0.6666666666666666,\"#ed7953\"],[0.7777777777777778,\"#fb9f3a\"],[0.8888888888888888,\"#fdca26\"],[1.0,\"#f0f921\"]],\"type\":\"histogram2d\"}],\"histogram2dcontour\":[{\"colorbar\":{\"outlinewidth\":0,\"ticks\":\"\"},\"colorscale\":[[0.0,\"#0d0887\"],[0.1111111111111111,\"#46039f\"],[0.2222222222222222,\"#7201a8\"],[0.3333333333333333,\"#9c179e\"],[0.4444444444444444,\"#bd3786\"],[0.5555555555555556,\"#d8576b\"],[0.6666666666666666,\"#ed7953\"],[0.7777777777777778,\"#fb9f3a\"],[0.8888888888888888,\"#fdca26\"],[1.0,\"#f0f921\"]],\"type\":\"histogram2dcontour\"}],\"mesh3d\":[{\"colorbar\":{\"outlinewidth\":0,\"ticks\":\"\"},\"type\":\"mesh3d\"}],\"parcoords\":[{\"line\":{\"colorbar\":{\"outlinewidth\":0,\"ticks\":\"\"}},\"type\":\"parcoords\"}],\"pie\":[{\"automargin\":true,\"type\":\"pie\"}],\"scatter\":[{\"marker\":{\"colorbar\":{\"outlinewidth\":0,\"ticks\":\"\"}},\"type\":\"scatter\"}],\"scatter3d\":[{\"line\":{\"colorbar\":{\"outlinewidth\":0,\"ticks\":\"\"}},\"marker\":{\"colorbar\":{\"outlinewidth\":0,\"ticks\":\"\"}},\"type\":\"scatter3d\"}],\"scattercarpet\":[{\"marker\":{\"colorbar\":{\"outlinewidth\":0,\"ticks\":\"\"}},\"type\":\"scattercarpet\"}],\"scattergeo\":[{\"marker\":{\"colorbar\":{\"outlinewidth\":0,\"ticks\":\"\"}},\"type\":\"scattergeo\"}],\"scattergl\":[{\"marker\":{\"colorbar\":{\"outlinewidth\":0,\"ticks\":\"\"}},\"type\":\"scattergl\"}],\"scattermapbox\":[{\"marker\":{\"colorbar\":{\"outlinewidth\":0,\"ticks\":\"\"}},\"type\":\"scattermapbox\"}],\"scatterpolar\":[{\"marker\":{\"colorbar\":{\"outlinewidth\":0,\"ticks\":\"\"}},\"type\":\"scatterpolar\"}],\"scatterpolargl\":[{\"marker\":{\"colorbar\":{\"outlinewidth\":0,\"ticks\":\"\"}},\"type\":\"scatterpolargl\"}],\"scatterternary\":[{\"marker\":{\"colorbar\":{\"outlinewidth\":0,\"ticks\":\"\"}},\"type\":\"scatterternary\"}],\"surface\":[{\"colorbar\":{\"outlinewidth\":0,\"ticks\":\"\"},\"colorscale\":[[0.0,\"#0d0887\"],[0.1111111111111111,\"#46039f\"],[0.2222222222222222,\"#7201a8\"],[0.3333333333333333,\"#9c179e\"],[0.4444444444444444,\"#bd3786\"],[0.5555555555555556,\"#d8576b\"],[0.6666666666666666,\"#ed7953\"],[0.7777777777777778,\"#fb9f3a\"],[0.8888888888888888,\"#fdca26\"],[1.0,\"#f0f921\"]],\"type\":\"surface\"}],\"table\":[{\"cells\":{\"fill\":{\"color\":\"#EBF0F8\"},\"line\":{\"color\":\"white\"}},\"header\":{\"fill\":{\"color\":\"#C8D4E3\"},\"line\":{\"color\":\"white\"}},\"type\":\"table\"}]},\"layout\":{\"annotationdefaults\":{\"arrowcolor\":\"#2a3f5f\",\"arrowhead\":0,\"arrowwidth\":1},\"autotypenumbers\":\"strict\",\"coloraxis\":{\"colorbar\":{\"outlinewidth\":0,\"ticks\":\"\"}},\"colorscale\":{\"diverging\":[[0,\"#8e0152\"],[0.1,\"#c51b7d\"],[0.2,\"#de77ae\"],[0.3,\"#f1b6da\"],[0.4,\"#fde0ef\"],[0.5,\"#f7f7f7\"],[0.6,\"#e6f5d0\"],[0.7,\"#b8e186\"],[0.8,\"#7fbc41\"],[0.9,\"#4d9221\"],[1,\"#276419\"]],\"sequential\":[[0.0,\"#0d0887\"],[0.1111111111111111,\"#46039f\"],[0.2222222222222222,\"#7201a8\"],[0.3333333333333333,\"#9c179e\"],[0.4444444444444444,\"#bd3786\"],[0.5555555555555556,\"#d8576b\"],[0.6666666666666666,\"#ed7953\"],[0.7777777777777778,\"#fb9f3a\"],[0.8888888888888888,\"#fdca26\"],[1.0,\"#f0f921\"]],\"sequentialminus\":[[0.0,\"#0d0887\"],[0.1111111111111111,\"#46039f\"],[0.2222222222222222,\"#7201a8\"],[0.3333333333333333,\"#9c179e\"],[0.4444444444444444,\"#bd3786\"],[0.5555555555555556,\"#d8576b\"],[0.6666666666666666,\"#ed7953\"],[0.7777777777777778,\"#fb9f3a\"],[0.8888888888888888,\"#fdca26\"],[1.0,\"#f0f921\"]]},\"colorway\":[\"#636efa\",\"#EF553B\",\"#00cc96\",\"#ab63fa\",\"#FFA15A\",\"#19d3f3\",\"#FF6692\",\"#B6E880\",\"#FF97FF\",\"#FECB52\"],\"font\":{\"color\":\"#2a3f5f\"},\"geo\":{\"bgcolor\":\"white\",\"lakecolor\":\"white\",\"landcolor\":\"#E5ECF6\",\"showlakes\":true,\"showland\":true,\"subunitcolor\":\"white\"},\"hoverlabel\":{\"align\":\"left\"},\"hovermode\":\"closest\",\"mapbox\":{\"style\":\"light\"},\"paper_bgcolor\":\"white\",\"plot_bgcolor\":\"#E5ECF6\",\"polar\":{\"angularaxis\":{\"gridcolor\":\"white\",\"linecolor\":\"white\",\"ticks\":\"\"},\"bgcolor\":\"#E5ECF6\",\"radialaxis\":{\"gridcolor\":\"white\",\"linecolor\":\"white\",\"ticks\":\"\"}},\"scene\":{\"xaxis\":{\"backgroundcolor\":\"#E5ECF6\",\"gridcolor\":\"white\",\"gridwidth\":2,\"linecolor\":\"white\",\"showbackground\":true,\"ticks\":\"\",\"zerolinecolor\":\"white\"},\"yaxis\":{\"backgroundcolor\":\"#E5ECF6\",\"gridcolor\":\"white\",\"gridwidth\":2,\"linecolor\":\"white\",\"showbackground\":true,\"ticks\":\"\",\"zerolinecolor\":\"white\"},\"zaxis\":{\"backgroundcolor\":\"#E5ECF6\",\"gridcolor\":\"white\",\"gridwidth\":2,\"linecolor\":\"white\",\"showbackground\":true,\"ticks\":\"\",\"zerolinecolor\":\"white\"}},\"shapedefaults\":{\"line\":{\"color\":\"#2a3f5f\"}},\"ternary\":{\"aaxis\":{\"gridcolor\":\"white\",\"linecolor\":\"white\",\"ticks\":\"\"},\"baxis\":{\"gridcolor\":\"white\",\"linecolor\":\"white\",\"ticks\":\"\"},\"bgcolor\":\"#E5ECF6\",\"caxis\":{\"gridcolor\":\"white\",\"linecolor\":\"white\",\"ticks\":\"\"}},\"title\":{\"x\":0.05},\"xaxis\":{\"automargin\":true,\"gridcolor\":\"white\",\"linecolor\":\"white\",\"ticks\":\"\",\"title\":{\"standoff\":15},\"zerolinecolor\":\"white\",\"zerolinewidth\":2},\"yaxis\":{\"automargin\":true,\"gridcolor\":\"white\",\"linecolor\":\"white\",\"ticks\":\"\",\"title\":{\"standoff\":15},\"zerolinecolor\":\"white\",\"zerolinewidth\":2}}},\"legend\":{\"tracegroupgap\":0},\"margin\":{\"t\":60},\"title\":{\"text\":\"% of Heart Disease\"}},                        {\"responsive\": true}                    ).then(function(){\n",
              "                            \n",
              "var gd = document.getElementById('d8f90812-d744-4bc3-aaa5-82864d13359f');\n",
              "var x = new MutationObserver(function (mutations, observer) {{\n",
              "        var display = window.getComputedStyle(gd).display;\n",
              "        if (!display || display === 'none') {{\n",
              "            console.log([gd, 'removed!']);\n",
              "            Plotly.purge(gd);\n",
              "            observer.disconnect();\n",
              "        }}\n",
              "}});\n",
              "\n",
              "// Listen for the removal of the full notebook cells\n",
              "var notebookContainer = gd.closest('#notebook-container');\n",
              "if (notebookContainer) {{\n",
              "    x.observe(notebookContainer, {childList: true});\n",
              "}}\n",
              "\n",
              "// Listen for the clearing of the current output cell\n",
              "var outputEl = gd.closest('.output');\n",
              "if (outputEl) {{\n",
              "    x.observe(outputEl, {childList: true});\n",
              "}}\n",
              "\n",
              "                        })                };                            </script>        </div>\n",
              "</body>\n",
              "</html>"
            ]
          },
          "metadata": {}
        }
      ]
    },
    {
      "cell_type": "code",
      "source": [
        "fig = px.histogram(data, x=\"Sex\")\n",
        "fig.update_layout(title='Gender Distribution')\n",
        "fig.show()"
      ],
      "metadata": {
        "colab": {
          "base_uri": "https://localhost:8080/",
          "height": 542
        },
        "id": "rWlHb7KZH5OI",
        "outputId": "282ac413-a5ad-4c66-e65e-24911181601e"
      },
      "execution_count": 10,
      "outputs": [
        {
          "output_type": "display_data",
          "data": {
            "text/html": [
              "<html>\n",
              "<head><meta charset=\"utf-8\" /></head>\n",
              "<body>\n",
              "    <div>            <script src=\"https://cdnjs.cloudflare.com/ajax/libs/mathjax/2.7.5/MathJax.js?config=TeX-AMS-MML_SVG\"></script><script type=\"text/javascript\">if (window.MathJax) {MathJax.Hub.Config({SVG: {font: \"STIX-Web\"}});}</script>                <script type=\"text/javascript\">window.PlotlyConfig = {MathJaxConfig: 'local'};</script>\n",
              "        <script src=\"https://cdn.plot.ly/plotly-2.8.3.min.js\"></script>                <div id=\"65937924-3f8f-4bbc-90da-b55222976f2a\" class=\"plotly-graph-div\" style=\"height:525px; width:100%;\"></div>            <script type=\"text/javascript\">                                    window.PLOTLYENV=window.PLOTLYENV || {};                                    if (document.getElementById(\"65937924-3f8f-4bbc-90da-b55222976f2a\")) {                    Plotly.newPlot(                        \"65937924-3f8f-4bbc-90da-b55222976f2a\",                        [{\"alignmentgroup\":\"True\",\"bingroup\":\"x\",\"hovertemplate\":\"Sex=%{x}<br>count=%{y}<extra></extra>\",\"legendgroup\":\"\",\"marker\":{\"color\":\"#636efa\",\"pattern\":{\"shape\":\"\"}},\"name\":\"\",\"offsetgroup\":\"\",\"orientation\":\"v\",\"showlegend\":false,\"x\":[\"M\",\"F\",\"M\",\"F\",\"M\",\"M\",\"F\",\"M\",\"M\",\"F\",\"F\",\"M\",\"M\",\"M\",\"F\",\"F\",\"M\",\"F\",\"M\",\"M\",\"F\",\"M\",\"F\",\"M\",\"M\",\"M\",\"M\",\"M\",\"F\",\"M\",\"M\",\"M\",\"M\",\"M\",\"F\",\"M\",\"M\",\"F\",\"F\",\"F\",\"F\",\"F\",\"M\",\"M\",\"M\",\"M\",\"M\",\"M\",\"M\",\"M\",\"M\",\"F\",\"M\",\"F\",\"F\",\"F\",\"M\",\"M\",\"M\",\"M\",\"M\",\"F\",\"M\",\"M\",\"F\",\"F\",\"F\",\"M\",\"M\",\"M\",\"M\",\"M\",\"M\",\"F\",\"M\",\"M\",\"M\",\"F\",\"M\",\"M\",\"M\",\"M\",\"M\",\"M\",\"M\",\"M\",\"M\",\"F\",\"M\",\"M\",\"F\",\"M\",\"F\",\"M\",\"F\",\"M\",\"M\",\"M\",\"M\",\"M\",\"M\",\"M\",\"F\",\"M\",\"M\",\"M\",\"F\",\"M\",\"M\",\"M\",\"F\",\"M\",\"M\",\"M\",\"F\",\"F\",\"M\",\"F\",\"F\",\"M\",\"F\",\"F\",\"M\",\"F\",\"M\",\"M\",\"F\",\"F\",\"F\",\"M\",\"M\",\"M\",\"M\",\"M\",\"F\",\"M\",\"F\",\"M\",\"M\",\"M\",\"M\",\"M\",\"M\",\"M\",\"F\",\"M\",\"M\",\"F\",\"M\",\"M\",\"M\",\"M\",\"M\",\"M\",\"M\",\"M\",\"M\",\"M\",\"M\",\"M\",\"M\",\"M\",\"M\",\"M\",\"F\",\"M\",\"M\",\"M\",\"M\",\"M\",\"M\",\"M\",\"M\",\"M\",\"M\",\"M\",\"M\",\"M\",\"M\",\"F\",\"M\",\"M\",\"M\",\"M\",\"F\",\"M\",\"M\",\"M\",\"F\",\"M\",\"M\",\"M\",\"M\",\"M\",\"F\",\"F\",\"M\",\"M\",\"M\",\"F\",\"M\",\"M\",\"M\",\"F\",\"M\",\"M\",\"M\",\"M\",\"M\",\"M\",\"M\",\"F\",\"M\",\"F\",\"M\",\"F\",\"M\",\"M\",\"M\",\"M\",\"M\",\"F\",\"F\",\"M\",\"M\",\"M\",\"M\",\"M\",\"M\",\"F\",\"M\",\"M\",\"F\",\"M\",\"F\",\"M\",\"M\",\"M\",\"M\",\"M\",\"M\",\"M\",\"M\",\"F\",\"M\",\"M\",\"M\",\"M\",\"M\",\"M\",\"M\",\"M\",\"M\",\"M\",\"M\",\"F\",\"F\",\"M\",\"F\",\"F\",\"M\",\"F\",\"M\",\"M\",\"M\",\"M\",\"M\",\"M\",\"M\",\"F\",\"M\",\"F\",\"M\",\"M\",\"F\",\"M\",\"M\",\"M\",\"F\",\"F\",\"M\",\"M\",\"F\",\"F\",\"M\",\"F\",\"M\",\"M\",\"F\",\"M\",\"M\",\"F\",\"M\",\"M\",\"M\",\"M\",\"M\",\"M\",\"M\",\"M\",\"M\",\"M\",\"M\",\"F\",\"M\",\"F\",\"M\",\"M\",\"M\",\"M\",\"M\",\"M\",\"M\",\"M\",\"M\",\"M\",\"M\",\"M\",\"M\",\"M\",\"M\",\"M\",\"F\",\"M\",\"M\",\"M\",\"M\",\"M\",\"M\",\"M\",\"M\",\"M\",\"M\",\"M\",\"M\",\"M\",\"M\",\"M\",\"M\",\"F\",\"M\",\"M\",\"M\",\"M\",\"M\",\"M\",\"M\",\"M\",\"M\",\"M\",\"M\",\"M\",\"M\",\"M\",\"M\",\"M\",\"M\",\"M\",\"M\",\"M\",\"M\",\"M\",\"M\",\"M\",\"M\",\"F\",\"M\",\"M\",\"M\",\"M\",\"M\",\"M\",\"M\",\"M\",\"M\",\"F\",\"M\",\"M\",\"M\",\"M\",\"M\",\"M\",\"M\",\"F\",\"M\",\"M\",\"M\",\"M\",\"M\",\"M\",\"M\",\"M\",\"M\",\"M\",\"M\",\"M\",\"F\",\"M\",\"M\",\"M\",\"F\",\"M\",\"M\",\"M\",\"M\",\"M\",\"M\",\"M\",\"M\",\"M\",\"M\",\"M\",\"M\",\"M\",\"M\",\"F\",\"M\",\"M\",\"M\",\"M\",\"M\",\"M\",\"M\",\"M\",\"M\",\"M\",\"M\",\"M\",\"M\",\"M\",\"M\",\"M\",\"M\",\"M\",\"M\",\"M\",\"M\",\"M\",\"M\",\"M\",\"M\",\"M\",\"M\",\"M\",\"M\",\"M\",\"M\",\"M\",\"M\",\"M\",\"M\",\"M\",\"M\",\"M\",\"M\",\"M\",\"M\",\"M\",\"M\",\"M\",\"M\",\"M\",\"M\",\"M\",\"M\",\"M\",\"M\",\"F\",\"M\",\"M\",\"M\",\"M\",\"M\",\"M\",\"M\",\"M\",\"M\",\"M\",\"M\",\"M\",\"M\",\"M\",\"M\",\"M\",\"M\",\"M\",\"M\",\"M\",\"M\",\"M\",\"M\",\"M\",\"M\",\"M\",\"M\",\"F\",\"M\",\"M\",\"M\",\"M\",\"M\",\"M\",\"M\",\"M\",\"M\",\"M\",\"M\",\"M\",\"M\",\"M\",\"M\",\"M\",\"M\",\"M\",\"M\",\"M\",\"M\",\"M\",\"M\",\"M\",\"M\",\"M\",\"M\",\"M\",\"M\",\"M\",\"M\",\"M\",\"M\",\"M\",\"M\",\"M\",\"M\",\"M\",\"M\",\"M\",\"M\",\"M\",\"M\",\"M\",\"M\",\"M\",\"F\",\"M\",\"F\",\"M\",\"M\",\"M\",\"M\",\"M\",\"M\",\"M\",\"M\",\"M\",\"M\",\"M\",\"M\",\"M\",\"M\",\"M\",\"M\",\"M\",\"M\",\"M\",\"M\",\"M\",\"M\",\"M\",\"M\",\"M\",\"M\",\"M\",\"M\",\"M\",\"M\",\"M\",\"M\",\"M\",\"M\",\"M\",\"M\",\"M\",\"M\",\"M\",\"M\",\"M\",\"M\",\"M\",\"M\",\"M\",\"M\",\"M\",\"M\",\"M\",\"M\",\"M\",\"M\",\"M\",\"M\",\"M\",\"M\",\"M\",\"M\",\"M\",\"M\",\"F\",\"M\",\"M\",\"M\",\"M\",\"F\",\"M\",\"M\",\"M\",\"M\",\"M\",\"F\",\"M\",\"M\",\"F\",\"M\",\"M\",\"M\",\"M\",\"F\",\"M\",\"M\",\"M\",\"M\",\"F\",\"F\",\"M\",\"M\",\"M\",\"M\",\"M\",\"M\",\"M\",\"M\",\"F\",\"F\",\"F\",\"F\",\"M\",\"F\",\"M\",\"M\",\"F\",\"M\",\"M\",\"M\",\"M\",\"M\",\"M\",\"M\",\"M\",\"F\",\"M\",\"M\",\"M\",\"M\",\"M\",\"M\",\"M\",\"F\",\"M\",\"M\",\"F\",\"F\",\"F\",\"F\",\"M\",\"F\",\"F\",\"M\",\"M\",\"F\",\"M\",\"F\",\"M\",\"M\",\"M\",\"F\",\"F\",\"M\",\"M\",\"F\",\"M\",\"F\",\"F\",\"M\",\"M\",\"F\",\"F\",\"M\",\"M\",\"M\",\"M\",\"M\",\"M\",\"M\",\"M\",\"M\",\"F\",\"M\",\"M\",\"F\",\"M\",\"M\",\"M\",\"M\",\"M\",\"M\",\"F\",\"F\",\"F\",\"M\",\"F\",\"M\",\"M\",\"M\",\"M\",\"F\",\"M\",\"F\",\"F\",\"M\",\"F\",\"F\",\"M\",\"F\",\"M\",\"F\",\"F\",\"M\",\"M\",\"M\",\"M\",\"F\",\"M\",\"F\",\"M\",\"F\",\"M\",\"M\",\"F\",\"M\",\"M\",\"M\",\"M\",\"F\",\"F\",\"M\",\"F\",\"M\",\"M\",\"M\",\"M\",\"M\",\"M\",\"M\",\"M\",\"M\",\"M\",\"F\",\"M\",\"F\",\"F\",\"F\",\"F\",\"F\",\"M\",\"M\",\"M\",\"F\",\"M\",\"F\",\"M\",\"M\",\"M\",\"F\",\"F\",\"M\",\"F\",\"M\",\"M\",\"M\",\"M\",\"F\",\"M\",\"F\",\"M\",\"M\",\"M\",\"M\",\"M\",\"F\",\"M\",\"F\",\"M\",\"M\",\"M\",\"M\",\"F\",\"M\",\"M\",\"M\",\"M\",\"M\",\"M\",\"F\",\"F\",\"F\",\"F\",\"M\",\"M\",\"M\",\"M\",\"M\",\"M\",\"M\",\"F\",\"M\",\"M\",\"M\",\"M\",\"M\",\"F\",\"M\",\"M\",\"F\",\"F\",\"M\",\"M\",\"M\",\"M\",\"M\",\"M\",\"M\",\"F\",\"M\",\"F\",\"F\",\"F\",\"M\",\"F\",\"M\",\"M\",\"M\",\"M\",\"F\",\"F\",\"M\",\"M\",\"M\",\"M\",\"M\",\"F\",\"F\",\"F\",\"M\",\"M\",\"F\",\"M\",\"M\",\"M\",\"M\",\"M\",\"M\",\"M\",\"F\",\"M\",\"M\",\"M\",\"M\",\"F\",\"M\",\"M\",\"M\",\"M\",\"M\",\"M\",\"F\",\"M\",\"M\",\"F\",\"M\",\"M\",\"M\",\"M\",\"M\",\"F\",\"F\",\"M\",\"F\",\"M\",\"M\",\"F\",\"M\",\"M\",\"M\",\"F\",\"M\",\"M\",\"M\",\"M\",\"F\",\"M\",\"M\",\"F\",\"M\",\"M\",\"F\",\"M\",\"M\",\"M\",\"F\",\"M\"],\"xaxis\":\"x\",\"yaxis\":\"y\",\"type\":\"histogram\"}],                        {\"template\":{\"data\":{\"bar\":[{\"error_x\":{\"color\":\"#2a3f5f\"},\"error_y\":{\"color\":\"#2a3f5f\"},\"marker\":{\"line\":{\"color\":\"#E5ECF6\",\"width\":0.5},\"pattern\":{\"fillmode\":\"overlay\",\"size\":10,\"solidity\":0.2}},\"type\":\"bar\"}],\"barpolar\":[{\"marker\":{\"line\":{\"color\":\"#E5ECF6\",\"width\":0.5},\"pattern\":{\"fillmode\":\"overlay\",\"size\":10,\"solidity\":0.2}},\"type\":\"barpolar\"}],\"carpet\":[{\"aaxis\":{\"endlinecolor\":\"#2a3f5f\",\"gridcolor\":\"white\",\"linecolor\":\"white\",\"minorgridcolor\":\"white\",\"startlinecolor\":\"#2a3f5f\"},\"baxis\":{\"endlinecolor\":\"#2a3f5f\",\"gridcolor\":\"white\",\"linecolor\":\"white\",\"minorgridcolor\":\"white\",\"startlinecolor\":\"#2a3f5f\"},\"type\":\"carpet\"}],\"choropleth\":[{\"colorbar\":{\"outlinewidth\":0,\"ticks\":\"\"},\"type\":\"choropleth\"}],\"contour\":[{\"colorbar\":{\"outlinewidth\":0,\"ticks\":\"\"},\"colorscale\":[[0.0,\"#0d0887\"],[0.1111111111111111,\"#46039f\"],[0.2222222222222222,\"#7201a8\"],[0.3333333333333333,\"#9c179e\"],[0.4444444444444444,\"#bd3786\"],[0.5555555555555556,\"#d8576b\"],[0.6666666666666666,\"#ed7953\"],[0.7777777777777778,\"#fb9f3a\"],[0.8888888888888888,\"#fdca26\"],[1.0,\"#f0f921\"]],\"type\":\"contour\"}],\"contourcarpet\":[{\"colorbar\":{\"outlinewidth\":0,\"ticks\":\"\"},\"type\":\"contourcarpet\"}],\"heatmap\":[{\"colorbar\":{\"outlinewidth\":0,\"ticks\":\"\"},\"colorscale\":[[0.0,\"#0d0887\"],[0.1111111111111111,\"#46039f\"],[0.2222222222222222,\"#7201a8\"],[0.3333333333333333,\"#9c179e\"],[0.4444444444444444,\"#bd3786\"],[0.5555555555555556,\"#d8576b\"],[0.6666666666666666,\"#ed7953\"],[0.7777777777777778,\"#fb9f3a\"],[0.8888888888888888,\"#fdca26\"],[1.0,\"#f0f921\"]],\"type\":\"heatmap\"}],\"heatmapgl\":[{\"colorbar\":{\"outlinewidth\":0,\"ticks\":\"\"},\"colorscale\":[[0.0,\"#0d0887\"],[0.1111111111111111,\"#46039f\"],[0.2222222222222222,\"#7201a8\"],[0.3333333333333333,\"#9c179e\"],[0.4444444444444444,\"#bd3786\"],[0.5555555555555556,\"#d8576b\"],[0.6666666666666666,\"#ed7953\"],[0.7777777777777778,\"#fb9f3a\"],[0.8888888888888888,\"#fdca26\"],[1.0,\"#f0f921\"]],\"type\":\"heatmapgl\"}],\"histogram\":[{\"marker\":{\"pattern\":{\"fillmode\":\"overlay\",\"size\":10,\"solidity\":0.2}},\"type\":\"histogram\"}],\"histogram2d\":[{\"colorbar\":{\"outlinewidth\":0,\"ticks\":\"\"},\"colorscale\":[[0.0,\"#0d0887\"],[0.1111111111111111,\"#46039f\"],[0.2222222222222222,\"#7201a8\"],[0.3333333333333333,\"#9c179e\"],[0.4444444444444444,\"#bd3786\"],[0.5555555555555556,\"#d8576b\"],[0.6666666666666666,\"#ed7953\"],[0.7777777777777778,\"#fb9f3a\"],[0.8888888888888888,\"#fdca26\"],[1.0,\"#f0f921\"]],\"type\":\"histogram2d\"}],\"histogram2dcontour\":[{\"colorbar\":{\"outlinewidth\":0,\"ticks\":\"\"},\"colorscale\":[[0.0,\"#0d0887\"],[0.1111111111111111,\"#46039f\"],[0.2222222222222222,\"#7201a8\"],[0.3333333333333333,\"#9c179e\"],[0.4444444444444444,\"#bd3786\"],[0.5555555555555556,\"#d8576b\"],[0.6666666666666666,\"#ed7953\"],[0.7777777777777778,\"#fb9f3a\"],[0.8888888888888888,\"#fdca26\"],[1.0,\"#f0f921\"]],\"type\":\"histogram2dcontour\"}],\"mesh3d\":[{\"colorbar\":{\"outlinewidth\":0,\"ticks\":\"\"},\"type\":\"mesh3d\"}],\"parcoords\":[{\"line\":{\"colorbar\":{\"outlinewidth\":0,\"ticks\":\"\"}},\"type\":\"parcoords\"}],\"pie\":[{\"automargin\":true,\"type\":\"pie\"}],\"scatter\":[{\"marker\":{\"colorbar\":{\"outlinewidth\":0,\"ticks\":\"\"}},\"type\":\"scatter\"}],\"scatter3d\":[{\"line\":{\"colorbar\":{\"outlinewidth\":0,\"ticks\":\"\"}},\"marker\":{\"colorbar\":{\"outlinewidth\":0,\"ticks\":\"\"}},\"type\":\"scatter3d\"}],\"scattercarpet\":[{\"marker\":{\"colorbar\":{\"outlinewidth\":0,\"ticks\":\"\"}},\"type\":\"scattercarpet\"}],\"scattergeo\":[{\"marker\":{\"colorbar\":{\"outlinewidth\":0,\"ticks\":\"\"}},\"type\":\"scattergeo\"}],\"scattergl\":[{\"marker\":{\"colorbar\":{\"outlinewidth\":0,\"ticks\":\"\"}},\"type\":\"scattergl\"}],\"scattermapbox\":[{\"marker\":{\"colorbar\":{\"outlinewidth\":0,\"ticks\":\"\"}},\"type\":\"scattermapbox\"}],\"scatterpolar\":[{\"marker\":{\"colorbar\":{\"outlinewidth\":0,\"ticks\":\"\"}},\"type\":\"scatterpolar\"}],\"scatterpolargl\":[{\"marker\":{\"colorbar\":{\"outlinewidth\":0,\"ticks\":\"\"}},\"type\":\"scatterpolargl\"}],\"scatterternary\":[{\"marker\":{\"colorbar\":{\"outlinewidth\":0,\"ticks\":\"\"}},\"type\":\"scatterternary\"}],\"surface\":[{\"colorbar\":{\"outlinewidth\":0,\"ticks\":\"\"},\"colorscale\":[[0.0,\"#0d0887\"],[0.1111111111111111,\"#46039f\"],[0.2222222222222222,\"#7201a8\"],[0.3333333333333333,\"#9c179e\"],[0.4444444444444444,\"#bd3786\"],[0.5555555555555556,\"#d8576b\"],[0.6666666666666666,\"#ed7953\"],[0.7777777777777778,\"#fb9f3a\"],[0.8888888888888888,\"#fdca26\"],[1.0,\"#f0f921\"]],\"type\":\"surface\"}],\"table\":[{\"cells\":{\"fill\":{\"color\":\"#EBF0F8\"},\"line\":{\"color\":\"white\"}},\"header\":{\"fill\":{\"color\":\"#C8D4E3\"},\"line\":{\"color\":\"white\"}},\"type\":\"table\"}]},\"layout\":{\"annotationdefaults\":{\"arrowcolor\":\"#2a3f5f\",\"arrowhead\":0,\"arrowwidth\":1},\"autotypenumbers\":\"strict\",\"coloraxis\":{\"colorbar\":{\"outlinewidth\":0,\"ticks\":\"\"}},\"colorscale\":{\"diverging\":[[0,\"#8e0152\"],[0.1,\"#c51b7d\"],[0.2,\"#de77ae\"],[0.3,\"#f1b6da\"],[0.4,\"#fde0ef\"],[0.5,\"#f7f7f7\"],[0.6,\"#e6f5d0\"],[0.7,\"#b8e186\"],[0.8,\"#7fbc41\"],[0.9,\"#4d9221\"],[1,\"#276419\"]],\"sequential\":[[0.0,\"#0d0887\"],[0.1111111111111111,\"#46039f\"],[0.2222222222222222,\"#7201a8\"],[0.3333333333333333,\"#9c179e\"],[0.4444444444444444,\"#bd3786\"],[0.5555555555555556,\"#d8576b\"],[0.6666666666666666,\"#ed7953\"],[0.7777777777777778,\"#fb9f3a\"],[0.8888888888888888,\"#fdca26\"],[1.0,\"#f0f921\"]],\"sequentialminus\":[[0.0,\"#0d0887\"],[0.1111111111111111,\"#46039f\"],[0.2222222222222222,\"#7201a8\"],[0.3333333333333333,\"#9c179e\"],[0.4444444444444444,\"#bd3786\"],[0.5555555555555556,\"#d8576b\"],[0.6666666666666666,\"#ed7953\"],[0.7777777777777778,\"#fb9f3a\"],[0.8888888888888888,\"#fdca26\"],[1.0,\"#f0f921\"]]},\"colorway\":[\"#636efa\",\"#EF553B\",\"#00cc96\",\"#ab63fa\",\"#FFA15A\",\"#19d3f3\",\"#FF6692\",\"#B6E880\",\"#FF97FF\",\"#FECB52\"],\"font\":{\"color\":\"#2a3f5f\"},\"geo\":{\"bgcolor\":\"white\",\"lakecolor\":\"white\",\"landcolor\":\"#E5ECF6\",\"showlakes\":true,\"showland\":true,\"subunitcolor\":\"white\"},\"hoverlabel\":{\"align\":\"left\"},\"hovermode\":\"closest\",\"mapbox\":{\"style\":\"light\"},\"paper_bgcolor\":\"white\",\"plot_bgcolor\":\"#E5ECF6\",\"polar\":{\"angularaxis\":{\"gridcolor\":\"white\",\"linecolor\":\"white\",\"ticks\":\"\"},\"bgcolor\":\"#E5ECF6\",\"radialaxis\":{\"gridcolor\":\"white\",\"linecolor\":\"white\",\"ticks\":\"\"}},\"scene\":{\"xaxis\":{\"backgroundcolor\":\"#E5ECF6\",\"gridcolor\":\"white\",\"gridwidth\":2,\"linecolor\":\"white\",\"showbackground\":true,\"ticks\":\"\",\"zerolinecolor\":\"white\"},\"yaxis\":{\"backgroundcolor\":\"#E5ECF6\",\"gridcolor\":\"white\",\"gridwidth\":2,\"linecolor\":\"white\",\"showbackground\":true,\"ticks\":\"\",\"zerolinecolor\":\"white\"},\"zaxis\":{\"backgroundcolor\":\"#E5ECF6\",\"gridcolor\":\"white\",\"gridwidth\":2,\"linecolor\":\"white\",\"showbackground\":true,\"ticks\":\"\",\"zerolinecolor\":\"white\"}},\"shapedefaults\":{\"line\":{\"color\":\"#2a3f5f\"}},\"ternary\":{\"aaxis\":{\"gridcolor\":\"white\",\"linecolor\":\"white\",\"ticks\":\"\"},\"baxis\":{\"gridcolor\":\"white\",\"linecolor\":\"white\",\"ticks\":\"\"},\"bgcolor\":\"#E5ECF6\",\"caxis\":{\"gridcolor\":\"white\",\"linecolor\":\"white\",\"ticks\":\"\"}},\"title\":{\"x\":0.05},\"xaxis\":{\"automargin\":true,\"gridcolor\":\"white\",\"linecolor\":\"white\",\"ticks\":\"\",\"title\":{\"standoff\":15},\"zerolinecolor\":\"white\",\"zerolinewidth\":2},\"yaxis\":{\"automargin\":true,\"gridcolor\":\"white\",\"linecolor\":\"white\",\"ticks\":\"\",\"title\":{\"standoff\":15},\"zerolinecolor\":\"white\",\"zerolinewidth\":2}}},\"xaxis\":{\"anchor\":\"y\",\"domain\":[0.0,1.0],\"title\":{\"text\":\"Sex\"}},\"yaxis\":{\"anchor\":\"x\",\"domain\":[0.0,1.0],\"title\":{\"text\":\"count\"}},\"legend\":{\"tracegroupgap\":0},\"margin\":{\"t\":60},\"barmode\":\"relative\",\"title\":{\"text\":\"Gender Distribution\"}},                        {\"responsive\": true}                    ).then(function(){\n",
              "                            \n",
              "var gd = document.getElementById('65937924-3f8f-4bbc-90da-b55222976f2a');\n",
              "var x = new MutationObserver(function (mutations, observer) {{\n",
              "        var display = window.getComputedStyle(gd).display;\n",
              "        if (!display || display === 'none') {{\n",
              "            console.log([gd, 'removed!']);\n",
              "            Plotly.purge(gd);\n",
              "            observer.disconnect();\n",
              "        }}\n",
              "}});\n",
              "\n",
              "// Listen for the removal of the full notebook cells\n",
              "var notebookContainer = gd.closest('#notebook-container');\n",
              "if (notebookContainer) {{\n",
              "    x.observe(notebookContainer, {childList: true});\n",
              "}}\n",
              "\n",
              "// Listen for the clearing of the current output cell\n",
              "var outputEl = gd.closest('.output');\n",
              "if (outputEl) {{\n",
              "    x.observe(outputEl, {childList: true});\n",
              "}}\n",
              "\n",
              "                        })                };                            </script>        </div>\n",
              "</body>\n",
              "</html>"
            ]
          },
          "metadata": {}
        }
      ]
    },
    {
      "cell_type": "code",
      "source": [
        "fig = px.histogram(data, x=\"Sex\",color='HeartDisease', barmode='group')\n",
        "#fig.update_layout(title='Gender Distribution')\n",
        "fig.show()"
      ],
      "metadata": {
        "colab": {
          "base_uri": "https://localhost:8080/",
          "height": 542
        },
        "id": "YUBbSR5BJCzq",
        "outputId": "dc9e93a5-3e2c-47d2-8e5f-fa973a60de32"
      },
      "execution_count": 11,
      "outputs": [
        {
          "output_type": "display_data",
          "data": {
            "text/html": [
              "<html>\n",
              "<head><meta charset=\"utf-8\" /></head>\n",
              "<body>\n",
              "    <div>            <script src=\"https://cdnjs.cloudflare.com/ajax/libs/mathjax/2.7.5/MathJax.js?config=TeX-AMS-MML_SVG\"></script><script type=\"text/javascript\">if (window.MathJax) {MathJax.Hub.Config({SVG: {font: \"STIX-Web\"}});}</script>                <script type=\"text/javascript\">window.PlotlyConfig = {MathJaxConfig: 'local'};</script>\n",
              "        <script src=\"https://cdn.plot.ly/plotly-2.8.3.min.js\"></script>                <div id=\"866eb453-be3c-4a46-b46a-c89f09a498a3\" class=\"plotly-graph-div\" style=\"height:525px; width:100%;\"></div>            <script type=\"text/javascript\">                                    window.PLOTLYENV=window.PLOTLYENV || {};                                    if (document.getElementById(\"866eb453-be3c-4a46-b46a-c89f09a498a3\")) {                    Plotly.newPlot(                        \"866eb453-be3c-4a46-b46a-c89f09a498a3\",                        [{\"alignmentgroup\":\"True\",\"bingroup\":\"x\",\"hovertemplate\":\"HeartDisease=0<br>Sex=%{x}<br>count=%{y}<extra></extra>\",\"legendgroup\":\"0\",\"marker\":{\"color\":\"#636efa\",\"pattern\":{\"shape\":\"\"}},\"name\":\"0\",\"offsetgroup\":\"0\",\"orientation\":\"v\",\"showlegend\":true,\"x\":[\"M\",\"M\",\"M\",\"M\",\"F\",\"M\",\"F\",\"F\",\"M\",\"F\",\"F\",\"F\",\"F\",\"M\",\"F\",\"M\",\"M\",\"M\",\"M\",\"F\",\"M\",\"M\",\"F\",\"M\",\"F\",\"F\",\"F\",\"F\",\"M\",\"M\",\"M\",\"M\",\"M\",\"M\",\"M\",\"F\",\"F\",\"F\",\"M\",\"M\",\"F\",\"M\",\"F\",\"F\",\"F\",\"M\",\"M\",\"M\",\"F\",\"M\",\"F\",\"M\",\"M\",\"M\",\"M\",\"F\",\"M\",\"F\",\"M\",\"F\",\"F\",\"M\",\"M\",\"M\",\"M\",\"M\",\"M\",\"F\",\"M\",\"M\",\"M\",\"F\",\"M\",\"M\",\"F\",\"F\",\"F\",\"M\",\"M\",\"M\",\"F\",\"F\",\"F\",\"M\",\"M\",\"F\",\"F\",\"M\",\"M\",\"M\",\"M\",\"F\",\"M\",\"M\",\"M\",\"M\",\"M\",\"M\",\"M\",\"M\",\"M\",\"M\",\"F\",\"M\",\"M\",\"M\",\"M\",\"M\",\"M\",\"M\",\"M\",\"M\",\"F\",\"M\",\"M\",\"F\",\"M\",\"F\",\"M\",\"M\",\"M\",\"M\",\"F\",\"F\",\"M\",\"M\",\"F\",\"M\",\"M\",\"M\",\"F\",\"M\",\"M\",\"M\",\"M\",\"M\",\"F\",\"F\",\"M\",\"M\",\"M\",\"F\",\"M\",\"M\",\"M\",\"M\",\"F\",\"M\",\"M\",\"F\",\"M\",\"F\",\"M\",\"M\",\"F\",\"M\",\"M\",\"M\",\"F\",\"F\",\"M\",\"F\",\"F\",\"M\",\"F\",\"M\",\"M\",\"F\",\"M\",\"F\",\"M\",\"F\",\"M\",\"F\",\"F\",\"M\",\"F\",\"F\",\"M\",\"F\",\"M\",\"M\",\"F\",\"M\",\"M\",\"F\",\"M\",\"M\",\"M\",\"M\",\"M\",\"M\",\"M\",\"M\",\"M\",\"M\",\"M\",\"M\",\"M\",\"M\",\"M\",\"M\",\"M\",\"M\",\"M\",\"M\",\"M\",\"M\",\"M\",\"F\",\"M\",\"M\",\"M\",\"M\",\"M\",\"M\",\"M\",\"M\",\"M\",\"M\",\"M\",\"M\",\"M\",\"M\",\"M\",\"M\",\"F\",\"M\",\"M\",\"M\",\"M\",\"M\",\"M\",\"M\",\"M\",\"M\",\"M\",\"M\",\"M\",\"M\",\"M\",\"M\",\"M\",\"F\",\"M\",\"M\",\"F\",\"M\",\"F\",\"M\",\"M\",\"M\",\"M\",\"F\",\"F\",\"M\",\"M\",\"M\",\"M\",\"M\",\"F\",\"F\",\"F\",\"F\",\"F\",\"M\",\"F\",\"M\",\"M\",\"F\",\"M\",\"M\",\"M\",\"M\",\"F\",\"F\",\"F\",\"F\",\"F\",\"M\",\"M\",\"F\",\"M\",\"M\",\"F\",\"F\",\"M\",\"F\",\"F\",\"M\",\"F\",\"F\",\"M\",\"M\",\"M\",\"M\",\"M\",\"M\",\"F\",\"M\",\"M\",\"F\",\"F\",\"F\",\"F\",\"M\",\"F\",\"M\",\"F\",\"M\",\"F\",\"F\",\"F\",\"M\",\"F\",\"F\",\"M\",\"M\",\"M\",\"F\",\"F\",\"F\",\"M\",\"M\",\"M\",\"F\",\"M\",\"F\",\"F\",\"F\",\"F\",\"F\",\"M\",\"M\",\"M\",\"M\",\"F\",\"F\",\"M\",\"F\",\"M\",\"F\",\"M\",\"M\",\"M\",\"F\",\"M\",\"M\",\"M\",\"F\",\"M\",\"M\",\"M\",\"F\",\"F\",\"F\",\"F\",\"M\",\"M\",\"F\",\"M\",\"M\",\"M\",\"F\",\"M\",\"F\",\"F\",\"M\",\"M\",\"M\",\"M\",\"F\",\"M\",\"F\",\"M\",\"M\",\"M\",\"F\",\"M\",\"M\",\"M\",\"F\",\"F\",\"F\",\"M\",\"M\",\"M\",\"F\",\"M\",\"M\",\"F\",\"M\",\"M\",\"M\",\"F\",\"M\",\"F\",\"M\",\"M\",\"F\",\"F\",\"F\",\"M\",\"M\",\"M\",\"M\",\"M\",\"F\",\"M\",\"M\"],\"xaxis\":\"x\",\"yaxis\":\"y\",\"type\":\"histogram\"},{\"alignmentgroup\":\"True\",\"bingroup\":\"x\",\"hovertemplate\":\"HeartDisease=1<br>Sex=%{x}<br>count=%{y}<extra></extra>\",\"legendgroup\":\"1\",\"marker\":{\"color\":\"#EF553B\",\"pattern\":{\"shape\":\"\"}},\"name\":\"1\",\"offsetgroup\":\"1\",\"orientation\":\"v\",\"showlegend\":true,\"x\":[\"F\",\"F\",\"M\",\"M\",\"M\",\"M\",\"M\",\"M\",\"M\",\"M\",\"M\",\"M\",\"M\",\"F\",\"M\",\"M\",\"M\",\"F\",\"M\",\"M\",\"M\",\"M\",\"M\",\"M\",\"M\",\"M\",\"M\",\"M\",\"M\",\"M\",\"M\",\"M\",\"M\",\"M\",\"M\",\"M\",\"F\",\"M\",\"M\",\"M\",\"F\",\"M\",\"F\",\"M\",\"F\",\"F\",\"M\",\"M\",\"M\",\"M\",\"M\",\"M\",\"M\",\"M\",\"M\",\"F\",\"M\",\"M\",\"M\",\"M\",\"M\",\"M\",\"M\",\"M\",\"M\",\"M\",\"M\",\"M\",\"M\",\"M\",\"M\",\"M\",\"M\",\"M\",\"M\",\"M\",\"F\",\"M\",\"M\",\"M\",\"F\",\"M\",\"M\",\"M\",\"M\",\"M\",\"M\",\"M\",\"M\",\"M\",\"M\",\"M\",\"M\",\"M\",\"M\",\"M\",\"M\",\"M\",\"M\",\"M\",\"M\",\"M\",\"M\",\"M\",\"M\",\"M\",\"M\",\"M\",\"M\",\"M\",\"M\",\"M\",\"M\",\"M\",\"M\",\"F\",\"M\",\"F\",\"M\",\"M\",\"M\",\"M\",\"M\",\"M\",\"M\",\"M\",\"M\",\"M\",\"M\",\"M\",\"M\",\"F\",\"M\",\"M\",\"M\",\"M\",\"M\",\"M\",\"M\",\"M\",\"M\",\"M\",\"M\",\"M\",\"M\",\"F\",\"M\",\"M\",\"M\",\"M\",\"M\",\"M\",\"M\",\"M\",\"M\",\"M\",\"M\",\"M\",\"M\",\"M\",\"M\",\"M\",\"M\",\"M\",\"M\",\"M\",\"M\",\"M\",\"M\",\"M\",\"F\",\"M\",\"M\",\"M\",\"M\",\"M\",\"M\",\"M\",\"M\",\"M\",\"F\",\"M\",\"M\",\"M\",\"M\",\"M\",\"M\",\"M\",\"F\",\"M\",\"M\",\"M\",\"M\",\"M\",\"M\",\"M\",\"M\",\"M\",\"M\",\"M\",\"M\",\"F\",\"M\",\"M\",\"M\",\"F\",\"M\",\"M\",\"M\",\"M\",\"M\",\"M\",\"M\",\"M\",\"M\",\"M\",\"M\",\"M\",\"M\",\"M\",\"F\",\"M\",\"M\",\"M\",\"M\",\"M\",\"M\",\"M\",\"M\",\"M\",\"M\",\"M\",\"M\",\"M\",\"M\",\"M\",\"M\",\"M\",\"M\",\"M\",\"M\",\"M\",\"M\",\"M\",\"M\",\"M\",\"M\",\"M\",\"M\",\"M\",\"M\",\"M\",\"M\",\"M\",\"M\",\"M\",\"M\",\"M\",\"M\",\"M\",\"M\",\"M\",\"M\",\"M\",\"M\",\"M\",\"M\",\"M\",\"M\",\"M\",\"M\",\"M\",\"M\",\"M\",\"M\",\"M\",\"M\",\"M\",\"M\",\"M\",\"F\",\"M\",\"M\",\"M\",\"M\",\"M\",\"M\",\"M\",\"M\",\"M\",\"M\",\"M\",\"M\",\"M\",\"M\",\"M\",\"M\",\"M\",\"M\",\"M\",\"M\",\"M\",\"M\",\"M\",\"M\",\"M\",\"M\",\"M\",\"M\",\"M\",\"M\",\"M\",\"M\",\"M\",\"M\",\"M\",\"F\",\"M\",\"M\",\"M\",\"M\",\"M\",\"M\",\"M\",\"M\",\"M\",\"M\",\"M\",\"M\",\"M\",\"M\",\"M\",\"M\",\"M\",\"M\",\"M\",\"M\",\"M\",\"M\",\"M\",\"M\",\"M\",\"M\",\"M\",\"M\",\"M\",\"M\",\"M\",\"M\",\"M\",\"M\",\"M\",\"M\",\"M\",\"M\",\"M\",\"M\",\"M\",\"M\",\"M\",\"M\",\"M\",\"M\",\"M\",\"M\",\"M\",\"F\",\"M\",\"M\",\"M\",\"M\",\"M\",\"M\",\"M\",\"F\",\"M\",\"M\",\"M\",\"M\",\"M\",\"M\",\"M\",\"M\",\"M\",\"M\",\"M\",\"M\",\"M\",\"M\",\"M\",\"M\",\"F\",\"M\",\"M\",\"F\",\"M\",\"F\",\"M\",\"F\",\"M\",\"M\",\"M\",\"M\",\"M\",\"M\",\"M\",\"F\",\"M\",\"M\",\"M\",\"M\",\"M\",\"M\",\"M\",\"M\",\"M\",\"F\",\"M\",\"F\",\"F\",\"M\",\"F\",\"M\",\"M\",\"M\",\"M\",\"M\",\"M\",\"F\",\"M\",\"M\",\"M\",\"M\",\"M\",\"M\",\"M\",\"M\",\"M\",\"M\",\"M\",\"F\",\"M\",\"F\",\"M\",\"M\",\"M\",\"M\",\"F\",\"M\",\"M\",\"M\",\"F\",\"M\",\"M\",\"M\",\"M\",\"M\",\"M\",\"M\",\"M\",\"M\",\"M\",\"M\",\"M\",\"M\",\"M\",\"M\",\"M\",\"F\",\"F\",\"F\",\"M\",\"M\",\"F\",\"M\",\"M\",\"F\",\"M\",\"M\",\"M\",\"M\",\"M\",\"M\",\"M\",\"M\",\"M\",\"M\",\"M\",\"M\",\"M\",\"M\",\"M\",\"M\",\"M\",\"F\",\"M\",\"M\",\"F\",\"M\",\"M\",\"M\",\"F\",\"M\",\"F\",\"M\",\"M\",\"M\",\"F\"],\"xaxis\":\"x\",\"yaxis\":\"y\",\"type\":\"histogram\"}],                        {\"template\":{\"data\":{\"bar\":[{\"error_x\":{\"color\":\"#2a3f5f\"},\"error_y\":{\"color\":\"#2a3f5f\"},\"marker\":{\"line\":{\"color\":\"#E5ECF6\",\"width\":0.5},\"pattern\":{\"fillmode\":\"overlay\",\"size\":10,\"solidity\":0.2}},\"type\":\"bar\"}],\"barpolar\":[{\"marker\":{\"line\":{\"color\":\"#E5ECF6\",\"width\":0.5},\"pattern\":{\"fillmode\":\"overlay\",\"size\":10,\"solidity\":0.2}},\"type\":\"barpolar\"}],\"carpet\":[{\"aaxis\":{\"endlinecolor\":\"#2a3f5f\",\"gridcolor\":\"white\",\"linecolor\":\"white\",\"minorgridcolor\":\"white\",\"startlinecolor\":\"#2a3f5f\"},\"baxis\":{\"endlinecolor\":\"#2a3f5f\",\"gridcolor\":\"white\",\"linecolor\":\"white\",\"minorgridcolor\":\"white\",\"startlinecolor\":\"#2a3f5f\"},\"type\":\"carpet\"}],\"choropleth\":[{\"colorbar\":{\"outlinewidth\":0,\"ticks\":\"\"},\"type\":\"choropleth\"}],\"contour\":[{\"colorbar\":{\"outlinewidth\":0,\"ticks\":\"\"},\"colorscale\":[[0.0,\"#0d0887\"],[0.1111111111111111,\"#46039f\"],[0.2222222222222222,\"#7201a8\"],[0.3333333333333333,\"#9c179e\"],[0.4444444444444444,\"#bd3786\"],[0.5555555555555556,\"#d8576b\"],[0.6666666666666666,\"#ed7953\"],[0.7777777777777778,\"#fb9f3a\"],[0.8888888888888888,\"#fdca26\"],[1.0,\"#f0f921\"]],\"type\":\"contour\"}],\"contourcarpet\":[{\"colorbar\":{\"outlinewidth\":0,\"ticks\":\"\"},\"type\":\"contourcarpet\"}],\"heatmap\":[{\"colorbar\":{\"outlinewidth\":0,\"ticks\":\"\"},\"colorscale\":[[0.0,\"#0d0887\"],[0.1111111111111111,\"#46039f\"],[0.2222222222222222,\"#7201a8\"],[0.3333333333333333,\"#9c179e\"],[0.4444444444444444,\"#bd3786\"],[0.5555555555555556,\"#d8576b\"],[0.6666666666666666,\"#ed7953\"],[0.7777777777777778,\"#fb9f3a\"],[0.8888888888888888,\"#fdca26\"],[1.0,\"#f0f921\"]],\"type\":\"heatmap\"}],\"heatmapgl\":[{\"colorbar\":{\"outlinewidth\":0,\"ticks\":\"\"},\"colorscale\":[[0.0,\"#0d0887\"],[0.1111111111111111,\"#46039f\"],[0.2222222222222222,\"#7201a8\"],[0.3333333333333333,\"#9c179e\"],[0.4444444444444444,\"#bd3786\"],[0.5555555555555556,\"#d8576b\"],[0.6666666666666666,\"#ed7953\"],[0.7777777777777778,\"#fb9f3a\"],[0.8888888888888888,\"#fdca26\"],[1.0,\"#f0f921\"]],\"type\":\"heatmapgl\"}],\"histogram\":[{\"marker\":{\"pattern\":{\"fillmode\":\"overlay\",\"size\":10,\"solidity\":0.2}},\"type\":\"histogram\"}],\"histogram2d\":[{\"colorbar\":{\"outlinewidth\":0,\"ticks\":\"\"},\"colorscale\":[[0.0,\"#0d0887\"],[0.1111111111111111,\"#46039f\"],[0.2222222222222222,\"#7201a8\"],[0.3333333333333333,\"#9c179e\"],[0.4444444444444444,\"#bd3786\"],[0.5555555555555556,\"#d8576b\"],[0.6666666666666666,\"#ed7953\"],[0.7777777777777778,\"#fb9f3a\"],[0.8888888888888888,\"#fdca26\"],[1.0,\"#f0f921\"]],\"type\":\"histogram2d\"}],\"histogram2dcontour\":[{\"colorbar\":{\"outlinewidth\":0,\"ticks\":\"\"},\"colorscale\":[[0.0,\"#0d0887\"],[0.1111111111111111,\"#46039f\"],[0.2222222222222222,\"#7201a8\"],[0.3333333333333333,\"#9c179e\"],[0.4444444444444444,\"#bd3786\"],[0.5555555555555556,\"#d8576b\"],[0.6666666666666666,\"#ed7953\"],[0.7777777777777778,\"#fb9f3a\"],[0.8888888888888888,\"#fdca26\"],[1.0,\"#f0f921\"]],\"type\":\"histogram2dcontour\"}],\"mesh3d\":[{\"colorbar\":{\"outlinewidth\":0,\"ticks\":\"\"},\"type\":\"mesh3d\"}],\"parcoords\":[{\"line\":{\"colorbar\":{\"outlinewidth\":0,\"ticks\":\"\"}},\"type\":\"parcoords\"}],\"pie\":[{\"automargin\":true,\"type\":\"pie\"}],\"scatter\":[{\"marker\":{\"colorbar\":{\"outlinewidth\":0,\"ticks\":\"\"}},\"type\":\"scatter\"}],\"scatter3d\":[{\"line\":{\"colorbar\":{\"outlinewidth\":0,\"ticks\":\"\"}},\"marker\":{\"colorbar\":{\"outlinewidth\":0,\"ticks\":\"\"}},\"type\":\"scatter3d\"}],\"scattercarpet\":[{\"marker\":{\"colorbar\":{\"outlinewidth\":0,\"ticks\":\"\"}},\"type\":\"scattercarpet\"}],\"scattergeo\":[{\"marker\":{\"colorbar\":{\"outlinewidth\":0,\"ticks\":\"\"}},\"type\":\"scattergeo\"}],\"scattergl\":[{\"marker\":{\"colorbar\":{\"outlinewidth\":0,\"ticks\":\"\"}},\"type\":\"scattergl\"}],\"scattermapbox\":[{\"marker\":{\"colorbar\":{\"outlinewidth\":0,\"ticks\":\"\"}},\"type\":\"scattermapbox\"}],\"scatterpolar\":[{\"marker\":{\"colorbar\":{\"outlinewidth\":0,\"ticks\":\"\"}},\"type\":\"scatterpolar\"}],\"scatterpolargl\":[{\"marker\":{\"colorbar\":{\"outlinewidth\":0,\"ticks\":\"\"}},\"type\":\"scatterpolargl\"}],\"scatterternary\":[{\"marker\":{\"colorbar\":{\"outlinewidth\":0,\"ticks\":\"\"}},\"type\":\"scatterternary\"}],\"surface\":[{\"colorbar\":{\"outlinewidth\":0,\"ticks\":\"\"},\"colorscale\":[[0.0,\"#0d0887\"],[0.1111111111111111,\"#46039f\"],[0.2222222222222222,\"#7201a8\"],[0.3333333333333333,\"#9c179e\"],[0.4444444444444444,\"#bd3786\"],[0.5555555555555556,\"#d8576b\"],[0.6666666666666666,\"#ed7953\"],[0.7777777777777778,\"#fb9f3a\"],[0.8888888888888888,\"#fdca26\"],[1.0,\"#f0f921\"]],\"type\":\"surface\"}],\"table\":[{\"cells\":{\"fill\":{\"color\":\"#EBF0F8\"},\"line\":{\"color\":\"white\"}},\"header\":{\"fill\":{\"color\":\"#C8D4E3\"},\"line\":{\"color\":\"white\"}},\"type\":\"table\"}]},\"layout\":{\"annotationdefaults\":{\"arrowcolor\":\"#2a3f5f\",\"arrowhead\":0,\"arrowwidth\":1},\"autotypenumbers\":\"strict\",\"coloraxis\":{\"colorbar\":{\"outlinewidth\":0,\"ticks\":\"\"}},\"colorscale\":{\"diverging\":[[0,\"#8e0152\"],[0.1,\"#c51b7d\"],[0.2,\"#de77ae\"],[0.3,\"#f1b6da\"],[0.4,\"#fde0ef\"],[0.5,\"#f7f7f7\"],[0.6,\"#e6f5d0\"],[0.7,\"#b8e186\"],[0.8,\"#7fbc41\"],[0.9,\"#4d9221\"],[1,\"#276419\"]],\"sequential\":[[0.0,\"#0d0887\"],[0.1111111111111111,\"#46039f\"],[0.2222222222222222,\"#7201a8\"],[0.3333333333333333,\"#9c179e\"],[0.4444444444444444,\"#bd3786\"],[0.5555555555555556,\"#d8576b\"],[0.6666666666666666,\"#ed7953\"],[0.7777777777777778,\"#fb9f3a\"],[0.8888888888888888,\"#fdca26\"],[1.0,\"#f0f921\"]],\"sequentialminus\":[[0.0,\"#0d0887\"],[0.1111111111111111,\"#46039f\"],[0.2222222222222222,\"#7201a8\"],[0.3333333333333333,\"#9c179e\"],[0.4444444444444444,\"#bd3786\"],[0.5555555555555556,\"#d8576b\"],[0.6666666666666666,\"#ed7953\"],[0.7777777777777778,\"#fb9f3a\"],[0.8888888888888888,\"#fdca26\"],[1.0,\"#f0f921\"]]},\"colorway\":[\"#636efa\",\"#EF553B\",\"#00cc96\",\"#ab63fa\",\"#FFA15A\",\"#19d3f3\",\"#FF6692\",\"#B6E880\",\"#FF97FF\",\"#FECB52\"],\"font\":{\"color\":\"#2a3f5f\"},\"geo\":{\"bgcolor\":\"white\",\"lakecolor\":\"white\",\"landcolor\":\"#E5ECF6\",\"showlakes\":true,\"showland\":true,\"subunitcolor\":\"white\"},\"hoverlabel\":{\"align\":\"left\"},\"hovermode\":\"closest\",\"mapbox\":{\"style\":\"light\"},\"paper_bgcolor\":\"white\",\"plot_bgcolor\":\"#E5ECF6\",\"polar\":{\"angularaxis\":{\"gridcolor\":\"white\",\"linecolor\":\"white\",\"ticks\":\"\"},\"bgcolor\":\"#E5ECF6\",\"radialaxis\":{\"gridcolor\":\"white\",\"linecolor\":\"white\",\"ticks\":\"\"}},\"scene\":{\"xaxis\":{\"backgroundcolor\":\"#E5ECF6\",\"gridcolor\":\"white\",\"gridwidth\":2,\"linecolor\":\"white\",\"showbackground\":true,\"ticks\":\"\",\"zerolinecolor\":\"white\"},\"yaxis\":{\"backgroundcolor\":\"#E5ECF6\",\"gridcolor\":\"white\",\"gridwidth\":2,\"linecolor\":\"white\",\"showbackground\":true,\"ticks\":\"\",\"zerolinecolor\":\"white\"},\"zaxis\":{\"backgroundcolor\":\"#E5ECF6\",\"gridcolor\":\"white\",\"gridwidth\":2,\"linecolor\":\"white\",\"showbackground\":true,\"ticks\":\"\",\"zerolinecolor\":\"white\"}},\"shapedefaults\":{\"line\":{\"color\":\"#2a3f5f\"}},\"ternary\":{\"aaxis\":{\"gridcolor\":\"white\",\"linecolor\":\"white\",\"ticks\":\"\"},\"baxis\":{\"gridcolor\":\"white\",\"linecolor\":\"white\",\"ticks\":\"\"},\"bgcolor\":\"#E5ECF6\",\"caxis\":{\"gridcolor\":\"white\",\"linecolor\":\"white\",\"ticks\":\"\"}},\"title\":{\"x\":0.05},\"xaxis\":{\"automargin\":true,\"gridcolor\":\"white\",\"linecolor\":\"white\",\"ticks\":\"\",\"title\":{\"standoff\":15},\"zerolinecolor\":\"white\",\"zerolinewidth\":2},\"yaxis\":{\"automargin\":true,\"gridcolor\":\"white\",\"linecolor\":\"white\",\"ticks\":\"\",\"title\":{\"standoff\":15},\"zerolinecolor\":\"white\",\"zerolinewidth\":2}}},\"xaxis\":{\"anchor\":\"y\",\"domain\":[0.0,1.0],\"title\":{\"text\":\"Sex\"}},\"yaxis\":{\"anchor\":\"x\",\"domain\":[0.0,1.0],\"title\":{\"text\":\"count\"}},\"legend\":{\"title\":{\"text\":\"HeartDisease\"},\"tracegroupgap\":0},\"margin\":{\"t\":60},\"barmode\":\"group\"},                        {\"responsive\": true}                    ).then(function(){\n",
              "                            \n",
              "var gd = document.getElementById('866eb453-be3c-4a46-b46a-c89f09a498a3');\n",
              "var x = new MutationObserver(function (mutations, observer) {{\n",
              "        var display = window.getComputedStyle(gd).display;\n",
              "        if (!display || display === 'none') {{\n",
              "            console.log([gd, 'removed!']);\n",
              "            Plotly.purge(gd);\n",
              "            observer.disconnect();\n",
              "        }}\n",
              "}});\n",
              "\n",
              "// Listen for the removal of the full notebook cells\n",
              "var notebookContainer = gd.closest('#notebook-container');\n",
              "if (notebookContainer) {{\n",
              "    x.observe(notebookContainer, {childList: true});\n",
              "}}\n",
              "\n",
              "// Listen for the clearing of the current output cell\n",
              "var outputEl = gd.closest('.output');\n",
              "if (outputEl) {{\n",
              "    x.observe(outputEl, {childList: true});\n",
              "}}\n",
              "\n",
              "                        })                };                            </script>        </div>\n",
              "</body>\n",
              "</html>"
            ]
          },
          "metadata": {}
        }
      ]
    },
    {
      "cell_type": "code",
      "source": [
        "fig = px.histogram(data, x=\"Age\")\n",
        "fig.update_layout(title='Distribution of Age')\n",
        "fig.show()"
      ],
      "metadata": {
        "colab": {
          "base_uri": "https://localhost:8080/",
          "height": 542
        },
        "id": "5uq_QQ0oG8d5",
        "outputId": "d87bded4-5685-491a-ea3d-10e1aa650c35"
      },
      "execution_count": 12,
      "outputs": [
        {
          "output_type": "display_data",
          "data": {
            "text/html": [
              "<html>\n",
              "<head><meta charset=\"utf-8\" /></head>\n",
              "<body>\n",
              "    <div>            <script src=\"https://cdnjs.cloudflare.com/ajax/libs/mathjax/2.7.5/MathJax.js?config=TeX-AMS-MML_SVG\"></script><script type=\"text/javascript\">if (window.MathJax) {MathJax.Hub.Config({SVG: {font: \"STIX-Web\"}});}</script>                <script type=\"text/javascript\">window.PlotlyConfig = {MathJaxConfig: 'local'};</script>\n",
              "        <script src=\"https://cdn.plot.ly/plotly-2.8.3.min.js\"></script>                <div id=\"e4e89dd2-dc1c-4d3a-b825-aa822667ba33\" class=\"plotly-graph-div\" style=\"height:525px; width:100%;\"></div>            <script type=\"text/javascript\">                                    window.PLOTLYENV=window.PLOTLYENV || {};                                    if (document.getElementById(\"e4e89dd2-dc1c-4d3a-b825-aa822667ba33\")) {                    Plotly.newPlot(                        \"e4e89dd2-dc1c-4d3a-b825-aa822667ba33\",                        [{\"alignmentgroup\":\"True\",\"bingroup\":\"x\",\"hovertemplate\":\"Age=%{x}<br>count=%{y}<extra></extra>\",\"legendgroup\":\"\",\"marker\":{\"color\":\"#636efa\",\"pattern\":{\"shape\":\"\"}},\"name\":\"\",\"offsetgroup\":\"\",\"orientation\":\"v\",\"showlegend\":false,\"x\":[40,49,37,48,54,39,45,54,37,48,37,58,39,49,42,54,38,43,60,36,43,44,49,44,40,36,53,52,53,51,53,56,54,41,43,32,65,41,48,48,54,54,35,52,43,59,37,50,36,41,50,47,45,41,52,51,31,58,54,52,49,43,45,46,50,37,45,32,52,44,57,44,52,44,55,46,32,35,52,49,55,54,63,52,56,66,65,53,43,55,49,39,52,48,39,58,43,39,56,41,65,51,40,40,46,57,48,34,50,39,59,57,47,38,49,33,38,59,35,34,47,52,46,58,58,54,34,48,54,42,38,46,56,56,61,49,43,39,54,43,52,50,47,53,56,39,42,43,50,54,39,48,40,55,41,56,38,49,44,54,59,49,47,42,52,46,50,48,58,58,29,40,53,49,52,43,54,59,37,46,52,51,52,46,54,58,58,41,50,53,46,50,48,45,41,62,49,42,53,57,47,46,42,31,56,50,35,35,28,54,48,50,56,56,47,30,39,54,55,29,46,51,48,33,55,50,53,38,41,37,37,40,38,41,54,39,41,55,48,48,55,54,55,43,48,54,54,48,45,49,44,48,61,62,55,53,55,36,51,55,46,54,46,59,47,54,52,34,54,47,45,32,55,55,45,59,51,52,57,54,60,49,51,55,42,51,59,53,48,36,48,47,53,65,32,61,50,57,51,47,60,55,53,62,51,51,55,53,58,57,65,60,41,34,53,74,57,56,61,68,59,63,38,62,46,42,45,59,52,60,60,56,38,40,51,62,72,63,63,64,43,64,61,52,51,69,59,48,69,36,53,43,56,58,55,67,46,53,38,53,62,47,56,56,56,64,61,68,57,63,60,66,63,59,61,73,47,65,70,50,60,50,43,38,54,61,42,53,55,61,51,70,61,38,57,38,62,58,52,61,50,51,65,52,47,35,57,62,59,53,62,54,56,56,54,66,63,44,60,55,66,66,65,60,60,60,56,59,62,63,57,62,63,46,63,60,58,64,63,74,52,69,51,60,56,55,54,77,63,55,52,64,60,60,58,59,61,40,61,41,57,63,59,51,59,42,55,63,62,56,53,68,53,60,62,59,51,61,57,56,58,69,67,58,65,63,55,57,65,54,72,75,49,51,60,64,58,61,67,62,65,63,69,51,62,55,75,40,67,58,60,63,35,62,43,63,68,65,48,63,64,61,50,59,55,45,65,61,49,72,50,64,55,63,59,56,62,74,54,57,62,76,54,70,61,48,48,61,66,68,55,62,71,74,53,58,75,56,58,64,54,54,59,55,57,61,41,71,38,55,56,69,64,72,69,56,62,67,57,69,51,48,69,69,64,57,53,37,67,74,63,58,61,64,58,60,57,55,55,56,57,61,61,74,68,51,62,53,62,46,54,62,55,58,62,70,67,57,64,74,65,56,59,60,63,59,53,44,61,57,71,46,53,64,40,67,48,43,47,54,48,46,51,58,71,57,66,37,59,50,48,61,59,42,48,40,62,44,46,59,58,49,44,66,65,42,52,65,63,45,41,61,60,59,62,57,51,44,60,63,57,51,58,44,47,61,57,70,76,67,45,45,39,42,56,58,35,58,41,57,42,62,59,41,50,59,61,54,54,52,47,66,58,64,50,44,67,49,57,63,48,51,60,59,45,55,41,60,54,42,49,46,56,66,56,49,54,57,65,54,54,62,52,52,60,63,66,42,64,54,46,67,56,34,57,64,59,50,51,54,53,52,40,58,41,41,50,54,64,51,46,55,45,56,66,38,62,55,58,43,64,50,53,45,65,69,69,67,68,34,62,51,46,67,50,42,56,41,42,53,43,56,52,62,70,54,70,54,35,48,55,58,54,69,77,68,58,60,51,55,52,60,58,64,37,59,51,43,58,29,41,63,51,54,44,54,65,57,63,35,41,62,43,58,52,61,39,45,52,62,62,53,43,47,52,68,39,53,62,51,60,65,65,60,60,54,44,44,51,59,71,61,55,64,43,58,60,58,49,48,52,44,56,57,67,53,52,43,52,59,64,66,39,57,58,57,47,55,35,61,58,58,58,56,56,67,55,44,63,63,41,59,57,45,68,57,57,38],\"xaxis\":\"x\",\"yaxis\":\"y\",\"type\":\"histogram\"}],                        {\"template\":{\"data\":{\"bar\":[{\"error_x\":{\"color\":\"#2a3f5f\"},\"error_y\":{\"color\":\"#2a3f5f\"},\"marker\":{\"line\":{\"color\":\"#E5ECF6\",\"width\":0.5},\"pattern\":{\"fillmode\":\"overlay\",\"size\":10,\"solidity\":0.2}},\"type\":\"bar\"}],\"barpolar\":[{\"marker\":{\"line\":{\"color\":\"#E5ECF6\",\"width\":0.5},\"pattern\":{\"fillmode\":\"overlay\",\"size\":10,\"solidity\":0.2}},\"type\":\"barpolar\"}],\"carpet\":[{\"aaxis\":{\"endlinecolor\":\"#2a3f5f\",\"gridcolor\":\"white\",\"linecolor\":\"white\",\"minorgridcolor\":\"white\",\"startlinecolor\":\"#2a3f5f\"},\"baxis\":{\"endlinecolor\":\"#2a3f5f\",\"gridcolor\":\"white\",\"linecolor\":\"white\",\"minorgridcolor\":\"white\",\"startlinecolor\":\"#2a3f5f\"},\"type\":\"carpet\"}],\"choropleth\":[{\"colorbar\":{\"outlinewidth\":0,\"ticks\":\"\"},\"type\":\"choropleth\"}],\"contour\":[{\"colorbar\":{\"outlinewidth\":0,\"ticks\":\"\"},\"colorscale\":[[0.0,\"#0d0887\"],[0.1111111111111111,\"#46039f\"],[0.2222222222222222,\"#7201a8\"],[0.3333333333333333,\"#9c179e\"],[0.4444444444444444,\"#bd3786\"],[0.5555555555555556,\"#d8576b\"],[0.6666666666666666,\"#ed7953\"],[0.7777777777777778,\"#fb9f3a\"],[0.8888888888888888,\"#fdca26\"],[1.0,\"#f0f921\"]],\"type\":\"contour\"}],\"contourcarpet\":[{\"colorbar\":{\"outlinewidth\":0,\"ticks\":\"\"},\"type\":\"contourcarpet\"}],\"heatmap\":[{\"colorbar\":{\"outlinewidth\":0,\"ticks\":\"\"},\"colorscale\":[[0.0,\"#0d0887\"],[0.1111111111111111,\"#46039f\"],[0.2222222222222222,\"#7201a8\"],[0.3333333333333333,\"#9c179e\"],[0.4444444444444444,\"#bd3786\"],[0.5555555555555556,\"#d8576b\"],[0.6666666666666666,\"#ed7953\"],[0.7777777777777778,\"#fb9f3a\"],[0.8888888888888888,\"#fdca26\"],[1.0,\"#f0f921\"]],\"type\":\"heatmap\"}],\"heatmapgl\":[{\"colorbar\":{\"outlinewidth\":0,\"ticks\":\"\"},\"colorscale\":[[0.0,\"#0d0887\"],[0.1111111111111111,\"#46039f\"],[0.2222222222222222,\"#7201a8\"],[0.3333333333333333,\"#9c179e\"],[0.4444444444444444,\"#bd3786\"],[0.5555555555555556,\"#d8576b\"],[0.6666666666666666,\"#ed7953\"],[0.7777777777777778,\"#fb9f3a\"],[0.8888888888888888,\"#fdca26\"],[1.0,\"#f0f921\"]],\"type\":\"heatmapgl\"}],\"histogram\":[{\"marker\":{\"pattern\":{\"fillmode\":\"overlay\",\"size\":10,\"solidity\":0.2}},\"type\":\"histogram\"}],\"histogram2d\":[{\"colorbar\":{\"outlinewidth\":0,\"ticks\":\"\"},\"colorscale\":[[0.0,\"#0d0887\"],[0.1111111111111111,\"#46039f\"],[0.2222222222222222,\"#7201a8\"],[0.3333333333333333,\"#9c179e\"],[0.4444444444444444,\"#bd3786\"],[0.5555555555555556,\"#d8576b\"],[0.6666666666666666,\"#ed7953\"],[0.7777777777777778,\"#fb9f3a\"],[0.8888888888888888,\"#fdca26\"],[1.0,\"#f0f921\"]],\"type\":\"histogram2d\"}],\"histogram2dcontour\":[{\"colorbar\":{\"outlinewidth\":0,\"ticks\":\"\"},\"colorscale\":[[0.0,\"#0d0887\"],[0.1111111111111111,\"#46039f\"],[0.2222222222222222,\"#7201a8\"],[0.3333333333333333,\"#9c179e\"],[0.4444444444444444,\"#bd3786\"],[0.5555555555555556,\"#d8576b\"],[0.6666666666666666,\"#ed7953\"],[0.7777777777777778,\"#fb9f3a\"],[0.8888888888888888,\"#fdca26\"],[1.0,\"#f0f921\"]],\"type\":\"histogram2dcontour\"}],\"mesh3d\":[{\"colorbar\":{\"outlinewidth\":0,\"ticks\":\"\"},\"type\":\"mesh3d\"}],\"parcoords\":[{\"line\":{\"colorbar\":{\"outlinewidth\":0,\"ticks\":\"\"}},\"type\":\"parcoords\"}],\"pie\":[{\"automargin\":true,\"type\":\"pie\"}],\"scatter\":[{\"marker\":{\"colorbar\":{\"outlinewidth\":0,\"ticks\":\"\"}},\"type\":\"scatter\"}],\"scatter3d\":[{\"line\":{\"colorbar\":{\"outlinewidth\":0,\"ticks\":\"\"}},\"marker\":{\"colorbar\":{\"outlinewidth\":0,\"ticks\":\"\"}},\"type\":\"scatter3d\"}],\"scattercarpet\":[{\"marker\":{\"colorbar\":{\"outlinewidth\":0,\"ticks\":\"\"}},\"type\":\"scattercarpet\"}],\"scattergeo\":[{\"marker\":{\"colorbar\":{\"outlinewidth\":0,\"ticks\":\"\"}},\"type\":\"scattergeo\"}],\"scattergl\":[{\"marker\":{\"colorbar\":{\"outlinewidth\":0,\"ticks\":\"\"}},\"type\":\"scattergl\"}],\"scattermapbox\":[{\"marker\":{\"colorbar\":{\"outlinewidth\":0,\"ticks\":\"\"}},\"type\":\"scattermapbox\"}],\"scatterpolar\":[{\"marker\":{\"colorbar\":{\"outlinewidth\":0,\"ticks\":\"\"}},\"type\":\"scatterpolar\"}],\"scatterpolargl\":[{\"marker\":{\"colorbar\":{\"outlinewidth\":0,\"ticks\":\"\"}},\"type\":\"scatterpolargl\"}],\"scatterternary\":[{\"marker\":{\"colorbar\":{\"outlinewidth\":0,\"ticks\":\"\"}},\"type\":\"scatterternary\"}],\"surface\":[{\"colorbar\":{\"outlinewidth\":0,\"ticks\":\"\"},\"colorscale\":[[0.0,\"#0d0887\"],[0.1111111111111111,\"#46039f\"],[0.2222222222222222,\"#7201a8\"],[0.3333333333333333,\"#9c179e\"],[0.4444444444444444,\"#bd3786\"],[0.5555555555555556,\"#d8576b\"],[0.6666666666666666,\"#ed7953\"],[0.7777777777777778,\"#fb9f3a\"],[0.8888888888888888,\"#fdca26\"],[1.0,\"#f0f921\"]],\"type\":\"surface\"}],\"table\":[{\"cells\":{\"fill\":{\"color\":\"#EBF0F8\"},\"line\":{\"color\":\"white\"}},\"header\":{\"fill\":{\"color\":\"#C8D4E3\"},\"line\":{\"color\":\"white\"}},\"type\":\"table\"}]},\"layout\":{\"annotationdefaults\":{\"arrowcolor\":\"#2a3f5f\",\"arrowhead\":0,\"arrowwidth\":1},\"autotypenumbers\":\"strict\",\"coloraxis\":{\"colorbar\":{\"outlinewidth\":0,\"ticks\":\"\"}},\"colorscale\":{\"diverging\":[[0,\"#8e0152\"],[0.1,\"#c51b7d\"],[0.2,\"#de77ae\"],[0.3,\"#f1b6da\"],[0.4,\"#fde0ef\"],[0.5,\"#f7f7f7\"],[0.6,\"#e6f5d0\"],[0.7,\"#b8e186\"],[0.8,\"#7fbc41\"],[0.9,\"#4d9221\"],[1,\"#276419\"]],\"sequential\":[[0.0,\"#0d0887\"],[0.1111111111111111,\"#46039f\"],[0.2222222222222222,\"#7201a8\"],[0.3333333333333333,\"#9c179e\"],[0.4444444444444444,\"#bd3786\"],[0.5555555555555556,\"#d8576b\"],[0.6666666666666666,\"#ed7953\"],[0.7777777777777778,\"#fb9f3a\"],[0.8888888888888888,\"#fdca26\"],[1.0,\"#f0f921\"]],\"sequentialminus\":[[0.0,\"#0d0887\"],[0.1111111111111111,\"#46039f\"],[0.2222222222222222,\"#7201a8\"],[0.3333333333333333,\"#9c179e\"],[0.4444444444444444,\"#bd3786\"],[0.5555555555555556,\"#d8576b\"],[0.6666666666666666,\"#ed7953\"],[0.7777777777777778,\"#fb9f3a\"],[0.8888888888888888,\"#fdca26\"],[1.0,\"#f0f921\"]]},\"colorway\":[\"#636efa\",\"#EF553B\",\"#00cc96\",\"#ab63fa\",\"#FFA15A\",\"#19d3f3\",\"#FF6692\",\"#B6E880\",\"#FF97FF\",\"#FECB52\"],\"font\":{\"color\":\"#2a3f5f\"},\"geo\":{\"bgcolor\":\"white\",\"lakecolor\":\"white\",\"landcolor\":\"#E5ECF6\",\"showlakes\":true,\"showland\":true,\"subunitcolor\":\"white\"},\"hoverlabel\":{\"align\":\"left\"},\"hovermode\":\"closest\",\"mapbox\":{\"style\":\"light\"},\"paper_bgcolor\":\"white\",\"plot_bgcolor\":\"#E5ECF6\",\"polar\":{\"angularaxis\":{\"gridcolor\":\"white\",\"linecolor\":\"white\",\"ticks\":\"\"},\"bgcolor\":\"#E5ECF6\",\"radialaxis\":{\"gridcolor\":\"white\",\"linecolor\":\"white\",\"ticks\":\"\"}},\"scene\":{\"xaxis\":{\"backgroundcolor\":\"#E5ECF6\",\"gridcolor\":\"white\",\"gridwidth\":2,\"linecolor\":\"white\",\"showbackground\":true,\"ticks\":\"\",\"zerolinecolor\":\"white\"},\"yaxis\":{\"backgroundcolor\":\"#E5ECF6\",\"gridcolor\":\"white\",\"gridwidth\":2,\"linecolor\":\"white\",\"showbackground\":true,\"ticks\":\"\",\"zerolinecolor\":\"white\"},\"zaxis\":{\"backgroundcolor\":\"#E5ECF6\",\"gridcolor\":\"white\",\"gridwidth\":2,\"linecolor\":\"white\",\"showbackground\":true,\"ticks\":\"\",\"zerolinecolor\":\"white\"}},\"shapedefaults\":{\"line\":{\"color\":\"#2a3f5f\"}},\"ternary\":{\"aaxis\":{\"gridcolor\":\"white\",\"linecolor\":\"white\",\"ticks\":\"\"},\"baxis\":{\"gridcolor\":\"white\",\"linecolor\":\"white\",\"ticks\":\"\"},\"bgcolor\":\"#E5ECF6\",\"caxis\":{\"gridcolor\":\"white\",\"linecolor\":\"white\",\"ticks\":\"\"}},\"title\":{\"x\":0.05},\"xaxis\":{\"automargin\":true,\"gridcolor\":\"white\",\"linecolor\":\"white\",\"ticks\":\"\",\"title\":{\"standoff\":15},\"zerolinecolor\":\"white\",\"zerolinewidth\":2},\"yaxis\":{\"automargin\":true,\"gridcolor\":\"white\",\"linecolor\":\"white\",\"ticks\":\"\",\"title\":{\"standoff\":15},\"zerolinecolor\":\"white\",\"zerolinewidth\":2}}},\"xaxis\":{\"anchor\":\"y\",\"domain\":[0.0,1.0],\"title\":{\"text\":\"Age\"}},\"yaxis\":{\"anchor\":\"x\",\"domain\":[0.0,1.0],\"title\":{\"text\":\"count\"}},\"legend\":{\"tracegroupgap\":0},\"margin\":{\"t\":60},\"barmode\":\"relative\",\"title\":{\"text\":\"Distribution of Age\"}},                        {\"responsive\": true}                    ).then(function(){\n",
              "                            \n",
              "var gd = document.getElementById('e4e89dd2-dc1c-4d3a-b825-aa822667ba33');\n",
              "var x = new MutationObserver(function (mutations, observer) {{\n",
              "        var display = window.getComputedStyle(gd).display;\n",
              "        if (!display || display === 'none') {{\n",
              "            console.log([gd, 'removed!']);\n",
              "            Plotly.purge(gd);\n",
              "            observer.disconnect();\n",
              "        }}\n",
              "}});\n",
              "\n",
              "// Listen for the removal of the full notebook cells\n",
              "var notebookContainer = gd.closest('#notebook-container');\n",
              "if (notebookContainer) {{\n",
              "    x.observe(notebookContainer, {childList: true});\n",
              "}}\n",
              "\n",
              "// Listen for the clearing of the current output cell\n",
              "var outputEl = gd.closest('.output');\n",
              "if (outputEl) {{\n",
              "    x.observe(outputEl, {childList: true});\n",
              "}}\n",
              "\n",
              "                        })                };                            </script>        </div>\n",
              "</body>\n",
              "</html>"
            ]
          },
          "metadata": {}
        }
      ]
    },
    {
      "cell_type": "code",
      "source": [
        "fig = px.histogram(data, x=\"Age\", color=\"Sex\")\n",
        "#fig.update_layout(title='Distribution of Age')\n",
        "fig.show()"
      ],
      "metadata": {
        "colab": {
          "base_uri": "https://localhost:8080/",
          "height": 542
        },
        "id": "EwJ3eVlxGeVl",
        "outputId": "9e7cbb82-7571-49ac-fb7f-cd6981761667"
      },
      "execution_count": 13,
      "outputs": [
        {
          "output_type": "display_data",
          "data": {
            "text/html": [
              "<html>\n",
              "<head><meta charset=\"utf-8\" /></head>\n",
              "<body>\n",
              "    <div>            <script src=\"https://cdnjs.cloudflare.com/ajax/libs/mathjax/2.7.5/MathJax.js?config=TeX-AMS-MML_SVG\"></script><script type=\"text/javascript\">if (window.MathJax) {MathJax.Hub.Config({SVG: {font: \"STIX-Web\"}});}</script>                <script type=\"text/javascript\">window.PlotlyConfig = {MathJaxConfig: 'local'};</script>\n",
              "        <script src=\"https://cdn.plot.ly/plotly-2.8.3.min.js\"></script>                <div id=\"a3a25e49-3512-4f20-b4af-d64e46165b5c\" class=\"plotly-graph-div\" style=\"height:525px; width:100%;\"></div>            <script type=\"text/javascript\">                                    window.PLOTLYENV=window.PLOTLYENV || {};                                    if (document.getElementById(\"a3a25e49-3512-4f20-b4af-d64e46165b5c\")) {                    Plotly.newPlot(                        \"a3a25e49-3512-4f20-b4af-d64e46165b5c\",                        [{\"alignmentgroup\":\"True\",\"bingroup\":\"x\",\"hovertemplate\":\"Sex=M<br>Age=%{x}<br>count=%{y}<extra></extra>\",\"legendgroup\":\"M\",\"marker\":{\"color\":\"#636efa\",\"pattern\":{\"shape\":\"\"}},\"name\":\"M\",\"offsetgroup\":\"M\",\"orientation\":\"v\",\"showlegend\":true,\"x\":[40,37,54,39,54,37,58,39,49,38,60,36,44,44,40,36,53,52,51,53,56,54,41,32,65,35,52,43,59,37,50,36,41,50,45,31,58,54,52,49,45,46,32,52,44,57,44,52,55,46,32,52,49,55,54,63,52,56,66,65,43,55,39,48,58,43,39,56,41,65,51,40,46,57,34,50,39,57,47,38,38,34,46,58,54,42,38,46,56,56,49,39,54,43,52,50,47,53,39,42,50,54,39,48,40,55,41,56,38,49,44,54,59,49,47,42,46,50,48,58,58,29,40,53,49,52,43,54,59,37,52,51,52,46,58,58,41,53,46,50,48,45,49,42,53,47,46,42,56,50,35,35,28,54,48,56,47,39,54,55,29,46,33,55,50,53,38,41,37,40,41,39,41,55,48,48,55,54,55,48,54,54,48,45,49,44,48,61,62,55,36,46,46,59,47,54,52,34,54,45,55,55,59,51,52,60,49,42,59,53,36,48,53,65,32,61,50,57,51,47,60,55,53,51,55,53,58,57,65,60,41,34,53,74,57,56,61,68,59,63,62,46,42,45,59,52,60,60,56,38,40,51,62,72,63,63,43,64,61,52,51,69,59,48,69,36,53,43,56,58,55,67,46,53,38,53,62,47,56,56,56,61,68,57,63,60,66,63,59,61,47,65,70,50,60,50,43,54,61,42,53,55,61,51,70,61,38,57,38,58,52,61,51,65,52,47,35,57,62,59,53,62,54,56,56,54,63,44,60,55,66,66,65,60,60,60,56,59,62,63,57,62,63,46,63,60,58,64,63,74,52,69,51,60,56,55,54,77,63,55,52,64,60,60,58,59,61,40,61,41,57,63,59,51,59,42,55,62,56,53,68,53,60,62,59,51,61,57,56,58,69,67,58,65,63,55,57,65,54,72,75,49,51,60,58,61,67,62,65,63,69,51,62,55,75,40,67,58,60,63,35,62,43,63,68,65,48,63,64,61,50,59,55,45,65,61,49,72,50,64,55,63,59,56,62,74,54,57,62,76,70,48,48,61,66,68,55,62,71,74,53,58,75,56,58,64,54,54,59,55,57,61,41,71,38,55,56,69,64,72,69,56,62,67,57,69,51,48,69,69,64,57,53,37,67,74,63,58,61,64,58,60,57,55,55,56,57,61,61,74,68,62,53,62,46,62,55,58,62,70,57,64,65,56,59,60,59,53,44,61,46,53,64,40,67,48,43,47,58,57,66,59,50,48,61,59,42,48,40,44,46,59,58,49,44,66,42,52,61,62,57,44,63,57,51,47,61,70,45,45,56,58,35,58,41,57,42,62,59,50,59,54,54,52,47,66,58,67,57,63,48,51,59,41,42,46,56,49,54,57,54,62,52,60,66,42,64,54,56,57,64,59,50,51,54,53,52,40,58,41,55,45,56,38,55,58,43,53,65,69,69,67,34,51,46,67,50,42,41,53,43,56,52,70,54,70,54,35,48,77,68,58,60,51,55,52,58,64,37,59,51,58,29,51,54,44,54,65,57,63,41,52,39,45,52,62,43,47,52,68,39,60,65,60,60,54,44,44,51,59,61,55,64,43,60,58,49,48,52,44,57,67,52,43,52,59,64,57,57,47,35,61,58,58,56,56,67,44,63,41,59,45,68,57,38],\"xaxis\":\"x\",\"yaxis\":\"y\",\"type\":\"histogram\"},{\"alignmentgroup\":\"True\",\"bingroup\":\"x\",\"hovertemplate\":\"Sex=F<br>Age=%{x}<br>count=%{y}<extra></extra>\",\"legendgroup\":\"F\",\"marker\":{\"color\":\"#EF553B\",\"pattern\":{\"shape\":\"\"}},\"name\":\"F\",\"offsetgroup\":\"F\",\"orientation\":\"v\",\"showlegend\":true,\"x\":[49,48,45,48,37,42,54,43,43,49,53,43,41,48,48,54,54,47,41,52,51,43,50,37,45,44,35,53,49,52,39,40,48,59,49,33,59,35,47,52,58,34,48,54,61,43,56,43,52,46,54,50,41,62,57,31,50,56,30,51,48,37,38,54,43,53,55,51,55,54,47,32,45,57,54,51,55,51,48,47,62,51,38,64,64,73,38,62,50,66,63,64,54,61,51,54,67,74,63,57,71,54,48,46,51,71,37,62,65,65,63,45,41,60,59,51,60,58,44,57,76,67,39,42,41,61,64,50,44,49,60,45,55,60,54,49,56,66,65,54,52,63,46,67,34,41,50,54,64,51,46,66,62,64,50,45,68,62,56,42,62,55,58,54,69,60,43,41,63,35,62,43,58,61,62,53,53,62,51,65,71,58,56,53,66,39,58,55,58,55,63,57,57],\"xaxis\":\"x\",\"yaxis\":\"y\",\"type\":\"histogram\"}],                        {\"template\":{\"data\":{\"bar\":[{\"error_x\":{\"color\":\"#2a3f5f\"},\"error_y\":{\"color\":\"#2a3f5f\"},\"marker\":{\"line\":{\"color\":\"#E5ECF6\",\"width\":0.5},\"pattern\":{\"fillmode\":\"overlay\",\"size\":10,\"solidity\":0.2}},\"type\":\"bar\"}],\"barpolar\":[{\"marker\":{\"line\":{\"color\":\"#E5ECF6\",\"width\":0.5},\"pattern\":{\"fillmode\":\"overlay\",\"size\":10,\"solidity\":0.2}},\"type\":\"barpolar\"}],\"carpet\":[{\"aaxis\":{\"endlinecolor\":\"#2a3f5f\",\"gridcolor\":\"white\",\"linecolor\":\"white\",\"minorgridcolor\":\"white\",\"startlinecolor\":\"#2a3f5f\"},\"baxis\":{\"endlinecolor\":\"#2a3f5f\",\"gridcolor\":\"white\",\"linecolor\":\"white\",\"minorgridcolor\":\"white\",\"startlinecolor\":\"#2a3f5f\"},\"type\":\"carpet\"}],\"choropleth\":[{\"colorbar\":{\"outlinewidth\":0,\"ticks\":\"\"},\"type\":\"choropleth\"}],\"contour\":[{\"colorbar\":{\"outlinewidth\":0,\"ticks\":\"\"},\"colorscale\":[[0.0,\"#0d0887\"],[0.1111111111111111,\"#46039f\"],[0.2222222222222222,\"#7201a8\"],[0.3333333333333333,\"#9c179e\"],[0.4444444444444444,\"#bd3786\"],[0.5555555555555556,\"#d8576b\"],[0.6666666666666666,\"#ed7953\"],[0.7777777777777778,\"#fb9f3a\"],[0.8888888888888888,\"#fdca26\"],[1.0,\"#f0f921\"]],\"type\":\"contour\"}],\"contourcarpet\":[{\"colorbar\":{\"outlinewidth\":0,\"ticks\":\"\"},\"type\":\"contourcarpet\"}],\"heatmap\":[{\"colorbar\":{\"outlinewidth\":0,\"ticks\":\"\"},\"colorscale\":[[0.0,\"#0d0887\"],[0.1111111111111111,\"#46039f\"],[0.2222222222222222,\"#7201a8\"],[0.3333333333333333,\"#9c179e\"],[0.4444444444444444,\"#bd3786\"],[0.5555555555555556,\"#d8576b\"],[0.6666666666666666,\"#ed7953\"],[0.7777777777777778,\"#fb9f3a\"],[0.8888888888888888,\"#fdca26\"],[1.0,\"#f0f921\"]],\"type\":\"heatmap\"}],\"heatmapgl\":[{\"colorbar\":{\"outlinewidth\":0,\"ticks\":\"\"},\"colorscale\":[[0.0,\"#0d0887\"],[0.1111111111111111,\"#46039f\"],[0.2222222222222222,\"#7201a8\"],[0.3333333333333333,\"#9c179e\"],[0.4444444444444444,\"#bd3786\"],[0.5555555555555556,\"#d8576b\"],[0.6666666666666666,\"#ed7953\"],[0.7777777777777778,\"#fb9f3a\"],[0.8888888888888888,\"#fdca26\"],[1.0,\"#f0f921\"]],\"type\":\"heatmapgl\"}],\"histogram\":[{\"marker\":{\"pattern\":{\"fillmode\":\"overlay\",\"size\":10,\"solidity\":0.2}},\"type\":\"histogram\"}],\"histogram2d\":[{\"colorbar\":{\"outlinewidth\":0,\"ticks\":\"\"},\"colorscale\":[[0.0,\"#0d0887\"],[0.1111111111111111,\"#46039f\"],[0.2222222222222222,\"#7201a8\"],[0.3333333333333333,\"#9c179e\"],[0.4444444444444444,\"#bd3786\"],[0.5555555555555556,\"#d8576b\"],[0.6666666666666666,\"#ed7953\"],[0.7777777777777778,\"#fb9f3a\"],[0.8888888888888888,\"#fdca26\"],[1.0,\"#f0f921\"]],\"type\":\"histogram2d\"}],\"histogram2dcontour\":[{\"colorbar\":{\"outlinewidth\":0,\"ticks\":\"\"},\"colorscale\":[[0.0,\"#0d0887\"],[0.1111111111111111,\"#46039f\"],[0.2222222222222222,\"#7201a8\"],[0.3333333333333333,\"#9c179e\"],[0.4444444444444444,\"#bd3786\"],[0.5555555555555556,\"#d8576b\"],[0.6666666666666666,\"#ed7953\"],[0.7777777777777778,\"#fb9f3a\"],[0.8888888888888888,\"#fdca26\"],[1.0,\"#f0f921\"]],\"type\":\"histogram2dcontour\"}],\"mesh3d\":[{\"colorbar\":{\"outlinewidth\":0,\"ticks\":\"\"},\"type\":\"mesh3d\"}],\"parcoords\":[{\"line\":{\"colorbar\":{\"outlinewidth\":0,\"ticks\":\"\"}},\"type\":\"parcoords\"}],\"pie\":[{\"automargin\":true,\"type\":\"pie\"}],\"scatter\":[{\"marker\":{\"colorbar\":{\"outlinewidth\":0,\"ticks\":\"\"}},\"type\":\"scatter\"}],\"scatter3d\":[{\"line\":{\"colorbar\":{\"outlinewidth\":0,\"ticks\":\"\"}},\"marker\":{\"colorbar\":{\"outlinewidth\":0,\"ticks\":\"\"}},\"type\":\"scatter3d\"}],\"scattercarpet\":[{\"marker\":{\"colorbar\":{\"outlinewidth\":0,\"ticks\":\"\"}},\"type\":\"scattercarpet\"}],\"scattergeo\":[{\"marker\":{\"colorbar\":{\"outlinewidth\":0,\"ticks\":\"\"}},\"type\":\"scattergeo\"}],\"scattergl\":[{\"marker\":{\"colorbar\":{\"outlinewidth\":0,\"ticks\":\"\"}},\"type\":\"scattergl\"}],\"scattermapbox\":[{\"marker\":{\"colorbar\":{\"outlinewidth\":0,\"ticks\":\"\"}},\"type\":\"scattermapbox\"}],\"scatterpolar\":[{\"marker\":{\"colorbar\":{\"outlinewidth\":0,\"ticks\":\"\"}},\"type\":\"scatterpolar\"}],\"scatterpolargl\":[{\"marker\":{\"colorbar\":{\"outlinewidth\":0,\"ticks\":\"\"}},\"type\":\"scatterpolargl\"}],\"scatterternary\":[{\"marker\":{\"colorbar\":{\"outlinewidth\":0,\"ticks\":\"\"}},\"type\":\"scatterternary\"}],\"surface\":[{\"colorbar\":{\"outlinewidth\":0,\"ticks\":\"\"},\"colorscale\":[[0.0,\"#0d0887\"],[0.1111111111111111,\"#46039f\"],[0.2222222222222222,\"#7201a8\"],[0.3333333333333333,\"#9c179e\"],[0.4444444444444444,\"#bd3786\"],[0.5555555555555556,\"#d8576b\"],[0.6666666666666666,\"#ed7953\"],[0.7777777777777778,\"#fb9f3a\"],[0.8888888888888888,\"#fdca26\"],[1.0,\"#f0f921\"]],\"type\":\"surface\"}],\"table\":[{\"cells\":{\"fill\":{\"color\":\"#EBF0F8\"},\"line\":{\"color\":\"white\"}},\"header\":{\"fill\":{\"color\":\"#C8D4E3\"},\"line\":{\"color\":\"white\"}},\"type\":\"table\"}]},\"layout\":{\"annotationdefaults\":{\"arrowcolor\":\"#2a3f5f\",\"arrowhead\":0,\"arrowwidth\":1},\"autotypenumbers\":\"strict\",\"coloraxis\":{\"colorbar\":{\"outlinewidth\":0,\"ticks\":\"\"}},\"colorscale\":{\"diverging\":[[0,\"#8e0152\"],[0.1,\"#c51b7d\"],[0.2,\"#de77ae\"],[0.3,\"#f1b6da\"],[0.4,\"#fde0ef\"],[0.5,\"#f7f7f7\"],[0.6,\"#e6f5d0\"],[0.7,\"#b8e186\"],[0.8,\"#7fbc41\"],[0.9,\"#4d9221\"],[1,\"#276419\"]],\"sequential\":[[0.0,\"#0d0887\"],[0.1111111111111111,\"#46039f\"],[0.2222222222222222,\"#7201a8\"],[0.3333333333333333,\"#9c179e\"],[0.4444444444444444,\"#bd3786\"],[0.5555555555555556,\"#d8576b\"],[0.6666666666666666,\"#ed7953\"],[0.7777777777777778,\"#fb9f3a\"],[0.8888888888888888,\"#fdca26\"],[1.0,\"#f0f921\"]],\"sequentialminus\":[[0.0,\"#0d0887\"],[0.1111111111111111,\"#46039f\"],[0.2222222222222222,\"#7201a8\"],[0.3333333333333333,\"#9c179e\"],[0.4444444444444444,\"#bd3786\"],[0.5555555555555556,\"#d8576b\"],[0.6666666666666666,\"#ed7953\"],[0.7777777777777778,\"#fb9f3a\"],[0.8888888888888888,\"#fdca26\"],[1.0,\"#f0f921\"]]},\"colorway\":[\"#636efa\",\"#EF553B\",\"#00cc96\",\"#ab63fa\",\"#FFA15A\",\"#19d3f3\",\"#FF6692\",\"#B6E880\",\"#FF97FF\",\"#FECB52\"],\"font\":{\"color\":\"#2a3f5f\"},\"geo\":{\"bgcolor\":\"white\",\"lakecolor\":\"white\",\"landcolor\":\"#E5ECF6\",\"showlakes\":true,\"showland\":true,\"subunitcolor\":\"white\"},\"hoverlabel\":{\"align\":\"left\"},\"hovermode\":\"closest\",\"mapbox\":{\"style\":\"light\"},\"paper_bgcolor\":\"white\",\"plot_bgcolor\":\"#E5ECF6\",\"polar\":{\"angularaxis\":{\"gridcolor\":\"white\",\"linecolor\":\"white\",\"ticks\":\"\"},\"bgcolor\":\"#E5ECF6\",\"radialaxis\":{\"gridcolor\":\"white\",\"linecolor\":\"white\",\"ticks\":\"\"}},\"scene\":{\"xaxis\":{\"backgroundcolor\":\"#E5ECF6\",\"gridcolor\":\"white\",\"gridwidth\":2,\"linecolor\":\"white\",\"showbackground\":true,\"ticks\":\"\",\"zerolinecolor\":\"white\"},\"yaxis\":{\"backgroundcolor\":\"#E5ECF6\",\"gridcolor\":\"white\",\"gridwidth\":2,\"linecolor\":\"white\",\"showbackground\":true,\"ticks\":\"\",\"zerolinecolor\":\"white\"},\"zaxis\":{\"backgroundcolor\":\"#E5ECF6\",\"gridcolor\":\"white\",\"gridwidth\":2,\"linecolor\":\"white\",\"showbackground\":true,\"ticks\":\"\",\"zerolinecolor\":\"white\"}},\"shapedefaults\":{\"line\":{\"color\":\"#2a3f5f\"}},\"ternary\":{\"aaxis\":{\"gridcolor\":\"white\",\"linecolor\":\"white\",\"ticks\":\"\"},\"baxis\":{\"gridcolor\":\"white\",\"linecolor\":\"white\",\"ticks\":\"\"},\"bgcolor\":\"#E5ECF6\",\"caxis\":{\"gridcolor\":\"white\",\"linecolor\":\"white\",\"ticks\":\"\"}},\"title\":{\"x\":0.05},\"xaxis\":{\"automargin\":true,\"gridcolor\":\"white\",\"linecolor\":\"white\",\"ticks\":\"\",\"title\":{\"standoff\":15},\"zerolinecolor\":\"white\",\"zerolinewidth\":2},\"yaxis\":{\"automargin\":true,\"gridcolor\":\"white\",\"linecolor\":\"white\",\"ticks\":\"\",\"title\":{\"standoff\":15},\"zerolinecolor\":\"white\",\"zerolinewidth\":2}}},\"xaxis\":{\"anchor\":\"y\",\"domain\":[0.0,1.0],\"title\":{\"text\":\"Age\"}},\"yaxis\":{\"anchor\":\"x\",\"domain\":[0.0,1.0],\"title\":{\"text\":\"count\"}},\"legend\":{\"title\":{\"text\":\"Sex\"},\"tracegroupgap\":0},\"margin\":{\"t\":60},\"barmode\":\"relative\"},                        {\"responsive\": true}                    ).then(function(){\n",
              "                            \n",
              "var gd = document.getElementById('a3a25e49-3512-4f20-b4af-d64e46165b5c');\n",
              "var x = new MutationObserver(function (mutations, observer) {{\n",
              "        var display = window.getComputedStyle(gd).display;\n",
              "        if (!display || display === 'none') {{\n",
              "            console.log([gd, 'removed!']);\n",
              "            Plotly.purge(gd);\n",
              "            observer.disconnect();\n",
              "        }}\n",
              "}});\n",
              "\n",
              "// Listen for the removal of the full notebook cells\n",
              "var notebookContainer = gd.closest('#notebook-container');\n",
              "if (notebookContainer) {{\n",
              "    x.observe(notebookContainer, {childList: true});\n",
              "}}\n",
              "\n",
              "// Listen for the clearing of the current output cell\n",
              "var outputEl = gd.closest('.output');\n",
              "if (outputEl) {{\n",
              "    x.observe(outputEl, {childList: true});\n",
              "}}\n",
              "\n",
              "                        })                };                            </script>        </div>\n",
              "</body>\n",
              "</html>"
            ]
          },
          "metadata": {}
        }
      ]
    },
    {
      "cell_type": "code",
      "source": [
        "fig = px.histogram(data, x=\"Age\", color=\"HeartDisease\", marginal=\"box\",\n",
        "                         hover_data=data.columns)\n",
        "#fig.update_layout(title='Distribution of Age')\n",
        "fig.show()"
      ],
      "metadata": {
        "colab": {
          "base_uri": "https://localhost:8080/",
          "height": 542
        },
        "id": "cLm_VlS1Fo9W",
        "outputId": "bcbbc2ee-ac71-4cd8-c166-9bfc6c7dbc59"
      },
      "execution_count": 14,
      "outputs": [
        {
          "output_type": "display_data",
          "data": {
            "text/html": [
              "<html>\n",
              "<head><meta charset=\"utf-8\" /></head>\n",
              "<body>\n",
              "    <div>            <script src=\"https://cdnjs.cloudflare.com/ajax/libs/mathjax/2.7.5/MathJax.js?config=TeX-AMS-MML_SVG\"></script><script type=\"text/javascript\">if (window.MathJax) {MathJax.Hub.Config({SVG: {font: \"STIX-Web\"}});}</script>                <script type=\"text/javascript\">window.PlotlyConfig = {MathJaxConfig: 'local'};</script>\n",
              "        <script src=\"https://cdn.plot.ly/plotly-2.8.3.min.js\"></script>                <div id=\"692d16f1-3840-40c1-a81f-917c7d6bcce0\" class=\"plotly-graph-div\" style=\"height:525px; width:100%;\"></div>            <script type=\"text/javascript\">                                    window.PLOTLYENV=window.PLOTLYENV || {};                                    if (document.getElementById(\"692d16f1-3840-40c1-a81f-917c7d6bcce0\")) {                    Plotly.newPlot(                        \"692d16f1-3840-40c1-a81f-917c7d6bcce0\",                        [{\"alignmentgroup\":\"True\",\"bingroup\":\"x\",\"hovertemplate\":\"HeartDisease=0<br>Age=%{x}<br>count=%{y}<extra></extra>\",\"legendgroup\":\"0\",\"marker\":{\"color\":\"#636efa\",\"pattern\":{\"shape\":\"\"}},\"name\":\"0\",\"offsetgroup\":\"0\",\"orientation\":\"v\",\"showlegend\":true,\"x\":[40,37,54,39,45,54,48,37,39,42,54,43,43,44,49,40,36,53,52,53,51,56,43,32,41,48,48,54,35,52,59,37,50,36,45,41,52,51,54,49,43,45,50,37,45,32,44,44,44,46,35,52,55,54,52,53,55,49,39,52,39,43,39,56,41,51,57,48,34,50,39,59,47,38,49,35,52,46,58,54,34,48,54,42,38,61,43,39,53,39,42,43,50,39,48,40,55,41,49,54,47,42,52,48,58,58,29,40,53,49,59,37,46,51,46,54,58,50,46,50,48,45,41,62,49,42,57,47,46,42,31,56,50,35,28,56,56,30,54,55,29,48,33,55,53,41,37,37,40,38,41,54,39,55,43,54,61,62,53,55,36,51,55,46,54,54,34,47,45,32,55,45,59,57,54,60,51,55,42,51,59,53,48,36,48,47,53,55,53,65,53,45,38,72,56,44,66,66,60,56,62,63,60,74,60,59,41,51,42,63,56,62,51,55,65,58,51,40,60,35,63,64,55,45,61,57,61,48,68,62,53,75,54,54,59,41,69,37,63,58,55,57,68,51,62,58,67,64,74,65,59,53,44,57,71,64,40,48,43,47,54,48,46,51,71,66,37,42,48,62,44,46,58,52,65,63,45,41,60,57,44,60,63,51,44,57,70,76,67,45,39,42,56,41,57,42,62,59,41,59,66,64,50,44,49,51,45,41,54,42,49,66,65,54,54,52,52,42,54,46,67,34,57,59,51,41,41,50,54,64,51,46,45,56,55,43,64,50,53,45,69,68,34,50,42,42,53,43,52,62,54,54,48,55,58,54,69,68,52,60,58,37,51,43,29,41,63,51,54,44,57,35,41,58,52,45,62,53,47,52,39,53,51,65,44,51,59,71,61,43,58,49,52,44,56,57,53,52,64,66,39,58,47,35,58,56,56,55,41,38],\"xaxis\":\"x\",\"yaxis\":\"y\",\"type\":\"histogram\"},{\"alignmentgroup\":\"True\",\"customdata\":[[\"M\",\"ATA\",140,289,0,\"Normal\",172,\"N\",0.0,\"Up\",0],[\"M\",\"ATA\",130,283,0,\"ST\",98,\"N\",0.0,\"Up\",0],[\"M\",\"NAP\",150,195,0,\"Normal\",122,\"N\",0.0,\"Up\",0],[\"M\",\"NAP\",120,339,0,\"Normal\",170,\"N\",0.0,\"Up\",0],[\"F\",\"ATA\",130,237,0,\"Normal\",170,\"N\",0.0,\"Up\",0],[\"M\",\"ATA\",110,208,0,\"Normal\",142,\"N\",0.0,\"Up\",0],[\"F\",\"ATA\",120,284,0,\"Normal\",120,\"N\",0.0,\"Up\",0],[\"F\",\"NAP\",130,211,0,\"Normal\",142,\"N\",0.0,\"Up\",0],[\"M\",\"ATA\",120,204,0,\"Normal\",145,\"N\",0.0,\"Up\",0],[\"F\",\"NAP\",115,211,0,\"ST\",137,\"N\",0.0,\"Up\",0],[\"F\",\"ATA\",120,273,0,\"Normal\",150,\"N\",1.5,\"Flat\",0],[\"F\",\"ATA\",120,201,0,\"Normal\",165,\"N\",0.0,\"Up\",0],[\"F\",\"TA\",100,223,0,\"Normal\",142,\"N\",0.0,\"Up\",0],[\"M\",\"ATA\",120,184,0,\"Normal\",142,\"N\",1.0,\"Flat\",0],[\"F\",\"ATA\",124,201,0,\"Normal\",164,\"N\",0.0,\"Up\",0],[\"M\",\"NAP\",130,215,0,\"Normal\",138,\"N\",0.0,\"Up\",0],[\"M\",\"NAP\",130,209,0,\"Normal\",178,\"N\",0.0,\"Up\",0],[\"M\",\"ASY\",124,260,0,\"ST\",112,\"Y\",3.0,\"Flat\",0],[\"M\",\"ATA\",120,284,0,\"Normal\",118,\"N\",0.0,\"Up\",0],[\"F\",\"ATA\",113,468,0,\"Normal\",127,\"N\",0.0,\"Up\",0],[\"M\",\"ATA\",125,188,0,\"Normal\",145,\"N\",0.0,\"Up\",0],[\"M\",\"NAP\",130,167,0,\"Normal\",114,\"N\",0.0,\"Up\",0],[\"F\",\"ATA\",150,186,0,\"Normal\",154,\"N\",0.0,\"Up\",0],[\"M\",\"ATA\",125,254,0,\"Normal\",155,\"N\",0.0,\"Up\",0],[\"F\",\"ATA\",110,250,0,\"ST\",142,\"N\",0.0,\"Up\",0],[\"F\",\"ATA\",120,177,1,\"ST\",148,\"N\",0.0,\"Up\",0],[\"F\",\"ASY\",150,227,0,\"Normal\",130,\"Y\",1.0,\"Flat\",0],[\"F\",\"ATA\",150,230,0,\"Normal\",130,\"N\",0.0,\"Up\",0],[\"M\",\"ATA\",150,264,0,\"Normal\",168,\"N\",0.0,\"Up\",0],[\"M\",\"NAP\",140,259,0,\"ST\",170,\"N\",0.0,\"Up\",0],[\"M\",\"NAP\",130,318,0,\"Normal\",120,\"Y\",1.0,\"Flat\",0],[\"M\",\"ASY\",120,223,0,\"Normal\",168,\"N\",0.0,\"Up\",0],[\"M\",\"ATA\",140,216,0,\"Normal\",170,\"N\",0.0,\"Up\",0],[\"M\",\"NAP\",112,340,0,\"Normal\",184,\"N\",1.0,\"Flat\",0],[\"M\",\"ATA\",140,224,1,\"Normal\",122,\"N\",0.0,\"Up\",0],[\"F\",\"ATA\",130,245,0,\"Normal\",150,\"N\",0.0,\"Up\",0],[\"F\",\"ASY\",130,180,0,\"Normal\",140,\"Y\",1.5,\"Flat\",0],[\"F\",\"ATA\",160,194,0,\"Normal\",170,\"N\",0.0,\"Up\",0],[\"M\",\"ASY\",150,365,0,\"ST\",134,\"N\",1.0,\"Up\",0],[\"M\",\"ATA\",100,253,0,\"Normal\",174,\"N\",0.0,\"Up\",0],[\"F\",\"NAP\",150,254,0,\"Normal\",175,\"N\",0.0,\"Up\",0],[\"M\",\"ASY\",140,224,0,\"Normal\",144,\"N\",0.0,\"Up\",0],[\"F\",\"ATA\",110,202,0,\"Normal\",145,\"N\",0.0,\"Up\",0],[\"F\",\"ATA\",120,260,0,\"Normal\",130,\"N\",0.0,\"Up\",0],[\"F\",\"ASY\",132,297,0,\"Normal\",144,\"N\",0.0,\"Up\",0],[\"M\",\"ATA\",110,225,0,\"Normal\",184,\"N\",0.0,\"Up\",0],[\"M\",\"ASY\",150,412,0,\"Normal\",170,\"N\",0.0,\"Up\",0],[\"M\",\"ATA\",130,215,0,\"Normal\",135,\"N\",0.0,\"Up\",0],[\"F\",\"ASY\",120,218,0,\"ST\",115,\"N\",0.0,\"Up\",0],[\"M\",\"NAP\",150,163,0,\"Normal\",116,\"N\",0.0,\"Up\",0],[\"F\",\"ASY\",140,167,0,\"Normal\",150,\"N\",0.0,\"Up\",0],[\"M\",\"ATA\",140,100,0,\"Normal\",138,\"Y\",0.0,\"Up\",0],[\"M\",\"NAP\",110,277,0,\"Normal\",160,\"N\",0.0,\"Up\",0],[\"M\",\"ATA\",120,238,0,\"Normal\",154,\"N\",0.0,\"Up\",0],[\"M\",\"ATA\",160,196,0,\"Normal\",165,\"N\",0.0,\"Up\",0],[\"F\",\"ATA\",140,216,0,\"Normal\",142,\"Y\",2.0,\"Flat\",0],[\"M\",\"ASY\",140,229,0,\"Normal\",110,\"Y\",0.5,\"Flat\",0],[\"F\",\"ATA\",110,208,0,\"Normal\",160,\"N\",0.0,\"Up\",0],[\"M\",\"ASY\",130,307,0,\"Normal\",140,\"N\",0.0,\"Up\",0],[\"F\",\"ATA\",120,210,0,\"Normal\",148,\"N\",0.0,\"Up\",0],[\"F\",\"NAP\",110,182,0,\"ST\",180,\"N\",0.0,\"Up\",0],[\"M\",\"ATA\",142,207,0,\"Normal\",138,\"N\",0.0,\"Up\",0],[\"M\",\"NAP\",160,147,1,\"Normal\",160,\"N\",0.0,\"Up\",0],[\"M\",\"ASY\",120,85,0,\"Normal\",140,\"N\",0.0,\"Up\",0],[\"M\",\"ATA\",125,269,0,\"Normal\",144,\"N\",0.0,\"Up\",0],[\"M\",\"ASY\",130,179,0,\"Normal\",100,\"N\",0.0,\"Up\",0],[\"M\",\"ATA\",140,260,1,\"Normal\",140,\"N\",0.0,\"Up\",0],[\"F\",\"ASY\",120,254,0,\"ST\",110,\"N\",0.0,\"Up\",0],[\"M\",\"ATA\",150,214,0,\"ST\",168,\"N\",0.0,\"Up\",0],[\"M\",\"ASY\",140,129,0,\"Normal\",135,\"N\",0.0,\"Up\",0],[\"M\",\"ATA\",190,241,0,\"Normal\",106,\"N\",0.0,\"Up\",0],[\"F\",\"ATA\",130,188,0,\"Normal\",124,\"N\",1.0,\"Flat\",0],[\"M\",\"ASY\",140,276,1,\"Normal\",125,\"Y\",0.0,\"Up\",0],[\"M\",\"ATA\",140,297,0,\"Normal\",150,\"N\",0.0,\"Up\",0],[\"F\",\"NAP\",130,207,0,\"ST\",135,\"N\",0.0,\"Up\",0],[\"F\",\"TA\",120,160,0,\"ST\",185,\"N\",0.0,\"Up\",0],[\"F\",\"NAP\",125,272,0,\"Normal\",139,\"N\",0.0,\"Up\",0],[\"M\",\"ASY\",110,240,0,\"ST\",140,\"N\",0.0,\"Up\",0],[\"M\",\"ATA\",130,230,0,\"Normal\",150,\"N\",0.0,\"Up\",0],[\"M\",\"ATA\",120,246,0,\"Normal\",110,\"N\",0.0,\"Up\",0],[\"F\",\"ATA\",130,161,0,\"Normal\",190,\"N\",0.0,\"Up\",0],[\"F\",\"ASY\",108,163,0,\"Normal\",175,\"N\",2.0,\"Up\",0],[\"F\",\"ATA\",120,230,1,\"Normal\",140,\"N\",0.0,\"Up\",0],[\"M\",\"NAP\",120,228,0,\"Normal\",152,\"Y\",1.5,\"Flat\",0],[\"M\",\"NAP\",145,292,0,\"Normal\",130,\"N\",0.0,\"Up\",0],[\"F\",\"ASY\",130,294,0,\"ST\",120,\"Y\",1.0,\"Flat\",0],[\"F\",\"ATA\",120,215,0,\"ST\",175,\"N\",0.0,\"Up\",0],[\"M\",\"ATA\",120,241,0,\"ST\",146,\"N\",2.0,\"Up\",0],[\"M\",\"ASY\",140,243,0,\"Normal\",155,\"N\",0.0,\"Up\",0],[\"M\",\"ASY\",110,273,0,\"Normal\",132,\"N\",0.0,\"Up\",0],[\"M\",\"ATA\",120,198,0,\"Normal\",155,\"N\",0.0,\"Up\",0],[\"F\",\"ATA\",120,249,0,\"ST\",176,\"N\",0.0,\"Up\",0],[\"M\",\"ATA\",120,168,0,\"Normal\",160,\"N\",0.0,\"Up\",0],[\"M\",\"ATA\",130,215,0,\"Normal\",120,\"N\",0.0,\"Up\",0],[\"M\",\"ATA\",100,159,0,\"Normal\",100,\"N\",0.0,\"Up\",0],[\"M\",\"ATA\",130,275,0,\"Normal\",150,\"N\",0.0,\"Up\",0],[\"M\",\"ASY\",120,270,0,\"Normal\",140,\"N\",0.0,\"Up\",0],[\"M\",\"ATA\",120,291,0,\"ST\",160,\"N\",0.0,\"Up\",0],[\"M\",\"ASY\",140,185,0,\"Normal\",130,\"N\",0.0,\"Up\",0],[\"M\",\"ATA\",160,195,0,\"ST\",130,\"N\",1.0,\"Up\",0],[\"M\",\"ATA\",160,263,0,\"Normal\",174,\"N\",0.0,\"Up\",0],[\"M\",\"ATA\",120,196,0,\"Normal\",150,\"N\",0.0,\"Up\",0],[\"F\",\"ATA\",140,225,0,\"Normal\",140,\"N\",0.0,\"Up\",0],[\"M\",\"ATA\",140,238,0,\"Normal\",118,\"N\",0.0,\"Up\",0],[\"M\",\"ASY\",135,222,0,\"Normal\",100,\"N\",0.0,\"Up\",0],[\"M\",\"NAP\",140,179,0,\"Normal\",160,\"N\",0.0,\"Up\",0],[\"M\",\"ATA\",120,243,0,\"Normal\",160,\"N\",0.0,\"Up\",0],[\"M\",\"NAP\",140,235,0,\"Normal\",188,\"N\",0.0,\"Up\",0],[\"M\",\"ATA\",140,320,0,\"Normal\",162,\"N\",0.0,\"Up\",0],[\"M\",\"NAP\",140,187,0,\"Normal\",172,\"N\",0.0,\"Up\",0],[\"M\",\"ATA\",140,287,0,\"Normal\",150,\"N\",0.0,\"Up\",0],[\"M\",\"NAP\",130,194,0,\"Normal\",150,\"N\",0.0,\"Up\",0],[\"F\",\"ASY\",130,238,0,\"Normal\",90,\"N\",0.0,\"Up\",0],[\"M\",\"ATA\",130,224,0,\"Normal\",150,\"N\",0.0,\"Up\",0],[\"M\",\"ASY\",110,238,0,\"ST\",140,\"Y\",1.0,\"Flat\",0],[\"F\",\"ATA\",160,312,0,\"Normal\",130,\"N\",0.0,\"Up\",0],[\"M\",\"ATA\",130,251,0,\"Normal\",110,\"N\",0.0,\"Up\",0],[\"F\",\"ASY\",120,328,0,\"Normal\",110,\"Y\",1.0,\"Flat\",0],[\"M\",\"ASY\",180,280,0,\"ST\",120,\"N\",0.0,\"Up\",0],[\"M\",\"ATA\",170,209,0,\"ST\",116,\"N\",0.0,\"Up\",0],[\"M\",\"ATA\",130,245,0,\"Normal\",160,\"N\",0.0,\"Up\",0],[\"M\",\"NAP\",135,192,0,\"Normal\",110,\"N\",0.0,\"Up\",0],[\"F\",\"ATA\",125,184,0,\"Normal\",180,\"N\",0.0,\"Up\",0],[\"F\",\"TA\",160,193,0,\"Normal\",116,\"N\",0.0,\"Up\",0],[\"M\",\"ASY\",120,297,0,\"Normal\",132,\"N\",1.0,\"Flat\",0],[\"M\",\"ATA\",150,268,0,\"Normal\",136,\"N\",0.0,\"Up\",0],[\"F\",\"TA\",130,308,0,\"Normal\",98,\"N\",1.0,\"Flat\",0],[\"M\",\"TA\",110,249,0,\"Normal\",150,\"N\",0.0,\"Up\",0],[\"M\",\"NAP\",120,230,0,\"Normal\",150,\"N\",0.0,\"Up\",0],[\"M\",\"NAP\",160,147,0,\"Normal\",146,\"N\",0.0,\"Up\",0],[\"F\",\"ATA\",100,219,0,\"ST\",150,\"N\",0.0,\"Up\",0],[\"M\",\"ATA\",130,184,0,\"Normal\",100,\"N\",0.0,\"Up\",0],[\"M\",\"ASY\",150,215,0,\"Normal\",140,\"Y\",0.0,\"Up\",0],[\"M\",\"ATA\",120,308,0,\"LVH\",180,\"N\",0.0,\"Up\",0],[\"M\",\"ATA\",130,132,0,\"LVH\",185,\"N\",0.0,\"Up\",0],[\"M\",\"NAP\",130,276,0,\"Normal\",128,\"Y\",1.0,\"Up\",0],[\"F\",\"NAP\",130,219,0,\"ST\",164,\"N\",0.0,\"Up\",0],[\"F\",\"TA\",170,237,0,\"ST\",170,\"N\",0.0,\"Up\",0],[\"M\",\"NAP\",120,217,0,\"Normal\",137,\"N\",0.0,\"Up\",0],[\"M\",\"ATA\",140,196,0,\"Normal\",150,\"N\",0.0,\"Up\",0],[\"M\",\"ATA\",140,263,0,\"Normal\",170,\"N\",0.0,\"Up\",0],[\"F\",\"NAP\",120,195,0,\"Normal\",125,\"N\",0.0,\"Up\",0],[\"M\",\"NAP\",120,298,0,\"Normal\",185,\"N\",0.0,\"Up\",0],[\"M\",\"ATA\",120,256,1,\"Normal\",137,\"N\",0.0,\"Up\",0],[\"M\",\"NAP\",120,195,0,\"Normal\",140,\"N\",0.0,\"Up\",0],[\"M\",\"ATA\",120,295,0,\"Normal\",170,\"N\",0.0,\"Up\",0],[\"F\",\"ASY\",130,173,0,\"ST\",184,\"N\",0.0,\"Up\",0],[\"M\",\"ASY\",130,315,0,\"Normal\",158,\"N\",0.0,\"Up\",0],[\"M\",\"NAP\",130,281,0,\"Normal\",167,\"N\",0.0,\"Up\",0],[\"F\",\"ATA\",120,275,0,\"Normal\",129,\"N\",0.0,\"Up\",0],[\"M\",\"ASY\",112,250,0,\"Normal\",142,\"N\",0.0,\"Up\",0],[\"F\",\"ATA\",140,309,0,\"ST\",140,\"N\",0.0,\"Up\",0],[\"M\",\"ATA\",120,200,0,\"Normal\",160,\"Y\",1.0,\"Flat\",0],[\"M\",\"ATA\",145,326,0,\"Normal\",155,\"N\",0.0,\"Up\",0],[\"F\",\"ATA\",120,266,0,\"Normal\",118,\"N\",0.0,\"Up\",0],[\"M\",\"TA\",120,171,0,\"Normal\",137,\"N\",2.0,\"Up\",0],[\"M\",\"ASY\",125,292,0,\"ST\",115,\"Y\",0.0,\"Up\",0],[\"M\",\"ATA\",140,271,0,\"Normal\",152,\"N\",1.0,\"Up\",0],[\"F\",\"NAP\",120,274,0,\"Normal\",130,\"N\",0.0,\"Up\",0],[\"F\",\"ATA\",130,394,0,\"LVH\",150,\"N\",0.0,\"Up\",0],[\"M\",\"NAP\",150,160,0,\"Normal\",172,\"N\",0.0,\"Up\",0],[\"F\",\"NAP\",150,200,0,\"Normal\",120,\"N\",0.5,\"Up\",0],[\"F\",\"ATA\",122,320,0,\"Normal\",155,\"N\",0.0,\"Up\",0],[\"M\",\"ATA\",140,275,0,\"Normal\",165,\"Y\",0.0,\"Up\",0],[\"F\",\"ATA\",120,221,0,\"Normal\",138,\"N\",1.0,\"Up\",0],[\"M\",\"ATA\",160,305,0,\"Normal\",175,\"N\",0.0,\"Up\",0],[\"M\",\"ATA\",98,220,0,\"Normal\",150,\"N\",0.0,\"Up\",0],[\"F\",\"NAP\",130,235,0,\"Normal\",145,\"N\",2.0,\"Flat\",0],[\"M\",\"ASY\",120,225,0,\"Normal\",140,\"N\",0.0,\"Up\",0],[\"F\",\"ATA\",105,198,0,\"Normal\",165,\"N\",0.0,\"Up\",0],[\"M\",\"NAP\",120,220,0,\"LVH\",134,\"N\",0.0,\"Up\",0],[\"F\",\"ATA\",180,295,0,\"Normal\",180,\"N\",0.0,\"Up\",0],[\"M\",\"NAP\",180,213,0,\"Normal\",100,\"N\",0.0,\"Up\",0],[\"F\",\"ASY\",180,347,0,\"ST\",126,\"Y\",0.8,\"Flat\",0],[\"F\",\"ATA\",130,253,0,\"ST\",155,\"N\",0.0,\"Up\",0],[\"M\",\"NAP\",120,246,0,\"LVH\",135,\"N\",0.0,\"Up\",0],[\"F\",\"NAP\",130,220,0,\"Normal\",160,\"Y\",2.0,\"Up\",0],[\"F\",\"ATA\",110,344,0,\"ST\",160,\"N\",0.0,\"Up\",0],[\"M\",\"ASY\",140,358,0,\"Normal\",170,\"N\",0.0,\"Up\",0],[\"F\",\"NAP\",110,190,0,\"Normal\",120,\"N\",0.0,\"Up\",0],[\"M\",\"ASY\",140,169,0,\"Normal\",140,\"N\",0.0,\"Up\",0],[\"M\",\"ATA\",120,181,0,\"Normal\",132,\"N\",0.0,\"Up\",0],[\"F\",\"ATA\",133,308,0,\"ST\",156,\"N\",2.0,\"Up\",0],[\"M\",\"ATA\",120,166,0,\"Normal\",180,\"N\",0.0,\"Up\",0],[\"M\",\"NAP\",110,211,0,\"Normal\",138,\"N\",0.0,\"Up\",0],[\"F\",\"ATA\",140,257,0,\"Normal\",135,\"N\",1.0,\"Up\",0],[\"M\",\"ASY\",130,182,0,\"Normal\",148,\"N\",0.0,\"Up\",0],[\"M\",\"ATA\",140,0,0,\"ST\",150,\"N\",0.2,\"Up\",0],[\"M\",\"ATA\",130,0,0,\"ST\",120,\"N\",0.7,\"Down\",0],[\"M\",\"ASY\",155,0,0,\"Normal\",154,\"N\",1.0,\"Up\",0],[\"M\",\"ASY\",80,0,0,\"Normal\",141,\"Y\",2.0,\"Down\",0],[\"M\",\"NAP\",110,0,0,\"Normal\",138,\"N\",-0.1,\"Up\",0],[\"M\",\"NAP\",100,0,0,\"Normal\",179,\"N\",-1.1,\"Up\",0],[\"M\",\"NAP\",160,0,0,\"LVH\",114,\"N\",1.6,\"Flat\",0],[\"M\",\"NAP\",120,0,0,\"Normal\",97,\"N\",0.0,\"Flat\",0],[\"M\",\"ASY\",130,209,0,\"ST\",127,\"N\",0.0,\"Up\",0],[\"M\",\"NAP\",110,213,1,\"LVH\",99,\"Y\",1.3,\"Flat\",0],[\"M\",\"NAP\",120,0,0,\"ST\",120,\"N\",-0.5,\"Up\",0],[\"M\",\"NAP\",180,0,0,\"ST\",140,\"Y\",1.5,\"Flat\",0],[\"M\",\"ATA\",126,166,0,\"ST\",140,\"N\",0.0,\"Up\",0],[\"M\",\"ASY\",120,220,0,\"ST\",86,\"N\",0.0,\"Up\",0],[\"M\",\"ASY\",126,0,0,\"ST\",120,\"N\",1.5,\"Down\",0],[\"M\",\"ASY\",152,0,0,\"ST\",118,\"Y\",0.0,\"Up\",0],[\"M\",\"NAP\",138,0,0,\"Normal\",116,\"N\",0.2,\"Up\",0],[\"M\",\"ASY\",120,0,0,\"Normal\",133,\"Y\",2.0,\"Up\",0],[\"M\",\"ASY\",154,0,0,\"ST\",131,\"Y\",1.5,\"Up\",0],[\"M\",\"ASY\",104,0,0,\"ST\",111,\"N\",0.0,\"Up\",0],[\"M\",\"ASY\",128,0,0,\"Normal\",107,\"N\",0.0,\"Up\",0],[\"M\",\"NAP\",134,240,0,\"Normal\",160,\"N\",0.0,\"Up\",0],[\"F\",\"ATA\",132,0,0,\"Normal\",130,\"N\",0.1,\"Up\",0],[\"M\",\"ATA\",124,224,1,\"Normal\",161,\"N\",2.0,\"Flat\",0],[\"M\",\"ATA\",131,0,0,\"Normal\",130,\"N\",0.1,\"Up\",0],[\"M\",\"ASY\",132,218,1,\"LVH\",139,\"N\",0.1,\"Up\",0],[\"M\",\"ATA\",110,214,1,\"ST\",180,\"N\",0.4,\"Up\",0],[\"M\",\"TA\",140,252,0,\"Normal\",135,\"N\",0.3,\"Up\",0],[\"M\",\"ASY\",132,458,1,\"Normal\",69,\"N\",1.0,\"Down\",0],[\"M\",\"ASY\",132,227,1,\"ST\",138,\"N\",0.2,\"Up\",0],[\"M\",\"NAP\",106,240,0,\"Normal\",80,\"Y\",0.0,\"Up\",0],[\"M\",\"ASY\",136,195,0,\"Normal\",126,\"N\",0.3,\"Up\",0],[\"M\",\"NAP\",123,161,0,\"ST\",153,\"N\",-0.1,\"Up\",0],[\"M\",\"NAP\",130,0,1,\"ST\",160,\"N\",3.0,\"Flat\",0],[\"M\",\"ASY\",130,223,0,\"ST\",128,\"N\",0.5,\"Flat\",0],[\"M\",\"ASY\",150,160,0,\"ST\",150,\"N\",0.0,\"Up\",0],[\"M\",\"NAP\",130,236,0,\"Normal\",144,\"N\",0.1,\"Up\",0],[\"M\",\"ATA\",139,283,0,\"Normal\",135,\"N\",0.3,\"Up\",0],[\"M\",\"ASY\",110,197,0,\"LVH\",100,\"N\",0.0,\"Up\",0],[\"F\",\"ATA\",140,298,1,\"Normal\",120,\"Y\",0.0,\"Up\",0],[\"M\",\"ASY\",132,272,0,\"ST\",139,\"N\",0.2,\"Up\",0],[\"M\",\"TA\",139,181,1,\"ST\",135,\"N\",0.2,\"Up\",0],[\"M\",\"NAP\",120,220,0,\"LVH\",86,\"N\",0.0,\"Up\",0],[\"M\",\"NAP\",155,175,1,\"ST\",160,\"N\",0.3,\"Up\",0],[\"M\",\"ASY\",160,310,1,\"Normal\",112,\"Y\",2.0,\"Down\",0],[\"M\",\"NAP\",133,203,0,\"ST\",137,\"N\",0.2,\"Up\",0],[\"M\",\"ATA\",132,182,0,\"ST\",141,\"N\",0.1,\"Up\",0],[\"M\",\"ASY\",140,274,0,\"Normal\",154,\"Y\",2.0,\"Flat\",0],[\"M\",\"ASY\",150,171,0,\"Normal\",128,\"Y\",1.5,\"Flat\",0],[\"M\",\"NAP\",142,271,0,\"LVH\",126,\"N\",0.3,\"Up\",0],[\"M\",\"NAP\",118,240,0,\"LVH\",165,\"N\",1.0,\"Flat\",0],[\"M\",\"ATA\",136,165,0,\"ST\",133,\"N\",0.2,\"Up\",0],[\"M\",\"ASY\",100,213,0,\"ST\",110,\"N\",0.0,\"Up\",0],[\"M\",\"NAP\",133,185,0,\"ST\",136,\"N\",0.2,\"Up\",0],[\"M\",\"ASY\",130,207,0,\"ST\",96,\"Y\",1.0,\"Flat\",0],[\"M\",\"NAP\",134,254,1,\"Normal\",151,\"Y\",0.0,\"Up\",0],[\"F\",\"ASY\",114,258,1,\"LVH\",96,\"N\",1.0,\"Up\",0],[\"M\",\"TA\",135,139,0,\"ST\",137,\"N\",0.2,\"Up\",0],[\"M\",\"ASY\",140,385,1,\"LVH\",135,\"N\",0.3,\"Up\",0],[\"F\",\"NAP\",115,564,0,\"LVH\",160,\"N\",1.6,\"Flat\",0],[\"M\",\"ASY\",128,263,0,\"Normal\",105,\"Y\",0.2,\"Flat\",0],[\"F\",\"ATA\",120,269,0,\"LVH\",121,\"Y\",0.2,\"Up\",0],[\"M\",\"ASY\",120,177,0,\"Normal\",140,\"N\",0.4,\"Up\",0],[\"M\",\"ASY\",135,234,0,\"Normal\",161,\"N\",0.5,\"Flat\",0],[\"M\",\"ASY\",142,226,0,\"LVH\",111,\"Y\",0.0,\"Up\",0],[\"M\",\"NAP\",140,235,0,\"LVH\",180,\"N\",0.0,\"Up\",0],[\"F\",\"ASY\",128,303,0,\"LVH\",159,\"N\",0.0,\"Up\",0],[\"F\",\"ASY\",112,149,0,\"Normal\",125,\"N\",1.6,\"Flat\",0],[\"M\",\"TA\",110,211,0,\"LVH\",144,\"Y\",1.8,\"Flat\",0],[\"M\",\"TA\",140,199,0,\"Normal\",178,\"Y\",1.4,\"Up\",0],[\"M\",\"ATA\",130,245,0,\"LVH\",180,\"N\",0.2,\"Flat\",0],[\"M\",\"ASY\",115,303,0,\"Normal\",181,\"N\",1.2,\"Flat\",0],[\"M\",\"ASY\",112,204,0,\"Normal\",143,\"N\",0.1,\"Up\",0],[\"F\",\"ATA\",132,288,1,\"LVH\",159,\"Y\",0.0,\"Up\",0],[\"F\",\"NAP\",130,275,0,\"Normal\",139,\"N\",0.2,\"Up\",0],[\"F\",\"ASY\",138,243,0,\"LVH\",152,\"Y\",0.0,\"Flat\",0],[\"F\",\"NAP\",120,295,0,\"LVH\",157,\"N\",0.6,\"Up\",0],[\"F\",\"NAP\",110,265,1,\"LVH\",130,\"N\",0.0,\"Up\",0],[\"M\",\"ASY\",160,228,0,\"LVH\",138,\"N\",2.3,\"Up\",0],[\"F\",\"NAP\",120,215,0,\"Normal\",170,\"N\",0.0,\"Up\",0],[\"M\",\"NAP\",130,180,0,\"Normal\",150,\"N\",0.0,\"Up\",0],[\"M\",\"ASY\",122,222,0,\"LVH\",186,\"N\",0.0,\"Up\",0],[\"F\",\"ASY\",124,209,0,\"Normal\",163,\"N\",0.0,\"Up\",0],[\"M\",\"NAP\",130,233,0,\"Normal\",179,\"Y\",0.4,\"Up\",0],[\"M\",\"ATA\",101,197,1,\"Normal\",156,\"N\",0.0,\"Up\",0],[\"M\",\"NAP\",140,211,1,\"LVH\",165,\"N\",0.0,\"Up\",0],[\"M\",\"ATA\",128,205,1,\"Normal\",184,\"N\",0.0,\"Up\",0],[\"F\",\"NAP\",140,417,1,\"LVH\",157,\"N\",0.8,\"Up\",0],[\"F\",\"ATA\",140,195,0,\"Normal\",179,\"N\",0.0,\"Up\",0],[\"F\",\"ATA\",130,234,0,\"LVH\",175,\"N\",0.6,\"Flat\",0],[\"F\",\"ATA\",105,198,0,\"Normal\",168,\"N\",0.0,\"Up\",0],[\"F\",\"NAP\",120,178,1,\"Normal\",96,\"N\",0.0,\"Up\",0],[\"M\",\"NAP\",150,126,1,\"Normal\",173,\"N\",0.2,\"Up\",0],[\"M\",\"NAP\",120,226,0,\"Normal\",169,\"N\",0.0,\"Up\",0],[\"F\",\"TA\",150,240,0,\"Normal\",171,\"N\",0.9,\"Up\",0],[\"M\",\"TA\",145,233,1,\"LVH\",150,\"N\",2.3,\"Down\",0],[\"M\",\"ASY\",140,261,0,\"LVH\",186,\"Y\",0.0,\"Up\",0],[\"F\",\"NAP\",118,242,0,\"Normal\",149,\"N\",0.3,\"Flat\",0],[\"F\",\"ASY\",120,354,0,\"Normal\",163,\"Y\",0.6,\"Up\",0],[\"M\",\"ATA\",156,245,0,\"LVH\",143,\"N\",0.0,\"Up\",0],[\"F\",\"NAP\",140,197,0,\"ST\",116,\"N\",1.1,\"Flat\",0],[\"F\",\"ASY\",106,223,0,\"Normal\",142,\"N\",0.3,\"Up\",0],[\"M\",\"ASY\",104,208,0,\"LVH\",148,\"Y\",3.0,\"Flat\",0],[\"F\",\"NAP\",94,199,0,\"Normal\",179,\"N\",0.0,\"Up\",0],[\"F\",\"NAP\",120,209,0,\"Normal\",173,\"N\",0.0,\"Flat\",0],[\"M\",\"ATA\",120,236,0,\"Normal\",178,\"N\",0.8,\"Up\",0],[\"M\",\"NAP\",130,214,0,\"LVH\",168,\"N\",2.0,\"Flat\",0],[\"M\",\"ASY\",110,201,0,\"Normal\",126,\"Y\",1.5,\"Flat\",0],[\"M\",\"TA\",148,244,0,\"LVH\",178,\"N\",0.8,\"Up\",0],[\"M\",\"ATA\",128,208,1,\"LVH\",140,\"N\",0.0,\"Up\",0],[\"M\",\"TA\",178,270,0,\"LVH\",145,\"N\",4.2,\"Down\",0],[\"F\",\"ATA\",126,306,0,\"Normal\",163,\"N\",0.0,\"Up\",0],[\"M\",\"ATA\",140,221,0,\"Normal\",164,\"Y\",0.0,\"Up\",0],[\"M\",\"ASY\",120,302,0,\"LVH\",151,\"N\",0.4,\"Flat\",0],[\"F\",\"NAP\",140,313,0,\"Normal\",133,\"N\",0.2,\"Up\",0],[\"F\",\"ATA\",120,244,0,\"Normal\",162,\"N\",1.1,\"Up\",0],[\"F\",\"NAP\",108,141,0,\"Normal\",175,\"N\",0.6,\"Flat\",0],[\"F\",\"ASY\",130,269,0,\"Normal\",163,\"N\",0.0,\"Up\",0],[\"M\",\"NAP\",100,222,0,\"Normal\",143,\"Y\",1.2,\"Flat\",0],[\"F\",\"ATA\",112,160,0,\"Normal\",138,\"N\",0.0,\"Flat\",0],[\"M\",\"ATA\",110,235,0,\"Normal\",153,\"N\",0.0,\"Up\",0],[\"F\",\"NAP\",135,304,1,\"Normal\",170,\"N\",0.0,\"Up\",0],[\"M\",\"ATA\",120,295,0,\"Normal\",162,\"N\",0.0,\"Up\",0],[\"F\",\"ATA\",134,271,0,\"Normal\",162,\"N\",0.0,\"Flat\",0],[\"F\",\"TA\",150,226,0,\"Normal\",114,\"N\",2.6,\"Down\",0],[\"F\",\"NAP\",160,360,0,\"LVH\",151,\"N\",0.8,\"Up\",0],[\"M\",\"NAP\",125,273,0,\"LVH\",152,\"N\",0.5,\"Down\",0],[\"F\",\"NAP\",160,201,0,\"Normal\",163,\"N\",0.0,\"Up\",0],[\"F\",\"NAP\",136,196,0,\"LVH\",169,\"N\",0.1,\"Flat\",0],[\"M\",\"ATA\",134,201,0,\"Normal\",158,\"N\",0.8,\"Up\",0],[\"M\",\"ASY\",140,226,0,\"Normal\",178,\"N\",0.0,\"Up\",0],[\"M\",\"NAP\",150,232,0,\"LVH\",165,\"N\",1.6,\"Up\",0],[\"F\",\"NAP\",142,177,0,\"LVH\",160,\"Y\",1.4,\"Down\",0],[\"F\",\"NAP\",152,277,0,\"Normal\",172,\"N\",0.0,\"Up\",0],[\"F\",\"ATA\",118,210,0,\"Normal\",192,\"N\",0.7,\"Up\",0],[\"M\",\"ASY\",132,207,0,\"Normal\",168,\"Y\",0.0,\"Up\",0],[\"M\",\"ASY\",138,271,0,\"LVH\",182,\"N\",0.0,\"Up\",0],[\"M\",\"TA\",125,213,0,\"LVH\",125,\"Y\",1.4,\"Up\",0],[\"F\",\"NAP\",112,268,0,\"LVH\",172,\"Y\",0.0,\"Up\",0],[\"M\",\"NAP\",112,250,0,\"Normal\",179,\"N\",0.0,\"Up\",0],[\"F\",\"NAP\",120,219,0,\"Normal\",158,\"N\",1.6,\"Flat\",0],[\"F\",\"NAP\",108,267,0,\"LVH\",167,\"N\",0.0,\"Up\",0],[\"F\",\"ASY\",130,303,0,\"Normal\",122,\"N\",2.0,\"Flat\",0],[\"F\",\"NAP\",130,256,0,\"LVH\",149,\"N\",0.5,\"Up\",0],[\"F\",\"ATA\",105,204,0,\"Normal\",172,\"N\",0.0,\"Up\",0],[\"M\",\"ATA\",128,308,0,\"LVH\",170,\"N\",0.0,\"Up\",0],[\"M\",\"TA\",120,193,0,\"LVH\",162,\"N\",1.9,\"Flat\",0],[\"M\",\"ATA\",130,262,0,\"Normal\",155,\"N\",0.0,\"Up\",0],[\"M\",\"ASY\",110,211,0,\"Normal\",161,\"N\",0.0,\"Up\",0],[\"F\",\"ASY\",180,325,0,\"Normal\",154,\"Y\",0.0,\"Up\",0],[\"F\",\"ASY\",110,254,0,\"LVH\",159,\"N\",0.0,\"Up\",0],[\"M\",\"NAP\",130,197,1,\"LVH\",152,\"N\",1.2,\"Down\",0],[\"F\",\"ASY\",138,236,0,\"LVH\",152,\"Y\",0.2,\"Flat\",0],[\"M\",\"TA\",160,234,1,\"LVH\",131,\"N\",0.1,\"Flat\",0],[\"F\",\"NAP\",120,211,0,\"LVH\",115,\"N\",1.5,\"Flat\",0],[\"M\",\"TA\",118,182,0,\"LVH\",174,\"N\",0.0,\"Up\",0],[\"M\",\"NAP\",129,196,0,\"Normal\",163,\"N\",0.0,\"Up\",0],[\"M\",\"NAP\",120,240,1,\"Normal\",194,\"N\",0.8,\"Down\",0],[\"F\",\"ASY\",102,265,0,\"LVH\",122,\"N\",0.6,\"Flat\",0],[\"M\",\"NAP\",130,246,1,\"LVH\",173,\"N\",0.0,\"Up\",0],[\"M\",\"NAP\",130,315,0,\"Normal\",162,\"N\",1.9,\"Up\",0],[\"M\",\"ASY\",108,233,1,\"Normal\",147,\"N\",0.1,\"Up\",0],[\"F\",\"ASY\",140,394,0,\"LVH\",157,\"N\",1.2,\"Flat\",0],[\"M\",\"ASY\",140,239,0,\"Normal\",160,\"N\",1.2,\"Up\",0],[\"M\",\"ATA\",108,309,0,\"Normal\",156,\"N\",0.0,\"Up\",0],[\"M\",\"NAP\",124,255,1,\"Normal\",175,\"N\",0.0,\"Up\",0],[\"F\",\"ATA\",135,250,0,\"LVH\",161,\"N\",1.4,\"Flat\",0],[\"F\",\"ASY\",100,248,0,\"LVH\",122,\"N\",1.0,\"Flat\",0],[\"F\",\"NAP\",110,214,0,\"Normal\",158,\"N\",1.6,\"Flat\",0],[\"F\",\"TA\",140,239,0,\"Normal\",151,\"N\",1.8,\"Up\",0],[\"M\",\"NAP\",118,277,0,\"Normal\",151,\"N\",1.0,\"Up\",0],[\"M\",\"TA\",152,298,1,\"Normal\",178,\"N\",1.2,\"Flat\",0],[\"F\",\"NAP\",102,318,0,\"Normal\",160,\"N\",0.0,\"Up\",0],[\"M\",\"NAP\",105,240,0,\"LVH\",154,\"Y\",0.6,\"Flat\",0],[\"M\",\"NAP\",130,250,0,\"Normal\",187,\"N\",3.5,\"Down\",0],[\"M\",\"NAP\",125,245,1,\"LVH\",166,\"N\",2.4,\"Flat\",0],[\"F\",\"NAP\",122,213,0,\"Normal\",165,\"N\",0.2,\"Flat\",0],[\"M\",\"ATA\",130,204,0,\"LVH\",202,\"N\",0.0,\"Up\",0],[\"F\",\"ATA\",130,204,0,\"LVH\",172,\"N\",1.4,\"Up\",0],[\"F\",\"NAP\",135,252,0,\"LVH\",172,\"N\",0.0,\"Up\",0],[\"M\",\"NAP\",94,227,0,\"Normal\",154,\"Y\",0.0,\"Up\",0],[\"M\",\"NAP\",120,258,0,\"LVH\",147,\"N\",0.4,\"Flat\",0],[\"M\",\"ATA\",120,220,0,\"Normal\",170,\"N\",0.0,\"Up\",0],[\"M\",\"NAP\",150,168,0,\"Normal\",174,\"N\",1.6,\"Up\",0],[\"F\",\"ASY\",138,183,0,\"Normal\",182,\"N\",1.4,\"Up\",0],[\"M\",\"ATA\",135,203,0,\"Normal\",132,\"N\",0.0,\"Flat\",0],[\"F\",\"TA\",150,283,1,\"LVH\",162,\"N\",1.0,\"Up\",0],[\"M\",\"TA\",118,186,0,\"LVH\",190,\"N\",0.0,\"Flat\",0],[\"M\",\"ASY\",115,260,0,\"LVH\",185,\"N\",0.0,\"Up\",0],[\"M\",\"NAP\",130,231,0,\"Normal\",146,\"N\",1.8,\"Flat\",0],[\"F\",\"ASY\",138,234,0,\"LVH\",160,\"N\",0.0,\"Up\",0],[\"M\",\"NAP\",138,257,0,\"LVH\",156,\"N\",0.0,\"Up\",0],[\"M\",\"ATA\",120,325,0,\"Normal\",172,\"N\",0.2,\"Up\",0],[\"M\",\"NAP\",140,321,0,\"LVH\",182,\"N\",0.0,\"Up\",0],[\"F\",\"ASY\",130,264,0,\"LVH\",143,\"N\",0.4,\"Flat\",0],[\"F\",\"NAP\",140,308,0,\"LVH\",142,\"N\",1.5,\"Up\",0],[\"F\",\"NAP\",155,269,0,\"Normal\",148,\"N\",0.8,\"Up\",0],[\"M\",\"ATA\",130,219,0,\"LVH\",188,\"N\",0.0,\"Up\",0],[\"M\",\"NAP\",110,175,0,\"Normal\",123,\"N\",0.6,\"Up\",0],[\"M\",\"NAP\",150,212,1,\"Normal\",157,\"N\",1.6,\"Up\",0],[\"F\",\"ATA\",160,302,0,\"Normal\",162,\"N\",0.4,\"Up\",0],[\"M\",\"NAP\",150,243,1,\"Normal\",137,\"Y\",1.0,\"Flat\",0],[\"M\",\"ASY\",150,247,0,\"Normal\",171,\"N\",1.5,\"Up\",0],[\"F\",\"NAP\",120,340,0,\"Normal\",172,\"N\",0.0,\"Up\",0],[\"M\",\"ATA\",130,266,0,\"Normal\",171,\"N\",0.6,\"Up\",0],[\"M\",\"NAP\",172,199,1,\"Normal\",162,\"N\",0.5,\"Up\",0],[\"M\",\"ATA\",120,263,0,\"Normal\",173,\"N\",0.0,\"Up\",0],[\"F\",\"ATA\",140,294,0,\"LVH\",153,\"N\",1.3,\"Flat\",0],[\"M\",\"ASY\",140,192,0,\"Normal\",148,\"N\",0.4,\"Flat\",0],[\"F\",\"NAP\",128,216,0,\"LVH\",115,\"N\",0.0,\"Up\",0],[\"M\",\"NAP\",138,223,0,\"Normal\",169,\"N\",0.0,\"Up\",0],[\"M\",\"TA\",170,227,0,\"LVH\",155,\"N\",0.6,\"Flat\",0],[\"F\",\"NAP\",146,278,0,\"LVH\",152,\"N\",0.0,\"Flat\",0],[\"F\",\"NAP\",138,220,0,\"Normal\",152,\"N\",0.0,\"Flat\",0],[\"F\",\"ASY\",130,197,0,\"Normal\",131,\"N\",0.6,\"Flat\",0],[\"M\",\"NAP\",130,253,0,\"Normal\",179,\"N\",0.0,\"Up\",0],[\"M\",\"ATA\",122,192,0,\"Normal\",174,\"N\",0.0,\"Up\",0],[\"M\",\"ATA\",125,220,0,\"Normal\",144,\"N\",0.4,\"Flat\",0],[\"M\",\"ATA\",130,221,0,\"LVH\",163,\"N\",0.0,\"Up\",0],[\"M\",\"ATA\",120,240,0,\"Normal\",169,\"N\",0.0,\"Down\",0],[\"F\",\"ATA\",132,342,0,\"Normal\",166,\"N\",1.2,\"Up\",0],[\"M\",\"ATA\",120,157,0,\"Normal\",182,\"N\",0.0,\"Up\",0],[\"M\",\"NAP\",138,175,0,\"Normal\",173,\"N\",0.0,\"Up\",0]],\"hovertemplate\":\"HeartDisease=%{customdata[10]}<br>Age=%{x}<br>Sex=%{customdata[0]}<br>ChestPainType=%{customdata[1]}<br>RestingBP=%{customdata[2]}<br>Cholesterol=%{customdata[3]}<br>FastingBS=%{customdata[4]}<br>RestingECG=%{customdata[5]}<br>MaxHR=%{customdata[6]}<br>ExerciseAngina=%{customdata[7]}<br>Oldpeak=%{customdata[8]}<br>ST_Slope=%{customdata[9]}<extra></extra>\",\"legendgroup\":\"0\",\"marker\":{\"color\":\"#636efa\"},\"name\":\"0\",\"notched\":true,\"offsetgroup\":\"0\",\"showlegend\":false,\"x\":[40,37,54,39,45,54,48,37,39,42,54,43,43,44,49,40,36,53,52,53,51,56,43,32,41,48,48,54,35,52,59,37,50,36,45,41,52,51,54,49,43,45,50,37,45,32,44,44,44,46,35,52,55,54,52,53,55,49,39,52,39,43,39,56,41,51,57,48,34,50,39,59,47,38,49,35,52,46,58,54,34,48,54,42,38,61,43,39,53,39,42,43,50,39,48,40,55,41,49,54,47,42,52,48,58,58,29,40,53,49,59,37,46,51,46,54,58,50,46,50,48,45,41,62,49,42,57,47,46,42,31,56,50,35,28,56,56,30,54,55,29,48,33,55,53,41,37,37,40,38,41,54,39,55,43,54,61,62,53,55,36,51,55,46,54,54,34,47,45,32,55,45,59,57,54,60,51,55,42,51,59,53,48,36,48,47,53,55,53,65,53,45,38,72,56,44,66,66,60,56,62,63,60,74,60,59,41,51,42,63,56,62,51,55,65,58,51,40,60,35,63,64,55,45,61,57,61,48,68,62,53,75,54,54,59,41,69,37,63,58,55,57,68,51,62,58,67,64,74,65,59,53,44,57,71,64,40,48,43,47,54,48,46,51,71,66,37,42,48,62,44,46,58,52,65,63,45,41,60,57,44,60,63,51,44,57,70,76,67,45,39,42,56,41,57,42,62,59,41,59,66,64,50,44,49,51,45,41,54,42,49,66,65,54,54,52,52,42,54,46,67,34,57,59,51,41,41,50,54,64,51,46,45,56,55,43,64,50,53,45,69,68,34,50,42,42,53,43,52,62,54,54,48,55,58,54,69,68,52,60,58,37,51,43,29,41,63,51,54,44,57,35,41,58,52,45,62,53,47,52,39,53,51,65,44,51,59,71,61,43,58,49,52,44,56,57,53,52,64,66,39,58,47,35,58,56,56,55,41,38],\"xaxis\":\"x2\",\"yaxis\":\"y2\",\"type\":\"box\"},{\"alignmentgroup\":\"True\",\"bingroup\":\"x\",\"hovertemplate\":\"HeartDisease=1<br>Age=%{x}<br>count=%{y}<extra></extra>\",\"legendgroup\":\"1\",\"marker\":{\"color\":\"#EF553B\",\"pattern\":{\"shape\":\"\"}},\"name\":\"1\",\"offsetgroup\":\"1\",\"orientation\":\"v\",\"showlegend\":true,\"x\":[49,48,37,58,49,38,60,36,44,53,54,41,65,54,43,41,50,47,31,58,52,46,52,57,52,55,32,49,63,56,66,65,43,48,58,65,40,40,46,57,33,38,59,34,47,58,46,56,56,49,54,43,52,50,47,56,54,56,38,44,59,49,46,50,52,43,54,52,52,58,41,53,53,35,54,48,50,47,39,46,51,50,38,41,55,48,48,54,55,48,54,48,45,49,44,48,55,46,59,47,52,54,55,51,52,49,65,32,61,50,57,51,47,60,53,62,51,51,55,58,57,60,41,34,74,57,56,61,68,59,63,38,62,46,42,59,52,60,60,56,40,51,62,63,63,64,43,64,61,52,51,69,59,48,69,36,53,43,56,58,55,67,46,53,38,53,62,47,56,56,64,61,68,57,63,60,66,63,59,61,73,47,65,70,50,60,50,43,38,54,61,42,53,55,61,51,70,61,38,57,38,62,58,52,61,50,51,65,52,47,35,57,62,59,53,62,54,56,56,54,66,63,60,55,65,60,60,59,62,63,57,63,46,58,64,63,52,69,51,60,56,55,54,77,63,55,52,64,60,58,61,40,61,57,63,59,59,55,62,53,68,53,60,59,61,57,56,58,69,67,58,65,63,57,54,72,75,49,51,60,64,61,67,62,65,63,69,62,55,75,67,58,63,62,43,68,65,48,63,61,50,59,65,49,72,50,64,55,63,59,56,62,74,54,62,76,54,70,48,61,66,55,71,74,58,56,58,64,55,57,61,71,38,55,56,69,64,72,69,56,62,67,57,69,51,48,69,64,57,53,67,74,61,64,58,60,57,55,56,61,61,74,62,53,62,46,54,55,62,70,57,56,59,60,63,61,46,53,67,58,57,59,50,48,61,59,40,59,49,44,66,65,42,61,59,62,51,57,58,47,61,45,58,35,58,50,61,54,54,52,47,58,67,57,63,48,60,59,55,60,46,56,56,49,54,57,62,60,63,66,64,56,64,50,54,53,52,40,58,55,66,38,62,58,65,69,67,62,51,46,67,56,41,56,70,70,35,77,58,60,51,55,64,59,58,54,65,63,62,43,61,39,52,62,43,68,62,60,65,60,60,54,44,55,64,60,58,48,67,43,52,59,57,57,55,61,58,58,67,44,63,63,59,57,45,68,57,57],\"xaxis\":\"x\",\"yaxis\":\"y\",\"type\":\"histogram\"},{\"alignmentgroup\":\"True\",\"customdata\":[[\"F\",\"NAP\",160,180,0,\"Normal\",156,\"N\",1.0,\"Flat\",1],[\"F\",\"ASY\",138,214,0,\"Normal\",108,\"Y\",1.5,\"Flat\",1],[\"M\",\"ASY\",140,207,0,\"Normal\",130,\"Y\",1.5,\"Flat\",1],[\"M\",\"ATA\",136,164,0,\"ST\",99,\"Y\",2.0,\"Flat\",1],[\"M\",\"ASY\",140,234,0,\"Normal\",140,\"Y\",1.0,\"Flat\",1],[\"M\",\"ASY\",110,196,0,\"Normal\",166,\"N\",0.0,\"Flat\",1],[\"M\",\"ASY\",100,248,0,\"Normal\",125,\"N\",1.0,\"Flat\",1],[\"M\",\"ATA\",120,267,0,\"Normal\",160,\"N\",3.0,\"Flat\",1],[\"M\",\"ATA\",150,288,0,\"Normal\",150,\"Y\",3.0,\"Flat\",1],[\"M\",\"NAP\",145,518,0,\"Normal\",130,\"N\",0.0,\"Flat\",1],[\"M\",\"ASY\",125,224,0,\"Normal\",122,\"N\",2.0,\"Flat\",1],[\"M\",\"ASY\",130,172,0,\"ST\",130,\"N\",2.0,\"Flat\",1],[\"M\",\"ASY\",140,306,1,\"Normal\",87,\"Y\",1.5,\"Flat\",1],[\"F\",\"NAP\",130,294,0,\"ST\",100,\"Y\",0.0,\"Flat\",1],[\"M\",\"ASY\",120,175,0,\"Normal\",120,\"Y\",1.0,\"Flat\",1],[\"M\",\"ASY\",110,289,0,\"Normal\",170,\"N\",0.0,\"Flat\",1],[\"M\",\"ASY\",130,233,0,\"Normal\",121,\"Y\",2.0,\"Flat\",1],[\"F\",\"ASY\",120,205,0,\"Normal\",98,\"Y\",2.0,\"Flat\",1],[\"M\",\"ASY\",120,270,0,\"Normal\",153,\"Y\",1.5,\"Flat\",1],[\"M\",\"NAP\",130,213,0,\"ST\",140,\"N\",0.0,\"Flat\",1],[\"M\",\"ASY\",112,342,0,\"ST\",96,\"Y\",1.0,\"Flat\",1],[\"M\",\"ASY\",120,277,0,\"Normal\",125,\"Y\",1.0,\"Flat\",1],[\"M\",\"ASY\",160,246,0,\"ST\",82,\"Y\",4.0,\"Flat\",1],[\"M\",\"ATA\",140,265,0,\"ST\",145,\"Y\",1.0,\"Flat\",1],[\"M\",\"ASY\",120,182,0,\"Normal\",150,\"N\",0.0,\"Flat\",1],[\"M\",\"ASY\",140,268,0,\"Normal\",128,\"Y\",1.5,\"Flat\",1],[\"M\",\"ASY\",118,529,0,\"Normal\",130,\"N\",0.0,\"Flat\",1],[\"M\",\"ASY\",130,206,0,\"Normal\",170,\"N\",0.0,\"Flat\",1],[\"M\",\"ASY\",150,223,0,\"Normal\",115,\"N\",0.0,\"Flat\",1],[\"M\",\"ASY\",150,213,1,\"Normal\",125,\"Y\",1.0,\"Flat\",1],[\"M\",\"ASY\",140,139,0,\"Normal\",94,\"Y\",1.0,\"Flat\",1],[\"M\",\"ASY\",170,263,1,\"Normal\",112,\"Y\",2.0,\"Flat\",1],[\"M\",\"TA\",120,291,0,\"ST\",155,\"N\",0.0,\"Flat\",1],[\"M\",\"ASY\",160,329,0,\"Normal\",92,\"Y\",1.5,\"Flat\",1],[\"M\",\"ASY\",130,263,0,\"Normal\",140,\"Y\",2.0,\"Flat\",1],[\"M\",\"ASY\",130,275,0,\"ST\",115,\"Y\",1.0,\"Flat\",1],[\"F\",\"ASY\",150,392,0,\"Normal\",130,\"N\",2.0,\"Flat\",1],[\"M\",\"ASY\",120,466,1,\"Normal\",152,\"Y\",1.0,\"Flat\",1],[\"M\",\"ASY\",118,186,0,\"Normal\",124,\"N\",0.0,\"Flat\",1],[\"M\",\"ASY\",150,255,0,\"Normal\",92,\"Y\",3.0,\"Flat\",1],[\"F\",\"ASY\",100,246,0,\"Normal\",150,\"Y\",1.0,\"Flat\",1],[\"M\",\"ASY\",120,282,0,\"Normal\",170,\"N\",0.0,\"Flat\",1],[\"F\",\"ASY\",130,338,1,\"ST\",130,\"Y\",1.5,\"Flat\",1],[\"M\",\"TA\",140,156,0,\"Normal\",180,\"N\",0.0,\"Flat\",1],[\"F\",\"NAP\",135,248,1,\"Normal\",170,\"N\",0.0,\"Flat\",1],[\"F\",\"ATA\",180,393,0,\"Normal\",110,\"Y\",1.0,\"Flat\",1],[\"M\",\"ASY\",110,202,0,\"Normal\",150,\"Y\",0.0,\"Flat\",1],[\"M\",\"ASY\",170,388,0,\"ST\",122,\"Y\",2.0,\"Flat\",1],[\"M\",\"ASY\",150,230,0,\"ST\",124,\"Y\",1.5,\"Flat\",1],[\"M\",\"NAP\",115,265,0,\"Normal\",175,\"N\",0.0,\"Flat\",1],[\"M\",\"ASY\",140,166,0,\"Normal\",118,\"Y\",0.0,\"Flat\",1],[\"M\",\"ASY\",150,247,0,\"Normal\",130,\"Y\",2.0,\"Flat\",1],[\"M\",\"ASY\",160,331,0,\"Normal\",94,\"Y\",2.5,\"Flat\",1],[\"M\",\"ASY\",140,341,0,\"ST\",125,\"Y\",2.5,\"Flat\",1],[\"M\",\"ASY\",160,291,0,\"ST\",158,\"Y\",3.0,\"Flat\",1],[\"F\",\"ATA\",120,279,0,\"Normal\",150,\"N\",1.0,\"Flat\",1],[\"M\",\"ASY\",130,603,1,\"Normal\",125,\"Y\",1.0,\"Flat\",1],[\"M\",\"ASY\",155,342,1,\"Normal\",150,\"Y\",3.0,\"Flat\",1],[\"M\",\"ASY\",110,190,0,\"Normal\",150,\"Y\",1.0,\"Flat\",1],[\"M\",\"ASY\",130,290,0,\"Normal\",100,\"Y\",2.0,\"Flat\",1],[\"M\",\"ASY\",140,264,1,\"LVH\",119,\"Y\",0.0,\"Flat\",1],[\"M\",\"ASY\",128,212,0,\"Normal\",96,\"Y\",0.0,\"Flat\",1],[\"M\",\"TA\",140,272,1,\"Normal\",175,\"N\",2.0,\"Flat\",1],[\"M\",\"ASY\",140,231,0,\"ST\",140,\"Y\",5.0,\"Flat\",1],[\"M\",\"ASY\",140,266,0,\"Normal\",134,\"Y\",2.0,\"Flat\",1],[\"M\",\"ASY\",140,288,0,\"Normal\",135,\"Y\",2.0,\"Flat\",1],[\"M\",\"ASY\",140,216,0,\"Normal\",105,\"N\",1.5,\"Flat\",1],[\"M\",\"ASY\",130,225,0,\"Normal\",120,\"Y\",2.0,\"Flat\",1],[\"M\",\"ASY\",140,404,0,\"Normal\",124,\"Y\",2.0,\"Flat\",1],[\"M\",\"NAP\",160,211,1,\"ST\",92,\"N\",0.0,\"Flat\",1],[\"M\",\"ASY\",120,237,1,\"Normal\",138,\"Y\",1.0,\"Flat\",1],[\"M\",\"ASY\",180,285,0,\"ST\",120,\"Y\",1.5,\"Flat\",1],[\"M\",\"ASY\",120,246,0,\"Normal\",116,\"Y\",0.0,\"Flat\",1],[\"M\",\"ATA\",110,257,0,\"Normal\",140,\"N\",0.0,\"Flat\",1],[\"M\",\"ASY\",125,216,0,\"Normal\",140,\"N\",0.0,\"Flat\",1],[\"M\",\"ASY\",106,263,1,\"Normal\",110,\"N\",0.0,\"Flat\",1],[\"F\",\"NAP\",140,288,0,\"Normal\",140,\"Y\",0.0,\"Flat\",1],[\"M\",\"ASY\",150,226,0,\"Normal\",98,\"Y\",1.5,\"Flat\",1],[\"M\",\"ASY\",110,280,0,\"Normal\",150,\"N\",0.0,\"Flat\",1],[\"M\",\"ASY\",130,222,0,\"Normal\",112,\"N\",0.0,\"Flat\",1],[\"F\",\"ASY\",160,303,0,\"Normal\",150,\"Y\",1.0,\"Flat\",1],[\"M\",\"ASY\",145,264,0,\"Normal\",150,\"N\",0.0,\"Flat\",1],[\"M\",\"ASY\",92,117,0,\"Normal\",134,\"Y\",2.5,\"Flat\",1],[\"M\",\"ASY\",120,336,0,\"Normal\",118,\"Y\",3.0,\"Flat\",1],[\"M\",\"TA\",140,295,0,\"Normal\",136,\"N\",0.0,\"Flat\",1],[\"M\",\"ASY\",160,355,0,\"Normal\",99,\"Y\",2.0,\"Flat\",1],[\"M\",\"ASY\",160,193,0,\"Normal\",102,\"Y\",3.0,\"Flat\",1],[\"M\",\"ASY\",200,198,0,\"Normal\",142,\"Y\",2.0,\"Flat\",1],[\"M\",\"ATA\",160,292,1,\"Normal\",143,\"Y\",2.0,\"Flat\",1],[\"M\",\"ASY\",160,268,0,\"Normal\",103,\"Y\",1.0,\"Flat\",1],[\"M\",\"NAP\",120,237,0,\"Normal\",150,\"Y\",1.5,\"Flat\",1],[\"M\",\"ASY\",122,275,1,\"ST\",150,\"Y\",2.0,\"Down\",1],[\"M\",\"ASY\",130,219,0,\"ST\",130,\"Y\",1.0,\"Flat\",1],[\"M\",\"ASY\",130,341,0,\"Normal\",120,\"Y\",1.0,\"Flat\",1],[\"M\",\"ASY\",135,491,0,\"Normal\",135,\"N\",0.0,\"Flat\",1],[\"M\",\"ASY\",120,260,0,\"Normal\",115,\"N\",2.0,\"Flat\",1],[\"M\",\"ASY\",145,248,0,\"Normal\",96,\"Y\",2.0,\"Flat\",1],[\"M\",\"ASY\",120,231,0,\"Normal\",115,\"Y\",0.0,\"Flat\",1],[\"M\",\"ASY\",130,126,0,\"Normal\",125,\"N\",0.0,\"Flat\",1],[\"M\",\"NAP\",140,193,0,\"Normal\",145,\"Y\",1.0,\"Flat\",1],[\"M\",\"ASY\",130,298,0,\"Normal\",110,\"Y\",1.0,\"Flat\",1],[\"M\",\"ASY\",130,242,0,\"Normal\",91,\"Y\",1.0,\"Flat\",1],[\"M\",\"ASY\",140,201,0,\"Normal\",130,\"Y\",3.0,\"Flat\",1],[\"M\",\"NAP\",135,160,0,\"Normal\",150,\"N\",2.0,\"Flat\",1],[\"M\",\"ASY\",170,223,0,\"Normal\",126,\"Y\",1.5,\"Flat\",1],[\"M\",\"ASY\",150,222,0,\"Normal\",122,\"N\",2.0,\"Flat\",1],[\"M\",\"ASY\",115,0,0,\"Normal\",93,\"Y\",0.0,\"Flat\",1],[\"M\",\"TA\",95,0,1,\"Normal\",127,\"N\",0.7,\"Up\",1],[\"M\",\"ASY\",105,0,1,\"Normal\",110,\"Y\",1.5,\"Up\",1],[\"M\",\"ASY\",145,0,1,\"Normal\",139,\"Y\",0.7,\"Flat\",1],[\"M\",\"ASY\",110,0,1,\"ST\",131,\"Y\",1.4,\"Up\",1],[\"M\",\"ASY\",110,0,1,\"Normal\",92,\"N\",0.0,\"Flat\",1],[\"M\",\"ASY\",110,0,1,\"ST\",149,\"N\",2.1,\"Up\",1],[\"M\",\"ASY\",160,0,1,\"Normal\",149,\"N\",0.4,\"Flat\",1],[\"M\",\"ASY\",125,0,1,\"Normal\",120,\"N\",1.5,\"Up\",1],[\"F\",\"ASY\",120,0,1,\"ST\",123,\"Y\",1.7,\"Down\",1],[\"M\",\"ASY\",95,0,1,\"Normal\",126,\"N\",2.2,\"Flat\",1],[\"F\",\"ASY\",120,0,1,\"Normal\",127,\"Y\",1.5,\"Up\",1],[\"M\",\"ASY\",115,0,1,\"Normal\",155,\"N\",0.1,\"Flat\",1],[\"M\",\"ASY\",115,0,1,\"Normal\",138,\"N\",0.5,\"Up\",1],[\"M\",\"ASY\",95,0,1,\"Normal\",182,\"N\",0.7,\"Down\",1],[\"M\",\"ASY\",125,0,1,\"Normal\",110,\"N\",0.1,\"Up\",1],[\"M\",\"ASY\",125,0,1,\"Normal\",176,\"N\",1.6,\"Up\",1],[\"M\",\"ASY\",115,0,1,\"Normal\",154,\"N\",0.2,\"Up\",1],[\"M\",\"ATA\",145,0,1,\"ST\",123,\"N\",1.3,\"Up\",1],[\"M\",\"NAP\",105,0,1,\"Normal\",148,\"N\",0.3,\"Flat\",1],[\"M\",\"ASY\",140,0,1,\"Normal\",121,\"Y\",1.8,\"Up\",1],[\"M\",\"ASY\",130,0,1,\"Normal\",77,\"N\",2.5,\"Flat\",1],[\"M\",\"ASY\",145,0,1,\"Normal\",136,\"N\",1.8,\"Up\",1],[\"M\",\"NAP\",125,0,1,\"Normal\",175,\"N\",2.6,\"Flat\",1],[\"M\",\"ASY\",100,0,1,\"Normal\",109,\"N\",-0.9,\"Flat\",1],[\"F\",\"ASY\",105,0,1,\"Normal\",166,\"N\",2.8,\"Up\",1],[\"M\",\"ASY\",115,0,1,\"Normal\",128,\"Y\",2.5,\"Down\",1],[\"M\",\"ASY\",100,0,1,\"ST\",133,\"N\",-2.6,\"Flat\",1],[\"M\",\"ASY\",105,0,1,\"Normal\",128,\"Y\",-1.5,\"Down\",1],[\"M\",\"ASY\",125,0,1,\"Normal\",119,\"Y\",0.9,\"Up\",1],[\"M\",\"ASY\",95,0,1,\"Normal\",82,\"Y\",0.8,\"Flat\",1],[\"M\",\"ASY\",130,0,1,\"ST\",130,\"Y\",1.1,\"Down\",1],[\"M\",\"NAP\",115,0,1,\"Normal\",143,\"N\",2.4,\"Up\",1],[\"M\",\"ASY\",115,0,1,\"ST\",82,\"N\",-1.0,\"Up\",1],[\"M\",\"ASY\",95,0,1,\"ST\",144,\"N\",0.0,\"Up\",1],[\"M\",\"ASY\",130,0,1,\"Normal\",170,\"N\",-0.7,\"Up\",1],[\"M\",\"TA\",120,0,1,\"LVH\",134,\"N\",-0.8,\"Flat\",1],[\"M\",\"ASY\",150,0,1,\"ST\",154,\"N\",3.7,\"Up\",1],[\"M\",\"ASY\",140,0,1,\"LVH\",149,\"N\",2.0,\"Up\",1],[\"F\",\"ASY\",95,0,1,\"Normal\",145,\"N\",1.1,\"Down\",1],[\"M\",\"ASY\",100,0,1,\"Normal\",122,\"N\",1.5,\"Down\",1],[\"M\",\"ASY\",110,0,1,\"Normal\",114,\"Y\",1.3,\"Down\",1],[\"M\",\"ASY\",110,0,1,\"Normal\",113,\"N\",1.4,\"Flat\",1],[\"M\",\"ASY\",130,0,1,\"Normal\",120,\"N\",0.0,\"Flat\",1],[\"M\",\"ASY\",120,0,1,\"Normal\",104,\"N\",0.0,\"Flat\",1],[\"M\",\"ASY\",135,0,0,\"Normal\",130,\"N\",0.0,\"Flat\",1],[\"M\",\"ASY\",120,0,0,\"Normal\",115,\"N\",0.0,\"Flat\",1],[\"M\",\"ASY\",115,0,1,\"Normal\",128,\"N\",0.0,\"Flat\",1],[\"M\",\"ASY\",137,0,0,\"ST\",104,\"Y\",1.6,\"Flat\",1],[\"M\",\"ASY\",110,0,1,\"Normal\",125,\"Y\",1.0,\"Flat\",1],[\"M\",\"ASY\",120,0,1,\"Normal\",120,\"N\",0.0,\"Flat\",1],[\"M\",\"ASY\",140,0,0,\"ST\",140,\"Y\",0.5,\"Up\",1],[\"M\",\"ASY\",120,0,0,\"ST\",100,\"Y\",-1.0,\"Down\",1],[\"M\",\"ASY\",130,0,0,\"ST\",100,\"Y\",1.0,\"Flat\",1],[\"M\",\"ASY\",120,0,0,\"ST\",92,\"N\",0.3,\"Up\",1],[\"M\",\"TA\",145,0,0,\"LVH\",125,\"N\",0.0,\"Flat\",1],[\"M\",\"ASY\",115,0,0,\"Normal\",113,\"Y\",1.5,\"Flat\",1],[\"M\",\"ATA\",120,0,0,\"Normal\",95,\"N\",0.0,\"Flat\",1],[\"M\",\"NAP\",115,0,0,\"Normal\",128,\"Y\",0.0,\"Flat\",1],[\"M\",\"NAP\",105,0,0,\"Normal\",115,\"N\",0.0,\"Flat\",1],[\"M\",\"NAP\",160,0,0,\"Normal\",72,\"Y\",0.0,\"Flat\",1],[\"M\",\"ASY\",160,0,0,\"Normal\",124,\"Y\",0.0,\"Flat\",1],[\"M\",\"NAP\",155,0,0,\"ST\",99,\"N\",0.0,\"Flat\",1],[\"M\",\"ASY\",120,0,0,\"ST\",148,\"N\",0.0,\"Flat\",1],[\"F\",\"ASY\",200,0,0,\"Normal\",140,\"Y\",1.0,\"Flat\",1],[\"M\",\"ASY\",150,0,0,\"Normal\",117,\"Y\",2.0,\"Flat\",1],[\"M\",\"ASY\",135,0,0,\"ST\",120,\"Y\",0.0,\"Up\",1],[\"M\",\"ASY\",140,0,0,\"Normal\",120,\"Y\",2.0,\"Flat\",1],[\"M\",\"ASY\",150,0,0,\"Normal\",86,\"Y\",2.0,\"Flat\",1],[\"M\",\"ASY\",135,0,0,\"Normal\",63,\"Y\",0.5,\"Up\",1],[\"M\",\"ASY\",150,0,0,\"Normal\",108,\"Y\",2.0,\"Flat\",1],[\"M\",\"ASY\",185,0,0,\"Normal\",98,\"Y\",0.0,\"Up\",1],[\"M\",\"ASY\",135,0,0,\"Normal\",115,\"Y\",1.0,\"Flat\",1],[\"M\",\"ASY\",125,0,0,\"Normal\",105,\"Y\",0.0,\"Down\",1],[\"F\",\"NAP\",160,0,0,\"ST\",121,\"N\",0.0,\"Up\",1],[\"M\",\"NAP\",155,0,0,\"Normal\",118,\"Y\",1.0,\"Flat\",1],[\"M\",\"ASY\",160,0,1,\"ST\",122,\"N\",1.2,\"Flat\",1],[\"M\",\"ASY\",140,0,1,\"Normal\",157,\"Y\",2.0,\"Flat\",1],[\"M\",\"ASY\",120,0,0,\"ST\",156,\"Y\",0.0,\"Up\",1],[\"M\",\"ASY\",160,0,0,\"ST\",99,\"Y\",0.5,\"Flat\",1],[\"M\",\"ASY\",115,0,0,\"Normal\",120,\"Y\",0.5,\"Flat\",1],[\"M\",\"ASY\",115,0,0,\"Normal\",145,\"Y\",2.0,\"Flat\",1],[\"F\",\"ASY\",110,0,0,\"Normal\",156,\"N\",0.0,\"Flat\",1],[\"M\",\"ASY\",120,0,0,\"Normal\",155,\"N\",0.0,\"Flat\",1],[\"M\",\"ASY\",150,0,0,\"Normal\",105,\"Y\",0.0,\"Flat\",1],[\"M\",\"ASY\",145,0,0,\"Normal\",99,\"Y\",0.0,\"Flat\",1],[\"M\",\"ASY\",130,0,0,\"LVH\",135,\"Y\",1.0,\"Flat\",1],[\"M\",\"ASY\",140,0,0,\"Normal\",83,\"N\",0.0,\"Flat\",1],[\"M\",\"ASY\",160,0,1,\"ST\",145,\"N\",1.0,\"Flat\",1],[\"M\",\"ASY\",140,0,0,\"Normal\",60,\"N\",0.0,\"Flat\",1],[\"M\",\"ASY\",115,0,0,\"ST\",92,\"Y\",0.0,\"Flat\",1],[\"M\",\"ASY\",130,0,0,\"LVH\",115,\"N\",0.0,\"Flat\",1],[\"M\",\"ASY\",150,0,1,\"Normal\",120,\"Y\",0.7,\"Flat\",1],[\"M\",\"ASY\",160,0,1,\"Normal\",98,\"Y\",2.0,\"Flat\",1],[\"M\",\"ASY\",135,0,1,\"Normal\",150,\"N\",0.0,\"Flat\",1],[\"F\",\"TA\",140,0,1,\"Normal\",143,\"N\",0.0,\"Flat\",1],[\"M\",\"ASY\",170,0,1,\"ST\",105,\"Y\",0.0,\"Flat\",1],[\"M\",\"ASY\",165,0,1,\"Normal\",122,\"Y\",1.0,\"Up\",1],[\"M\",\"NAP\",200,0,1,\"ST\",70,\"N\",0.0,\"Flat\",1],[\"F\",\"ASY\",160,0,1,\"Normal\",110,\"N\",0.0,\"Flat\",1],[\"M\",\"ASY\",130,0,1,\"ST\",163,\"N\",0.0,\"Flat\",1],[\"M\",\"ASY\",145,0,1,\"ST\",67,\"N\",0.7,\"Flat\",1],[\"M\",\"ASY\",135,0,1,\"Normal\",128,\"Y\",2.0,\"Flat\",1],[\"M\",\"NAP\",110,0,1,\"Normal\",120,\"Y\",0.0,\"Flat\",1],[\"M\",\"ASY\",120,0,1,\"Normal\",130,\"Y\",1.2,\"Flat\",1],[\"M\",\"ASY\",140,0,1,\"Normal\",100,\"Y\",0.0,\"Flat\",1],[\"M\",\"ASY\",115,0,1,\"Normal\",72,\"Y\",-0.5,\"Flat\",1],[\"M\",\"ASY\",110,0,1,\"Normal\",94,\"N\",0.0,\"Flat\",1],[\"M\",\"NAP\",160,0,1,\"LVH\",122,\"Y\",0.0,\"Flat\",1],[\"M\",\"ASY\",150,0,1,\"ST\",78,\"N\",2.0,\"Flat\",1],[\"M\",\"ASY\",180,0,1,\"Normal\",150,\"N\",1.5,\"Flat\",1],[\"M\",\"ASY\",125,0,1,\"Normal\",103,\"Y\",1.0,\"Flat\",1],[\"M\",\"NAP\",125,0,1,\"Normal\",98,\"N\",-2.0,\"Flat\",1],[\"M\",\"ASY\",130,0,1,\"Normal\",110,\"Y\",3.0,\"Flat\",1],[\"F\",\"ASY\",155,0,1,\"Normal\",90,\"N\",0.0,\"Flat\",1],[\"M\",\"ASY\",140,260,0,\"ST\",112,\"Y\",3.0,\"Flat\",1],[\"M\",\"ASY\",132,218,0,\"ST\",140,\"Y\",1.5,\"Down\",1],[\"M\",\"ASY\",142,228,0,\"ST\",149,\"Y\",2.5,\"Up\",1],[\"M\",\"ASY\",150,236,1,\"ST\",105,\"Y\",0.0,\"Flat\",1],[\"M\",\"NAP\",120,0,1,\"Normal\",141,\"Y\",2.0,\"Up\",1],[\"M\",\"ATA\",160,267,1,\"ST\",157,\"N\",0.5,\"Flat\",1],[\"M\",\"ASY\",140,0,0,\"ST\",117,\"Y\",1.0,\"Flat\",1],[\"M\",\"ASY\",110,0,0,\"Normal\",120,\"Y\",0.5,\"Flat\",1],[\"M\",\"NAP\",133,0,0,\"LVH\",120,\"Y\",1.0,\"Flat\",1],[\"M\",\"ASY\",128,0,1,\"ST\",148,\"Y\",1.0,\"Flat\",1],[\"M\",\"ASY\",170,177,0,\"Normal\",84,\"Y\",2.5,\"Down\",1],[\"M\",\"ASY\",110,236,0,\"Normal\",125,\"Y\",2.0,\"Flat\",1],[\"M\",\"ASY\",116,0,0,\"Normal\",124,\"N\",1.0,\"Up\",1],[\"M\",\"ASY\",120,0,1,\"ST\",106,\"N\",2.0,\"Flat\",1],[\"M\",\"NAP\",130,0,0,\"ST\",111,\"Y\",0.0,\"Flat\",1],[\"M\",\"NAP\",128,0,0,\"ST\",180,\"N\",3.0,\"Up\",1],[\"M\",\"ASY\",130,0,1,\"ST\",129,\"N\",1.0,\"Flat\",1],[\"M\",\"ASY\",128,0,1,\"ST\",125,\"Y\",1.2,\"Flat\",1],[\"M\",\"ASY\",130,186,1,\"ST\",140,\"Y\",0.5,\"Flat\",1],[\"M\",\"ASY\",120,100,0,\"Normal\",120,\"Y\",1.5,\"Flat\",1],[\"M\",\"NAP\",136,228,0,\"ST\",124,\"Y\",1.6,\"Flat\",1],[\"M\",\"ASY\",130,0,0,\"ST\",117,\"Y\",1.4,\"Flat\",1],[\"M\",\"ASY\",124,171,0,\"ST\",110,\"Y\",2.0,\"Up\",1],[\"M\",\"ASY\",160,230,1,\"Normal\",105,\"Y\",1.0,\"Flat\",1],[\"M\",\"NAP\",0,0,0,\"Normal\",155,\"N\",1.5,\"Flat\",1],[\"M\",\"NAP\",122,0,0,\"Normal\",110,\"Y\",2.0,\"Down\",1],[\"M\",\"ASY\",144,0,0,\"ST\",122,\"Y\",1.0,\"Flat\",1],[\"M\",\"ASY\",140,281,0,\"ST\",118,\"Y\",1.5,\"Flat\",1],[\"M\",\"ASY\",136,203,1,\"Normal\",123,\"Y\",1.2,\"Flat\",1],[\"M\",\"NAP\",120,0,0,\"Normal\",80,\"Y\",0.0,\"Flat\",1],[\"M\",\"ASY\",125,0,1,\"Normal\",165,\"N\",0.0,\"Flat\",1],[\"M\",\"ASY\",134,0,1,\"ST\",86,\"N\",1.5,\"Flat\",1],[\"M\",\"ASY\",139,277,1,\"ST\",118,\"Y\",1.9,\"Flat\",1],[\"M\",\"ASY\",136,0,0,\"Normal\",84,\"Y\",0.0,\"Flat\",1],[\"M\",\"ASY\",122,233,0,\"Normal\",117,\"Y\",1.3,\"Down\",1],[\"M\",\"NAP\",131,0,0,\"Normal\",128,\"Y\",2.0,\"Down\",1],[\"M\",\"NAP\",120,0,0,\"ST\",125,\"Y\",2.5,\"Flat\",1],[\"M\",\"ASY\",152,153,0,\"ST\",97,\"Y\",1.6,\"Up\",1],[\"M\",\"ASY\",126,0,0,\"Normal\",106,\"N\",0.0,\"Flat\",1],[\"M\",\"ASY\",138,0,0,\"Normal\",130,\"Y\",3.0,\"Flat\",1],[\"M\",\"ASY\",154,0,1,\"ST\",140,\"Y\",1.5,\"Flat\",1],[\"M\",\"NAP\",141,316,1,\"ST\",122,\"Y\",1.7,\"Flat\",1],[\"M\",\"ASY\",178,0,1,\"LVH\",120,\"Y\",0.0,\"Flat\",1],[\"M\",\"ASY\",110,0,1,\"Normal\",108,\"Y\",2.0,\"Down\",1],[\"M\",\"ASY\",130,311,1,\"ST\",148,\"Y\",2.0,\"Flat\",1],[\"M\",\"NAP\",170,0,0,\"LVH\",123,\"Y\",2.5,\"Flat\",1],[\"M\",\"ATA\",126,0,1,\"Normal\",110,\"Y\",2.0,\"Flat\",1],[\"M\",\"NAP\",140,0,1,\"ST\",118,\"N\",2.5,\"Down\",1],[\"M\",\"TA\",142,270,1,\"Normal\",125,\"N\",2.5,\"Up\",1],[\"M\",\"ASY\",120,0,0,\"LVH\",106,\"Y\",1.5,\"Down\",1],[\"M\",\"ASY\",134,0,0,\"Normal\",112,\"Y\",1.1,\"Flat\",1],[\"M\",\"ATA\",139,217,1,\"ST\",128,\"Y\",1.2,\"Flat\",1],[\"M\",\"ASY\",140,214,0,\"ST\",144,\"Y\",2.0,\"Flat\",1],[\"M\",\"ASY\",136,220,0,\"Normal\",140,\"Y\",3.0,\"Flat\",1],[\"M\",\"NAP\",120,214,0,\"Normal\",102,\"Y\",1.0,\"Flat\",1],[\"M\",\"ASY\",170,203,1,\"ST\",108,\"N\",0.0,\"Flat\",1],[\"M\",\"TA\",130,0,0,\"ST\",145,\"N\",3.0,\"Flat\",1],[\"M\",\"NAP\",137,339,0,\"Normal\",127,\"Y\",1.7,\"Flat\",1],[\"M\",\"ASY\",142,216,0,\"Normal\",110,\"Y\",2.5,\"Flat\",1],[\"F\",\"ASY\",142,276,0,\"Normal\",140,\"Y\",1.0,\"Flat\",1],[\"M\",\"ASY\",146,241,0,\"Normal\",148,\"Y\",3.0,\"Down\",1],[\"M\",\"ASY\",160,384,1,\"ST\",130,\"Y\",0.0,\"Flat\",1],[\"M\",\"ASY\",135,297,0,\"Normal\",130,\"Y\",1.0,\"Flat\",1],[\"M\",\"ASY\",136,248,0,\"Normal\",140,\"Y\",4.0,\"Down\",1],[\"M\",\"ASY\",130,308,0,\"Normal\",138,\"Y\",2.0,\"Flat\",1],[\"M\",\"ASY\",140,208,0,\"ST\",140,\"Y\",2.0,\"Flat\",1],[\"M\",\"ASY\",158,210,1,\"Normal\",112,\"Y\",3.0,\"Down\",1],[\"M\",\"NAP\",136,245,1,\"ST\",131,\"Y\",1.2,\"Flat\",1],[\"M\",\"ASY\",136,225,0,\"Normal\",112,\"Y\",3.0,\"Flat\",1],[\"M\",\"ASY\",120,0,1,\"Normal\",150,\"N\",1.5,\"Down\",1],[\"M\",\"ASY\",110,198,0,\"Normal\",110,\"N\",0.0,\"Flat\",1],[\"M\",\"ASY\",160,267,1,\"ST\",88,\"Y\",2.0,\"Flat\",1],[\"M\",\"TA\",112,258,0,\"ST\",150,\"Y\",1.3,\"Flat\",1],[\"M\",\"ASY\",122,0,0,\"Normal\",120,\"N\",0.5,\"Up\",1],[\"M\",\"NAP\",150,195,1,\"Normal\",132,\"N\",0.0,\"Flat\",1],[\"M\",\"ASY\",150,235,0,\"Normal\",120,\"Y\",1.5,\"Flat\",1],[\"M\",\"NAP\",102,0,1,\"ST\",110,\"Y\",1.0,\"Down\",1],[\"M\",\"ASY\",96,305,0,\"ST\",121,\"Y\",1.0,\"Up\",1],[\"M\",\"ASY\",120,282,0,\"ST\",135,\"Y\",4.0,\"Down\",1],[\"M\",\"ASY\",144,349,0,\"LVH\",120,\"Y\",1.0,\"Up\",1],[\"M\",\"ASY\",124,160,0,\"Normal\",117,\"Y\",1.0,\"Flat\",1],[\"M\",\"ASY\",144,312,0,\"LVH\",113,\"Y\",1.7,\"Flat\",1],[\"M\",\"NAP\",131,142,0,\"Normal\",127,\"Y\",1.5,\"Flat\",1],[\"M\",\"ASY\",143,211,0,\"Normal\",109,\"Y\",1.4,\"Flat\",1],[\"M\",\"ASY\",133,218,0,\"Normal\",128,\"Y\",1.1,\"Flat\",1],[\"M\",\"ASY\",143,306,1,\"ST\",115,\"Y\",1.8,\"Flat\",1],[\"M\",\"ASY\",116,186,1,\"ST\",102,\"N\",0.0,\"Flat\",1],[\"M\",\"ASY\",110,252,0,\"ST\",140,\"Y\",2.0,\"Flat\",1],[\"M\",\"ASY\",125,222,0,\"Normal\",135,\"Y\",2.5,\"Down\",1],[\"M\",\"ASY\",130,0,0,\"LVH\",122,\"Y\",1.0,\"Flat\",1],[\"M\",\"NAP\",133,0,1,\"ST\",119,\"Y\",1.2,\"Flat\",1],[\"M\",\"ASY\",150,258,1,\"ST\",130,\"Y\",4.0,\"Down\",1],[\"M\",\"ASY\",130,202,1,\"Normal\",112,\"Y\",2.0,\"Flat\",1],[\"M\",\"NAP\",138,204,0,\"ST\",122,\"Y\",1.2,\"Flat\",1],[\"M\",\"NAP\",104,113,0,\"LVH\",120,\"N\",3.5,\"Down\",1],[\"F\",\"ASY\",138,274,0,\"Normal\",105,\"Y\",1.5,\"Flat\",1],[\"M\",\"ASY\",170,192,0,\"ST\",129,\"Y\",3.0,\"Down\",1],[\"M\",\"NAP\",132,220,1,\"ST\",162,\"N\",0.0,\"Flat\",1],[\"M\",\"TA\",142,200,1,\"ST\",100,\"N\",1.5,\"Down\",1],[\"M\",\"ASY\",112,261,0,\"Normal\",140,\"N\",1.5,\"Up\",1],[\"M\",\"ASY\",172,260,0,\"Normal\",73,\"N\",2.0,\"Flat\",1],[\"M\",\"NAP\",144,221,0,\"Normal\",108,\"Y\",1.8,\"Flat\",1],[\"M\",\"TA\",145,216,1,\"Normal\",116,\"Y\",1.8,\"Flat\",1],[\"M\",\"NAP\",150,219,0,\"ST\",118,\"Y\",0.0,\"Flat\",1],[\"M\",\"NAP\",137,208,1,\"ST\",122,\"Y\",1.8,\"Flat\",1],[\"M\",\"NAP\",137,232,0,\"ST\",124,\"Y\",1.4,\"Flat\",1],[\"M\",\"ASY\",134,273,0,\"Normal\",102,\"Y\",4.0,\"Down\",1],[\"M\",\"ASY\",135,204,1,\"ST\",126,\"Y\",1.1,\"Flat\",1],[\"M\",\"ASY\",144,270,1,\"ST\",160,\"Y\",2.0,\"Flat\",1],[\"M\",\"ASY\",141,292,0,\"ST\",115,\"Y\",1.7,\"Flat\",1],[\"M\",\"ASY\",130,221,0,\"ST\",115,\"Y\",0.0,\"Flat\",1],[\"M\",\"ASY\",110,289,0,\"Normal\",105,\"Y\",1.5,\"Down\",1],[\"M\",\"ASY\",158,217,0,\"Normal\",110,\"Y\",2.5,\"Flat\",1],[\"M\",\"ASY\",128,223,0,\"ST\",119,\"Y\",2.0,\"Down\",1],[\"M\",\"ASY\",140,110,1,\"Normal\",109,\"Y\",1.5,\"Flat\",1],[\"M\",\"ASY\",150,193,0,\"ST\",135,\"Y\",0.5,\"Flat\",1],[\"M\",\"ASY\",160,123,1,\"LVH\",130,\"N\",1.5,\"Flat\",1],[\"M\",\"ASY\",142,210,1,\"ST\",112,\"Y\",1.5,\"Flat\",1],[\"M\",\"ASY\",137,282,1,\"Normal\",126,\"Y\",1.2,\"Flat\",1],[\"M\",\"ASY\",139,170,0,\"ST\",120,\"Y\",3.0,\"Flat\",1],[\"M\",\"ASY\",146,369,0,\"Normal\",110,\"Y\",1.9,\"Flat\",1],[\"M\",\"ASY\",156,173,0,\"LVH\",119,\"Y\",3.0,\"Down\",1],[\"M\",\"ASY\",145,289,1,\"ST\",110,\"Y\",1.8,\"Flat\",1],[\"M\",\"ASY\",131,152,1,\"LVH\",130,\"Y\",1.0,\"Flat\",1],[\"M\",\"ASY\",140,208,0,\"Normal\",159,\"Y\",1.5,\"Up\",1],[\"M\",\"ASY\",122,216,1,\"LVH\",84,\"Y\",0.0,\"Flat\",1],[\"M\",\"ASY\",141,244,1,\"ST\",116,\"Y\",1.5,\"Flat\",1],[\"M\",\"ATA\",180,285,1,\"ST\",120,\"N\",0.8,\"Flat\",1],[\"M\",\"ASY\",124,243,0,\"Normal\",122,\"Y\",2.0,\"Flat\",1],[\"M\",\"ASY\",140,219,0,\"ST\",122,\"Y\",2.0,\"Flat\",1],[\"M\",\"NAP\",140,237,1,\"Normal\",94,\"N\",0.0,\"Flat\",1],[\"M\",\"ASY\",190,287,1,\"LVH\",150,\"Y\",2.0,\"Down\",1],[\"M\",\"ASY\",130,258,1,\"LVH\",130,\"N\",0.0,\"Flat\",1],[\"M\",\"ASY\",160,256,1,\"LVH\",113,\"Y\",1.0,\"Up\",1],[\"M\",\"ASY\",130,186,1,\"LVH\",140,\"Y\",0.5,\"Flat\",1],[\"M\",\"ASY\",122,264,0,\"LVH\",100,\"N\",0.0,\"Flat\",1],[\"M\",\"ASY\",120,226,0,\"LVH\",127,\"Y\",1.7,\"Down\",1],[\"M\",\"ASY\",130,203,1,\"Normal\",98,\"N\",1.5,\"Flat\",1],[\"M\",\"NAP\",140,284,0,\"Normal\",123,\"Y\",1.3,\"Flat\",1],[\"M\",\"NAP\",120,337,0,\"Normal\",98,\"Y\",0.0,\"Flat\",1],[\"M\",\"ASY\",155,310,0,\"Normal\",112,\"Y\",1.5,\"Down\",1],[\"M\",\"ASY\",160,254,1,\"ST\",108,\"Y\",3.0,\"Flat\",1],[\"M\",\"ASY\",144,300,1,\"ST\",128,\"Y\",1.5,\"Flat\",1],[\"M\",\"ASY\",158,170,0,\"ST\",138,\"Y\",0.0,\"Flat\",1],[\"M\",\"ASY\",134,310,0,\"Normal\",126,\"N\",0.0,\"Flat\",1],[\"F\",\"ASY\",127,333,1,\"ST\",154,\"N\",0.0,\"Flat\",1],[\"M\",\"ASY\",122,223,1,\"ST\",100,\"N\",0.0,\"Flat\",1],[\"M\",\"ATA\",120,254,0,\"LVH\",93,\"Y\",0.0,\"Flat\",1],[\"M\",\"ASY\",130,322,0,\"LVH\",109,\"N\",2.4,\"Flat\",1],[\"M\",\"ATA\",124,261,0,\"Normal\",141,\"N\",0.3,\"Up\",1],[\"M\",\"NAP\",130,256,1,\"LVH\",142,\"Y\",0.6,\"Flat\",1],[\"M\",\"ASY\",110,239,0,\"LVH\",142,\"Y\",1.2,\"Flat\",1],[\"M\",\"ASY\",140,293,0,\"LVH\",170,\"N\",1.2,\"Flat\",1],[\"F\",\"ASY\",150,407,0,\"LVH\",154,\"N\",4.0,\"Flat\",1],[\"M\",\"TA\",134,234,0,\"Normal\",145,\"N\",2.6,\"Flat\",1],[\"M\",\"ASY\",140,311,0,\"Normal\",120,\"Y\",1.8,\"Flat\",1],[\"M\",\"ASY\",140,203,1,\"LVH\",155,\"Y\",3.1,\"Down\",1],[\"M\",\"ASY\",120,229,0,\"LVH\",129,\"Y\",2.6,\"Flat\",1],[\"M\",\"NAP\",112,230,0,\"LVH\",165,\"N\",2.5,\"Flat\",1],[\"M\",\"NAP\",128,229,0,\"LVH\",150,\"N\",0.4,\"Flat\",1],[\"M\",\"ASY\",170,326,0,\"LVH\",140,\"Y\",3.4,\"Down\",1],[\"M\",\"ASY\",144,200,0,\"LVH\",126,\"Y\",0.9,\"Flat\",1],[\"M\",\"ASY\",130,256,1,\"LVH\",150,\"Y\",0.0,\"Up\",1],[\"M\",\"ASY\",140,207,0,\"LVH\",138,\"Y\",1.9,\"Up\",1],[\"M\",\"TA\",160,273,0,\"LVH\",125,\"N\",0.0,\"Up\",1],[\"M\",\"ASY\",152,223,0,\"Normal\",181,\"N\",0.0,\"Up\",1],[\"M\",\"NAP\",126,218,1,\"Normal\",134,\"N\",2.2,\"Flat\",1],[\"M\",\"NAP\",118,149,0,\"LVH\",126,\"N\",0.8,\"Up\",1],[\"M\",\"ASY\",110,197,0,\"LVH\",177,\"N\",0.0,\"Up\",1],[\"M\",\"ATA\",160,246,0,\"Normal\",120,\"Y\",0.0,\"Flat\",1],[\"F\",\"ASY\",150,225,0,\"LVH\",114,\"N\",1.0,\"Flat\",1],[\"M\",\"ASY\",136,315,0,\"Normal\",125,\"Y\",1.8,\"Flat\",1],[\"M\",\"ASY\",138,166,0,\"LVH\",125,\"Y\",3.6,\"Flat\",1],[\"F\",\"ASY\",174,249,0,\"Normal\",143,\"Y\",0.0,\"Flat\",1],[\"M\",\"ATA\",120,281,0,\"LVH\",103,\"N\",1.4,\"Flat\",1],[\"F\",\"ASY\",130,305,0,\"Normal\",142,\"Y\",1.2,\"Flat\",1],[\"M\",\"ASY\",150,276,0,\"LVH\",112,\"Y\",0.6,\"Flat\",1],[\"F\",\"ATA\",136,319,1,\"LVH\",152,\"N\",0.0,\"Up\",1],[\"M\",\"NAP\",108,243,0,\"Normal\",152,\"N\",0.0,\"Up\",1],[\"M\",\"ASY\",120,260,0,\"Normal\",140,\"Y\",3.6,\"Flat\",1],[\"M\",\"ASY\",142,309,0,\"LVH\",147,\"Y\",0.0,\"Flat\",1],[\"M\",\"ASY\",146,218,0,\"Normal\",105,\"N\",2.0,\"Flat\",1],[\"M\",\"ASY\",120,198,0,\"Normal\",130,\"Y\",1.6,\"Flat\",1],[\"M\",\"ASY\",150,270,0,\"LVH\",111,\"Y\",0.8,\"Up\",1],[\"M\",\"ASY\",150,243,0,\"LVH\",128,\"N\",2.6,\"Flat\",1],[\"F\",\"ASY\",130,330,0,\"LVH\",169,\"N\",0.0,\"Up\",1],[\"M\",\"ASY\",124,266,0,\"LVH\",109,\"Y\",2.2,\"Flat\",1],[\"M\",\"ASY\",110,206,0,\"LVH\",108,\"Y\",0.0,\"Flat\",1],[\"M\",\"ASY\",125,212,0,\"Normal\",168,\"N\",1.0,\"Up\",1],[\"M\",\"ASY\",110,275,0,\"LVH\",118,\"Y\",1.0,\"Flat\",1],[\"M\",\"ASY\",100,234,0,\"Normal\",156,\"N\",0.1,\"Up\",1],[\"M\",\"ASY\",120,237,0,\"Normal\",71,\"N\",1.0,\"Flat\",1],[\"M\",\"ASY\",165,289,1,\"LVH\",124,\"N\",1.0,\"Flat\",1],[\"M\",\"ASY\",130,254,0,\"LVH\",147,\"N\",1.4,\"Flat\",1],[\"M\",\"ASY\",124,274,0,\"LVH\",166,\"N\",0.5,\"Flat\",1],[\"F\",\"ASY\",150,258,0,\"LVH\",157,\"N\",2.6,\"Flat\",1],[\"M\",\"ASY\",140,177,0,\"Normal\",162,\"Y\",0.0,\"Up\",1],[\"F\",\"ASY\",180,327,0,\"ST\",117,\"Y\",3.4,\"Flat\",1],[\"F\",\"ASY\",158,305,0,\"LVH\",161,\"N\",0.0,\"Up\",1],[\"M\",\"ASY\",120,249,0,\"LVH\",144,\"N\",0.8,\"Up\",1],[\"F\",\"ASY\",200,288,1,\"LVH\",133,\"Y\",4.0,\"Down\",1],[\"M\",\"ASY\",130,283,1,\"LVH\",103,\"Y\",1.6,\"Down\",1],[\"M\",\"NAP\",120,188,0,\"Normal\",139,\"N\",2.0,\"Flat\",1],[\"M\",\"ASY\",122,286,0,\"LVH\",116,\"Y\",3.2,\"Flat\",1],[\"M\",\"ASY\",152,274,0,\"Normal\",88,\"Y\",1.2,\"Flat\",1],[\"M\",\"ASY\",120,267,0,\"Normal\",99,\"Y\",1.8,\"Flat\",1],[\"M\",\"ASY\",117,230,1,\"Normal\",160,\"Y\",1.4,\"Up\",1],[\"F\",\"ASY\",108,269,0,\"Normal\",169,\"Y\",1.8,\"Flat\",1],[\"M\",\"ASY\",112,212,0,\"LVH\",132,\"Y\",0.1,\"Up\",1],[\"M\",\"ASY\",120,246,0,\"LVH\",96,\"Y\",2.2,\"Down\",1],[\"M\",\"ASY\",125,249,1,\"LVH\",144,\"Y\",1.2,\"Flat\",1],[\"M\",\"ASY\",145,212,0,\"LVH\",132,\"N\",2.0,\"Flat\",1],[\"M\",\"NAP\",140,233,0,\"Normal\",163,\"N\",0.6,\"Flat\",1],[\"M\",\"ATA\",192,283,0,\"LVH\",195,\"N\",0.0,\"Up\",1],[\"M\",\"ASY\",123,282,0,\"Normal\",95,\"Y\",2.0,\"Flat\",1],[\"M\",\"ASY\",112,230,0,\"Normal\",160,\"N\",0.0,\"Up\",1],[\"M\",\"ASY\",110,167,0,\"LVH\",114,\"Y\",2.0,\"Flat\",1],[\"M\",\"NAP\",132,224,0,\"LVH\",173,\"N\",3.2,\"Up\",1],[\"M\",\"ASY\",140,217,0,\"Normal\",111,\"Y\",5.6,\"Down\",1],[\"F\",\"ASY\",178,228,1,\"Normal\",165,\"Y\",1.0,\"Flat\",1],[\"M\",\"TA\",120,231,0,\"Normal\",182,\"Y\",3.8,\"Flat\",1],[\"F\",\"ASY\",150,244,0,\"Normal\",154,\"Y\",1.4,\"Flat\",1],[\"M\",\"ASY\",128,259,0,\"LVH\",130,\"Y\",3.0,\"Flat\",1],[\"M\",\"TA\",138,282,1,\"LVH\",174,\"N\",1.4,\"Flat\",1],[\"M\",\"NAP\",140,254,0,\"LVH\",146,\"N\",2.0,\"Flat\",1],[\"M\",\"ASY\",100,299,0,\"LVH\",125,\"Y\",0.9,\"Flat\",1],[\"F\",\"ASY\",138,294,1,\"Normal\",106,\"N\",1.9,\"Flat\",1],[\"M\",\"ASY\",140,298,0,\"Normal\",122,\"Y\",4.2,\"Flat\",1],[\"M\",\"NAP\",150,231,0,\"Normal\",147,\"N\",3.6,\"Flat\",1],[\"M\",\"ASY\",125,254,1,\"Normal\",163,\"N\",0.2,\"Flat\",1],[\"F\",\"ASY\",134,409,0,\"LVH\",150,\"Y\",1.9,\"Flat\",1],[\"M\",\"ASY\",110,172,0,\"LVH\",158,\"N\",0.0,\"Up\",1],[\"M\",\"ASY\",132,184,0,\"LVH\",105,\"Y\",2.1,\"Flat\",1],[\"M\",\"NAP\",160,269,0,\"Normal\",112,\"Y\",2.9,\"Flat\",1],[\"M\",\"ASY\",145,174,0,\"Normal\",125,\"Y\",2.6,\"Down\",1],[\"M\",\"ASY\",126,282,0,\"LVH\",156,\"Y\",0.0,\"Up\",1],[\"M\",\"ASY\",125,304,0,\"LVH\",162,\"Y\",0.0,\"Up\",1],[\"M\",\"ASY\",125,300,0,\"LVH\",171,\"N\",0.0,\"Up\",1],[\"M\",\"ASY\",125,258,0,\"LVH\",141,\"Y\",2.8,\"Flat\",1],[\"M\",\"ASY\",140,299,0,\"Normal\",173,\"Y\",1.6,\"Up\",1],[\"M\",\"ASY\",160,289,0,\"LVH\",145,\"Y\",0.8,\"Flat\",1],[\"M\",\"NAP\",125,309,0,\"Normal\",131,\"Y\",1.8,\"Flat\",1],[\"M\",\"TA\",170,288,0,\"LVH\",159,\"N\",0.2,\"Flat\",1],[\"M\",\"ASY\",128,216,0,\"LVH\",131,\"Y\",2.2,\"Flat\",1],[\"M\",\"ASY\",110,239,0,\"Normal\",126,\"Y\",2.8,\"Flat\",1],[\"M\",\"ASY\",135,254,0,\"LVH\",127,\"N\",2.8,\"Flat\",1],[\"M\",\"ASY\",130,330,1,\"LVH\",132,\"Y\",1.8,\"Up\",1],[\"F\",\"NAP\",130,263,0,\"Normal\",97,\"N\",1.2,\"Flat\",1],[\"F\",\"ASY\",132,341,1,\"LVH\",136,\"Y\",3.0,\"Flat\",1],[\"F\",\"ASY\",145,307,0,\"LVH\",146,\"Y\",1.0,\"Flat\",1],[\"M\",\"ASY\",118,219,0,\"Normal\",140,\"N\",1.2,\"Flat\",1],[\"M\",\"ASY\",128,255,0,\"Normal\",161,\"Y\",0.0,\"Up\",1],[\"F\",\"ASY\",160,164,0,\"LVH\",145,\"N\",6.2,\"Down\",1],[\"M\",\"ASY\",120,177,0,\"LVH\",120,\"Y\",2.5,\"Flat\",1],[\"M\",\"NAP\",180,274,1,\"LVH\",150,\"Y\",1.6,\"Flat\",1],[\"F\",\"ASY\",140,268,0,\"LVH\",160,\"N\",3.6,\"Down\",1],[\"M\",\"ASY\",130,253,0,\"Normal\",144,\"Y\",1.4,\"Up\",1],[\"M\",\"ASY\",110,248,0,\"LVH\",158,\"N\",0.6,\"Up\",1],[\"M\",\"NAP\",140,185,0,\"LVH\",155,\"N\",3.0,\"Flat\",1],[\"M\",\"ASY\",145,282,0,\"LVH\",142,\"Y\",2.8,\"Flat\",1],[\"M\",\"ASY\",120,188,0,\"Normal\",113,\"N\",1.4,\"Flat\",1],[\"M\",\"ASY\",112,290,0,\"LVH\",153,\"N\",0.0,\"Up\",1],[\"M\",\"ASY\",132,353,0,\"Normal\",132,\"Y\",1.2,\"Flat\",1],[\"M\",\"NAP\",140,335,0,\"Normal\",158,\"N\",0.0,\"Up\",1],[\"M\",\"ASY\",130,206,0,\"LVH\",132,\"Y\",2.4,\"Flat\",1],[\"M\",\"ATA\",120,284,0,\"LVH\",160,\"N\",1.8,\"Flat\",1],[\"M\",\"ATA\",110,229,0,\"Normal\",168,\"N\",1.0,\"Down\",1],[\"M\",\"ASY\",160,286,0,\"LVH\",108,\"Y\",1.5,\"Flat\",1],[\"M\",\"ASY\",132,247,1,\"LVH\",143,\"Y\",0.1,\"Flat\",1],[\"M\",\"ASY\",128,204,1,\"Normal\",156,\"Y\",1.0,\"Flat\",1],[\"M\",\"TA\",134,204,0,\"Normal\",162,\"N\",0.8,\"Up\",1],[\"M\",\"ATA\",154,232,0,\"LVH\",164,\"N\",0.0,\"Up\",1],[\"M\",\"ASY\",110,335,0,\"Normal\",143,\"Y\",3.0,\"Flat\",1],[\"F\",\"ASY\",128,205,0,\"ST\",130,\"Y\",2.0,\"Flat\",1],[\"M\",\"ASY\",148,203,0,\"Normal\",161,\"N\",0.0,\"Up\",1],[\"M\",\"ASY\",114,318,0,\"ST\",140,\"N\",4.4,\"Down\",1],[\"F\",\"ASY\",170,225,1,\"LVH\",146,\"Y\",2.8,\"Flat\",1],[\"M\",\"NAP\",152,212,0,\"LVH\",150,\"N\",0.8,\"Flat\",1],[\"M\",\"ASY\",120,169,0,\"Normal\",144,\"Y\",2.8,\"Down\",1],[\"M\",\"ASY\",140,187,0,\"LVH\",144,\"Y\",4.0,\"Up\",1],[\"F\",\"ASY\",124,197,0,\"Normal\",136,\"Y\",0.0,\"Flat\",1],[\"M\",\"ASY\",164,176,1,\"LVH\",90,\"N\",1.0,\"Flat\",1],[\"F\",\"ASY\",140,241,0,\"Normal\",123,\"Y\",0.2,\"Flat\",1],[\"M\",\"TA\",110,264,0,\"Normal\",132,\"N\",1.2,\"Flat\",1],[\"M\",\"ASY\",144,193,1,\"Normal\",141,\"N\",3.4,\"Flat\",1],[\"M\",\"ASY\",130,131,0,\"Normal\",115,\"Y\",1.2,\"Flat\",1],[\"F\",\"ATA\",130,236,0,\"LVH\",174,\"N\",0.0,\"Flat\",1]],\"hovertemplate\":\"HeartDisease=%{customdata[10]}<br>Age=%{x}<br>Sex=%{customdata[0]}<br>ChestPainType=%{customdata[1]}<br>RestingBP=%{customdata[2]}<br>Cholesterol=%{customdata[3]}<br>FastingBS=%{customdata[4]}<br>RestingECG=%{customdata[5]}<br>MaxHR=%{customdata[6]}<br>ExerciseAngina=%{customdata[7]}<br>Oldpeak=%{customdata[8]}<br>ST_Slope=%{customdata[9]}<extra></extra>\",\"legendgroup\":\"1\",\"marker\":{\"color\":\"#EF553B\"},\"name\":\"1\",\"notched\":true,\"offsetgroup\":\"1\",\"showlegend\":false,\"x\":[49,48,37,58,49,38,60,36,44,53,54,41,65,54,43,41,50,47,31,58,52,46,52,57,52,55,32,49,63,56,66,65,43,48,58,65,40,40,46,57,33,38,59,34,47,58,46,56,56,49,54,43,52,50,47,56,54,56,38,44,59,49,46,50,52,43,54,52,52,58,41,53,53,35,54,48,50,47,39,46,51,50,38,41,55,48,48,54,55,48,54,48,45,49,44,48,55,46,59,47,52,54,55,51,52,49,65,32,61,50,57,51,47,60,53,62,51,51,55,58,57,60,41,34,74,57,56,61,68,59,63,38,62,46,42,59,52,60,60,56,40,51,62,63,63,64,43,64,61,52,51,69,59,48,69,36,53,43,56,58,55,67,46,53,38,53,62,47,56,56,64,61,68,57,63,60,66,63,59,61,73,47,65,70,50,60,50,43,38,54,61,42,53,55,61,51,70,61,38,57,38,62,58,52,61,50,51,65,52,47,35,57,62,59,53,62,54,56,56,54,66,63,60,55,65,60,60,59,62,63,57,63,46,58,64,63,52,69,51,60,56,55,54,77,63,55,52,64,60,58,61,40,61,57,63,59,59,55,62,53,68,53,60,59,61,57,56,58,69,67,58,65,63,57,54,72,75,49,51,60,64,61,67,62,65,63,69,62,55,75,67,58,63,62,43,68,65,48,63,61,50,59,65,49,72,50,64,55,63,59,56,62,74,54,62,76,54,70,48,61,66,55,71,74,58,56,58,64,55,57,61,71,38,55,56,69,64,72,69,56,62,67,57,69,51,48,69,64,57,53,67,74,61,64,58,60,57,55,56,61,61,74,62,53,62,46,54,55,62,70,57,56,59,60,63,61,46,53,67,58,57,59,50,48,61,59,40,59,49,44,66,65,42,61,59,62,51,57,58,47,61,45,58,35,58,50,61,54,54,52,47,58,67,57,63,48,60,59,55,60,46,56,56,49,54,57,62,60,63,66,64,56,64,50,54,53,52,40,58,55,66,38,62,58,65,69,67,62,51,46,67,56,41,56,70,70,35,77,58,60,51,55,64,59,58,54,65,63,62,43,61,39,52,62,43,68,62,60,65,60,60,54,44,55,64,60,58,48,67,43,52,59,57,57,55,61,58,58,67,44,63,63,59,57,45,68,57,57],\"xaxis\":\"x2\",\"yaxis\":\"y2\",\"type\":\"box\"}],                        {\"template\":{\"data\":{\"bar\":[{\"error_x\":{\"color\":\"#2a3f5f\"},\"error_y\":{\"color\":\"#2a3f5f\"},\"marker\":{\"line\":{\"color\":\"#E5ECF6\",\"width\":0.5},\"pattern\":{\"fillmode\":\"overlay\",\"size\":10,\"solidity\":0.2}},\"type\":\"bar\"}],\"barpolar\":[{\"marker\":{\"line\":{\"color\":\"#E5ECF6\",\"width\":0.5},\"pattern\":{\"fillmode\":\"overlay\",\"size\":10,\"solidity\":0.2}},\"type\":\"barpolar\"}],\"carpet\":[{\"aaxis\":{\"endlinecolor\":\"#2a3f5f\",\"gridcolor\":\"white\",\"linecolor\":\"white\",\"minorgridcolor\":\"white\",\"startlinecolor\":\"#2a3f5f\"},\"baxis\":{\"endlinecolor\":\"#2a3f5f\",\"gridcolor\":\"white\",\"linecolor\":\"white\",\"minorgridcolor\":\"white\",\"startlinecolor\":\"#2a3f5f\"},\"type\":\"carpet\"}],\"choropleth\":[{\"colorbar\":{\"outlinewidth\":0,\"ticks\":\"\"},\"type\":\"choropleth\"}],\"contour\":[{\"colorbar\":{\"outlinewidth\":0,\"ticks\":\"\"},\"colorscale\":[[0.0,\"#0d0887\"],[0.1111111111111111,\"#46039f\"],[0.2222222222222222,\"#7201a8\"],[0.3333333333333333,\"#9c179e\"],[0.4444444444444444,\"#bd3786\"],[0.5555555555555556,\"#d8576b\"],[0.6666666666666666,\"#ed7953\"],[0.7777777777777778,\"#fb9f3a\"],[0.8888888888888888,\"#fdca26\"],[1.0,\"#f0f921\"]],\"type\":\"contour\"}],\"contourcarpet\":[{\"colorbar\":{\"outlinewidth\":0,\"ticks\":\"\"},\"type\":\"contourcarpet\"}],\"heatmap\":[{\"colorbar\":{\"outlinewidth\":0,\"ticks\":\"\"},\"colorscale\":[[0.0,\"#0d0887\"],[0.1111111111111111,\"#46039f\"],[0.2222222222222222,\"#7201a8\"],[0.3333333333333333,\"#9c179e\"],[0.4444444444444444,\"#bd3786\"],[0.5555555555555556,\"#d8576b\"],[0.6666666666666666,\"#ed7953\"],[0.7777777777777778,\"#fb9f3a\"],[0.8888888888888888,\"#fdca26\"],[1.0,\"#f0f921\"]],\"type\":\"heatmap\"}],\"heatmapgl\":[{\"colorbar\":{\"outlinewidth\":0,\"ticks\":\"\"},\"colorscale\":[[0.0,\"#0d0887\"],[0.1111111111111111,\"#46039f\"],[0.2222222222222222,\"#7201a8\"],[0.3333333333333333,\"#9c179e\"],[0.4444444444444444,\"#bd3786\"],[0.5555555555555556,\"#d8576b\"],[0.6666666666666666,\"#ed7953\"],[0.7777777777777778,\"#fb9f3a\"],[0.8888888888888888,\"#fdca26\"],[1.0,\"#f0f921\"]],\"type\":\"heatmapgl\"}],\"histogram\":[{\"marker\":{\"pattern\":{\"fillmode\":\"overlay\",\"size\":10,\"solidity\":0.2}},\"type\":\"histogram\"}],\"histogram2d\":[{\"colorbar\":{\"outlinewidth\":0,\"ticks\":\"\"},\"colorscale\":[[0.0,\"#0d0887\"],[0.1111111111111111,\"#46039f\"],[0.2222222222222222,\"#7201a8\"],[0.3333333333333333,\"#9c179e\"],[0.4444444444444444,\"#bd3786\"],[0.5555555555555556,\"#d8576b\"],[0.6666666666666666,\"#ed7953\"],[0.7777777777777778,\"#fb9f3a\"],[0.8888888888888888,\"#fdca26\"],[1.0,\"#f0f921\"]],\"type\":\"histogram2d\"}],\"histogram2dcontour\":[{\"colorbar\":{\"outlinewidth\":0,\"ticks\":\"\"},\"colorscale\":[[0.0,\"#0d0887\"],[0.1111111111111111,\"#46039f\"],[0.2222222222222222,\"#7201a8\"],[0.3333333333333333,\"#9c179e\"],[0.4444444444444444,\"#bd3786\"],[0.5555555555555556,\"#d8576b\"],[0.6666666666666666,\"#ed7953\"],[0.7777777777777778,\"#fb9f3a\"],[0.8888888888888888,\"#fdca26\"],[1.0,\"#f0f921\"]],\"type\":\"histogram2dcontour\"}],\"mesh3d\":[{\"colorbar\":{\"outlinewidth\":0,\"ticks\":\"\"},\"type\":\"mesh3d\"}],\"parcoords\":[{\"line\":{\"colorbar\":{\"outlinewidth\":0,\"ticks\":\"\"}},\"type\":\"parcoords\"}],\"pie\":[{\"automargin\":true,\"type\":\"pie\"}],\"scatter\":[{\"marker\":{\"colorbar\":{\"outlinewidth\":0,\"ticks\":\"\"}},\"type\":\"scatter\"}],\"scatter3d\":[{\"line\":{\"colorbar\":{\"outlinewidth\":0,\"ticks\":\"\"}},\"marker\":{\"colorbar\":{\"outlinewidth\":0,\"ticks\":\"\"}},\"type\":\"scatter3d\"}],\"scattercarpet\":[{\"marker\":{\"colorbar\":{\"outlinewidth\":0,\"ticks\":\"\"}},\"type\":\"scattercarpet\"}],\"scattergeo\":[{\"marker\":{\"colorbar\":{\"outlinewidth\":0,\"ticks\":\"\"}},\"type\":\"scattergeo\"}],\"scattergl\":[{\"marker\":{\"colorbar\":{\"outlinewidth\":0,\"ticks\":\"\"}},\"type\":\"scattergl\"}],\"scattermapbox\":[{\"marker\":{\"colorbar\":{\"outlinewidth\":0,\"ticks\":\"\"}},\"type\":\"scattermapbox\"}],\"scatterpolar\":[{\"marker\":{\"colorbar\":{\"outlinewidth\":0,\"ticks\":\"\"}},\"type\":\"scatterpolar\"}],\"scatterpolargl\":[{\"marker\":{\"colorbar\":{\"outlinewidth\":0,\"ticks\":\"\"}},\"type\":\"scatterpolargl\"}],\"scatterternary\":[{\"marker\":{\"colorbar\":{\"outlinewidth\":0,\"ticks\":\"\"}},\"type\":\"scatterternary\"}],\"surface\":[{\"colorbar\":{\"outlinewidth\":0,\"ticks\":\"\"},\"colorscale\":[[0.0,\"#0d0887\"],[0.1111111111111111,\"#46039f\"],[0.2222222222222222,\"#7201a8\"],[0.3333333333333333,\"#9c179e\"],[0.4444444444444444,\"#bd3786\"],[0.5555555555555556,\"#d8576b\"],[0.6666666666666666,\"#ed7953\"],[0.7777777777777778,\"#fb9f3a\"],[0.8888888888888888,\"#fdca26\"],[1.0,\"#f0f921\"]],\"type\":\"surface\"}],\"table\":[{\"cells\":{\"fill\":{\"color\":\"#EBF0F8\"},\"line\":{\"color\":\"white\"}},\"header\":{\"fill\":{\"color\":\"#C8D4E3\"},\"line\":{\"color\":\"white\"}},\"type\":\"table\"}]},\"layout\":{\"annotationdefaults\":{\"arrowcolor\":\"#2a3f5f\",\"arrowhead\":0,\"arrowwidth\":1},\"autotypenumbers\":\"strict\",\"coloraxis\":{\"colorbar\":{\"outlinewidth\":0,\"ticks\":\"\"}},\"colorscale\":{\"diverging\":[[0,\"#8e0152\"],[0.1,\"#c51b7d\"],[0.2,\"#de77ae\"],[0.3,\"#f1b6da\"],[0.4,\"#fde0ef\"],[0.5,\"#f7f7f7\"],[0.6,\"#e6f5d0\"],[0.7,\"#b8e186\"],[0.8,\"#7fbc41\"],[0.9,\"#4d9221\"],[1,\"#276419\"]],\"sequential\":[[0.0,\"#0d0887\"],[0.1111111111111111,\"#46039f\"],[0.2222222222222222,\"#7201a8\"],[0.3333333333333333,\"#9c179e\"],[0.4444444444444444,\"#bd3786\"],[0.5555555555555556,\"#d8576b\"],[0.6666666666666666,\"#ed7953\"],[0.7777777777777778,\"#fb9f3a\"],[0.8888888888888888,\"#fdca26\"],[1.0,\"#f0f921\"]],\"sequentialminus\":[[0.0,\"#0d0887\"],[0.1111111111111111,\"#46039f\"],[0.2222222222222222,\"#7201a8\"],[0.3333333333333333,\"#9c179e\"],[0.4444444444444444,\"#bd3786\"],[0.5555555555555556,\"#d8576b\"],[0.6666666666666666,\"#ed7953\"],[0.7777777777777778,\"#fb9f3a\"],[0.8888888888888888,\"#fdca26\"],[1.0,\"#f0f921\"]]},\"colorway\":[\"#636efa\",\"#EF553B\",\"#00cc96\",\"#ab63fa\",\"#FFA15A\",\"#19d3f3\",\"#FF6692\",\"#B6E880\",\"#FF97FF\",\"#FECB52\"],\"font\":{\"color\":\"#2a3f5f\"},\"geo\":{\"bgcolor\":\"white\",\"lakecolor\":\"white\",\"landcolor\":\"#E5ECF6\",\"showlakes\":true,\"showland\":true,\"subunitcolor\":\"white\"},\"hoverlabel\":{\"align\":\"left\"},\"hovermode\":\"closest\",\"mapbox\":{\"style\":\"light\"},\"paper_bgcolor\":\"white\",\"plot_bgcolor\":\"#E5ECF6\",\"polar\":{\"angularaxis\":{\"gridcolor\":\"white\",\"linecolor\":\"white\",\"ticks\":\"\"},\"bgcolor\":\"#E5ECF6\",\"radialaxis\":{\"gridcolor\":\"white\",\"linecolor\":\"white\",\"ticks\":\"\"}},\"scene\":{\"xaxis\":{\"backgroundcolor\":\"#E5ECF6\",\"gridcolor\":\"white\",\"gridwidth\":2,\"linecolor\":\"white\",\"showbackground\":true,\"ticks\":\"\",\"zerolinecolor\":\"white\"},\"yaxis\":{\"backgroundcolor\":\"#E5ECF6\",\"gridcolor\":\"white\",\"gridwidth\":2,\"linecolor\":\"white\",\"showbackground\":true,\"ticks\":\"\",\"zerolinecolor\":\"white\"},\"zaxis\":{\"backgroundcolor\":\"#E5ECF6\",\"gridcolor\":\"white\",\"gridwidth\":2,\"linecolor\":\"white\",\"showbackground\":true,\"ticks\":\"\",\"zerolinecolor\":\"white\"}},\"shapedefaults\":{\"line\":{\"color\":\"#2a3f5f\"}},\"ternary\":{\"aaxis\":{\"gridcolor\":\"white\",\"linecolor\":\"white\",\"ticks\":\"\"},\"baxis\":{\"gridcolor\":\"white\",\"linecolor\":\"white\",\"ticks\":\"\"},\"bgcolor\":\"#E5ECF6\",\"caxis\":{\"gridcolor\":\"white\",\"linecolor\":\"white\",\"ticks\":\"\"}},\"title\":{\"x\":0.05},\"xaxis\":{\"automargin\":true,\"gridcolor\":\"white\",\"linecolor\":\"white\",\"ticks\":\"\",\"title\":{\"standoff\":15},\"zerolinecolor\":\"white\",\"zerolinewidth\":2},\"yaxis\":{\"automargin\":true,\"gridcolor\":\"white\",\"linecolor\":\"white\",\"ticks\":\"\",\"title\":{\"standoff\":15},\"zerolinecolor\":\"white\",\"zerolinewidth\":2}}},\"xaxis\":{\"anchor\":\"y\",\"domain\":[0.0,1.0],\"title\":{\"text\":\"Age\"}},\"yaxis\":{\"anchor\":\"x\",\"domain\":[0.0,0.7326],\"title\":{\"text\":\"count\"}},\"xaxis2\":{\"anchor\":\"y2\",\"domain\":[0.0,1.0],\"matches\":\"x\",\"showticklabels\":false,\"showgrid\":true},\"yaxis2\":{\"anchor\":\"x2\",\"domain\":[0.7426,1.0],\"matches\":\"y2\",\"showticklabels\":false,\"showline\":false,\"ticks\":\"\",\"showgrid\":false},\"legend\":{\"title\":{\"text\":\"HeartDisease\"},\"tracegroupgap\":0},\"margin\":{\"t\":60},\"barmode\":\"relative\"},                        {\"responsive\": true}                    ).then(function(){\n",
              "                            \n",
              "var gd = document.getElementById('692d16f1-3840-40c1-a81f-917c7d6bcce0');\n",
              "var x = new MutationObserver(function (mutations, observer) {{\n",
              "        var display = window.getComputedStyle(gd).display;\n",
              "        if (!display || display === 'none') {{\n",
              "            console.log([gd, 'removed!']);\n",
              "            Plotly.purge(gd);\n",
              "            observer.disconnect();\n",
              "        }}\n",
              "}});\n",
              "\n",
              "// Listen for the removal of the full notebook cells\n",
              "var notebookContainer = gd.closest('#notebook-container');\n",
              "if (notebookContainer) {{\n",
              "    x.observe(notebookContainer, {childList: true});\n",
              "}}\n",
              "\n",
              "// Listen for the clearing of the current output cell\n",
              "var outputEl = gd.closest('.output');\n",
              "if (outputEl) {{\n",
              "    x.observe(outputEl, {childList: true});\n",
              "}}\n",
              "\n",
              "                        })                };                            </script>        </div>\n",
              "</body>\n",
              "</html>"
            ]
          },
          "metadata": {}
        }
      ]
    },
    {
      "cell_type": "code",
      "source": [
        "fig = px.histogram(data, x=\"ChestPainType\", category_orders=dict(pain=[\"TA\", \"ATA\", \"NAP\", \"ASY\"]))\n",
        "fig.show()"
      ],
      "metadata": {
        "colab": {
          "base_uri": "https://localhost:8080/",
          "height": 542
        },
        "id": "d-oZhMH5K4U2",
        "outputId": "6dc7b2b9-6fe0-477e-a7a7-712f17e7e1bc"
      },
      "execution_count": 15,
      "outputs": [
        {
          "output_type": "display_data",
          "data": {
            "text/html": [
              "<html>\n",
              "<head><meta charset=\"utf-8\" /></head>\n",
              "<body>\n",
              "    <div>            <script src=\"https://cdnjs.cloudflare.com/ajax/libs/mathjax/2.7.5/MathJax.js?config=TeX-AMS-MML_SVG\"></script><script type=\"text/javascript\">if (window.MathJax) {MathJax.Hub.Config({SVG: {font: \"STIX-Web\"}});}</script>                <script type=\"text/javascript\">window.PlotlyConfig = {MathJaxConfig: 'local'};</script>\n",
              "        <script src=\"https://cdn.plot.ly/plotly-2.8.3.min.js\"></script>                <div id=\"25a64da9-267e-43fc-988f-9ff70db067cc\" class=\"plotly-graph-div\" style=\"height:525px; width:100%;\"></div>            <script type=\"text/javascript\">                                    window.PLOTLYENV=window.PLOTLYENV || {};                                    if (document.getElementById(\"25a64da9-267e-43fc-988f-9ff70db067cc\")) {                    Plotly.newPlot(                        \"25a64da9-267e-43fc-988f-9ff70db067cc\",                        [{\"alignmentgroup\":\"True\",\"bingroup\":\"x\",\"hovertemplate\":\"ChestPainType=%{x}<br>count=%{y}<extra></extra>\",\"legendgroup\":\"\",\"marker\":{\"color\":\"#636efa\",\"pattern\":{\"shape\":\"\"}},\"name\":\"\",\"offsetgroup\":\"\",\"orientation\":\"v\",\"showlegend\":false,\"x\":[\"ATA\",\"NAP\",\"ATA\",\"ASY\",\"NAP\",\"NAP\",\"ATA\",\"ATA\",\"ASY\",\"ATA\",\"NAP\",\"ATA\",\"ATA\",\"ASY\",\"NAP\",\"ATA\",\"ASY\",\"ATA\",\"ASY\",\"ATA\",\"TA\",\"ATA\",\"ATA\",\"ATA\",\"NAP\",\"NAP\",\"ASY\",\"ATA\",\"ATA\",\"ATA\",\"NAP\",\"NAP\",\"ASY\",\"ASY\",\"ATA\",\"ATA\",\"ASY\",\"ATA\",\"ATA\",\"ASY\",\"ATA\",\"NAP\",\"ATA\",\"NAP\",\"ASY\",\"NAP\",\"ASY\",\"ATA\",\"NAP\",\"ASY\",\"ASY\",\"ASY\",\"ATA\",\"ATA\",\"ASY\",\"ATA\",\"ASY\",\"NAP\",\"ASY\",\"ASY\",\"ATA\",\"NAP\",\"ASY\",\"ASY\",\"ATA\",\"ATA\",\"ASY\",\"ATA\",\"ASY\",\"ASY\",\"ATA\",\"ATA\",\"ASY\",\"ASY\",\"ASY\",\"NAP\",\"ASY\",\"ASY\",\"ATA\",\"ASY\",\"NAP\",\"ATA\",\"ASY\",\"ATA\",\"ASY\",\"ASY\",\"ASY\",\"ATA\",\"TA\",\"ASY\",\"ATA\",\"ASY\",\"ATA\",\"ASY\",\"NAP\",\"ASY\",\"ATA\",\"NAP\",\"ASY\",\"ATA\",\"ASY\",\"ASY\",\"ASY\",\"ASY\",\"ASY\",\"ATA\",\"ASY\",\"ATA\",\"ASY\",\"ATA\",\"ATA\",\"ASY\",\"ASY\",\"ATA\",\"NAP\",\"ASY\",\"ASY\",\"ASY\",\"TA\",\"TA\",\"NAP\",\"NAP\",\"ASY\",\"ATA\",\"ATA\",\"ATA\",\"ATA\",\"ASY\",\"ATA\",\"NAP\",\"NAP\",\"ASY\",\"ASY\",\"ASY\",\"ASY\",\"NAP\",\"ATA\",\"ATA\",\"ASY\",\"ASY\",\"ASY\",\"ASY\",\"ASY\",\"ASY\",\"ATA\",\"ASY\",\"ATA\",\"ATA\",\"ATA\",\"ASY\",\"ATA\",\"ATA\",\"ATA\",\"ASY\",\"ATA\",\"ASY\",\"ASY\",\"ASY\",\"ASY\",\"ATA\",\"ASY\",\"ASY\",\"ATA\",\"ATA\",\"ATA\",\"TA\",\"ASY\",\"ATA\",\"ASY\",\"NAP\",\"ATA\",\"NAP\",\"ATA\",\"NAP\",\"ASY\",\"ASY\",\"ASY\",\"ATA\",\"NAP\",\"ASY\",\"ASY\",\"ATA\",\"ASY\",\"ASY\",\"ATA\",\"NAP\",\"ATA\",\"ASY\",\"ASY\",\"ASY\",\"ASY\",\"ATA\",\"ATA\",\"NAP\",\"ATA\",\"TA\",\"ASY\",\"ATA\",\"ASY\",\"TA\",\"TA\",\"NAP\",\"NAP\",\"ATA\",\"ATA\",\"ASY\",\"ATA\",\"ATA\",\"ATA\",\"ASY\",\"ASY\",\"NAP\",\"NAP\",\"NAP\",\"ASY\",\"TA\",\"ASY\",\"NAP\",\"ATA\",\"ATA\",\"ASY\",\"ASY\",\"NAP\",\"NAP\",\"ATA\",\"ASY\",\"NAP\",\"ASY\",\"ATA\",\"ASY\",\"ASY\",\"NAP\",\"ATA\",\"ASY\",\"ATA\",\"ATA\",\"ASY\",\"TA\",\"ASY\",\"ASY\",\"ATA\",\"ASY\",\"ATA\",\"ATA\",\"ASY\",\"TA\",\"NAP\",\"ASY\",\"ASY\",\"ASY\",\"ASY\",\"ASY\",\"ASY\",\"ATA\",\"ASY\",\"NAP\",\"ATA\",\"NAP\",\"NAP\",\"ATA\",\"ATA\",\"ATA\",\"ASY\",\"ASY\",\"NAP\",\"ATA\",\"ASY\",\"ATA\",\"ASY\",\"NAP\",\"ASY\",\"ATA\",\"ASY\",\"NAP\",\"ATA\",\"NAP\",\"NAP\",\"ASY\",\"ASY\",\"ATA\",\"NAP\",\"ASY\",\"NAP\",\"ATA\",\"ASY\",\"NAP\",\"ASY\",\"ATA\",\"ATA\",\"ATA\",\"NAP\",\"ATA\",\"ASY\",\"ASY\",\"TA\",\"ASY\",\"ASY\",\"ASY\",\"ASY\",\"ASY\",\"ASY\",\"ATA\",\"ASY\",\"ASY\",\"ASY\",\"ASY\",\"ASY\",\"ATA\",\"ASY\",\"ASY\",\"ASY\",\"ASY\",\"ASY\",\"ASY\",\"ASY\",\"ATA\",\"NAP\",\"ASY\",\"ASY\",\"ASY\",\"NAP\",\"ASY\",\"ASY\",\"ASY\",\"ASY\",\"ASY\",\"NAP\",\"ASY\",\"ASY\",\"ASY\",\"NAP\",\"ASY\",\"NAP\",\"ASY\",\"ASY\",\"TA\",\"NAP\",\"ASY\",\"ASY\",\"ASY\",\"ASY\",\"ASY\",\"ASY\",\"ASY\",\"ASY\",\"ASY\",\"ASY\",\"ASY\",\"ASY\",\"ASY\",\"ASY\",\"ASY\",\"ASY\",\"ASY\",\"ASY\",\"TA\",\"ASY\",\"ATA\",\"NAP\",\"NAP\",\"NAP\",\"ASY\",\"NAP\",\"ASY\",\"NAP\",\"ASY\",\"ASY\",\"ASY\",\"ASY\",\"ASY\",\"ASY\",\"ASY\",\"ASY\",\"ASY\",\"ASY\",\"NAP\",\"NAP\",\"ASY\",\"ASY\",\"ASY\",\"ASY\",\"ASY\",\"ASY\",\"ASY\",\"ASY\",\"ASY\",\"ASY\",\"ASY\",\"ASY\",\"ASY\",\"ASY\",\"ASY\",\"ASY\",\"ASY\",\"ASY\",\"ASY\",\"TA\",\"ASY\",\"ASY\",\"NAP\",\"ASY\",\"ASY\",\"ASY\",\"ASY\",\"NAP\",\"ASY\",\"ASY\",\"ASY\",\"ASY\",\"NAP\",\"ASY\",\"ASY\",\"ASY\",\"NAP\",\"ASY\",\"ASY\",\"ASY\",\"ASY\",\"ASY\",\"ASY\",\"NAP\",\"NAP\",\"ASY\",\"NAP\",\"NAP\",\"ATA\",\"ATA\",\"ASY\",\"ASY\",\"NAP\",\"ASY\",\"ASY\",\"ASY\",\"ASY\",\"ASY\",\"ASY\",\"ASY\",\"ASY\",\"NAP\",\"NAP\",\"NAP\",\"ASY\",\"ASY\",\"ASY\",\"ASY\",\"NAP\",\"ASY\",\"ASY\",\"ASY\",\"NAP\",\"NAP\",\"ASY\",\"ASY\",\"ASY\",\"ASY\",\"ASY\",\"NAP\",\"ASY\",\"ASY\",\"ASY\",\"ASY\",\"ASY\",\"ASY\",\"ASY\",\"NAP\",\"NAP\",\"NAP\",\"ATA\",\"ASY\",\"ATA\",\"ASY\",\"ASY\",\"ASY\",\"NAP\",\"ATA\",\"ASY\",\"ASY\",\"ASY\",\"ASY\",\"NAP\",\"ATA\",\"NAP\",\"TA\",\"ASY\",\"ASY\",\"ATA\",\"ATA\",\"ASY\",\"TA\",\"ASY\",\"NAP\",\"ASY\",\"TA\",\"NAP\",\"ASY\",\"ASY\",\"ASY\",\"ASY\",\"ASY\",\"ASY\",\"ASY\",\"ASY\",\"ASY\",\"ASY\",\"ASY\",\"NAP\",\"ASY\",\"NAP\",\"ASY\",\"ASY\",\"ASY\",\"ASY\",\"NAP\",\"TA\",\"ASY\",\"NAP\",\"NAP\",\"ASY\",\"NAP\",\"ASY\",\"ASY\",\"ASY\",\"ASY\",\"ASY\",\"ASY\",\"NAP\",\"ASY\",\"ATA\",\"NAP\",\"ASY\",\"ASY\",\"ASY\",\"ASY\",\"ASY\",\"ASY\",\"ASY\",\"NAP\",\"ASY\",\"ASY\",\"ASY\",\"NAP\",\"NAP\",\"ASY\",\"ASY\",\"ATA\",\"ASY\",\"NAP\",\"TA\",\"ASY\",\"TA\",\"ASY\",\"NAP\",\"NAP\",\"TA\",\"NAP\",\"NAP\",\"ASY\",\"NAP\",\"NAP\",\"ASY\",\"NAP\",\"ATA\",\"ASY\",\"ASY\",\"ASY\",\"ASY\",\"ASY\",\"ASY\",\"ASY\",\"ASY\",\"ASY\",\"ASY\",\"ASY\",\"ASY\",\"ASY\",\"ASY\",\"ASY\",\"ASY\",\"ASY\",\"ASY\",\"ASY\",\"ASY\",\"ASY\",\"NAP\",\"ASY\",\"ATA\",\"ASY\",\"NAP\",\"ASY\",\"NAP\",\"ATA\",\"ASY\",\"ASY\",\"ASY\",\"ASY\",\"ASY\",\"ASY\",\"NAP\",\"ASY\",\"ASY\",\"ASY\",\"NAP\",\"NAP\",\"ASY\",\"NAP\",\"ASY\",\"ASY\",\"ASY\",\"ASY\",\"ASY\",\"ASY\",\"TA\",\"ASY\",\"ASY\",\"ATA\",\"ASY\",\"NAP\",\"ATA\",\"ASY\",\"ATA\",\"ASY\",\"NAP\",\"ASY\",\"ASY\",\"ASY\",\"ASY\",\"ASY\",\"NAP\",\"TA\",\"ASY\",\"ASY\",\"ASY\",\"ASY\",\"TA\",\"TA\",\"ASY\",\"ATA\",\"ASY\",\"ASY\",\"ATA\",\"NAP\",\"ASY\",\"NAP\",\"NAP\",\"NAP\",\"NAP\",\"ASY\",\"NAP\",\"ASY\",\"ASY\",\"ASY\",\"ASY\",\"TA\",\"NAP\",\"ASY\",\"ASY\",\"ASY\",\"NAP\",\"ATA\",\"NAP\",\"NAP\",\"NAP\",\"ASY\",\"ATA\",\"ASY\",\"ASY\",\"ATA\",\"NAP\",\"ATA\",\"ATA\",\"ATA\",\"ASY\",\"NAP\",\"ASY\",\"ATA\",\"NAP\",\"ASY\",\"NAP\",\"TA\",\"TA\",\"ASY\",\"ASY\",\"ATA\",\"NAP\",\"NAP\",\"ASY\",\"ASY\",\"ATA\",\"NAP\",\"ASY\",\"ASY\",\"ASY\",\"NAP\",\"NAP\",\"ATA\",\"ASY\",\"ASY\",\"ASY\",\"NAP\",\"ASY\",\"TA\",\"ATA\",\"TA\",\"ATA\",\"ASY\",\"ATA\",\"ASY\",\"ASY\",\"ASY\",\"ASY\",\"ASY\",\"ASY\",\"ASY\",\"NAP\",\"ATA\",\"NAP\",\"ASY\",\"ASY\",\"ASY\",\"ASY\",\"ASY\",\"NAP\",\"ASY\",\"ASY\",\"ATA\",\"ASY\",\"ATA\",\"ASY\",\"NAP\",\"ATA\",\"ATA\",\"ASY\",\"ASY\",\"TA\",\"ASY\",\"NAP\",\"ASY\",\"ASY\",\"NAP\",\"NAP\",\"NAP\",\"ASY\",\"NAP\",\"ATA\",\"ASY\",\"ASY\",\"ASY\",\"ASY\",\"ASY\",\"NAP\",\"NAP\",\"NAP\",\"ASY\",\"ATA\",\"ASY\",\"ASY\",\"ASY\",\"NAP\",\"TA\",\"ATA\",\"ASY\",\"ASY\",\"ASY\",\"NAP\",\"NAP\",\"NAP\",\"NAP\",\"NAP\",\"ASY\",\"NAP\",\"ATA\",\"ASY\",\"ATA\",\"TA\",\"ASY\",\"TA\",\"ASY\",\"ATA\",\"ASY\",\"ASY\",\"ASY\",\"ASY\",\"NAP\",\"ASY\",\"TA\",\"TA\",\"NAP\",\"ASY\",\"NAP\",\"TA\",\"ASY\",\"ASY\",\"NAP\",\"ASY\",\"NAP\",\"NAP\",\"ASY\",\"ASY\",\"ASY\",\"NAP\",\"NAP\",\"ASY\",\"ASY\",\"ASY\",\"NAP\",\"ASY\",\"ASY\",\"ATA\",\"ASY\",\"NAP\",\"ATA\",\"ASY\",\"NAP\",\"TA\",\"ASY\",\"NAP\",\"ASY\",\"ASY\",\"ASY\",\"ASY\",\"TA\",\"NAP\",\"NAP\",\"NAP\",\"NAP\",\"TA\",\"NAP\",\"NAP\",\"ASY\",\"ATA\",\"ATA\",\"NAP\",\"NAP\",\"NAP\",\"ATA\",\"ASY\",\"ASY\",\"NAP\",\"ASY\",\"ASY\",\"ATA\",\"NAP\",\"ASY\",\"TA\",\"TA\",\"ASY\",\"ASY\",\"ASY\",\"ASY\",\"NAP\",\"ASY\",\"ASY\",\"ASY\",\"NAP\",\"ATA\",\"NAP\",\"NAP\",\"ASY\",\"ASY\",\"NAP\",\"ASY\",\"ASY\",\"NAP\",\"NAP\",\"ASY\",\"ASY\",\"ATA\",\"ASY\",\"NAP\",\"NAP\",\"ATA\",\"NAP\",\"ASY\",\"NAP\",\"ASY\",\"NAP\",\"ASY\",\"ATA\",\"ATA\",\"ATA\",\"NAP\",\"ATA\",\"ATA\",\"ASY\",\"ASY\",\"NAP\",\"NAP\",\"ASY\",\"ASY\",\"TA\",\"TA\",\"NAP\",\"NAP\",\"ATA\",\"ASY\",\"ASY\",\"NAP\",\"ASY\",\"ATA\",\"ASY\",\"ASY\",\"ASY\",\"ATA\",\"ATA\",\"ATA\",\"NAP\",\"ATA\",\"ASY\",\"ASY\",\"ASY\",\"ATA\",\"ASY\",\"ASY\",\"TA\",\"ASY\",\"ASY\",\"ATA\",\"NAP\"],\"xaxis\":\"x\",\"yaxis\":\"y\",\"type\":\"histogram\"}],                        {\"template\":{\"data\":{\"bar\":[{\"error_x\":{\"color\":\"#2a3f5f\"},\"error_y\":{\"color\":\"#2a3f5f\"},\"marker\":{\"line\":{\"color\":\"#E5ECF6\",\"width\":0.5},\"pattern\":{\"fillmode\":\"overlay\",\"size\":10,\"solidity\":0.2}},\"type\":\"bar\"}],\"barpolar\":[{\"marker\":{\"line\":{\"color\":\"#E5ECF6\",\"width\":0.5},\"pattern\":{\"fillmode\":\"overlay\",\"size\":10,\"solidity\":0.2}},\"type\":\"barpolar\"}],\"carpet\":[{\"aaxis\":{\"endlinecolor\":\"#2a3f5f\",\"gridcolor\":\"white\",\"linecolor\":\"white\",\"minorgridcolor\":\"white\",\"startlinecolor\":\"#2a3f5f\"},\"baxis\":{\"endlinecolor\":\"#2a3f5f\",\"gridcolor\":\"white\",\"linecolor\":\"white\",\"minorgridcolor\":\"white\",\"startlinecolor\":\"#2a3f5f\"},\"type\":\"carpet\"}],\"choropleth\":[{\"colorbar\":{\"outlinewidth\":0,\"ticks\":\"\"},\"type\":\"choropleth\"}],\"contour\":[{\"colorbar\":{\"outlinewidth\":0,\"ticks\":\"\"},\"colorscale\":[[0.0,\"#0d0887\"],[0.1111111111111111,\"#46039f\"],[0.2222222222222222,\"#7201a8\"],[0.3333333333333333,\"#9c179e\"],[0.4444444444444444,\"#bd3786\"],[0.5555555555555556,\"#d8576b\"],[0.6666666666666666,\"#ed7953\"],[0.7777777777777778,\"#fb9f3a\"],[0.8888888888888888,\"#fdca26\"],[1.0,\"#f0f921\"]],\"type\":\"contour\"}],\"contourcarpet\":[{\"colorbar\":{\"outlinewidth\":0,\"ticks\":\"\"},\"type\":\"contourcarpet\"}],\"heatmap\":[{\"colorbar\":{\"outlinewidth\":0,\"ticks\":\"\"},\"colorscale\":[[0.0,\"#0d0887\"],[0.1111111111111111,\"#46039f\"],[0.2222222222222222,\"#7201a8\"],[0.3333333333333333,\"#9c179e\"],[0.4444444444444444,\"#bd3786\"],[0.5555555555555556,\"#d8576b\"],[0.6666666666666666,\"#ed7953\"],[0.7777777777777778,\"#fb9f3a\"],[0.8888888888888888,\"#fdca26\"],[1.0,\"#f0f921\"]],\"type\":\"heatmap\"}],\"heatmapgl\":[{\"colorbar\":{\"outlinewidth\":0,\"ticks\":\"\"},\"colorscale\":[[0.0,\"#0d0887\"],[0.1111111111111111,\"#46039f\"],[0.2222222222222222,\"#7201a8\"],[0.3333333333333333,\"#9c179e\"],[0.4444444444444444,\"#bd3786\"],[0.5555555555555556,\"#d8576b\"],[0.6666666666666666,\"#ed7953\"],[0.7777777777777778,\"#fb9f3a\"],[0.8888888888888888,\"#fdca26\"],[1.0,\"#f0f921\"]],\"type\":\"heatmapgl\"}],\"histogram\":[{\"marker\":{\"pattern\":{\"fillmode\":\"overlay\",\"size\":10,\"solidity\":0.2}},\"type\":\"histogram\"}],\"histogram2d\":[{\"colorbar\":{\"outlinewidth\":0,\"ticks\":\"\"},\"colorscale\":[[0.0,\"#0d0887\"],[0.1111111111111111,\"#46039f\"],[0.2222222222222222,\"#7201a8\"],[0.3333333333333333,\"#9c179e\"],[0.4444444444444444,\"#bd3786\"],[0.5555555555555556,\"#d8576b\"],[0.6666666666666666,\"#ed7953\"],[0.7777777777777778,\"#fb9f3a\"],[0.8888888888888888,\"#fdca26\"],[1.0,\"#f0f921\"]],\"type\":\"histogram2d\"}],\"histogram2dcontour\":[{\"colorbar\":{\"outlinewidth\":0,\"ticks\":\"\"},\"colorscale\":[[0.0,\"#0d0887\"],[0.1111111111111111,\"#46039f\"],[0.2222222222222222,\"#7201a8\"],[0.3333333333333333,\"#9c179e\"],[0.4444444444444444,\"#bd3786\"],[0.5555555555555556,\"#d8576b\"],[0.6666666666666666,\"#ed7953\"],[0.7777777777777778,\"#fb9f3a\"],[0.8888888888888888,\"#fdca26\"],[1.0,\"#f0f921\"]],\"type\":\"histogram2dcontour\"}],\"mesh3d\":[{\"colorbar\":{\"outlinewidth\":0,\"ticks\":\"\"},\"type\":\"mesh3d\"}],\"parcoords\":[{\"line\":{\"colorbar\":{\"outlinewidth\":0,\"ticks\":\"\"}},\"type\":\"parcoords\"}],\"pie\":[{\"automargin\":true,\"type\":\"pie\"}],\"scatter\":[{\"marker\":{\"colorbar\":{\"outlinewidth\":0,\"ticks\":\"\"}},\"type\":\"scatter\"}],\"scatter3d\":[{\"line\":{\"colorbar\":{\"outlinewidth\":0,\"ticks\":\"\"}},\"marker\":{\"colorbar\":{\"outlinewidth\":0,\"ticks\":\"\"}},\"type\":\"scatter3d\"}],\"scattercarpet\":[{\"marker\":{\"colorbar\":{\"outlinewidth\":0,\"ticks\":\"\"}},\"type\":\"scattercarpet\"}],\"scattergeo\":[{\"marker\":{\"colorbar\":{\"outlinewidth\":0,\"ticks\":\"\"}},\"type\":\"scattergeo\"}],\"scattergl\":[{\"marker\":{\"colorbar\":{\"outlinewidth\":0,\"ticks\":\"\"}},\"type\":\"scattergl\"}],\"scattermapbox\":[{\"marker\":{\"colorbar\":{\"outlinewidth\":0,\"ticks\":\"\"}},\"type\":\"scattermapbox\"}],\"scatterpolar\":[{\"marker\":{\"colorbar\":{\"outlinewidth\":0,\"ticks\":\"\"}},\"type\":\"scatterpolar\"}],\"scatterpolargl\":[{\"marker\":{\"colorbar\":{\"outlinewidth\":0,\"ticks\":\"\"}},\"type\":\"scatterpolargl\"}],\"scatterternary\":[{\"marker\":{\"colorbar\":{\"outlinewidth\":0,\"ticks\":\"\"}},\"type\":\"scatterternary\"}],\"surface\":[{\"colorbar\":{\"outlinewidth\":0,\"ticks\":\"\"},\"colorscale\":[[0.0,\"#0d0887\"],[0.1111111111111111,\"#46039f\"],[0.2222222222222222,\"#7201a8\"],[0.3333333333333333,\"#9c179e\"],[0.4444444444444444,\"#bd3786\"],[0.5555555555555556,\"#d8576b\"],[0.6666666666666666,\"#ed7953\"],[0.7777777777777778,\"#fb9f3a\"],[0.8888888888888888,\"#fdca26\"],[1.0,\"#f0f921\"]],\"type\":\"surface\"}],\"table\":[{\"cells\":{\"fill\":{\"color\":\"#EBF0F8\"},\"line\":{\"color\":\"white\"}},\"header\":{\"fill\":{\"color\":\"#C8D4E3\"},\"line\":{\"color\":\"white\"}},\"type\":\"table\"}]},\"layout\":{\"annotationdefaults\":{\"arrowcolor\":\"#2a3f5f\",\"arrowhead\":0,\"arrowwidth\":1},\"autotypenumbers\":\"strict\",\"coloraxis\":{\"colorbar\":{\"outlinewidth\":0,\"ticks\":\"\"}},\"colorscale\":{\"diverging\":[[0,\"#8e0152\"],[0.1,\"#c51b7d\"],[0.2,\"#de77ae\"],[0.3,\"#f1b6da\"],[0.4,\"#fde0ef\"],[0.5,\"#f7f7f7\"],[0.6,\"#e6f5d0\"],[0.7,\"#b8e186\"],[0.8,\"#7fbc41\"],[0.9,\"#4d9221\"],[1,\"#276419\"]],\"sequential\":[[0.0,\"#0d0887\"],[0.1111111111111111,\"#46039f\"],[0.2222222222222222,\"#7201a8\"],[0.3333333333333333,\"#9c179e\"],[0.4444444444444444,\"#bd3786\"],[0.5555555555555556,\"#d8576b\"],[0.6666666666666666,\"#ed7953\"],[0.7777777777777778,\"#fb9f3a\"],[0.8888888888888888,\"#fdca26\"],[1.0,\"#f0f921\"]],\"sequentialminus\":[[0.0,\"#0d0887\"],[0.1111111111111111,\"#46039f\"],[0.2222222222222222,\"#7201a8\"],[0.3333333333333333,\"#9c179e\"],[0.4444444444444444,\"#bd3786\"],[0.5555555555555556,\"#d8576b\"],[0.6666666666666666,\"#ed7953\"],[0.7777777777777778,\"#fb9f3a\"],[0.8888888888888888,\"#fdca26\"],[1.0,\"#f0f921\"]]},\"colorway\":[\"#636efa\",\"#EF553B\",\"#00cc96\",\"#ab63fa\",\"#FFA15A\",\"#19d3f3\",\"#FF6692\",\"#B6E880\",\"#FF97FF\",\"#FECB52\"],\"font\":{\"color\":\"#2a3f5f\"},\"geo\":{\"bgcolor\":\"white\",\"lakecolor\":\"white\",\"landcolor\":\"#E5ECF6\",\"showlakes\":true,\"showland\":true,\"subunitcolor\":\"white\"},\"hoverlabel\":{\"align\":\"left\"},\"hovermode\":\"closest\",\"mapbox\":{\"style\":\"light\"},\"paper_bgcolor\":\"white\",\"plot_bgcolor\":\"#E5ECF6\",\"polar\":{\"angularaxis\":{\"gridcolor\":\"white\",\"linecolor\":\"white\",\"ticks\":\"\"},\"bgcolor\":\"#E5ECF6\",\"radialaxis\":{\"gridcolor\":\"white\",\"linecolor\":\"white\",\"ticks\":\"\"}},\"scene\":{\"xaxis\":{\"backgroundcolor\":\"#E5ECF6\",\"gridcolor\":\"white\",\"gridwidth\":2,\"linecolor\":\"white\",\"showbackground\":true,\"ticks\":\"\",\"zerolinecolor\":\"white\"},\"yaxis\":{\"backgroundcolor\":\"#E5ECF6\",\"gridcolor\":\"white\",\"gridwidth\":2,\"linecolor\":\"white\",\"showbackground\":true,\"ticks\":\"\",\"zerolinecolor\":\"white\"},\"zaxis\":{\"backgroundcolor\":\"#E5ECF6\",\"gridcolor\":\"white\",\"gridwidth\":2,\"linecolor\":\"white\",\"showbackground\":true,\"ticks\":\"\",\"zerolinecolor\":\"white\"}},\"shapedefaults\":{\"line\":{\"color\":\"#2a3f5f\"}},\"ternary\":{\"aaxis\":{\"gridcolor\":\"white\",\"linecolor\":\"white\",\"ticks\":\"\"},\"baxis\":{\"gridcolor\":\"white\",\"linecolor\":\"white\",\"ticks\":\"\"},\"bgcolor\":\"#E5ECF6\",\"caxis\":{\"gridcolor\":\"white\",\"linecolor\":\"white\",\"ticks\":\"\"}},\"title\":{\"x\":0.05},\"xaxis\":{\"automargin\":true,\"gridcolor\":\"white\",\"linecolor\":\"white\",\"ticks\":\"\",\"title\":{\"standoff\":15},\"zerolinecolor\":\"white\",\"zerolinewidth\":2},\"yaxis\":{\"automargin\":true,\"gridcolor\":\"white\",\"linecolor\":\"white\",\"ticks\":\"\",\"title\":{\"standoff\":15},\"zerolinecolor\":\"white\",\"zerolinewidth\":2}}},\"xaxis\":{\"anchor\":\"y\",\"domain\":[0.0,1.0],\"title\":{\"text\":\"ChestPainType\"}},\"yaxis\":{\"anchor\":\"x\",\"domain\":[0.0,1.0],\"title\":{\"text\":\"count\"}},\"legend\":{\"tracegroupgap\":0},\"margin\":{\"t\":60},\"barmode\":\"relative\"},                        {\"responsive\": true}                    ).then(function(){\n",
              "                            \n",
              "var gd = document.getElementById('25a64da9-267e-43fc-988f-9ff70db067cc');\n",
              "var x = new MutationObserver(function (mutations, observer) {{\n",
              "        var display = window.getComputedStyle(gd).display;\n",
              "        if (!display || display === 'none') {{\n",
              "            console.log([gd, 'removed!']);\n",
              "            Plotly.purge(gd);\n",
              "            observer.disconnect();\n",
              "        }}\n",
              "}});\n",
              "\n",
              "// Listen for the removal of the full notebook cells\n",
              "var notebookContainer = gd.closest('#notebook-container');\n",
              "if (notebookContainer) {{\n",
              "    x.observe(notebookContainer, {childList: true});\n",
              "}}\n",
              "\n",
              "// Listen for the clearing of the current output cell\n",
              "var outputEl = gd.closest('.output');\n",
              "if (outputEl) {{\n",
              "    x.observe(outputEl, {childList: true});\n",
              "}}\n",
              "\n",
              "                        })                };                            </script>        </div>\n",
              "</body>\n",
              "</html>"
            ]
          },
          "metadata": {}
        }
      ]
    },
    {
      "cell_type": "markdown",
      "source": [
        "*   ATA: Atypical Angina\n",
        "*   NAP: Non-Anginal Pain\n",
        "*   ASY: Asymptomatic\n",
        "*   TA: Typical Angina\n",
        "\n",
        "\n",
        "\n",
        "\n",
        "\n",
        "\n",
        "\n"
      ],
      "metadata": {
        "id": "1liZt2qyLqZu"
      }
    },
    {
      "cell_type": "code",
      "source": [
        "fig = px.histogram(data, x=\"ChestPainType\",color='HeartDisease', barmode='group')\n",
        "fig.show()"
      ],
      "metadata": {
        "colab": {
          "base_uri": "https://localhost:8080/",
          "height": 542
        },
        "id": "VduIpoTwLty6",
        "outputId": "c8727881-3ac5-4069-90a0-03ac16f3e71c"
      },
      "execution_count": 16,
      "outputs": [
        {
          "output_type": "display_data",
          "data": {
            "text/html": [
              "<html>\n",
              "<head><meta charset=\"utf-8\" /></head>\n",
              "<body>\n",
              "    <div>            <script src=\"https://cdnjs.cloudflare.com/ajax/libs/mathjax/2.7.5/MathJax.js?config=TeX-AMS-MML_SVG\"></script><script type=\"text/javascript\">if (window.MathJax) {MathJax.Hub.Config({SVG: {font: \"STIX-Web\"}});}</script>                <script type=\"text/javascript\">window.PlotlyConfig = {MathJaxConfig: 'local'};</script>\n",
              "        <script src=\"https://cdn.plot.ly/plotly-2.8.3.min.js\"></script>                <div id=\"53032605-1be3-4988-8a5c-9d0c672fc498\" class=\"plotly-graph-div\" style=\"height:525px; width:100%;\"></div>            <script type=\"text/javascript\">                                    window.PLOTLYENV=window.PLOTLYENV || {};                                    if (document.getElementById(\"53032605-1be3-4988-8a5c-9d0c672fc498\")) {                    Plotly.newPlot(                        \"53032605-1be3-4988-8a5c-9d0c672fc498\",                        [{\"alignmentgroup\":\"True\",\"bingroup\":\"x\",\"hovertemplate\":\"HeartDisease=0<br>ChestPainType=%{x}<br>count=%{y}<extra></extra>\",\"legendgroup\":\"0\",\"marker\":{\"color\":\"#636efa\",\"pattern\":{\"shape\":\"\"}},\"name\":\"0\",\"offsetgroup\":\"0\",\"orientation\":\"v\",\"showlegend\":true,\"x\":[\"ATA\",\"ATA\",\"NAP\",\"NAP\",\"ATA\",\"ATA\",\"ATA\",\"NAP\",\"ATA\",\"NAP\",\"ATA\",\"ATA\",\"TA\",\"ATA\",\"ATA\",\"NAP\",\"NAP\",\"ASY\",\"ATA\",\"ATA\",\"ATA\",\"NAP\",\"ATA\",\"ATA\",\"ATA\",\"ATA\",\"ASY\",\"ATA\",\"ATA\",\"NAP\",\"NAP\",\"ASY\",\"ATA\",\"NAP\",\"ATA\",\"ATA\",\"ASY\",\"ATA\",\"ASY\",\"ATA\",\"NAP\",\"ASY\",\"ATA\",\"ATA\",\"ASY\",\"ATA\",\"ASY\",\"ATA\",\"ASY\",\"NAP\",\"ASY\",\"ATA\",\"NAP\",\"ATA\",\"ATA\",\"ATA\",\"ASY\",\"ATA\",\"ASY\",\"ATA\",\"NAP\",\"ATA\",\"NAP\",\"ASY\",\"ATA\",\"ASY\",\"ATA\",\"ASY\",\"ATA\",\"ASY\",\"ATA\",\"ATA\",\"ASY\",\"ATA\",\"NAP\",\"TA\",\"NAP\",\"ASY\",\"ATA\",\"ATA\",\"ATA\",\"ASY\",\"ATA\",\"NAP\",\"NAP\",\"ASY\",\"ATA\",\"ATA\",\"ASY\",\"ASY\",\"ATA\",\"ATA\",\"ATA\",\"ATA\",\"ATA\",\"ATA\",\"ASY\",\"ATA\",\"ASY\",\"ATA\",\"ATA\",\"ATA\",\"ATA\",\"ATA\",\"ASY\",\"NAP\",\"ATA\",\"NAP\",\"ATA\",\"NAP\",\"ATA\",\"NAP\",\"ASY\",\"ATA\",\"ASY\",\"ATA\",\"ATA\",\"ASY\",\"ASY\",\"ATA\",\"ATA\",\"NAP\",\"ATA\",\"TA\",\"ASY\",\"ATA\",\"TA\",\"TA\",\"NAP\",\"NAP\",\"ATA\",\"ATA\",\"ASY\",\"ATA\",\"ATA\",\"NAP\",\"NAP\",\"TA\",\"NAP\",\"ATA\",\"ATA\",\"NAP\",\"NAP\",\"ATA\",\"NAP\",\"ATA\",\"ASY\",\"ASY\",\"NAP\",\"ATA\",\"ASY\",\"ATA\",\"ATA\",\"ATA\",\"ATA\",\"TA\",\"ASY\",\"ATA\",\"NAP\",\"ATA\",\"NAP\",\"NAP\",\"ATA\",\"ATA\",\"ATA\",\"ATA\",\"ATA\",\"NAP\",\"ASY\",\"ATA\",\"NAP\",\"ATA\",\"NAP\",\"ASY\",\"ATA\",\"NAP\",\"NAP\",\"ATA\",\"ASY\",\"NAP\",\"ASY\",\"ATA\",\"ATA\",\"ATA\",\"NAP\",\"ATA\",\"ASY\",\"ATA\",\"ATA\",\"ASY\",\"ASY\",\"NAP\",\"NAP\",\"NAP\",\"NAP\",\"ASY\",\"NAP\",\"NAP\",\"NAP\",\"ATA\",\"ASY\",\"ASY\",\"ASY\",\"NAP\",\"ASY\",\"ASY\",\"ASY\",\"ASY\",\"NAP\",\"ATA\",\"ATA\",\"ATA\",\"ASY\",\"ATA\",\"TA\",\"ASY\",\"ASY\",\"NAP\",\"ASY\",\"NAP\",\"NAP\",\"ASY\",\"ASY\",\"NAP\",\"ATA\",\"ASY\",\"ATA\",\"ASY\",\"TA\",\"NAP\",\"NAP\",\"ASY\",\"NAP\",\"ATA\",\"ASY\",\"ASY\",\"NAP\",\"NAP\",\"ATA\",\"ASY\",\"NAP\",\"ASY\",\"NAP\",\"ASY\",\"TA\",\"ASY\",\"NAP\",\"ASY\",\"ATA\",\"ASY\",\"ASY\",\"ASY\",\"NAP\",\"ASY\",\"ASY\",\"TA\",\"TA\",\"ATA\",\"ASY\",\"ASY\",\"ATA\",\"NAP\",\"ASY\",\"NAP\",\"NAP\",\"ASY\",\"NAP\",\"NAP\",\"ASY\",\"ASY\",\"NAP\",\"ATA\",\"NAP\",\"ATA\",\"NAP\",\"ATA\",\"ATA\",\"ATA\",\"NAP\",\"NAP\",\"NAP\",\"TA\",\"TA\",\"ASY\",\"NAP\",\"ASY\",\"ATA\",\"NAP\",\"ASY\",\"ASY\",\"NAP\",\"NAP\",\"ATA\",\"NAP\",\"ASY\",\"TA\",\"ATA\",\"TA\",\"ATA\",\"ATA\",\"ASY\",\"NAP\",\"ATA\",\"NAP\",\"ASY\",\"NAP\",\"ATA\",\"ATA\",\"NAP\",\"ATA\",\"ATA\",\"TA\",\"NAP\",\"NAP\",\"NAP\",\"NAP\",\"ATA\",\"ASY\",\"NAP\",\"NAP\",\"NAP\",\"ATA\",\"ASY\",\"ASY\",\"TA\",\"NAP\",\"NAP\",\"NAP\",\"NAP\",\"ASY\",\"NAP\",\"ATA\",\"ATA\",\"TA\",\"ATA\",\"ASY\",\"ASY\",\"ASY\",\"NAP\",\"ASY\",\"TA\",\"NAP\",\"TA\",\"NAP\",\"NAP\",\"ASY\",\"NAP\",\"NAP\",\"ASY\",\"ASY\",\"ASY\",\"ATA\",\"NAP\",\"ATA\",\"ASY\",\"NAP\",\"TA\",\"NAP\",\"TA\",\"NAP\",\"NAP\",\"NAP\",\"NAP\",\"NAP\",\"ATA\",\"ATA\",\"NAP\",\"NAP\",\"NAP\",\"ATA\",\"NAP\",\"ASY\",\"ATA\",\"TA\",\"TA\",\"ASY\",\"NAP\",\"ASY\",\"NAP\",\"ATA\",\"NAP\",\"ASY\",\"NAP\",\"NAP\",\"ATA\",\"NAP\",\"NAP\",\"ATA\",\"NAP\",\"ASY\",\"NAP\",\"ATA\",\"NAP\",\"ATA\",\"ATA\",\"ASY\",\"NAP\",\"NAP\",\"TA\",\"NAP\",\"NAP\",\"ASY\",\"NAP\",\"ATA\",\"ATA\",\"ATA\",\"ATA\",\"ATA\",\"ATA\",\"NAP\"],\"xaxis\":\"x\",\"yaxis\":\"y\",\"type\":\"histogram\"},{\"alignmentgroup\":\"True\",\"bingroup\":\"x\",\"hovertemplate\":\"HeartDisease=1<br>ChestPainType=%{x}<br>count=%{y}<extra></extra>\",\"legendgroup\":\"1\",\"marker\":{\"color\":\"#EF553B\",\"pattern\":{\"shape\":\"\"}},\"name\":\"1\",\"offsetgroup\":\"1\",\"orientation\":\"v\",\"showlegend\":true,\"x\":[\"NAP\",\"ASY\",\"ASY\",\"ATA\",\"ASY\",\"ASY\",\"ASY\",\"ATA\",\"ATA\",\"NAP\",\"ASY\",\"ASY\",\"ASY\",\"NAP\",\"ASY\",\"ASY\",\"ASY\",\"ASY\",\"ASY\",\"NAP\",\"ASY\",\"ASY\",\"ASY\",\"ATA\",\"ASY\",\"ASY\",\"ASY\",\"ASY\",\"ASY\",\"ASY\",\"ASY\",\"ASY\",\"TA\",\"ASY\",\"ASY\",\"ASY\",\"ASY\",\"ASY\",\"ASY\",\"ASY\",\"ASY\",\"ASY\",\"ASY\",\"TA\",\"NAP\",\"ATA\",\"ASY\",\"ASY\",\"ASY\",\"NAP\",\"ASY\",\"ASY\",\"ASY\",\"ASY\",\"ASY\",\"ATA\",\"ASY\",\"ASY\",\"ASY\",\"ASY\",\"ASY\",\"ASY\",\"TA\",\"ASY\",\"ASY\",\"ASY\",\"ASY\",\"ASY\",\"ASY\",\"NAP\",\"ASY\",\"ASY\",\"ASY\",\"ATA\",\"ASY\",\"ASY\",\"NAP\",\"ASY\",\"ASY\",\"ASY\",\"ASY\",\"ASY\",\"ASY\",\"ASY\",\"TA\",\"ASY\",\"ASY\",\"ASY\",\"ATA\",\"ASY\",\"NAP\",\"ASY\",\"ASY\",\"ASY\",\"ASY\",\"ASY\",\"ASY\",\"ASY\",\"ASY\",\"NAP\",\"ASY\",\"ASY\",\"ASY\",\"NAP\",\"ASY\",\"ASY\",\"ASY\",\"TA\",\"ASY\",\"ASY\",\"ASY\",\"ASY\",\"ASY\",\"ASY\",\"ASY\",\"ASY\",\"ASY\",\"ASY\",\"ASY\",\"ASY\",\"ASY\",\"ASY\",\"ASY\",\"ASY\",\"ATA\",\"NAP\",\"ASY\",\"ASY\",\"ASY\",\"NAP\",\"ASY\",\"ASY\",\"ASY\",\"ASY\",\"ASY\",\"ASY\",\"ASY\",\"ASY\",\"NAP\",\"ASY\",\"ASY\",\"ASY\",\"TA\",\"ASY\",\"ASY\",\"ASY\",\"ASY\",\"ASY\",\"ASY\",\"ASY\",\"ASY\",\"ASY\",\"ASY\",\"ASY\",\"ASY\",\"ASY\",\"ASY\",\"ASY\",\"ASY\",\"ASY\",\"ASY\",\"TA\",\"ASY\",\"ATA\",\"NAP\",\"NAP\",\"NAP\",\"ASY\",\"NAP\",\"ASY\",\"ASY\",\"ASY\",\"ASY\",\"ASY\",\"ASY\",\"ASY\",\"ASY\",\"ASY\",\"ASY\",\"ASY\",\"NAP\",\"NAP\",\"ASY\",\"ASY\",\"ASY\",\"ASY\",\"ASY\",\"ASY\",\"ASY\",\"ASY\",\"ASY\",\"ASY\",\"ASY\",\"ASY\",\"ASY\",\"ASY\",\"ASY\",\"ASY\",\"ASY\",\"ASY\",\"ASY\",\"TA\",\"ASY\",\"ASY\",\"NAP\",\"ASY\",\"ASY\",\"ASY\",\"ASY\",\"NAP\",\"ASY\",\"ASY\",\"ASY\",\"ASY\",\"NAP\",\"ASY\",\"ASY\",\"ASY\",\"NAP\",\"ASY\",\"ASY\",\"ASY\",\"ASY\",\"ASY\",\"ASY\",\"NAP\",\"ATA\",\"ASY\",\"ASY\",\"NAP\",\"ASY\",\"ASY\",\"ASY\",\"ASY\",\"ASY\",\"NAP\",\"NAP\",\"ASY\",\"ASY\",\"ASY\",\"ASY\",\"NAP\",\"ASY\",\"ASY\",\"ASY\",\"NAP\",\"NAP\",\"ASY\",\"ASY\",\"ASY\",\"NAP\",\"ASY\",\"ASY\",\"ASY\",\"ASY\",\"ASY\",\"NAP\",\"NAP\",\"ASY\",\"ASY\",\"ASY\",\"ASY\",\"NAP\",\"ASY\",\"ASY\",\"ASY\",\"NAP\",\"ATA\",\"NAP\",\"TA\",\"ASY\",\"ASY\",\"ATA\",\"ASY\",\"ASY\",\"NAP\",\"ASY\",\"TA\",\"NAP\",\"ASY\",\"ASY\",\"ASY\",\"ASY\",\"ASY\",\"ASY\",\"ASY\",\"ASY\",\"ASY\",\"NAP\",\"ASY\",\"ASY\",\"ASY\",\"ASY\",\"TA\",\"ASY\",\"NAP\",\"ASY\",\"NAP\",\"ASY\",\"ASY\",\"ASY\",\"ASY\",\"ASY\",\"NAP\",\"ASY\",\"ASY\",\"ASY\",\"ASY\",\"ASY\",\"ASY\",\"ASY\",\"NAP\",\"ASY\",\"ASY\",\"NAP\",\"NAP\",\"ASY\",\"ASY\",\"NAP\",\"TA\",\"ASY\",\"ASY\",\"NAP\",\"TA\",\"NAP\",\"NAP\",\"NAP\",\"ASY\",\"ASY\",\"ASY\",\"ASY\",\"ASY\",\"ASY\",\"ASY\",\"ASY\",\"ASY\",\"ASY\",\"ASY\",\"ASY\",\"ASY\",\"ASY\",\"ASY\",\"ASY\",\"ASY\",\"ASY\",\"ASY\",\"ASY\",\"ASY\",\"ATA\",\"ASY\",\"ASY\",\"NAP\",\"ASY\",\"ASY\",\"ASY\",\"ASY\",\"ASY\",\"ASY\",\"ASY\",\"NAP\",\"NAP\",\"ASY\",\"ASY\",\"ASY\",\"ASY\",\"ASY\",\"ASY\",\"ASY\",\"ATA\",\"ASY\",\"ATA\",\"NAP\",\"ASY\",\"ASY\",\"ASY\",\"TA\",\"ASY\",\"ASY\",\"ASY\",\"NAP\",\"NAP\",\"ASY\",\"ASY\",\"ASY\",\"ASY\",\"TA\",\"ASY\",\"NAP\",\"NAP\",\"ASY\",\"ATA\",\"ASY\",\"ASY\",\"ASY\",\"ASY\",\"ATA\",\"ASY\",\"ASY\",\"ATA\",\"NAP\",\"ASY\",\"ASY\",\"ASY\",\"ASY\",\"ASY\",\"ASY\",\"ASY\",\"ASY\",\"ASY\",\"ASY\",\"ASY\",\"ASY\",\"ASY\",\"ASY\",\"ASY\",\"ASY\",\"ASY\",\"ASY\",\"ASY\",\"ASY\",\"ASY\",\"ASY\",\"ASY\",\"NAP\",\"ASY\",\"ASY\",\"ASY\",\"ASY\",\"ASY\",\"ASY\",\"ASY\",\"ASY\",\"ASY\",\"NAP\",\"ATA\",\"ASY\",\"ASY\",\"ASY\",\"NAP\",\"ASY\",\"ASY\",\"TA\",\"ASY\",\"ASY\",\"TA\",\"NAP\",\"ASY\",\"ASY\",\"ASY\",\"NAP\",\"ASY\",\"ASY\",\"ASY\",\"ASY\",\"NAP\",\"ASY\",\"ASY\",\"ASY\",\"ASY\",\"ASY\",\"ASY\",\"ASY\",\"NAP\",\"TA\",\"ASY\",\"ASY\",\"ASY\",\"ASY\",\"NAP\",\"ASY\",\"ASY\",\"ASY\",\"ASY\",\"ASY\",\"ASY\",\"NAP\",\"ASY\",\"ASY\",\"ASY\",\"NAP\",\"ASY\",\"ASY\",\"ASY\",\"ASY\",\"NAP\",\"ASY\",\"ATA\",\"ATA\",\"ASY\",\"ASY\",\"ASY\",\"TA\",\"ATA\",\"ASY\",\"ASY\",\"ASY\",\"ASY\",\"ASY\",\"NAP\",\"ASY\",\"ASY\",\"ASY\",\"ASY\",\"ASY\",\"TA\",\"ASY\",\"ASY\",\"ATA\"],\"xaxis\":\"x\",\"yaxis\":\"y\",\"type\":\"histogram\"}],                        {\"template\":{\"data\":{\"bar\":[{\"error_x\":{\"color\":\"#2a3f5f\"},\"error_y\":{\"color\":\"#2a3f5f\"},\"marker\":{\"line\":{\"color\":\"#E5ECF6\",\"width\":0.5},\"pattern\":{\"fillmode\":\"overlay\",\"size\":10,\"solidity\":0.2}},\"type\":\"bar\"}],\"barpolar\":[{\"marker\":{\"line\":{\"color\":\"#E5ECF6\",\"width\":0.5},\"pattern\":{\"fillmode\":\"overlay\",\"size\":10,\"solidity\":0.2}},\"type\":\"barpolar\"}],\"carpet\":[{\"aaxis\":{\"endlinecolor\":\"#2a3f5f\",\"gridcolor\":\"white\",\"linecolor\":\"white\",\"minorgridcolor\":\"white\",\"startlinecolor\":\"#2a3f5f\"},\"baxis\":{\"endlinecolor\":\"#2a3f5f\",\"gridcolor\":\"white\",\"linecolor\":\"white\",\"minorgridcolor\":\"white\",\"startlinecolor\":\"#2a3f5f\"},\"type\":\"carpet\"}],\"choropleth\":[{\"colorbar\":{\"outlinewidth\":0,\"ticks\":\"\"},\"type\":\"choropleth\"}],\"contour\":[{\"colorbar\":{\"outlinewidth\":0,\"ticks\":\"\"},\"colorscale\":[[0.0,\"#0d0887\"],[0.1111111111111111,\"#46039f\"],[0.2222222222222222,\"#7201a8\"],[0.3333333333333333,\"#9c179e\"],[0.4444444444444444,\"#bd3786\"],[0.5555555555555556,\"#d8576b\"],[0.6666666666666666,\"#ed7953\"],[0.7777777777777778,\"#fb9f3a\"],[0.8888888888888888,\"#fdca26\"],[1.0,\"#f0f921\"]],\"type\":\"contour\"}],\"contourcarpet\":[{\"colorbar\":{\"outlinewidth\":0,\"ticks\":\"\"},\"type\":\"contourcarpet\"}],\"heatmap\":[{\"colorbar\":{\"outlinewidth\":0,\"ticks\":\"\"},\"colorscale\":[[0.0,\"#0d0887\"],[0.1111111111111111,\"#46039f\"],[0.2222222222222222,\"#7201a8\"],[0.3333333333333333,\"#9c179e\"],[0.4444444444444444,\"#bd3786\"],[0.5555555555555556,\"#d8576b\"],[0.6666666666666666,\"#ed7953\"],[0.7777777777777778,\"#fb9f3a\"],[0.8888888888888888,\"#fdca26\"],[1.0,\"#f0f921\"]],\"type\":\"heatmap\"}],\"heatmapgl\":[{\"colorbar\":{\"outlinewidth\":0,\"ticks\":\"\"},\"colorscale\":[[0.0,\"#0d0887\"],[0.1111111111111111,\"#46039f\"],[0.2222222222222222,\"#7201a8\"],[0.3333333333333333,\"#9c179e\"],[0.4444444444444444,\"#bd3786\"],[0.5555555555555556,\"#d8576b\"],[0.6666666666666666,\"#ed7953\"],[0.7777777777777778,\"#fb9f3a\"],[0.8888888888888888,\"#fdca26\"],[1.0,\"#f0f921\"]],\"type\":\"heatmapgl\"}],\"histogram\":[{\"marker\":{\"pattern\":{\"fillmode\":\"overlay\",\"size\":10,\"solidity\":0.2}},\"type\":\"histogram\"}],\"histogram2d\":[{\"colorbar\":{\"outlinewidth\":0,\"ticks\":\"\"},\"colorscale\":[[0.0,\"#0d0887\"],[0.1111111111111111,\"#46039f\"],[0.2222222222222222,\"#7201a8\"],[0.3333333333333333,\"#9c179e\"],[0.4444444444444444,\"#bd3786\"],[0.5555555555555556,\"#d8576b\"],[0.6666666666666666,\"#ed7953\"],[0.7777777777777778,\"#fb9f3a\"],[0.8888888888888888,\"#fdca26\"],[1.0,\"#f0f921\"]],\"type\":\"histogram2d\"}],\"histogram2dcontour\":[{\"colorbar\":{\"outlinewidth\":0,\"ticks\":\"\"},\"colorscale\":[[0.0,\"#0d0887\"],[0.1111111111111111,\"#46039f\"],[0.2222222222222222,\"#7201a8\"],[0.3333333333333333,\"#9c179e\"],[0.4444444444444444,\"#bd3786\"],[0.5555555555555556,\"#d8576b\"],[0.6666666666666666,\"#ed7953\"],[0.7777777777777778,\"#fb9f3a\"],[0.8888888888888888,\"#fdca26\"],[1.0,\"#f0f921\"]],\"type\":\"histogram2dcontour\"}],\"mesh3d\":[{\"colorbar\":{\"outlinewidth\":0,\"ticks\":\"\"},\"type\":\"mesh3d\"}],\"parcoords\":[{\"line\":{\"colorbar\":{\"outlinewidth\":0,\"ticks\":\"\"}},\"type\":\"parcoords\"}],\"pie\":[{\"automargin\":true,\"type\":\"pie\"}],\"scatter\":[{\"marker\":{\"colorbar\":{\"outlinewidth\":0,\"ticks\":\"\"}},\"type\":\"scatter\"}],\"scatter3d\":[{\"line\":{\"colorbar\":{\"outlinewidth\":0,\"ticks\":\"\"}},\"marker\":{\"colorbar\":{\"outlinewidth\":0,\"ticks\":\"\"}},\"type\":\"scatter3d\"}],\"scattercarpet\":[{\"marker\":{\"colorbar\":{\"outlinewidth\":0,\"ticks\":\"\"}},\"type\":\"scattercarpet\"}],\"scattergeo\":[{\"marker\":{\"colorbar\":{\"outlinewidth\":0,\"ticks\":\"\"}},\"type\":\"scattergeo\"}],\"scattergl\":[{\"marker\":{\"colorbar\":{\"outlinewidth\":0,\"ticks\":\"\"}},\"type\":\"scattergl\"}],\"scattermapbox\":[{\"marker\":{\"colorbar\":{\"outlinewidth\":0,\"ticks\":\"\"}},\"type\":\"scattermapbox\"}],\"scatterpolar\":[{\"marker\":{\"colorbar\":{\"outlinewidth\":0,\"ticks\":\"\"}},\"type\":\"scatterpolar\"}],\"scatterpolargl\":[{\"marker\":{\"colorbar\":{\"outlinewidth\":0,\"ticks\":\"\"}},\"type\":\"scatterpolargl\"}],\"scatterternary\":[{\"marker\":{\"colorbar\":{\"outlinewidth\":0,\"ticks\":\"\"}},\"type\":\"scatterternary\"}],\"surface\":[{\"colorbar\":{\"outlinewidth\":0,\"ticks\":\"\"},\"colorscale\":[[0.0,\"#0d0887\"],[0.1111111111111111,\"#46039f\"],[0.2222222222222222,\"#7201a8\"],[0.3333333333333333,\"#9c179e\"],[0.4444444444444444,\"#bd3786\"],[0.5555555555555556,\"#d8576b\"],[0.6666666666666666,\"#ed7953\"],[0.7777777777777778,\"#fb9f3a\"],[0.8888888888888888,\"#fdca26\"],[1.0,\"#f0f921\"]],\"type\":\"surface\"}],\"table\":[{\"cells\":{\"fill\":{\"color\":\"#EBF0F8\"},\"line\":{\"color\":\"white\"}},\"header\":{\"fill\":{\"color\":\"#C8D4E3\"},\"line\":{\"color\":\"white\"}},\"type\":\"table\"}]},\"layout\":{\"annotationdefaults\":{\"arrowcolor\":\"#2a3f5f\",\"arrowhead\":0,\"arrowwidth\":1},\"autotypenumbers\":\"strict\",\"coloraxis\":{\"colorbar\":{\"outlinewidth\":0,\"ticks\":\"\"}},\"colorscale\":{\"diverging\":[[0,\"#8e0152\"],[0.1,\"#c51b7d\"],[0.2,\"#de77ae\"],[0.3,\"#f1b6da\"],[0.4,\"#fde0ef\"],[0.5,\"#f7f7f7\"],[0.6,\"#e6f5d0\"],[0.7,\"#b8e186\"],[0.8,\"#7fbc41\"],[0.9,\"#4d9221\"],[1,\"#276419\"]],\"sequential\":[[0.0,\"#0d0887\"],[0.1111111111111111,\"#46039f\"],[0.2222222222222222,\"#7201a8\"],[0.3333333333333333,\"#9c179e\"],[0.4444444444444444,\"#bd3786\"],[0.5555555555555556,\"#d8576b\"],[0.6666666666666666,\"#ed7953\"],[0.7777777777777778,\"#fb9f3a\"],[0.8888888888888888,\"#fdca26\"],[1.0,\"#f0f921\"]],\"sequentialminus\":[[0.0,\"#0d0887\"],[0.1111111111111111,\"#46039f\"],[0.2222222222222222,\"#7201a8\"],[0.3333333333333333,\"#9c179e\"],[0.4444444444444444,\"#bd3786\"],[0.5555555555555556,\"#d8576b\"],[0.6666666666666666,\"#ed7953\"],[0.7777777777777778,\"#fb9f3a\"],[0.8888888888888888,\"#fdca26\"],[1.0,\"#f0f921\"]]},\"colorway\":[\"#636efa\",\"#EF553B\",\"#00cc96\",\"#ab63fa\",\"#FFA15A\",\"#19d3f3\",\"#FF6692\",\"#B6E880\",\"#FF97FF\",\"#FECB52\"],\"font\":{\"color\":\"#2a3f5f\"},\"geo\":{\"bgcolor\":\"white\",\"lakecolor\":\"white\",\"landcolor\":\"#E5ECF6\",\"showlakes\":true,\"showland\":true,\"subunitcolor\":\"white\"},\"hoverlabel\":{\"align\":\"left\"},\"hovermode\":\"closest\",\"mapbox\":{\"style\":\"light\"},\"paper_bgcolor\":\"white\",\"plot_bgcolor\":\"#E5ECF6\",\"polar\":{\"angularaxis\":{\"gridcolor\":\"white\",\"linecolor\":\"white\",\"ticks\":\"\"},\"bgcolor\":\"#E5ECF6\",\"radialaxis\":{\"gridcolor\":\"white\",\"linecolor\":\"white\",\"ticks\":\"\"}},\"scene\":{\"xaxis\":{\"backgroundcolor\":\"#E5ECF6\",\"gridcolor\":\"white\",\"gridwidth\":2,\"linecolor\":\"white\",\"showbackground\":true,\"ticks\":\"\",\"zerolinecolor\":\"white\"},\"yaxis\":{\"backgroundcolor\":\"#E5ECF6\",\"gridcolor\":\"white\",\"gridwidth\":2,\"linecolor\":\"white\",\"showbackground\":true,\"ticks\":\"\",\"zerolinecolor\":\"white\"},\"zaxis\":{\"backgroundcolor\":\"#E5ECF6\",\"gridcolor\":\"white\",\"gridwidth\":2,\"linecolor\":\"white\",\"showbackground\":true,\"ticks\":\"\",\"zerolinecolor\":\"white\"}},\"shapedefaults\":{\"line\":{\"color\":\"#2a3f5f\"}},\"ternary\":{\"aaxis\":{\"gridcolor\":\"white\",\"linecolor\":\"white\",\"ticks\":\"\"},\"baxis\":{\"gridcolor\":\"white\",\"linecolor\":\"white\",\"ticks\":\"\"},\"bgcolor\":\"#E5ECF6\",\"caxis\":{\"gridcolor\":\"white\",\"linecolor\":\"white\",\"ticks\":\"\"}},\"title\":{\"x\":0.05},\"xaxis\":{\"automargin\":true,\"gridcolor\":\"white\",\"linecolor\":\"white\",\"ticks\":\"\",\"title\":{\"standoff\":15},\"zerolinecolor\":\"white\",\"zerolinewidth\":2},\"yaxis\":{\"automargin\":true,\"gridcolor\":\"white\",\"linecolor\":\"white\",\"ticks\":\"\",\"title\":{\"standoff\":15},\"zerolinecolor\":\"white\",\"zerolinewidth\":2}}},\"xaxis\":{\"anchor\":\"y\",\"domain\":[0.0,1.0],\"title\":{\"text\":\"ChestPainType\"}},\"yaxis\":{\"anchor\":\"x\",\"domain\":[0.0,1.0],\"title\":{\"text\":\"count\"}},\"legend\":{\"title\":{\"text\":\"HeartDisease\"},\"tracegroupgap\":0},\"margin\":{\"t\":60},\"barmode\":\"group\"},                        {\"responsive\": true}                    ).then(function(){\n",
              "                            \n",
              "var gd = document.getElementById('53032605-1be3-4988-8a5c-9d0c672fc498');\n",
              "var x = new MutationObserver(function (mutations, observer) {{\n",
              "        var display = window.getComputedStyle(gd).display;\n",
              "        if (!display || display === 'none') {{\n",
              "            console.log([gd, 'removed!']);\n",
              "            Plotly.purge(gd);\n",
              "            observer.disconnect();\n",
              "        }}\n",
              "}});\n",
              "\n",
              "// Listen for the removal of the full notebook cells\n",
              "var notebookContainer = gd.closest('#notebook-container');\n",
              "if (notebookContainer) {{\n",
              "    x.observe(notebookContainer, {childList: true});\n",
              "}}\n",
              "\n",
              "// Listen for the clearing of the current output cell\n",
              "var outputEl = gd.closest('.output');\n",
              "if (outputEl) {{\n",
              "    x.observe(outputEl, {childList: true});\n",
              "}}\n",
              "\n",
              "                        })                };                            </script>        </div>\n",
              "</body>\n",
              "</html>"
            ]
          },
          "metadata": {}
        }
      ]
    },
    {
      "cell_type": "code",
      "source": [
        "fig = px.histogram(data, x=\"RestingBP\", marginal=\"box\")\n",
        "fig.update_layout(title=\"Distribution of RestingBP\")\n",
        "fig.show()"
      ],
      "metadata": {
        "colab": {
          "base_uri": "https://localhost:8080/",
          "height": 542
        },
        "id": "otFxyD88NJt7",
        "outputId": "452b4bd1-520d-4932-d7a8-005f88e187c3"
      },
      "execution_count": 17,
      "outputs": [
        {
          "output_type": "display_data",
          "data": {
            "text/html": [
              "<html>\n",
              "<head><meta charset=\"utf-8\" /></head>\n",
              "<body>\n",
              "    <div>            <script src=\"https://cdnjs.cloudflare.com/ajax/libs/mathjax/2.7.5/MathJax.js?config=TeX-AMS-MML_SVG\"></script><script type=\"text/javascript\">if (window.MathJax) {MathJax.Hub.Config({SVG: {font: \"STIX-Web\"}});}</script>                <script type=\"text/javascript\">window.PlotlyConfig = {MathJaxConfig: 'local'};</script>\n",
              "        <script src=\"https://cdn.plot.ly/plotly-2.8.3.min.js\"></script>                <div id=\"69be4146-8bec-4033-9dd7-d9e3cca30952\" class=\"plotly-graph-div\" style=\"height:525px; width:100%;\"></div>            <script type=\"text/javascript\">                                    window.PLOTLYENV=window.PLOTLYENV || {};                                    if (document.getElementById(\"69be4146-8bec-4033-9dd7-d9e3cca30952\")) {                    Plotly.newPlot(                        \"69be4146-8bec-4033-9dd7-d9e3cca30952\",                        [{\"alignmentgroup\":\"True\",\"bingroup\":\"x\",\"hovertemplate\":\"RestingBP=%{x}<br>count=%{y}<extra></extra>\",\"legendgroup\":\"\",\"marker\":{\"color\":\"#636efa\",\"pattern\":{\"shape\":\"\"}},\"name\":\"\",\"offsetgroup\":\"\",\"orientation\":\"v\",\"showlegend\":false,\"x\":[140,160,130,138,150,120,130,110,140,120,130,136,120,140,115,120,110,120,100,120,100,120,124,150,130,130,124,120,113,125,145,130,125,130,150,125,140,110,120,150,150,130,150,140,120,130,120,140,112,110,130,120,140,130,130,160,120,130,150,112,100,150,140,120,110,120,132,110,160,150,140,130,120,120,140,150,118,140,140,130,110,120,150,160,150,140,170,140,120,140,110,130,120,160,110,130,142,160,120,125,130,130,150,120,118,140,120,150,140,190,130,150,140,140,130,100,120,130,120,140,135,125,110,180,130,120,130,108,120,120,145,110,170,150,130,115,120,120,140,150,160,140,160,140,120,110,120,120,120,130,130,100,130,120,120,155,110,140,130,160,140,128,160,120,140,140,140,140,135,140,120,140,140,140,140,140,140,140,130,130,130,130,140,110,160,160,130,120,120,180,180,170,130,135,125,160,120,150,120,130,110,120,160,100,130,150,120,110,130,125,106,140,130,130,150,170,110,120,140,140,130,160,120,120,120,145,120,92,120,130,130,130,120,112,140,120,120,140,160,160,145,200,160,120,160,120,120,122,130,130,135,120,125,140,145,120,130,150,150,122,140,120,120,130,140,160,130,98,130,130,120,105,140,120,180,180,135,170,180,130,120,150,130,110,140,110,140,120,133,120,110,140,130,115,95,105,145,110,110,110,160,140,125,120,95,120,115,130,115,95,155,125,125,115,80,145,105,140,130,145,125,100,105,115,100,105,110,125,95,130,115,115,100,95,130,120,160,150,140,95,100,110,110,130,120,135,120,115,137,110,120,140,120,130,120,145,115,120,115,105,160,160,155,120,120,200,150,135,140,150,135,150,185,135,125,160,155,160,140,120,160,115,115,110,120,150,145,130,140,160,140,115,130,150,160,135,140,170,165,200,160,130,145,135,110,120,140,115,110,160,150,180,125,125,130,155,140,130,132,142,110,120,150,180,120,160,126,140,110,133,128,120,170,110,126,152,116,120,130,138,128,130,128,130,120,136,130,124,160,0,122,144,140,120,136,154,120,125,134,104,139,136,122,128,131,134,120,132,152,124,126,138,154,141,131,178,132,110,130,170,126,140,142,120,134,139,110,140,140,136,120,170,130,137,142,142,132,146,160,135,136,130,140,132,158,136,136,106,120,110,136,160,123,112,122,130,150,150,102,96,130,120,144,124,150,130,144,139,131,143,133,143,116,110,125,130,133,150,130,110,138,104,138,170,140,132,132,142,112,139,172,120,144,145,155,150,160,137,137,134,133,132,140,135,144,141,150,130,110,158,128,140,150,160,142,137,139,146,156,145,131,140,122,142,141,180,124,118,140,140,136,100,190,130,160,130,122,133,120,130,130,140,120,155,134,114,160,144,158,134,127,135,122,140,120,130,115,124,128,120,120,130,110,140,150,135,142,140,134,128,112,140,140,110,140,120,130,115,112,132,130,138,120,112,110,128,160,120,170,144,130,140,160,130,122,152,124,130,101,126,140,118,110,160,150,136,128,140,140,130,105,138,120,174,120,150,130,120,150,145,150,140,136,118,108,120,120,156,140,106,142,104,94,120,120,146,120,150,130,110,148,128,178,126,150,140,130,124,110,125,110,120,100,140,120,108,120,130,165,130,124,100,150,140,112,180,110,158,135,120,134,120,200,150,130,120,122,152,160,125,160,120,136,134,117,108,112,140,120,150,142,152,125,118,132,145,138,140,125,192,123,112,110,132,112,112,120,108,130,130,105,140,128,120,178,120,150,130,128,110,180,110,130,138,138,160,140,100,120,118,138,140,150,125,129,120,134,110,102,130,130,132,108,140,160,140,145,108,126,124,135,100,110,140,125,118,125,125,140,160,152,102,105,125,130,170,125,122,128,130,130,135,94,120,120,110,135,150,130,138,135,130,132,150,118,145,118,115,128,130,160,138,120,138,120,180,140,130,140,140,130,110,155,140,145,120,130,112,110,150,160,150,132,140,150,120,130,120,130,110,172,120,140,140,160,128,138,132,128,134,170,146,138,154,130,110,130,128,122,148,114,170,125,130,120,152,132,120,140,124,120,164,140,110,144,130,130,138],\"xaxis\":\"x\",\"yaxis\":\"y\",\"type\":\"histogram\"},{\"alignmentgroup\":\"True\",\"hovertemplate\":\"RestingBP=%{x}<extra></extra>\",\"legendgroup\":\"\",\"marker\":{\"color\":\"#636efa\"},\"name\":\"\",\"notched\":true,\"offsetgroup\":\"\",\"showlegend\":false,\"x\":[140,160,130,138,150,120,130,110,140,120,130,136,120,140,115,120,110,120,100,120,100,120,124,150,130,130,124,120,113,125,145,130,125,130,150,125,140,110,120,150,150,130,150,140,120,130,120,140,112,110,130,120,140,130,130,160,120,130,150,112,100,150,140,120,110,120,132,110,160,150,140,130,120,120,140,150,118,140,140,130,110,120,150,160,150,140,170,140,120,140,110,130,120,160,110,130,142,160,120,125,130,130,150,120,118,140,120,150,140,190,130,150,140,140,130,100,120,130,120,140,135,125,110,180,130,120,130,108,120,120,145,110,170,150,130,115,120,120,140,150,160,140,160,140,120,110,120,120,120,130,130,100,130,120,120,155,110,140,130,160,140,128,160,120,140,140,140,140,135,140,120,140,140,140,140,140,140,140,130,130,130,130,140,110,160,160,130,120,120,180,180,170,130,135,125,160,120,150,120,130,110,120,160,100,130,150,120,110,130,125,106,140,130,130,150,170,110,120,140,140,130,160,120,120,120,145,120,92,120,130,130,130,120,112,140,120,120,140,160,160,145,200,160,120,160,120,120,122,130,130,135,120,125,140,145,120,130,150,150,122,140,120,120,130,140,160,130,98,130,130,120,105,140,120,180,180,135,170,180,130,120,150,130,110,140,110,140,120,133,120,110,140,130,115,95,105,145,110,110,110,160,140,125,120,95,120,115,130,115,95,155,125,125,115,80,145,105,140,130,145,125,100,105,115,100,105,110,125,95,130,115,115,100,95,130,120,160,150,140,95,100,110,110,130,120,135,120,115,137,110,120,140,120,130,120,145,115,120,115,105,160,160,155,120,120,200,150,135,140,150,135,150,185,135,125,160,155,160,140,120,160,115,115,110,120,150,145,130,140,160,140,115,130,150,160,135,140,170,165,200,160,130,145,135,110,120,140,115,110,160,150,180,125,125,130,155,140,130,132,142,110,120,150,180,120,160,126,140,110,133,128,120,170,110,126,152,116,120,130,138,128,130,128,130,120,136,130,124,160,0,122,144,140,120,136,154,120,125,134,104,139,136,122,128,131,134,120,132,152,124,126,138,154,141,131,178,132,110,130,170,126,140,142,120,134,139,110,140,140,136,120,170,130,137,142,142,132,146,160,135,136,130,140,132,158,136,136,106,120,110,136,160,123,112,122,130,150,150,102,96,130,120,144,124,150,130,144,139,131,143,133,143,116,110,125,130,133,150,130,110,138,104,138,170,140,132,132,142,112,139,172,120,144,145,155,150,160,137,137,134,133,132,140,135,144,141,150,130,110,158,128,140,150,160,142,137,139,146,156,145,131,140,122,142,141,180,124,118,140,140,136,100,190,130,160,130,122,133,120,130,130,140,120,155,134,114,160,144,158,134,127,135,122,140,120,130,115,124,128,120,120,130,110,140,150,135,142,140,134,128,112,140,140,110,140,120,130,115,112,132,130,138,120,112,110,128,160,120,170,144,130,140,160,130,122,152,124,130,101,126,140,118,110,160,150,136,128,140,140,130,105,138,120,174,120,150,130,120,150,145,150,140,136,118,108,120,120,156,140,106,142,104,94,120,120,146,120,150,130,110,148,128,178,126,150,140,130,124,110,125,110,120,100,140,120,108,120,130,165,130,124,100,150,140,112,180,110,158,135,120,134,120,200,150,130,120,122,152,160,125,160,120,136,134,117,108,112,140,120,150,142,152,125,118,132,145,138,140,125,192,123,112,110,132,112,112,120,108,130,130,105,140,128,120,178,120,150,130,128,110,180,110,130,138,138,160,140,100,120,118,138,140,150,125,129,120,134,110,102,130,130,132,108,140,160,140,145,108,126,124,135,100,110,140,125,118,125,125,140,160,152,102,105,125,130,170,125,122,128,130,130,135,94,120,120,110,135,150,130,138,135,130,132,150,118,145,118,115,128,130,160,138,120,138,120,180,140,130,140,140,130,110,155,140,145,120,130,112,110,150,160,150,132,140,150,120,130,120,130,110,172,120,140,140,160,128,138,132,128,134,170,146,138,154,130,110,130,128,122,148,114,170,125,130,120,152,132,120,140,124,120,164,140,110,144,130,130,138],\"xaxis\":\"x2\",\"yaxis\":\"y2\",\"type\":\"box\"}],                        {\"template\":{\"data\":{\"bar\":[{\"error_x\":{\"color\":\"#2a3f5f\"},\"error_y\":{\"color\":\"#2a3f5f\"},\"marker\":{\"line\":{\"color\":\"#E5ECF6\",\"width\":0.5},\"pattern\":{\"fillmode\":\"overlay\",\"size\":10,\"solidity\":0.2}},\"type\":\"bar\"}],\"barpolar\":[{\"marker\":{\"line\":{\"color\":\"#E5ECF6\",\"width\":0.5},\"pattern\":{\"fillmode\":\"overlay\",\"size\":10,\"solidity\":0.2}},\"type\":\"barpolar\"}],\"carpet\":[{\"aaxis\":{\"endlinecolor\":\"#2a3f5f\",\"gridcolor\":\"white\",\"linecolor\":\"white\",\"minorgridcolor\":\"white\",\"startlinecolor\":\"#2a3f5f\"},\"baxis\":{\"endlinecolor\":\"#2a3f5f\",\"gridcolor\":\"white\",\"linecolor\":\"white\",\"minorgridcolor\":\"white\",\"startlinecolor\":\"#2a3f5f\"},\"type\":\"carpet\"}],\"choropleth\":[{\"colorbar\":{\"outlinewidth\":0,\"ticks\":\"\"},\"type\":\"choropleth\"}],\"contour\":[{\"colorbar\":{\"outlinewidth\":0,\"ticks\":\"\"},\"colorscale\":[[0.0,\"#0d0887\"],[0.1111111111111111,\"#46039f\"],[0.2222222222222222,\"#7201a8\"],[0.3333333333333333,\"#9c179e\"],[0.4444444444444444,\"#bd3786\"],[0.5555555555555556,\"#d8576b\"],[0.6666666666666666,\"#ed7953\"],[0.7777777777777778,\"#fb9f3a\"],[0.8888888888888888,\"#fdca26\"],[1.0,\"#f0f921\"]],\"type\":\"contour\"}],\"contourcarpet\":[{\"colorbar\":{\"outlinewidth\":0,\"ticks\":\"\"},\"type\":\"contourcarpet\"}],\"heatmap\":[{\"colorbar\":{\"outlinewidth\":0,\"ticks\":\"\"},\"colorscale\":[[0.0,\"#0d0887\"],[0.1111111111111111,\"#46039f\"],[0.2222222222222222,\"#7201a8\"],[0.3333333333333333,\"#9c179e\"],[0.4444444444444444,\"#bd3786\"],[0.5555555555555556,\"#d8576b\"],[0.6666666666666666,\"#ed7953\"],[0.7777777777777778,\"#fb9f3a\"],[0.8888888888888888,\"#fdca26\"],[1.0,\"#f0f921\"]],\"type\":\"heatmap\"}],\"heatmapgl\":[{\"colorbar\":{\"outlinewidth\":0,\"ticks\":\"\"},\"colorscale\":[[0.0,\"#0d0887\"],[0.1111111111111111,\"#46039f\"],[0.2222222222222222,\"#7201a8\"],[0.3333333333333333,\"#9c179e\"],[0.4444444444444444,\"#bd3786\"],[0.5555555555555556,\"#d8576b\"],[0.6666666666666666,\"#ed7953\"],[0.7777777777777778,\"#fb9f3a\"],[0.8888888888888888,\"#fdca26\"],[1.0,\"#f0f921\"]],\"type\":\"heatmapgl\"}],\"histogram\":[{\"marker\":{\"pattern\":{\"fillmode\":\"overlay\",\"size\":10,\"solidity\":0.2}},\"type\":\"histogram\"}],\"histogram2d\":[{\"colorbar\":{\"outlinewidth\":0,\"ticks\":\"\"},\"colorscale\":[[0.0,\"#0d0887\"],[0.1111111111111111,\"#46039f\"],[0.2222222222222222,\"#7201a8\"],[0.3333333333333333,\"#9c179e\"],[0.4444444444444444,\"#bd3786\"],[0.5555555555555556,\"#d8576b\"],[0.6666666666666666,\"#ed7953\"],[0.7777777777777778,\"#fb9f3a\"],[0.8888888888888888,\"#fdca26\"],[1.0,\"#f0f921\"]],\"type\":\"histogram2d\"}],\"histogram2dcontour\":[{\"colorbar\":{\"outlinewidth\":0,\"ticks\":\"\"},\"colorscale\":[[0.0,\"#0d0887\"],[0.1111111111111111,\"#46039f\"],[0.2222222222222222,\"#7201a8\"],[0.3333333333333333,\"#9c179e\"],[0.4444444444444444,\"#bd3786\"],[0.5555555555555556,\"#d8576b\"],[0.6666666666666666,\"#ed7953\"],[0.7777777777777778,\"#fb9f3a\"],[0.8888888888888888,\"#fdca26\"],[1.0,\"#f0f921\"]],\"type\":\"histogram2dcontour\"}],\"mesh3d\":[{\"colorbar\":{\"outlinewidth\":0,\"ticks\":\"\"},\"type\":\"mesh3d\"}],\"parcoords\":[{\"line\":{\"colorbar\":{\"outlinewidth\":0,\"ticks\":\"\"}},\"type\":\"parcoords\"}],\"pie\":[{\"automargin\":true,\"type\":\"pie\"}],\"scatter\":[{\"marker\":{\"colorbar\":{\"outlinewidth\":0,\"ticks\":\"\"}},\"type\":\"scatter\"}],\"scatter3d\":[{\"line\":{\"colorbar\":{\"outlinewidth\":0,\"ticks\":\"\"}},\"marker\":{\"colorbar\":{\"outlinewidth\":0,\"ticks\":\"\"}},\"type\":\"scatter3d\"}],\"scattercarpet\":[{\"marker\":{\"colorbar\":{\"outlinewidth\":0,\"ticks\":\"\"}},\"type\":\"scattercarpet\"}],\"scattergeo\":[{\"marker\":{\"colorbar\":{\"outlinewidth\":0,\"ticks\":\"\"}},\"type\":\"scattergeo\"}],\"scattergl\":[{\"marker\":{\"colorbar\":{\"outlinewidth\":0,\"ticks\":\"\"}},\"type\":\"scattergl\"}],\"scattermapbox\":[{\"marker\":{\"colorbar\":{\"outlinewidth\":0,\"ticks\":\"\"}},\"type\":\"scattermapbox\"}],\"scatterpolar\":[{\"marker\":{\"colorbar\":{\"outlinewidth\":0,\"ticks\":\"\"}},\"type\":\"scatterpolar\"}],\"scatterpolargl\":[{\"marker\":{\"colorbar\":{\"outlinewidth\":0,\"ticks\":\"\"}},\"type\":\"scatterpolargl\"}],\"scatterternary\":[{\"marker\":{\"colorbar\":{\"outlinewidth\":0,\"ticks\":\"\"}},\"type\":\"scatterternary\"}],\"surface\":[{\"colorbar\":{\"outlinewidth\":0,\"ticks\":\"\"},\"colorscale\":[[0.0,\"#0d0887\"],[0.1111111111111111,\"#46039f\"],[0.2222222222222222,\"#7201a8\"],[0.3333333333333333,\"#9c179e\"],[0.4444444444444444,\"#bd3786\"],[0.5555555555555556,\"#d8576b\"],[0.6666666666666666,\"#ed7953\"],[0.7777777777777778,\"#fb9f3a\"],[0.8888888888888888,\"#fdca26\"],[1.0,\"#f0f921\"]],\"type\":\"surface\"}],\"table\":[{\"cells\":{\"fill\":{\"color\":\"#EBF0F8\"},\"line\":{\"color\":\"white\"}},\"header\":{\"fill\":{\"color\":\"#C8D4E3\"},\"line\":{\"color\":\"white\"}},\"type\":\"table\"}]},\"layout\":{\"annotationdefaults\":{\"arrowcolor\":\"#2a3f5f\",\"arrowhead\":0,\"arrowwidth\":1},\"autotypenumbers\":\"strict\",\"coloraxis\":{\"colorbar\":{\"outlinewidth\":0,\"ticks\":\"\"}},\"colorscale\":{\"diverging\":[[0,\"#8e0152\"],[0.1,\"#c51b7d\"],[0.2,\"#de77ae\"],[0.3,\"#f1b6da\"],[0.4,\"#fde0ef\"],[0.5,\"#f7f7f7\"],[0.6,\"#e6f5d0\"],[0.7,\"#b8e186\"],[0.8,\"#7fbc41\"],[0.9,\"#4d9221\"],[1,\"#276419\"]],\"sequential\":[[0.0,\"#0d0887\"],[0.1111111111111111,\"#46039f\"],[0.2222222222222222,\"#7201a8\"],[0.3333333333333333,\"#9c179e\"],[0.4444444444444444,\"#bd3786\"],[0.5555555555555556,\"#d8576b\"],[0.6666666666666666,\"#ed7953\"],[0.7777777777777778,\"#fb9f3a\"],[0.8888888888888888,\"#fdca26\"],[1.0,\"#f0f921\"]],\"sequentialminus\":[[0.0,\"#0d0887\"],[0.1111111111111111,\"#46039f\"],[0.2222222222222222,\"#7201a8\"],[0.3333333333333333,\"#9c179e\"],[0.4444444444444444,\"#bd3786\"],[0.5555555555555556,\"#d8576b\"],[0.6666666666666666,\"#ed7953\"],[0.7777777777777778,\"#fb9f3a\"],[0.8888888888888888,\"#fdca26\"],[1.0,\"#f0f921\"]]},\"colorway\":[\"#636efa\",\"#EF553B\",\"#00cc96\",\"#ab63fa\",\"#FFA15A\",\"#19d3f3\",\"#FF6692\",\"#B6E880\",\"#FF97FF\",\"#FECB52\"],\"font\":{\"color\":\"#2a3f5f\"},\"geo\":{\"bgcolor\":\"white\",\"lakecolor\":\"white\",\"landcolor\":\"#E5ECF6\",\"showlakes\":true,\"showland\":true,\"subunitcolor\":\"white\"},\"hoverlabel\":{\"align\":\"left\"},\"hovermode\":\"closest\",\"mapbox\":{\"style\":\"light\"},\"paper_bgcolor\":\"white\",\"plot_bgcolor\":\"#E5ECF6\",\"polar\":{\"angularaxis\":{\"gridcolor\":\"white\",\"linecolor\":\"white\",\"ticks\":\"\"},\"bgcolor\":\"#E5ECF6\",\"radialaxis\":{\"gridcolor\":\"white\",\"linecolor\":\"white\",\"ticks\":\"\"}},\"scene\":{\"xaxis\":{\"backgroundcolor\":\"#E5ECF6\",\"gridcolor\":\"white\",\"gridwidth\":2,\"linecolor\":\"white\",\"showbackground\":true,\"ticks\":\"\",\"zerolinecolor\":\"white\"},\"yaxis\":{\"backgroundcolor\":\"#E5ECF6\",\"gridcolor\":\"white\",\"gridwidth\":2,\"linecolor\":\"white\",\"showbackground\":true,\"ticks\":\"\",\"zerolinecolor\":\"white\"},\"zaxis\":{\"backgroundcolor\":\"#E5ECF6\",\"gridcolor\":\"white\",\"gridwidth\":2,\"linecolor\":\"white\",\"showbackground\":true,\"ticks\":\"\",\"zerolinecolor\":\"white\"}},\"shapedefaults\":{\"line\":{\"color\":\"#2a3f5f\"}},\"ternary\":{\"aaxis\":{\"gridcolor\":\"white\",\"linecolor\":\"white\",\"ticks\":\"\"},\"baxis\":{\"gridcolor\":\"white\",\"linecolor\":\"white\",\"ticks\":\"\"},\"bgcolor\":\"#E5ECF6\",\"caxis\":{\"gridcolor\":\"white\",\"linecolor\":\"white\",\"ticks\":\"\"}},\"title\":{\"x\":0.05},\"xaxis\":{\"automargin\":true,\"gridcolor\":\"white\",\"linecolor\":\"white\",\"ticks\":\"\",\"title\":{\"standoff\":15},\"zerolinecolor\":\"white\",\"zerolinewidth\":2},\"yaxis\":{\"automargin\":true,\"gridcolor\":\"white\",\"linecolor\":\"white\",\"ticks\":\"\",\"title\":{\"standoff\":15},\"zerolinecolor\":\"white\",\"zerolinewidth\":2}}},\"xaxis\":{\"anchor\":\"y\",\"domain\":[0.0,1.0],\"title\":{\"text\":\"RestingBP\"}},\"yaxis\":{\"anchor\":\"x\",\"domain\":[0.0,0.8316],\"title\":{\"text\":\"count\"}},\"xaxis2\":{\"anchor\":\"y2\",\"domain\":[0.0,1.0],\"matches\":\"x\",\"showticklabels\":false,\"showgrid\":true},\"yaxis2\":{\"anchor\":\"x2\",\"domain\":[0.8416,1.0],\"matches\":\"y2\",\"showticklabels\":false,\"showline\":false,\"ticks\":\"\",\"showgrid\":false},\"legend\":{\"tracegroupgap\":0},\"margin\":{\"t\":60},\"barmode\":\"relative\",\"title\":{\"text\":\"Distribution of RestingBP\"}},                        {\"responsive\": true}                    ).then(function(){\n",
              "                            \n",
              "var gd = document.getElementById('69be4146-8bec-4033-9dd7-d9e3cca30952');\n",
              "var x = new MutationObserver(function (mutations, observer) {{\n",
              "        var display = window.getComputedStyle(gd).display;\n",
              "        if (!display || display === 'none') {{\n",
              "            console.log([gd, 'removed!']);\n",
              "            Plotly.purge(gd);\n",
              "            observer.disconnect();\n",
              "        }}\n",
              "}});\n",
              "\n",
              "// Listen for the removal of the full notebook cells\n",
              "var notebookContainer = gd.closest('#notebook-container');\n",
              "if (notebookContainer) {{\n",
              "    x.observe(notebookContainer, {childList: true});\n",
              "}}\n",
              "\n",
              "// Listen for the clearing of the current output cell\n",
              "var outputEl = gd.closest('.output');\n",
              "if (outputEl) {{\n",
              "    x.observe(outputEl, {childList: true});\n",
              "}}\n",
              "\n",
              "                        })                };                            </script>        </div>\n",
              "</body>\n",
              "</html>"
            ]
          },
          "metadata": {}
        }
      ]
    },
    {
      "cell_type": "code",
      "source": [
        "fig = px.scatter(data, x=\"Age\", y=\"RestingBP\", color=data[\"HeartDisease\"].replace({0:\"No\", 1:\"Yes\"}), opacity=0.5)\n",
        "fig.update_layout(title=\"Age VS RestingBP\")\n",
        "fig.show()"
      ],
      "metadata": {
        "colab": {
          "base_uri": "https://localhost:8080/",
          "height": 542
        },
        "id": "_XEzSmUVPI6c",
        "outputId": "6de91887-abea-46bb-915c-2630eced226b"
      },
      "execution_count": 18,
      "outputs": [
        {
          "output_type": "display_data",
          "data": {
            "text/html": [
              "<html>\n",
              "<head><meta charset=\"utf-8\" /></head>\n",
              "<body>\n",
              "    <div>            <script src=\"https://cdnjs.cloudflare.com/ajax/libs/mathjax/2.7.5/MathJax.js?config=TeX-AMS-MML_SVG\"></script><script type=\"text/javascript\">if (window.MathJax) {MathJax.Hub.Config({SVG: {font: \"STIX-Web\"}});}</script>                <script type=\"text/javascript\">window.PlotlyConfig = {MathJaxConfig: 'local'};</script>\n",
              "        <script src=\"https://cdn.plot.ly/plotly-2.8.3.min.js\"></script>                <div id=\"10b79e4c-6d19-4fbd-ba73-86bbd623ae70\" class=\"plotly-graph-div\" style=\"height:525px; width:100%;\"></div>            <script type=\"text/javascript\">                                    window.PLOTLYENV=window.PLOTLYENV || {};                                    if (document.getElementById(\"10b79e4c-6d19-4fbd-ba73-86bbd623ae70\")) {                    Plotly.newPlot(                        \"10b79e4c-6d19-4fbd-ba73-86bbd623ae70\",                        [{\"hovertemplate\":\"color=No<br>Age=%{x}<br>RestingBP=%{y}<extra></extra>\",\"legendgroup\":\"No\",\"marker\":{\"color\":\"#636efa\",\"opacity\":0.5,\"symbol\":\"circle\"},\"mode\":\"markers\",\"name\":\"No\",\"orientation\":\"v\",\"showlegend\":true,\"x\":[40,37,54,39,45,54,48,37,39,42,54,43,43,44,49,40,36,53,52,53,51,56,43,32,41,48,48,54,35,52,59,37,50,36,45,41,52,51,54,49,43,45,50,37,45,32,44,44,44,46,35,52,55,54,52,53,55,49,39,52,39,43,39,56,41,51,57,48,34,50,39,59,47,38,49,35,52,46,58,54,34,48,54,42,38,61,43,39,53,39,42,43,50,39,48,40,55,41,49,54,47,42,52,48,58,58,29,40,53,49,59,37,46,51,46,54,58,50,46,50,48,45,41,62,49,42,57,47,46,42,31,56,50,35,28,56,56,30,54,55,29,48,33,55,53,41,37,37,40,38,41,54,39,55,43,54,61,62,53,55,36,51,55,46,54,54,34,47,45,32,55,45,59,57,54,60,51,55,42,51,59,53,48,36,48,47,53,55,53,65,53,45,38,72,56,44,66,66,60,56,62,63,60,74,60,59,41,51,42,63,56,62,51,55,65,58,51,40,60,35,63,64,55,45,61,57,61,48,68,62,53,75,54,54,59,41,69,37,63,58,55,57,68,51,62,58,67,64,74,65,59,53,44,57,71,64,40,48,43,47,54,48,46,51,71,66,37,42,48,62,44,46,58,52,65,63,45,41,60,57,44,60,63,51,44,57,70,76,67,45,39,42,56,41,57,42,62,59,41,59,66,64,50,44,49,51,45,41,54,42,49,66,65,54,54,52,52,42,54,46,67,34,57,59,51,41,41,50,54,64,51,46,45,56,55,43,64,50,53,45,69,68,34,50,42,42,53,43,52,62,54,54,48,55,58,54,69,68,52,60,58,37,51,43,29,41,63,51,54,44,57,35,41,58,52,45,62,53,47,52,39,53,51,65,44,51,59,71,61,43,58,49,52,44,56,57,53,52,64,66,39,58,47,35,58,56,56,55,41,38],\"xaxis\":\"x\",\"y\":[140,130,150,120,130,110,120,130,120,115,120,120,100,120,124,130,130,124,120,113,125,130,150,125,110,120,150,150,150,140,130,120,140,112,140,130,130,160,150,100,150,140,110,120,132,110,150,130,120,150,140,140,110,120,160,140,140,110,130,120,110,142,160,120,125,130,140,120,150,140,190,130,140,140,130,120,125,110,130,120,130,108,120,120,145,130,120,120,140,110,120,120,120,130,100,130,120,120,140,160,160,120,140,140,135,140,120,140,140,140,140,130,130,130,110,160,130,120,180,170,130,135,125,160,120,150,130,110,120,160,100,130,150,120,130,130,130,170,120,140,140,120,120,120,120,120,130,130,130,120,112,140,120,145,120,120,125,140,120,130,150,150,122,140,120,160,98,130,120,105,120,180,180,180,130,120,130,110,140,110,140,120,133,120,110,140,130,140,130,155,80,110,100,160,120,130,110,120,180,126,120,126,152,138,120,154,104,128,134,132,124,131,132,110,140,132,132,106,136,123,130,130,150,130,139,110,140,132,139,120,155,160,133,132,140,150,142,118,136,100,133,130,134,114,135,140,115,128,120,120,135,142,140,128,112,110,140,130,115,112,132,130,138,120,110,160,120,130,122,124,130,101,140,128,140,140,130,105,120,150,120,150,145,140,118,120,156,140,106,104,94,120,120,130,110,148,128,178,126,140,120,140,120,108,130,100,112,110,135,120,134,150,160,125,160,136,134,140,150,142,152,118,132,138,125,112,112,120,108,130,130,105,128,120,130,110,180,110,130,138,160,120,118,129,120,102,130,130,108,140,140,108,124,135,100,110,140,118,152,102,105,130,125,122,130,130,135,94,120,120,150,138,135,150,118,115,130,138,138,120,140,130,140,155,130,110,150,160,150,150,120,130,172,120,140,140,128,138,170,146,138,130,130,122,125,130,120,132,120,138],\"yaxis\":\"y\",\"type\":\"scatter\"},{\"hovertemplate\":\"color=Yes<br>Age=%{x}<br>RestingBP=%{y}<extra></extra>\",\"legendgroup\":\"Yes\",\"marker\":{\"color\":\"#EF553B\",\"opacity\":0.5,\"symbol\":\"circle\"},\"mode\":\"markers\",\"name\":\"Yes\",\"orientation\":\"v\",\"showlegend\":true,\"x\":[49,48,37,58,49,38,60,36,44,53,54,41,65,54,43,41,50,47,31,58,52,46,52,57,52,55,32,49,63,56,66,65,43,48,58,65,40,40,46,57,33,38,59,34,47,58,46,56,56,49,54,43,52,50,47,56,54,56,38,44,59,49,46,50,52,43,54,52,52,58,41,53,53,35,54,48,50,47,39,46,51,50,38,41,55,48,48,54,55,48,54,48,45,49,44,48,55,46,59,47,52,54,55,51,52,49,65,32,61,50,57,51,47,60,53,62,51,51,55,58,57,60,41,34,74,57,56,61,68,59,63,38,62,46,42,59,52,60,60,56,40,51,62,63,63,64,43,64,61,52,51,69,59,48,69,36,53,43,56,58,55,67,46,53,38,53,62,47,56,56,64,61,68,57,63,60,66,63,59,61,73,47,65,70,50,60,50,43,38,54,61,42,53,55,61,51,70,61,38,57,38,62,58,52,61,50,51,65,52,47,35,57,62,59,53,62,54,56,56,54,66,63,60,55,65,60,60,59,62,63,57,63,46,58,64,63,52,69,51,60,56,55,54,77,63,55,52,64,60,58,61,40,61,57,63,59,59,55,62,53,68,53,60,59,61,57,56,58,69,67,58,65,63,57,54,72,75,49,51,60,64,61,67,62,65,63,69,62,55,75,67,58,63,62,43,68,65,48,63,61,50,59,65,49,72,50,64,55,63,59,56,62,74,54,62,76,54,70,48,61,66,55,71,74,58,56,58,64,55,57,61,71,38,55,56,69,64,72,69,56,62,67,57,69,51,48,69,64,57,53,67,74,61,64,58,60,57,55,56,61,61,74,62,53,62,46,54,55,62,70,57,56,59,60,63,61,46,53,67,58,57,59,50,48,61,59,40,59,49,44,66,65,42,61,59,62,51,57,58,47,61,45,58,35,58,50,61,54,54,52,47,58,67,57,63,48,60,59,55,60,46,56,56,49,54,57,62,60,63,66,64,56,64,50,54,53,52,40,58,55,66,38,62,58,65,69,67,62,51,46,67,56,41,56,70,70,35,77,58,60,51,55,64,59,58,54,65,63,62,43,61,39,52,62,43,68,62,60,65,60,60,54,44,55,64,60,58,48,67,43,52,59,57,57,55,61,58,58,67,44,63,63,59,57,45,68,57,57],\"xaxis\":\"x\",\"y\":[160,138,140,136,140,110,100,120,150,145,125,130,140,130,120,110,130,120,120,130,112,120,160,140,120,140,118,130,150,150,140,170,120,160,130,130,150,120,118,150,100,120,130,140,135,180,110,170,150,115,140,150,160,140,160,120,130,155,110,130,140,128,140,140,140,140,140,130,140,160,120,180,120,110,125,106,140,150,110,130,160,145,92,120,140,160,160,200,160,160,120,122,130,130,135,120,145,120,130,140,130,130,140,135,170,150,115,95,105,145,110,110,110,160,125,120,95,120,115,115,95,125,125,115,145,105,140,130,145,125,100,105,115,100,105,125,95,130,115,115,95,130,120,150,140,95,100,110,110,130,120,135,120,115,137,110,120,140,120,130,120,145,115,120,115,105,160,160,155,120,200,150,135,140,150,135,150,185,135,125,160,155,160,140,120,160,115,115,110,120,150,145,130,140,160,140,115,130,150,160,135,140,170,165,200,160,130,145,135,110,120,140,115,110,160,150,180,125,125,130,155,140,132,142,150,120,160,140,110,133,128,170,110,116,120,130,128,130,128,130,120,136,130,124,160,0,122,144,140,136,120,125,134,139,136,122,131,120,152,126,138,154,141,178,110,130,170,126,140,142,120,134,139,140,136,120,170,130,137,142,142,146,160,135,136,130,140,158,136,136,120,110,160,112,122,150,150,102,96,120,144,124,144,131,143,133,143,116,110,125,130,133,150,130,138,104,138,170,132,142,112,172,144,145,150,137,137,134,135,144,141,130,110,158,128,140,150,160,142,137,139,146,156,145,131,140,122,141,180,124,140,140,190,130,160,130,122,120,130,140,120,155,160,144,158,134,127,122,120,130,124,130,110,140,150,134,140,140,120,112,128,170,144,130,140,160,152,126,118,110,160,150,136,138,174,120,130,150,136,108,120,142,146,120,150,150,130,124,110,125,110,100,120,165,130,124,150,140,180,158,120,200,130,120,122,152,120,117,108,112,120,125,145,140,192,123,112,110,132,140,178,120,150,128,138,140,100,138,140,150,125,134,110,132,160,145,126,125,125,125,140,160,125,170,128,110,135,130,130,132,145,118,128,160,120,180,140,130,110,140,145,120,112,132,140,130,120,110,160,132,128,134,154,110,128,148,114,170,152,120,140,124,164,140,110,144,130,130],\"yaxis\":\"y\",\"type\":\"scatter\"}],                        {\"template\":{\"data\":{\"bar\":[{\"error_x\":{\"color\":\"#2a3f5f\"},\"error_y\":{\"color\":\"#2a3f5f\"},\"marker\":{\"line\":{\"color\":\"#E5ECF6\",\"width\":0.5},\"pattern\":{\"fillmode\":\"overlay\",\"size\":10,\"solidity\":0.2}},\"type\":\"bar\"}],\"barpolar\":[{\"marker\":{\"line\":{\"color\":\"#E5ECF6\",\"width\":0.5},\"pattern\":{\"fillmode\":\"overlay\",\"size\":10,\"solidity\":0.2}},\"type\":\"barpolar\"}],\"carpet\":[{\"aaxis\":{\"endlinecolor\":\"#2a3f5f\",\"gridcolor\":\"white\",\"linecolor\":\"white\",\"minorgridcolor\":\"white\",\"startlinecolor\":\"#2a3f5f\"},\"baxis\":{\"endlinecolor\":\"#2a3f5f\",\"gridcolor\":\"white\",\"linecolor\":\"white\",\"minorgridcolor\":\"white\",\"startlinecolor\":\"#2a3f5f\"},\"type\":\"carpet\"}],\"choropleth\":[{\"colorbar\":{\"outlinewidth\":0,\"ticks\":\"\"},\"type\":\"choropleth\"}],\"contour\":[{\"colorbar\":{\"outlinewidth\":0,\"ticks\":\"\"},\"colorscale\":[[0.0,\"#0d0887\"],[0.1111111111111111,\"#46039f\"],[0.2222222222222222,\"#7201a8\"],[0.3333333333333333,\"#9c179e\"],[0.4444444444444444,\"#bd3786\"],[0.5555555555555556,\"#d8576b\"],[0.6666666666666666,\"#ed7953\"],[0.7777777777777778,\"#fb9f3a\"],[0.8888888888888888,\"#fdca26\"],[1.0,\"#f0f921\"]],\"type\":\"contour\"}],\"contourcarpet\":[{\"colorbar\":{\"outlinewidth\":0,\"ticks\":\"\"},\"type\":\"contourcarpet\"}],\"heatmap\":[{\"colorbar\":{\"outlinewidth\":0,\"ticks\":\"\"},\"colorscale\":[[0.0,\"#0d0887\"],[0.1111111111111111,\"#46039f\"],[0.2222222222222222,\"#7201a8\"],[0.3333333333333333,\"#9c179e\"],[0.4444444444444444,\"#bd3786\"],[0.5555555555555556,\"#d8576b\"],[0.6666666666666666,\"#ed7953\"],[0.7777777777777778,\"#fb9f3a\"],[0.8888888888888888,\"#fdca26\"],[1.0,\"#f0f921\"]],\"type\":\"heatmap\"}],\"heatmapgl\":[{\"colorbar\":{\"outlinewidth\":0,\"ticks\":\"\"},\"colorscale\":[[0.0,\"#0d0887\"],[0.1111111111111111,\"#46039f\"],[0.2222222222222222,\"#7201a8\"],[0.3333333333333333,\"#9c179e\"],[0.4444444444444444,\"#bd3786\"],[0.5555555555555556,\"#d8576b\"],[0.6666666666666666,\"#ed7953\"],[0.7777777777777778,\"#fb9f3a\"],[0.8888888888888888,\"#fdca26\"],[1.0,\"#f0f921\"]],\"type\":\"heatmapgl\"}],\"histogram\":[{\"marker\":{\"pattern\":{\"fillmode\":\"overlay\",\"size\":10,\"solidity\":0.2}},\"type\":\"histogram\"}],\"histogram2d\":[{\"colorbar\":{\"outlinewidth\":0,\"ticks\":\"\"},\"colorscale\":[[0.0,\"#0d0887\"],[0.1111111111111111,\"#46039f\"],[0.2222222222222222,\"#7201a8\"],[0.3333333333333333,\"#9c179e\"],[0.4444444444444444,\"#bd3786\"],[0.5555555555555556,\"#d8576b\"],[0.6666666666666666,\"#ed7953\"],[0.7777777777777778,\"#fb9f3a\"],[0.8888888888888888,\"#fdca26\"],[1.0,\"#f0f921\"]],\"type\":\"histogram2d\"}],\"histogram2dcontour\":[{\"colorbar\":{\"outlinewidth\":0,\"ticks\":\"\"},\"colorscale\":[[0.0,\"#0d0887\"],[0.1111111111111111,\"#46039f\"],[0.2222222222222222,\"#7201a8\"],[0.3333333333333333,\"#9c179e\"],[0.4444444444444444,\"#bd3786\"],[0.5555555555555556,\"#d8576b\"],[0.6666666666666666,\"#ed7953\"],[0.7777777777777778,\"#fb9f3a\"],[0.8888888888888888,\"#fdca26\"],[1.0,\"#f0f921\"]],\"type\":\"histogram2dcontour\"}],\"mesh3d\":[{\"colorbar\":{\"outlinewidth\":0,\"ticks\":\"\"},\"type\":\"mesh3d\"}],\"parcoords\":[{\"line\":{\"colorbar\":{\"outlinewidth\":0,\"ticks\":\"\"}},\"type\":\"parcoords\"}],\"pie\":[{\"automargin\":true,\"type\":\"pie\"}],\"scatter\":[{\"marker\":{\"colorbar\":{\"outlinewidth\":0,\"ticks\":\"\"}},\"type\":\"scatter\"}],\"scatter3d\":[{\"line\":{\"colorbar\":{\"outlinewidth\":0,\"ticks\":\"\"}},\"marker\":{\"colorbar\":{\"outlinewidth\":0,\"ticks\":\"\"}},\"type\":\"scatter3d\"}],\"scattercarpet\":[{\"marker\":{\"colorbar\":{\"outlinewidth\":0,\"ticks\":\"\"}},\"type\":\"scattercarpet\"}],\"scattergeo\":[{\"marker\":{\"colorbar\":{\"outlinewidth\":0,\"ticks\":\"\"}},\"type\":\"scattergeo\"}],\"scattergl\":[{\"marker\":{\"colorbar\":{\"outlinewidth\":0,\"ticks\":\"\"}},\"type\":\"scattergl\"}],\"scattermapbox\":[{\"marker\":{\"colorbar\":{\"outlinewidth\":0,\"ticks\":\"\"}},\"type\":\"scattermapbox\"}],\"scatterpolar\":[{\"marker\":{\"colorbar\":{\"outlinewidth\":0,\"ticks\":\"\"}},\"type\":\"scatterpolar\"}],\"scatterpolargl\":[{\"marker\":{\"colorbar\":{\"outlinewidth\":0,\"ticks\":\"\"}},\"type\":\"scatterpolargl\"}],\"scatterternary\":[{\"marker\":{\"colorbar\":{\"outlinewidth\":0,\"ticks\":\"\"}},\"type\":\"scatterternary\"}],\"surface\":[{\"colorbar\":{\"outlinewidth\":0,\"ticks\":\"\"},\"colorscale\":[[0.0,\"#0d0887\"],[0.1111111111111111,\"#46039f\"],[0.2222222222222222,\"#7201a8\"],[0.3333333333333333,\"#9c179e\"],[0.4444444444444444,\"#bd3786\"],[0.5555555555555556,\"#d8576b\"],[0.6666666666666666,\"#ed7953\"],[0.7777777777777778,\"#fb9f3a\"],[0.8888888888888888,\"#fdca26\"],[1.0,\"#f0f921\"]],\"type\":\"surface\"}],\"table\":[{\"cells\":{\"fill\":{\"color\":\"#EBF0F8\"},\"line\":{\"color\":\"white\"}},\"header\":{\"fill\":{\"color\":\"#C8D4E3\"},\"line\":{\"color\":\"white\"}},\"type\":\"table\"}]},\"layout\":{\"annotationdefaults\":{\"arrowcolor\":\"#2a3f5f\",\"arrowhead\":0,\"arrowwidth\":1},\"autotypenumbers\":\"strict\",\"coloraxis\":{\"colorbar\":{\"outlinewidth\":0,\"ticks\":\"\"}},\"colorscale\":{\"diverging\":[[0,\"#8e0152\"],[0.1,\"#c51b7d\"],[0.2,\"#de77ae\"],[0.3,\"#f1b6da\"],[0.4,\"#fde0ef\"],[0.5,\"#f7f7f7\"],[0.6,\"#e6f5d0\"],[0.7,\"#b8e186\"],[0.8,\"#7fbc41\"],[0.9,\"#4d9221\"],[1,\"#276419\"]],\"sequential\":[[0.0,\"#0d0887\"],[0.1111111111111111,\"#46039f\"],[0.2222222222222222,\"#7201a8\"],[0.3333333333333333,\"#9c179e\"],[0.4444444444444444,\"#bd3786\"],[0.5555555555555556,\"#d8576b\"],[0.6666666666666666,\"#ed7953\"],[0.7777777777777778,\"#fb9f3a\"],[0.8888888888888888,\"#fdca26\"],[1.0,\"#f0f921\"]],\"sequentialminus\":[[0.0,\"#0d0887\"],[0.1111111111111111,\"#46039f\"],[0.2222222222222222,\"#7201a8\"],[0.3333333333333333,\"#9c179e\"],[0.4444444444444444,\"#bd3786\"],[0.5555555555555556,\"#d8576b\"],[0.6666666666666666,\"#ed7953\"],[0.7777777777777778,\"#fb9f3a\"],[0.8888888888888888,\"#fdca26\"],[1.0,\"#f0f921\"]]},\"colorway\":[\"#636efa\",\"#EF553B\",\"#00cc96\",\"#ab63fa\",\"#FFA15A\",\"#19d3f3\",\"#FF6692\",\"#B6E880\",\"#FF97FF\",\"#FECB52\"],\"font\":{\"color\":\"#2a3f5f\"},\"geo\":{\"bgcolor\":\"white\",\"lakecolor\":\"white\",\"landcolor\":\"#E5ECF6\",\"showlakes\":true,\"showland\":true,\"subunitcolor\":\"white\"},\"hoverlabel\":{\"align\":\"left\"},\"hovermode\":\"closest\",\"mapbox\":{\"style\":\"light\"},\"paper_bgcolor\":\"white\",\"plot_bgcolor\":\"#E5ECF6\",\"polar\":{\"angularaxis\":{\"gridcolor\":\"white\",\"linecolor\":\"white\",\"ticks\":\"\"},\"bgcolor\":\"#E5ECF6\",\"radialaxis\":{\"gridcolor\":\"white\",\"linecolor\":\"white\",\"ticks\":\"\"}},\"scene\":{\"xaxis\":{\"backgroundcolor\":\"#E5ECF6\",\"gridcolor\":\"white\",\"gridwidth\":2,\"linecolor\":\"white\",\"showbackground\":true,\"ticks\":\"\",\"zerolinecolor\":\"white\"},\"yaxis\":{\"backgroundcolor\":\"#E5ECF6\",\"gridcolor\":\"white\",\"gridwidth\":2,\"linecolor\":\"white\",\"showbackground\":true,\"ticks\":\"\",\"zerolinecolor\":\"white\"},\"zaxis\":{\"backgroundcolor\":\"#E5ECF6\",\"gridcolor\":\"white\",\"gridwidth\":2,\"linecolor\":\"white\",\"showbackground\":true,\"ticks\":\"\",\"zerolinecolor\":\"white\"}},\"shapedefaults\":{\"line\":{\"color\":\"#2a3f5f\"}},\"ternary\":{\"aaxis\":{\"gridcolor\":\"white\",\"linecolor\":\"white\",\"ticks\":\"\"},\"baxis\":{\"gridcolor\":\"white\",\"linecolor\":\"white\",\"ticks\":\"\"},\"bgcolor\":\"#E5ECF6\",\"caxis\":{\"gridcolor\":\"white\",\"linecolor\":\"white\",\"ticks\":\"\"}},\"title\":{\"x\":0.05},\"xaxis\":{\"automargin\":true,\"gridcolor\":\"white\",\"linecolor\":\"white\",\"ticks\":\"\",\"title\":{\"standoff\":15},\"zerolinecolor\":\"white\",\"zerolinewidth\":2},\"yaxis\":{\"automargin\":true,\"gridcolor\":\"white\",\"linecolor\":\"white\",\"ticks\":\"\",\"title\":{\"standoff\":15},\"zerolinecolor\":\"white\",\"zerolinewidth\":2}}},\"xaxis\":{\"anchor\":\"y\",\"domain\":[0.0,1.0],\"title\":{\"text\":\"Age\"}},\"yaxis\":{\"anchor\":\"x\",\"domain\":[0.0,1.0],\"title\":{\"text\":\"RestingBP\"}},\"legend\":{\"title\":{\"text\":\"color\"},\"tracegroupgap\":0},\"margin\":{\"t\":60},\"title\":{\"text\":\"Age VS RestingBP\"}},                        {\"responsive\": true}                    ).then(function(){\n",
              "                            \n",
              "var gd = document.getElementById('10b79e4c-6d19-4fbd-ba73-86bbd623ae70');\n",
              "var x = new MutationObserver(function (mutations, observer) {{\n",
              "        var display = window.getComputedStyle(gd).display;\n",
              "        if (!display || display === 'none') {{\n",
              "            console.log([gd, 'removed!']);\n",
              "            Plotly.purge(gd);\n",
              "            observer.disconnect();\n",
              "        }}\n",
              "}});\n",
              "\n",
              "// Listen for the removal of the full notebook cells\n",
              "var notebookContainer = gd.closest('#notebook-container');\n",
              "if (notebookContainer) {{\n",
              "    x.observe(notebookContainer, {childList: true});\n",
              "}}\n",
              "\n",
              "// Listen for the clearing of the current output cell\n",
              "var outputEl = gd.closest('.output');\n",
              "if (outputEl) {{\n",
              "    x.observe(outputEl, {childList: true});\n",
              "}}\n",
              "\n",
              "                        })                };                            </script>        </div>\n",
              "</body>\n",
              "</html>"
            ]
          },
          "metadata": {}
        }
      ]
    },
    {
      "cell_type": "code",
      "source": [],
      "metadata": {
        "id": "gEqzyHwnTyPq"
      },
      "execution_count": 18,
      "outputs": []
    },
    {
      "cell_type": "markdown",
      "source": [
        "# Preprocesing"
      ],
      "metadata": {
        "id": "jG5nJ1MDTy8-"
      }
    },
    {
      "cell_type": "code",
      "source": [
        "data = data[data['RestingBP'] > 0]\n",
        "data = data[data['Cholesterol'] > 0]\n",
        "data = data[data['Oldpeak'] >= 0]"
      ],
      "metadata": {
        "id": "FmM7Jq5cUTWJ"
      },
      "execution_count": 19,
      "outputs": []
    },
    {
      "cell_type": "code",
      "source": [
        "data.isnull().sum()"
      ],
      "metadata": {
        "colab": {
          "base_uri": "https://localhost:8080/"
        },
        "id": "dCSm7QVfXFYQ",
        "outputId": "b6df778c-e24b-4257-d45d-fc655daff36f"
      },
      "execution_count": 20,
      "outputs": [
        {
          "output_type": "execute_result",
          "data": {
            "text/plain": [
              "Age               0\n",
              "Sex               0\n",
              "ChestPainType     0\n",
              "RestingBP         0\n",
              "Cholesterol       0\n",
              "FastingBS         0\n",
              "RestingECG        0\n",
              "MaxHR             0\n",
              "ExerciseAngina    0\n",
              "Oldpeak           0\n",
              "ST_Slope          0\n",
              "HeartDisease      0\n",
              "dtype: int64"
            ]
          },
          "metadata": {},
          "execution_count": 20
        }
      ]
    },
    {
      "cell_type": "code",
      "source": [
        "data.info()"
      ],
      "metadata": {
        "colab": {
          "base_uri": "https://localhost:8080/"
        },
        "id": "iXQF9SlxsAV3",
        "outputId": "e8d2ed8d-cedd-41c2-f10a-4c72953340ec"
      },
      "execution_count": 21,
      "outputs": [
        {
          "output_type": "stream",
          "name": "stdout",
          "text": [
            "<class 'pandas.core.frame.DataFrame'>\n",
            "Int64Index: 745 entries, 0 to 917\n",
            "Data columns (total 12 columns):\n",
            " #   Column          Non-Null Count  Dtype  \n",
            "---  ------          --------------  -----  \n",
            " 0   Age             745 non-null    int64  \n",
            " 1   Sex             745 non-null    object \n",
            " 2   ChestPainType   745 non-null    object \n",
            " 3   RestingBP       745 non-null    int64  \n",
            " 4   Cholesterol     745 non-null    int64  \n",
            " 5   FastingBS       745 non-null    int64  \n",
            " 6   RestingECG      745 non-null    object \n",
            " 7   MaxHR           745 non-null    int64  \n",
            " 8   ExerciseAngina  745 non-null    object \n",
            " 9   Oldpeak         745 non-null    float64\n",
            " 10  ST_Slope        745 non-null    object \n",
            " 11  HeartDisease    745 non-null    int64  \n",
            "dtypes: float64(1), int64(6), object(5)\n",
            "memory usage: 75.7+ KB\n"
          ]
        }
      ]
    },
    {
      "cell_type": "code",
      "source": [
        "numerical_cols = data[[\"Age\",\"RestingBP\",\"Cholesterol\",\"FastingBS\", \"MaxHR\",\"Oldpeak\", \"HeartDisease\"]]\n",
        "categorical_cols = data[[\"Sex\",\"ChestPainType\",\"RestingECG\",\"ExerciseAngina\",\"ST_Slope\"]]\n",
        "for col in categorical_cols:\n",
        "    categorical_cols = pd.get_dummies(categorical_cols, columns=[col], prefix=[col])\n",
        "    \n",
        "data = pd.concat([numerical_cols,categorical_cols], axis=1)\n",
        "data.head()"
      ],
      "metadata": {
        "colab": {
          "base_uri": "https://localhost:8080/",
          "height": 300
        },
        "id": "1FlsfukClDlZ",
        "outputId": "f5014c5a-8e39-4d14-a7d4-18a27b97a93d"
      },
      "execution_count": 22,
      "outputs": [
        {
          "output_type": "execute_result",
          "data": {
            "text/plain": [
              "   Age  RestingBP  Cholesterol  FastingBS  MaxHR  Oldpeak  HeartDisease  \\\n",
              "0   40        140          289          0    172      0.0             0   \n",
              "1   49        160          180          0    156      1.0             1   \n",
              "2   37        130          283          0     98      0.0             0   \n",
              "3   48        138          214          0    108      1.5             1   \n",
              "4   54        150          195          0    122      0.0             0   \n",
              "\n",
              "   Sex_F  Sex_M  ChestPainType_ASY  ...  ChestPainType_NAP  ChestPainType_TA  \\\n",
              "0      0      1                  0  ...                  0                 0   \n",
              "1      1      0                  0  ...                  1                 0   \n",
              "2      0      1                  0  ...                  0                 0   \n",
              "3      1      0                  1  ...                  0                 0   \n",
              "4      0      1                  0  ...                  1                 0   \n",
              "\n",
              "   RestingECG_LVH  RestingECG_Normal  RestingECG_ST  ExerciseAngina_N  \\\n",
              "0               0                  1              0                 1   \n",
              "1               0                  1              0                 1   \n",
              "2               0                  0              1                 1   \n",
              "3               0                  1              0                 0   \n",
              "4               0                  1              0                 1   \n",
              "\n",
              "   ExerciseAngina_Y  ST_Slope_Down  ST_Slope_Flat  ST_Slope_Up  \n",
              "0                 0              0              0            1  \n",
              "1                 0              0              1            0  \n",
              "2                 0              0              0            1  \n",
              "3                 1              0              1            0  \n",
              "4                 0              0              0            1  \n",
              "\n",
              "[5 rows x 21 columns]"
            ],
            "text/html": [
              "\n",
              "  <div id=\"df-ba0e6603-e719-4270-b133-e842e19659de\">\n",
              "    <div class=\"colab-df-container\">\n",
              "      <div>\n",
              "<style scoped>\n",
              "    .dataframe tbody tr th:only-of-type {\n",
              "        vertical-align: middle;\n",
              "    }\n",
              "\n",
              "    .dataframe tbody tr th {\n",
              "        vertical-align: top;\n",
              "    }\n",
              "\n",
              "    .dataframe thead th {\n",
              "        text-align: right;\n",
              "    }\n",
              "</style>\n",
              "<table border=\"1\" class=\"dataframe\">\n",
              "  <thead>\n",
              "    <tr style=\"text-align: right;\">\n",
              "      <th></th>\n",
              "      <th>Age</th>\n",
              "      <th>RestingBP</th>\n",
              "      <th>Cholesterol</th>\n",
              "      <th>FastingBS</th>\n",
              "      <th>MaxHR</th>\n",
              "      <th>Oldpeak</th>\n",
              "      <th>HeartDisease</th>\n",
              "      <th>Sex_F</th>\n",
              "      <th>Sex_M</th>\n",
              "      <th>ChestPainType_ASY</th>\n",
              "      <th>...</th>\n",
              "      <th>ChestPainType_NAP</th>\n",
              "      <th>ChestPainType_TA</th>\n",
              "      <th>RestingECG_LVH</th>\n",
              "      <th>RestingECG_Normal</th>\n",
              "      <th>RestingECG_ST</th>\n",
              "      <th>ExerciseAngina_N</th>\n",
              "      <th>ExerciseAngina_Y</th>\n",
              "      <th>ST_Slope_Down</th>\n",
              "      <th>ST_Slope_Flat</th>\n",
              "      <th>ST_Slope_Up</th>\n",
              "    </tr>\n",
              "  </thead>\n",
              "  <tbody>\n",
              "    <tr>\n",
              "      <th>0</th>\n",
              "      <td>40</td>\n",
              "      <td>140</td>\n",
              "      <td>289</td>\n",
              "      <td>0</td>\n",
              "      <td>172</td>\n",
              "      <td>0.0</td>\n",
              "      <td>0</td>\n",
              "      <td>0</td>\n",
              "      <td>1</td>\n",
              "      <td>0</td>\n",
              "      <td>...</td>\n",
              "      <td>0</td>\n",
              "      <td>0</td>\n",
              "      <td>0</td>\n",
              "      <td>1</td>\n",
              "      <td>0</td>\n",
              "      <td>1</td>\n",
              "      <td>0</td>\n",
              "      <td>0</td>\n",
              "      <td>0</td>\n",
              "      <td>1</td>\n",
              "    </tr>\n",
              "    <tr>\n",
              "      <th>1</th>\n",
              "      <td>49</td>\n",
              "      <td>160</td>\n",
              "      <td>180</td>\n",
              "      <td>0</td>\n",
              "      <td>156</td>\n",
              "      <td>1.0</td>\n",
              "      <td>1</td>\n",
              "      <td>1</td>\n",
              "      <td>0</td>\n",
              "      <td>0</td>\n",
              "      <td>...</td>\n",
              "      <td>1</td>\n",
              "      <td>0</td>\n",
              "      <td>0</td>\n",
              "      <td>1</td>\n",
              "      <td>0</td>\n",
              "      <td>1</td>\n",
              "      <td>0</td>\n",
              "      <td>0</td>\n",
              "      <td>1</td>\n",
              "      <td>0</td>\n",
              "    </tr>\n",
              "    <tr>\n",
              "      <th>2</th>\n",
              "      <td>37</td>\n",
              "      <td>130</td>\n",
              "      <td>283</td>\n",
              "      <td>0</td>\n",
              "      <td>98</td>\n",
              "      <td>0.0</td>\n",
              "      <td>0</td>\n",
              "      <td>0</td>\n",
              "      <td>1</td>\n",
              "      <td>0</td>\n",
              "      <td>...</td>\n",
              "      <td>0</td>\n",
              "      <td>0</td>\n",
              "      <td>0</td>\n",
              "      <td>0</td>\n",
              "      <td>1</td>\n",
              "      <td>1</td>\n",
              "      <td>0</td>\n",
              "      <td>0</td>\n",
              "      <td>0</td>\n",
              "      <td>1</td>\n",
              "    </tr>\n",
              "    <tr>\n",
              "      <th>3</th>\n",
              "      <td>48</td>\n",
              "      <td>138</td>\n",
              "      <td>214</td>\n",
              "      <td>0</td>\n",
              "      <td>108</td>\n",
              "      <td>1.5</td>\n",
              "      <td>1</td>\n",
              "      <td>1</td>\n",
              "      <td>0</td>\n",
              "      <td>1</td>\n",
              "      <td>...</td>\n",
              "      <td>0</td>\n",
              "      <td>0</td>\n",
              "      <td>0</td>\n",
              "      <td>1</td>\n",
              "      <td>0</td>\n",
              "      <td>0</td>\n",
              "      <td>1</td>\n",
              "      <td>0</td>\n",
              "      <td>1</td>\n",
              "      <td>0</td>\n",
              "    </tr>\n",
              "    <tr>\n",
              "      <th>4</th>\n",
              "      <td>54</td>\n",
              "      <td>150</td>\n",
              "      <td>195</td>\n",
              "      <td>0</td>\n",
              "      <td>122</td>\n",
              "      <td>0.0</td>\n",
              "      <td>0</td>\n",
              "      <td>0</td>\n",
              "      <td>1</td>\n",
              "      <td>0</td>\n",
              "      <td>...</td>\n",
              "      <td>1</td>\n",
              "      <td>0</td>\n",
              "      <td>0</td>\n",
              "      <td>1</td>\n",
              "      <td>0</td>\n",
              "      <td>1</td>\n",
              "      <td>0</td>\n",
              "      <td>0</td>\n",
              "      <td>0</td>\n",
              "      <td>1</td>\n",
              "    </tr>\n",
              "  </tbody>\n",
              "</table>\n",
              "<p>5 rows × 21 columns</p>\n",
              "</div>\n",
              "      <button class=\"colab-df-convert\" onclick=\"convertToInteractive('df-ba0e6603-e719-4270-b133-e842e19659de')\"\n",
              "              title=\"Convert this dataframe to an interactive table.\"\n",
              "              style=\"display:none;\">\n",
              "        \n",
              "  <svg xmlns=\"http://www.w3.org/2000/svg\" height=\"24px\"viewBox=\"0 0 24 24\"\n",
              "       width=\"24px\">\n",
              "    <path d=\"M0 0h24v24H0V0z\" fill=\"none\"/>\n",
              "    <path d=\"M18.56 5.44l.94 2.06.94-2.06 2.06-.94-2.06-.94-.94-2.06-.94 2.06-2.06.94zm-11 1L8.5 8.5l.94-2.06 2.06-.94-2.06-.94L8.5 2.5l-.94 2.06-2.06.94zm10 10l.94 2.06.94-2.06 2.06-.94-2.06-.94-.94-2.06-.94 2.06-2.06.94z\"/><path d=\"M17.41 7.96l-1.37-1.37c-.4-.4-.92-.59-1.43-.59-.52 0-1.04.2-1.43.59L10.3 9.45l-7.72 7.72c-.78.78-.78 2.05 0 2.83L4 21.41c.39.39.9.59 1.41.59.51 0 1.02-.2 1.41-.59l7.78-7.78 2.81-2.81c.8-.78.8-2.07 0-2.86zM5.41 20L4 18.59l7.72-7.72 1.47 1.35L5.41 20z\"/>\n",
              "  </svg>\n",
              "      </button>\n",
              "      \n",
              "  <style>\n",
              "    .colab-df-container {\n",
              "      display:flex;\n",
              "      flex-wrap:wrap;\n",
              "      gap: 12px;\n",
              "    }\n",
              "\n",
              "    .colab-df-convert {\n",
              "      background-color: #E8F0FE;\n",
              "      border: none;\n",
              "      border-radius: 50%;\n",
              "      cursor: pointer;\n",
              "      display: none;\n",
              "      fill: #1967D2;\n",
              "      height: 32px;\n",
              "      padding: 0 0 0 0;\n",
              "      width: 32px;\n",
              "    }\n",
              "\n",
              "    .colab-df-convert:hover {\n",
              "      background-color: #E2EBFA;\n",
              "      box-shadow: 0px 1px 2px rgba(60, 64, 67, 0.3), 0px 1px 3px 1px rgba(60, 64, 67, 0.15);\n",
              "      fill: #174EA6;\n",
              "    }\n",
              "\n",
              "    [theme=dark] .colab-df-convert {\n",
              "      background-color: #3B4455;\n",
              "      fill: #D2E3FC;\n",
              "    }\n",
              "\n",
              "    [theme=dark] .colab-df-convert:hover {\n",
              "      background-color: #434B5C;\n",
              "      box-shadow: 0px 1px 3px 1px rgba(0, 0, 0, 0.15);\n",
              "      filter: drop-shadow(0px 1px 2px rgba(0, 0, 0, 0.3));\n",
              "      fill: #FFFFFF;\n",
              "    }\n",
              "  </style>\n",
              "\n",
              "      <script>\n",
              "        const buttonEl =\n",
              "          document.querySelector('#df-ba0e6603-e719-4270-b133-e842e19659de button.colab-df-convert');\n",
              "        buttonEl.style.display =\n",
              "          google.colab.kernel.accessAllowed ? 'block' : 'none';\n",
              "\n",
              "        async function convertToInteractive(key) {\n",
              "          const element = document.querySelector('#df-ba0e6603-e719-4270-b133-e842e19659de');\n",
              "          const dataTable =\n",
              "            await google.colab.kernel.invokeFunction('convertToInteractive',\n",
              "                                                     [key], {});\n",
              "          if (!dataTable) return;\n",
              "\n",
              "          const docLinkHtml = 'Like what you see? Visit the ' +\n",
              "            '<a target=\"_blank\" href=https://colab.research.google.com/notebooks/data_table.ipynb>data table notebook</a>'\n",
              "            + ' to learn more about interactive tables.';\n",
              "          element.innerHTML = '';\n",
              "          dataTable['output_type'] = 'display_data';\n",
              "          await google.colab.output.renderOutput(dataTable, element);\n",
              "          const docLink = document.createElement('div');\n",
              "          docLink.innerHTML = docLinkHtml;\n",
              "          element.appendChild(docLink);\n",
              "        }\n",
              "      </script>\n",
              "    </div>\n",
              "  </div>\n",
              "  "
            ]
          },
          "metadata": {},
          "execution_count": 22
        }
      ]
    },
    {
      "cell_type": "code",
      "source": [
        "data.info()"
      ],
      "metadata": {
        "colab": {
          "base_uri": "https://localhost:8080/"
        },
        "id": "088LOci9u1Jd",
        "outputId": "fb592e1d-0af5-4a43-b53f-292b4a0827d9"
      },
      "execution_count": 23,
      "outputs": [
        {
          "output_type": "stream",
          "name": "stdout",
          "text": [
            "<class 'pandas.core.frame.DataFrame'>\n",
            "Int64Index: 745 entries, 0 to 917\n",
            "Data columns (total 21 columns):\n",
            " #   Column             Non-Null Count  Dtype  \n",
            "---  ------             --------------  -----  \n",
            " 0   Age                745 non-null    int64  \n",
            " 1   RestingBP          745 non-null    int64  \n",
            " 2   Cholesterol        745 non-null    int64  \n",
            " 3   FastingBS          745 non-null    int64  \n",
            " 4   MaxHR              745 non-null    int64  \n",
            " 5   Oldpeak            745 non-null    float64\n",
            " 6   HeartDisease       745 non-null    int64  \n",
            " 7   Sex_F              745 non-null    uint8  \n",
            " 8   Sex_M              745 non-null    uint8  \n",
            " 9   ChestPainType_ASY  745 non-null    uint8  \n",
            " 10  ChestPainType_ATA  745 non-null    uint8  \n",
            " 11  ChestPainType_NAP  745 non-null    uint8  \n",
            " 12  ChestPainType_TA   745 non-null    uint8  \n",
            " 13  RestingECG_LVH     745 non-null    uint8  \n",
            " 14  RestingECG_Normal  745 non-null    uint8  \n",
            " 15  RestingECG_ST      745 non-null    uint8  \n",
            " 16  ExerciseAngina_N   745 non-null    uint8  \n",
            " 17  ExerciseAngina_Y   745 non-null    uint8  \n",
            " 18  ST_Slope_Down      745 non-null    uint8  \n",
            " 19  ST_Slope_Flat      745 non-null    uint8  \n",
            " 20  ST_Slope_Up        745 non-null    uint8  \n",
            "dtypes: float64(1), int64(6), uint8(14)\n",
            "memory usage: 56.7 KB\n"
          ]
        }
      ]
    },
    {
      "cell_type": "code",
      "source": [
        "X = data.drop([\"HeartDisease\"], axis=1)\n",
        "y = data[\"HeartDisease\"]\n",
        "\n",
        "X_train, X_test, y_train, y_test = sklearn.model_selection.train_test_split( X, y, test_size=0.20, random_state=42)\n",
        "\n",
        "numerical_features = numerical_cols.columns.to_list()\n",
        "numerical_features.remove(\"HeartDisease\")\n",
        "\n",
        "print(X_train.shape)\n",
        "print(X_test.shape)"
      ],
      "metadata": {
        "colab": {
          "base_uri": "https://localhost:8080/"
        },
        "id": "6-UvrsZIwdCI",
        "outputId": "33efcb2a-3bf6-45de-cbd2-a6725b6142b7"
      },
      "execution_count": 24,
      "outputs": [
        {
          "output_type": "stream",
          "name": "stdout",
          "text": [
            "(596, 20)\n",
            "(149, 20)\n"
          ]
        }
      ]
    },
    {
      "cell_type": "code",
      "source": [
        "scaler = sklearn.preprocessing.StandardScaler()\n",
        "X_train_scaled = scaler.fit_transform(X_train)\n",
        "X_test_scaled = scaler.transform(X_test)"
      ],
      "metadata": {
        "id": "vL6BGCrX3p4v"
      },
      "execution_count": 43,
      "outputs": []
    },
    {
      "cell_type": "markdown",
      "source": [
        "# Models"
      ],
      "metadata": {
        "id": "ElupPljL-n_0"
      }
    },
    {
      "cell_type": "code",
      "source": [
        "from sklearn.linear_model import LogisticRegression\n",
        "from sklearn.neighbors import KNeighborsClassifier\n",
        "from sklearn.naive_bayes import GaussianNB\n",
        "from sklearn.svm import SVC\n",
        "from sklearn.tree import DecisionTreeClassifier\n",
        "from sklearn.ensemble import RandomForestClassifier, BaggingClassifier, GradientBoostingClassifier\n",
        "from lightgbm import LGBMClassifier"
      ],
      "metadata": {
        "id": "LW-F6isk39mZ"
      },
      "execution_count": 26,
      "outputs": []
    },
    {
      "cell_type": "code",
      "source": [
        "models = []\n",
        "\n",
        "models.append(('Logistic Regression', LogisticRegression()))\n",
        "models.append(('Gaussian NB', GaussianNB()))\n",
        "models.append(('KNN', KNeighborsClassifier()))\n",
        "models.append(('SVC', SVC()))\n",
        "models.append(('Decision Tree Classifier', DecisionTreeClassifier()))\n",
        "models.append(('Random Forest Classifier', RandomForestClassifier()))\n",
        "models.append(('Bagging Classifier', BaggingClassifier()))\n",
        "models.append(('Gradient Boosting Classifier', GradientBoostingClassifier()))\n",
        "models.append((\"Light GBM Classifier\", LGBMClassifier()))\n",
        "\n",
        "for name, model1 in models:\n",
        "    model1.fit(X_train, y_train)\n",
        "    y_pred = model1.predict(X_test)\n",
        "    score = sklearn.metrics.accuracy_score(y_test, y_pred)\n",
        "    print(name, \"Score: {:.8f}\".format(score))"
      ],
      "metadata": {
        "colab": {
          "base_uri": "https://localhost:8080/"
        },
        "id": "VjX0V4Sd4GsJ",
        "outputId": "90c80bc9-8375-4837-aa34-a4fa320a1898"
      },
      "execution_count": 73,
      "outputs": [
        {
          "output_type": "stream",
          "name": "stdout",
          "text": [
            "Logistic Regression Score: 0.89261745\n",
            "Gaussian NB Score: 0.87919463\n",
            "KNN Score: 0.87919463\n",
            "SVC Score: 0.89932886\n",
            "Decision Tree Classifier Score: 0.77181208\n",
            "Random Forest Classifier Score: 0.89261745\n",
            "Bagging Classifier Score: 0.86577181\n",
            "Gradient Boosting Classifier Score: 0.89261745\n",
            "Light GBM Classifier Score: 0.87248322\n"
          ]
        }
      ]
    },
    {
      "cell_type": "code",
      "source": [
        "def model_train(model):\n",
        "    model.fit(X_train_scaled,y_train)\n",
        "    y_pred=model.predict(X_test_scaled)\n",
        "    print(classification_report(y_test,y_pred))\n",
        "    print(plot_confusion_matrix(model,X_test_scaled,y_test))\n"
      ],
      "metadata": {
        "id": "Dhdy26VCMtkb"
      },
      "execution_count": 54,
      "outputs": []
    },
    {
      "cell_type": "code",
      "source": [
        "model_train(LogisticRegression())"
      ],
      "metadata": {
        "colab": {
          "base_uri": "https://localhost:8080/",
          "height": 549
        },
        "id": "ROClTi0Bcpee",
        "outputId": "3464f9cc-4de2-4025-c086-c5ef8e2fcb17"
      },
      "execution_count": 74,
      "outputs": [
        {
          "output_type": "stream",
          "name": "stdout",
          "text": [
            "              precision    recall  f1-score   support\n",
            "\n",
            "           0       0.84      0.94      0.89        69\n",
            "           1       0.94      0.85      0.89        80\n",
            "\n",
            "    accuracy                           0.89       149\n",
            "   macro avg       0.89      0.90      0.89       149\n",
            "weighted avg       0.90      0.89      0.89       149\n",
            "\n",
            "<sklearn.metrics._plot.confusion_matrix.ConfusionMatrixDisplay object at 0x7eff2a87b8d0>\n"
          ]
        },
        {
          "output_type": "stream",
          "name": "stderr",
          "text": [
            "/usr/local/lib/python3.7/dist-packages/sklearn/utils/deprecation.py:87: FutureWarning:\n",
            "\n",
            "Function plot_confusion_matrix is deprecated; Function `plot_confusion_matrix` is deprecated in 1.0 and will be removed in 1.2. Use one of the class methods: ConfusionMatrixDisplay.from_predictions or ConfusionMatrixDisplay.from_estimator.\n",
            "\n"
          ]
        },
        {
          "output_type": "display_data",
          "data": {
            "text/plain": [
              "<Figure size 432x288 with 2 Axes>"
            ],
            "image/png": "[encoded data removed]"
          },
          "metadata": {
            "needs_background": "light"
          }
        }
      ]
    },
    {
      "cell_type": "code",
      "source": [
        "param_grid={'C':np.logspace(-3,3,7),'penalty':['l1','l2']}\n",
        "grid=GridSearchCV(param_grid=param_grid, estimator=LogisticRegression(), scoring='accuracy')\n",
        "grid.fit(X_train_scaled,y_train)"
      ],
      "metadata": {
        "colab": {
          "base_uri": "https://localhost:8080/"
        },
        "id": "P4qLeK62e2xK",
        "outputId": "c4478dd5-4b10-49a8-806c-30e154512946"
      },
      "execution_count": 68,
      "outputs": [
        {
          "output_type": "stream",
          "name": "stderr",
          "text": [
            "/usr/local/lib/python3.7/dist-packages/sklearn/model_selection/_validation.py:372: FitFailedWarning:\n",
            "\n",
            "\n",
            "35 fits failed out of a total of 70.\n",
            "The score on these train-test partitions for these parameters will be set to nan.\n",
            "If these failures are not expected, you can try to debug them by setting error_score='raise'.\n",
            "\n",
            "Below are more details about the failures:\n",
            "--------------------------------------------------------------------------------\n",
            "35 fits failed with the following error:\n",
            "Traceback (most recent call last):\n",
            "  File \"/usr/local/lib/python3.7/dist-packages/sklearn/model_selection/_validation.py\", line 680, in _fit_and_score\n",
            "    estimator.fit(X_train, y_train, **fit_params)\n",
            "  File \"/usr/local/lib/python3.7/dist-packages/sklearn/linear_model/_logistic.py\", line 1461, in fit\n",
            "    solver = _check_solver(self.solver, self.penalty, self.dual)\n",
            "  File \"/usr/local/lib/python3.7/dist-packages/sklearn/linear_model/_logistic.py\", line 449, in _check_solver\n",
            "    % (solver, penalty)\n",
            "ValueError: Solver lbfgs supports only 'l2' or 'none' penalties, got l1 penalty.\n",
            "\n",
            "\n",
            "/usr/local/lib/python3.7/dist-packages/sklearn/model_selection/_search.py:972: UserWarning:\n",
            "\n",
            "One or more of the test scores are non-finite: [       nan 0.83890756        nan 0.85229692        nan 0.84390756\n",
            "        nan 0.84222689        nan 0.84222689        nan 0.84222689\n",
            "        nan 0.84222689]\n",
            "\n"
          ]
        },
        {
          "output_type": "execute_result",
          "data": {
            "text/plain": [
              "GridSearchCV(estimator=LogisticRegression(),\n",
              "             param_grid={'C': array([1.e-03, 1.e-02, 1.e-01, 1.e+00, 1.e+01, 1.e+02, 1.e+03]),\n",
              "                         'penalty': ['l1', 'l2']},\n",
              "             scoring='accuracy')"
            ]
          },
          "metadata": {},
          "execution_count": 68
        }
      ]
    },
    {
      "cell_type": "code",
      "source": [
        "grid.best_params_"
      ],
      "metadata": {
        "colab": {
          "base_uri": "https://localhost:8080/"
        },
        "id": "kLjCszNffzq5",
        "outputId": "77aac1b6-002d-4f3d-dec8-315ece7212b8"
      },
      "execution_count": 69,
      "outputs": [
        {
          "output_type": "execute_result",
          "data": {
            "text/plain": [
              "{'C': 0.01, 'penalty': 'l2'}"
            ]
          },
          "metadata": {},
          "execution_count": 69
        }
      ]
    },
    {
      "cell_type": "code",
      "source": [
        "grid.predict(X_test_scaled)\n",
        "y_pred=grid.predict(X_test_scaled)\n",
        "print(classification_report(y_test,y_pred))\n",
        "print(plot_confusion_matrix(grid,X_test_scaled,y_test))"
      ],
      "metadata": {
        "colab": {
          "base_uri": "https://localhost:8080/",
          "height": 549
        },
        "id": "flM3s-ijjL7M",
        "outputId": "9a53346f-ee43-4a7a-dabd-7c016df2c987"
      },
      "execution_count": 61,
      "outputs": [
        {
          "output_type": "stream",
          "name": "stdout",
          "text": [
            "              precision    recall  f1-score   support\n",
            "\n",
            "           0       0.83      0.94      0.88        69\n",
            "           1       0.94      0.84      0.89        80\n",
            "\n",
            "    accuracy                           0.89       149\n",
            "   macro avg       0.89      0.89      0.89       149\n",
            "weighted avg       0.89      0.89      0.89       149\n",
            "\n",
            "<sklearn.metrics._plot.confusion_matrix.ConfusionMatrixDisplay object at 0x7eff2ab54f50>\n"
          ]
        },
        {
          "output_type": "stream",
          "name": "stderr",
          "text": [
            "/usr/local/lib/python3.7/dist-packages/sklearn/utils/deprecation.py:87: FutureWarning:\n",
            "\n",
            "Function plot_confusion_matrix is deprecated; Function `plot_confusion_matrix` is deprecated in 1.0 and will be removed in 1.2. Use one of the class methods: ConfusionMatrixDisplay.from_predictions or ConfusionMatrixDisplay.from_estimator.\n",
            "\n"
          ]
        },
        {
          "output_type": "display_data",
          "data": {
            "text/plain": [
              "<Figure size 432x288 with 2 Axes>"
            ],
            "image/png": "[encoded data removed]"
          },
          "metadata": {
            "needs_background": "light"
          }
        }
      ]
    },
    {
      "cell_type": "code",
      "source": [
        "model_train(RandomForestClassifier())"
      ],
      "metadata": {
        "colab": {
          "base_uri": "https://localhost:8080/",
          "height": 549
        },
        "id": "WM_Jy181kT3V",
        "outputId": "2ec72758-154d-4ab6-cb25-e0a42025200b"
      },
      "execution_count": 62,
      "outputs": [
        {
          "output_type": "stream",
          "name": "stdout",
          "text": [
            "              precision    recall  f1-score   support\n",
            "\n",
            "           0       0.82      0.94      0.88        69\n",
            "           1       0.94      0.82      0.88        80\n",
            "\n",
            "    accuracy                           0.88       149\n",
            "   macro avg       0.88      0.88      0.88       149\n",
            "weighted avg       0.89      0.88      0.88       149\n",
            "\n",
            "<sklearn.metrics._plot.confusion_matrix.ConfusionMatrixDisplay object at 0x7eff2aa3c790>\n"
          ]
        },
        {
          "output_type": "stream",
          "name": "stderr",
          "text": [
            "/usr/local/lib/python3.7/dist-packages/sklearn/utils/deprecation.py:87: FutureWarning:\n",
            "\n",
            "Function plot_confusion_matrix is deprecated; Function `plot_confusion_matrix` is deprecated in 1.0 and will be removed in 1.2. Use one of the class methods: ConfusionMatrixDisplay.from_predictions or ConfusionMatrixDisplay.from_estimator.\n",
            "\n"
          ]
        },
        {
          "output_type": "display_data",
          "data": {
            "text/plain": [
              "<Figure size 432x288 with 2 Axes>"
            ],
            "image/png": "[encoded data removed]"
          },
          "metadata": {
            "needs_background": "light"
          }
        }
      ]
    },
    {
      "cell_type": "code",
      "source": [
        "param_grid={'n_estimators':[200,300,400,500]\n",
        "           ,'max_features':['auto','sqrt','log2']\n",
        "           ,'max_depth':[4,5,6,7,8]\n",
        "           ,'criterion':['gini','entropy']}\n",
        "\n",
        "grid=GridSearchCV(estimator=RandomForestClassifier(), param_grid=param_grid, cv=5)\n",
        "grid.fit(X_train_scaled, y_train)\n",
        "y_pred=grid.predict(X_test_scaled)\n",
        "print(classification_report(y_test, y_pred))\n",
        "print(plot_confusion_matrix(grid, X_test_scaled, y_test))"
      ],
      "metadata": {
        "colab": {
          "base_uri": "https://localhost:8080/",
          "height": 553
        },
        "id": "UBTkXW2vkfan",
        "outputId": "40f9a574-f236-40bb-981c-07e6e741381f"
      },
      "execution_count": 63,
      "outputs": [
        {
          "output_type": "stream",
          "name": "stdout",
          "text": [
            "              precision    recall  f1-score   support\n",
            "\n",
            "           0       0.87      0.94      0.90        69\n",
            "           1       0.95      0.88      0.91        80\n",
            "\n",
            "    accuracy                           0.91       149\n",
            "   macro avg       0.91      0.91      0.91       149\n",
            "weighted avg       0.91      0.91      0.91       149\n",
            "\n",
            "<sklearn.metrics._plot.confusion_matrix.ConfusionMatrixDisplay object at 0x7eff3221d690>\n"
          ]
        },
        {
          "output_type": "stream",
          "name": "stderr",
          "text": [
            "/usr/local/lib/python3.7/dist-packages/sklearn/utils/deprecation.py:87: FutureWarning:\n",
            "\n",
            "Function plot_confusion_matrix is deprecated; Function `plot_confusion_matrix` is deprecated in 1.0 and will be removed in 1.2. Use one of the class methods: ConfusionMatrixDisplay.from_predictions or ConfusionMatrixDisplay.from_estimator.\n",
            "\n"
          ]
        },
        {
          "output_type": "display_data",
          "data": {
            "text/plain": [
              "<Figure size 432x288 with 2 Axes>"
            ],
            "image/png": "[encoded data removed]"
          },
          "metadata": {
            "needs_background": "light"
          }
        }
      ]
    },
    {
      "cell_type": "code",
      "source": [
        "grid.best_params_"
      ],
      "metadata": {
        "colab": {
          "base_uri": "https://localhost:8080/"
        },
        "id": "x_w6B4KqmfEF",
        "outputId": "3f35455d-feba-42d2-e5de-013b745f176b"
      },
      "execution_count": 64,
      "outputs": [
        {
          "output_type": "execute_result",
          "data": {
            "text/plain": [
              "{'criterion': 'gini',\n",
              " 'max_depth': 4,\n",
              " 'max_features': 'sqrt',\n",
              " 'n_estimators': 300}"
            ]
          },
          "metadata": {},
          "execution_count": 64
        }
      ]
    },
    {
      "cell_type": "code",
      "source": [
        "model_train(GradientBoostingClassifier())"
      ],
      "metadata": {
        "colab": {
          "base_uri": "https://localhost:8080/",
          "height": 549
        },
        "id": "zRDceI9mmnHr",
        "outputId": "dd8c3786-a694-419a-fc80-eeec2a136c0f"
      },
      "execution_count": 67,
      "outputs": [
        {
          "output_type": "stream",
          "name": "stdout",
          "text": [
            "              precision    recall  f1-score   support\n",
            "\n",
            "           0       0.82      0.94      0.88        69\n",
            "           1       0.94      0.82      0.88        80\n",
            "\n",
            "    accuracy                           0.88       149\n",
            "   macro avg       0.88      0.88      0.88       149\n",
            "weighted avg       0.89      0.88      0.88       149\n",
            "\n",
            "<sklearn.metrics._plot.confusion_matrix.ConfusionMatrixDisplay object at 0x7eff2abe1d50>\n"
          ]
        },
        {
          "output_type": "stream",
          "name": "stderr",
          "text": [
            "/usr/local/lib/python3.7/dist-packages/sklearn/utils/deprecation.py:87: FutureWarning:\n",
            "\n",
            "Function plot_confusion_matrix is deprecated; Function `plot_confusion_matrix` is deprecated in 1.0 and will be removed in 1.2. Use one of the class methods: ConfusionMatrixDisplay.from_predictions or ConfusionMatrixDisplay.from_estimator.\n",
            "\n"
          ]
        },
        {
          "output_type": "display_data",
          "data": {
            "text/plain": [
              "<Figure size 432x288 with 2 Axes>"
            ],
            "image/png": "[encoded data removed]"
          },
          "metadata": {
            "needs_background": "light"
          }
        }
      ]
    },
    {
      "cell_type": "code",
      "source": [
        "param_grid={ \"n_estimators\":[5,50,250,500],\n",
        "    \"max_depth\":[1,3,5,7,9],\n",
        "    \"learning_rate\":[0.01,0.1,1,10,100]}\n",
        "\n",
        "grid=GridSearchCV(estimator=GradientBoostingClassifier(), param_grid=param_grid, cv=5)\n",
        "grid.fit(X_train_scaled, y_train)\n",
        "y_pred=grid.predict(X_test_scaled)\n",
        "print(classification_report(y_test, y_pred))\n",
        "print(plot_confusion_matrix(grid, X_test_scaled, y_test))"
      ],
      "metadata": {
        "colab": {
          "base_uri": "https://localhost:8080/",
          "height": 549
        },
        "id": "Zp-EnMIHwKJH",
        "outputId": "923efcc7-f2c0-4476-834d-9c895ecd73ae"
      },
      "execution_count": 70,
      "outputs": [
        {
          "output_type": "stream",
          "name": "stdout",
          "text": [
            "              precision    recall  f1-score   support\n",
            "\n",
            "           0       0.83      0.94      0.88        69\n",
            "           1       0.94      0.84      0.89        80\n",
            "\n",
            "    accuracy                           0.89       149\n",
            "   macro avg       0.89      0.89      0.89       149\n",
            "weighted avg       0.89      0.89      0.89       149\n",
            "\n",
            "<sklearn.metrics._plot.confusion_matrix.ConfusionMatrixDisplay object at 0x7eff491e0710>\n"
          ]
        },
        {
          "output_type": "stream",
          "name": "stderr",
          "text": [
            "/usr/local/lib/python3.7/dist-packages/sklearn/utils/deprecation.py:87: FutureWarning:\n",
            "\n",
            "Function plot_confusion_matrix is deprecated; Function `plot_confusion_matrix` is deprecated in 1.0 and will be removed in 1.2. Use one of the class methods: ConfusionMatrixDisplay.from_predictions or ConfusionMatrixDisplay.from_estimator.\n",
            "\n"
          ]
        },
        {
          "output_type": "display_data",
          "data": {
            "text/plain": [
              "<Figure size 432x288 with 2 Axes>"
            ],
            "image/png": "[encoded data removed]"
          },
          "metadata": {
            "needs_background": "light"
          }
        }
      ]
    }
  ]
}